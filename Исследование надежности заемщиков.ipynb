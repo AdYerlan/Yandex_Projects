{
 "cells": [
  {
   "cell_type": "markdown",
   "id": "d62b28b5",
   "metadata": {},
   "source": [
    "# Исследование надежности заемщиков"
   ]
  },
  {
   "cell_type": "markdown",
   "id": "3e75dc26",
   "metadata": {},
   "source": [
    "# Описание проекта"
   ]
  },
  {
   "cell_type": "markdown",
   "id": "40e3722e",
   "metadata": {},
   "source": [
    "### Контекст"
   ]
  },
  {
   "cell_type": "markdown",
   "id": "37824bf2",
   "metadata": {},
   "source": [
    "Заказчик — кредитный отдел банка. Нужно разобраться, влияет ли семейное положение и количество детей клиента на факт погашения кредита в срок. Входные данные от банка — статистика о платёжеспособности клиентов.\n",
    "\n",
    "Результаты исследования будут учтены при построении модели кредитного скоринга — специальной системы, которая оценивает способность потенциального заёмщика вернуть кредит банку."
   ]
  },
  {
   "cell_type": "markdown",
   "id": "5e5dfda4",
   "metadata": {},
   "source": [
    "### Задачи"
   ]
  },
  {
   "cell_type": "markdown",
   "id": "025a208b",
   "metadata": {},
   "source": [
    "На основе статистики о платёжеспособности клиентов исследовать: влияет ли семейное положение и количество детей клиента на факт возврата кредита в срок"
   ]
  },
  {
   "cell_type": "markdown",
   "id": "bca95e5a",
   "metadata": {},
   "source": [
    "### Описание исходных данных"
   ]
  },
  {
   "cell_type": "markdown",
   "id": "6e84ee2c",
   "metadata": {},
   "source": [
    "- children — количество детей в семье\n",
    "- days_employed — общий трудовой стаж в днях\n",
    "- dob_years — возраст клиента в годах\n",
    "- education — уровень образования клиента\n",
    "- education_id — идентификатор уровня образования\n",
    "- family_status — семейное положение\n",
    "- family_status_id — идентификатор семейного положения\n",
    "- gender — пол клиента\n",
    "- income_type — тип занятости\n",
    "- debt — имел ли задолженность по возврату кредитов\n",
    "- total_income — ежемесячный доход\n",
    "- purpose — цель получения кредита"
   ]
  },
  {
   "cell_type": "markdown",
   "id": "1eb5eafe",
   "metadata": {},
   "source": [
    "### План работы"
   ]
  },
  {
   "cell_type": "markdown",
   "id": "5f7ced50",
   "metadata": {},
   "source": [
    "1. Загрузим данные и изучим общую информацию;\n",
    "2. Проведем предобработку данных:\n",
    "    - проверим пропуски;\n",
    "    - проверим данные на аномалии и исправления;\n",
    "    - проверим соответствие типов данных;\n",
    "    - проверим дубликаты;\n",
    "    - проведем категоризация данных.\n",
    "3. Ответим на вопросы;\n",
    "4. Опишем выводы на основе проведенного анализа и дадим рекомендации;"
   ]
  },
  {
   "cell_type": "markdown",
   "id": "04544f43",
   "metadata": {},
   "source": [
    "## Обзор данных"
   ]
  },
  {
   "cell_type": "code",
   "execution_count": 1,
   "id": "1509747f",
   "metadata": {},
   "outputs": [],
   "source": [
    "# импортируем необходимые библиотеки для проведения анализа\n",
    "\n",
    "import pandas as pd\n",
    "import numpy as np\n",
    "\n",
    "import matplotlib.pyplot as plt\n",
    "import seaborn as sns"
   ]
  },
  {
   "cell_type": "code",
   "execution_count": 2,
   "id": "67c427f7",
   "metadata": {
    "scrolled": false
   },
   "outputs": [],
   "source": [
    "# загрузим данные для анализа\n",
    "\n",
    "try:\n",
    "    df = pd.read_csv('/datasets/data.csv')\n",
    "except:\n",
    "    df = pd.read_csv('C:/Users/User/Desktop/Y/Data/Data analyst/3. Предобработка данных/data.csv')"
   ]
  },
  {
   "cell_type": "code",
   "execution_count": 3,
   "id": "dc319c81",
   "metadata": {},
   "outputs": [
    {
     "data": {
      "text/html": [
       "<div>\n",
       "<style scoped>\n",
       "    .dataframe tbody tr th:only-of-type {\n",
       "        vertical-align: middle;\n",
       "    }\n",
       "\n",
       "    .dataframe tbody tr th {\n",
       "        vertical-align: top;\n",
       "    }\n",
       "\n",
       "    .dataframe thead th {\n",
       "        text-align: right;\n",
       "    }\n",
       "</style>\n",
       "<table border=\"1\" class=\"dataframe\">\n",
       "  <thead>\n",
       "    <tr style=\"text-align: right;\">\n",
       "      <th></th>\n",
       "      <th>children</th>\n",
       "      <th>days_employed</th>\n",
       "      <th>dob_years</th>\n",
       "      <th>education</th>\n",
       "      <th>education_id</th>\n",
       "      <th>family_status</th>\n",
       "      <th>family_status_id</th>\n",
       "      <th>gender</th>\n",
       "      <th>income_type</th>\n",
       "      <th>debt</th>\n",
       "      <th>total_income</th>\n",
       "      <th>purpose</th>\n",
       "    </tr>\n",
       "  </thead>\n",
       "  <tbody>\n",
       "    <tr>\n",
       "      <th>0</th>\n",
       "      <td>1</td>\n",
       "      <td>-8437.673028</td>\n",
       "      <td>42</td>\n",
       "      <td>высшее</td>\n",
       "      <td>0</td>\n",
       "      <td>женат / замужем</td>\n",
       "      <td>0</td>\n",
       "      <td>F</td>\n",
       "      <td>сотрудник</td>\n",
       "      <td>0</td>\n",
       "      <td>253875.639453</td>\n",
       "      <td>покупка жилья</td>\n",
       "    </tr>\n",
       "    <tr>\n",
       "      <th>1</th>\n",
       "      <td>1</td>\n",
       "      <td>-4024.803754</td>\n",
       "      <td>36</td>\n",
       "      <td>среднее</td>\n",
       "      <td>1</td>\n",
       "      <td>женат / замужем</td>\n",
       "      <td>0</td>\n",
       "      <td>F</td>\n",
       "      <td>сотрудник</td>\n",
       "      <td>0</td>\n",
       "      <td>112080.014102</td>\n",
       "      <td>приобретение автомобиля</td>\n",
       "    </tr>\n",
       "    <tr>\n",
       "      <th>2</th>\n",
       "      <td>0</td>\n",
       "      <td>-5623.422610</td>\n",
       "      <td>33</td>\n",
       "      <td>Среднее</td>\n",
       "      <td>1</td>\n",
       "      <td>женат / замужем</td>\n",
       "      <td>0</td>\n",
       "      <td>M</td>\n",
       "      <td>сотрудник</td>\n",
       "      <td>0</td>\n",
       "      <td>145885.952297</td>\n",
       "      <td>покупка жилья</td>\n",
       "    </tr>\n",
       "    <tr>\n",
       "      <th>3</th>\n",
       "      <td>3</td>\n",
       "      <td>-4124.747207</td>\n",
       "      <td>32</td>\n",
       "      <td>среднее</td>\n",
       "      <td>1</td>\n",
       "      <td>женат / замужем</td>\n",
       "      <td>0</td>\n",
       "      <td>M</td>\n",
       "      <td>сотрудник</td>\n",
       "      <td>0</td>\n",
       "      <td>267628.550329</td>\n",
       "      <td>дополнительное образование</td>\n",
       "    </tr>\n",
       "    <tr>\n",
       "      <th>4</th>\n",
       "      <td>0</td>\n",
       "      <td>340266.072047</td>\n",
       "      <td>53</td>\n",
       "      <td>среднее</td>\n",
       "      <td>1</td>\n",
       "      <td>гражданский брак</td>\n",
       "      <td>1</td>\n",
       "      <td>F</td>\n",
       "      <td>пенсионер</td>\n",
       "      <td>0</td>\n",
       "      <td>158616.077870</td>\n",
       "      <td>сыграть свадьбу</td>\n",
       "    </tr>\n",
       "    <tr>\n",
       "      <th>5</th>\n",
       "      <td>0</td>\n",
       "      <td>-926.185831</td>\n",
       "      <td>27</td>\n",
       "      <td>высшее</td>\n",
       "      <td>0</td>\n",
       "      <td>гражданский брак</td>\n",
       "      <td>1</td>\n",
       "      <td>M</td>\n",
       "      <td>компаньон</td>\n",
       "      <td>0</td>\n",
       "      <td>255763.565419</td>\n",
       "      <td>покупка жилья</td>\n",
       "    </tr>\n",
       "    <tr>\n",
       "      <th>6</th>\n",
       "      <td>0</td>\n",
       "      <td>-2879.202052</td>\n",
       "      <td>43</td>\n",
       "      <td>высшее</td>\n",
       "      <td>0</td>\n",
       "      <td>женат / замужем</td>\n",
       "      <td>0</td>\n",
       "      <td>F</td>\n",
       "      <td>компаньон</td>\n",
       "      <td>0</td>\n",
       "      <td>240525.971920</td>\n",
       "      <td>операции с жильем</td>\n",
       "    </tr>\n",
       "    <tr>\n",
       "      <th>7</th>\n",
       "      <td>0</td>\n",
       "      <td>-152.779569</td>\n",
       "      <td>50</td>\n",
       "      <td>СРЕДНЕЕ</td>\n",
       "      <td>1</td>\n",
       "      <td>женат / замужем</td>\n",
       "      <td>0</td>\n",
       "      <td>M</td>\n",
       "      <td>сотрудник</td>\n",
       "      <td>0</td>\n",
       "      <td>135823.934197</td>\n",
       "      <td>образование</td>\n",
       "    </tr>\n",
       "    <tr>\n",
       "      <th>8</th>\n",
       "      <td>2</td>\n",
       "      <td>-6929.865299</td>\n",
       "      <td>35</td>\n",
       "      <td>ВЫСШЕЕ</td>\n",
       "      <td>0</td>\n",
       "      <td>гражданский брак</td>\n",
       "      <td>1</td>\n",
       "      <td>F</td>\n",
       "      <td>сотрудник</td>\n",
       "      <td>0</td>\n",
       "      <td>95856.832424</td>\n",
       "      <td>на проведение свадьбы</td>\n",
       "    </tr>\n",
       "    <tr>\n",
       "      <th>9</th>\n",
       "      <td>0</td>\n",
       "      <td>-2188.756445</td>\n",
       "      <td>41</td>\n",
       "      <td>среднее</td>\n",
       "      <td>1</td>\n",
       "      <td>женат / замужем</td>\n",
       "      <td>0</td>\n",
       "      <td>M</td>\n",
       "      <td>сотрудник</td>\n",
       "      <td>0</td>\n",
       "      <td>144425.938277</td>\n",
       "      <td>покупка жилья для семьи</td>\n",
       "    </tr>\n",
       "  </tbody>\n",
       "</table>\n",
       "</div>"
      ],
      "text/plain": [
       "   children  days_employed  dob_years education  education_id  \\\n",
       "0         1   -8437.673028         42    высшее             0   \n",
       "1         1   -4024.803754         36   среднее             1   \n",
       "2         0   -5623.422610         33   Среднее             1   \n",
       "3         3   -4124.747207         32   среднее             1   \n",
       "4         0  340266.072047         53   среднее             1   \n",
       "5         0    -926.185831         27    высшее             0   \n",
       "6         0   -2879.202052         43    высшее             0   \n",
       "7         0    -152.779569         50   СРЕДНЕЕ             1   \n",
       "8         2   -6929.865299         35    ВЫСШЕЕ             0   \n",
       "9         0   -2188.756445         41   среднее             1   \n",
       "\n",
       "      family_status  family_status_id gender income_type  debt   total_income  \\\n",
       "0   женат / замужем                 0      F   сотрудник     0  253875.639453   \n",
       "1   женат / замужем                 0      F   сотрудник     0  112080.014102   \n",
       "2   женат / замужем                 0      M   сотрудник     0  145885.952297   \n",
       "3   женат / замужем                 0      M   сотрудник     0  267628.550329   \n",
       "4  гражданский брак                 1      F   пенсионер     0  158616.077870   \n",
       "5  гражданский брак                 1      M   компаньон     0  255763.565419   \n",
       "6   женат / замужем                 0      F   компаньон     0  240525.971920   \n",
       "7   женат / замужем                 0      M   сотрудник     0  135823.934197   \n",
       "8  гражданский брак                 1      F   сотрудник     0   95856.832424   \n",
       "9   женат / замужем                 0      M   сотрудник     0  144425.938277   \n",
       "\n",
       "                      purpose  \n",
       "0               покупка жилья  \n",
       "1     приобретение автомобиля  \n",
       "2               покупка жилья  \n",
       "3  дополнительное образование  \n",
       "4             сыграть свадьбу  \n",
       "5               покупка жилья  \n",
       "6           операции с жильем  \n",
       "7                 образование  \n",
       "8       на проведение свадьбы  \n",
       "9     покупка жилья для семьи  "
      ]
     },
     "execution_count": 3,
     "metadata": {},
     "output_type": "execute_result"
    }
   ],
   "source": [
    "# посмотрим на первые десять строк таблицы\n",
    "\n",
    "df.head(10)"
   ]
  },
  {
   "cell_type": "code",
   "execution_count": 4,
   "id": "3332ee67",
   "metadata": {},
   "outputs": [
    {
     "name": "stdout",
     "output_type": "stream",
     "text": [
      "<class 'pandas.core.frame.DataFrame'>\n",
      "RangeIndex: 21525 entries, 0 to 21524\n",
      "Data columns (total 12 columns):\n",
      " #   Column            Non-Null Count  Dtype  \n",
      "---  ------            --------------  -----  \n",
      " 0   children          21525 non-null  int64  \n",
      " 1   days_employed     19351 non-null  float64\n",
      " 2   dob_years         21525 non-null  int64  \n",
      " 3   education         21525 non-null  object \n",
      " 4   education_id      21525 non-null  int64  \n",
      " 5   family_status     21525 non-null  object \n",
      " 6   family_status_id  21525 non-null  int64  \n",
      " 7   gender            21525 non-null  object \n",
      " 8   income_type       21525 non-null  object \n",
      " 9   debt              21525 non-null  int64  \n",
      " 10  total_income      19351 non-null  float64\n",
      " 11  purpose           21525 non-null  object \n",
      "dtypes: float64(2), int64(5), object(5)\n",
      "memory usage: 2.0+ MB\n"
     ]
    }
   ],
   "source": [
    "# посмотрим общую информацию о данных\n",
    "\n",
    "df.info()"
   ]
  },
  {
   "cell_type": "markdown",
   "id": "b614cf32",
   "metadata": {},
   "source": [
    "**Промежуточный вывод 1:**\n",
    "\n",
    "Судя по первому впечатлению при просмотре информации о таблице, можно сделать следующие наблюдения:\n",
    "\n",
    "- Есть пропущенные значения в столбцах 'days_employed' и 'total_income';\n",
    "- Возможно лучше привести значения в столбцах 'days_employed' и 'total_income' к целым числам (из типа 'float64' в 'int64'), чтобы было проще и нагляднее работать с данными;\n",
    "- В стоблце 'days_employed' есть отрицательные значения, возможно надо взять значения по модулю;\n",
    "- Проверить уникальные значения каждого столбца для получения полной информации;\n",
    "- Для корректной группировки и сортировки привести все возможные значения к единой форме, т.е. к единому регистру (например, в столбце 'education' есть значения 'СРЕДНЕЕ', 'Среднее' и 'среднее')."
   ]
  },
  {
   "cell_type": "markdown",
   "id": "bee141fe",
   "metadata": {},
   "source": [
    "## Предобработка данных"
   ]
  },
  {
   "cell_type": "markdown",
   "id": "3af09eb8",
   "metadata": {},
   "source": [
    "### Заполнение пропусков"
   ]
  },
  {
   "cell_type": "code",
   "execution_count": 5,
   "id": "2d0d6e5e",
   "metadata": {
    "scrolled": true
   },
   "outputs": [
    {
     "data": {
      "text/plain": [
       "children               0\n",
       "days_employed       2174\n",
       "dob_years              0\n",
       "education              0\n",
       "education_id           0\n",
       "family_status          0\n",
       "family_status_id       0\n",
       "gender                 0\n",
       "income_type            0\n",
       "debt                   0\n",
       "total_income        2174\n",
       "purpose                0\n",
       "dtype: int64"
      ]
     },
     "execution_count": 5,
     "metadata": {},
     "output_type": "execute_result"
    }
   ],
   "source": [
    "# Посмотрим суммарное количество пропусков\n",
    "\n",
    "df.isna().sum()"
   ]
  },
  {
   "cell_type": "code",
   "execution_count": 6,
   "id": "27f67383",
   "metadata": {},
   "outputs": [
    {
     "name": "stdout",
     "output_type": "stream",
     "text": [
      "Медианное значение по столбцу total_income: 145017.93753253992\n"
     ]
    }
   ],
   "source": [
    "# Возьмем столбец total_income, найдем медианное значение \n",
    "# Заполним пропуски медианным значением и посмотрим чему оно равно\n",
    "\n",
    "total_income_median = df['total_income'].median()\n",
    "df['total_income'] = df['total_income'].fillna(total_income_median)\n",
    "print('Медианное значение по столбцу total_income:', total_income_median)"
   ]
  },
  {
   "cell_type": "code",
   "execution_count": 7,
   "id": "762b24ac",
   "metadata": {},
   "outputs": [
    {
     "data": {
      "text/plain": [
       "children               0\n",
       "days_employed       2174\n",
       "dob_years              0\n",
       "education              0\n",
       "education_id           0\n",
       "family_status          0\n",
       "family_status_id       0\n",
       "gender                 0\n",
       "income_type            0\n",
       "debt                   0\n",
       "total_income           0\n",
       "purpose                0\n",
       "dtype: int64"
      ]
     },
     "execution_count": 7,
     "metadata": {},
     "output_type": "execute_result"
    }
   ],
   "source": [
    "# Проверим корректность замены\n",
    "\n",
    "df.isna().sum()"
   ]
  },
  {
   "cell_type": "markdown",
   "id": "73a7b62a",
   "metadata": {},
   "source": [
    "**Промежуточный вывод 2:**\n",
    "\n",
    "- Чуть более 10% составляют пропущенные значения в столбцах 'days_employed' и 'total_income';\n",
    "- Возможно это категория безработных либо их данные некорректно были введены;\n",
    "- В данном случае заполнить пропуски медианным значением лучше, так как некоторые значения в зарплате выделяются и учитывая более 10% пропусков лучше будет заполнить медианным, а не средним значением."
   ]
  },
  {
   "cell_type": "markdown",
   "id": "726bfa48",
   "metadata": {},
   "source": [
    "### Проверка данных на аномалии и исправления"
   ]
  },
  {
   "cell_type": "code",
   "execution_count": 8,
   "id": "dfef9a13",
   "metadata": {
    "scrolled": true
   },
   "outputs": [
    {
     "data": {
      "text/plain": [
       "0          8437.673028\n",
       "1          4024.803754\n",
       "2          5623.422610\n",
       "3          4124.747207\n",
       "4        340266.072047\n",
       "             ...      \n",
       "21520      4529.316663\n",
       "21521    343937.404131\n",
       "21522      2113.346888\n",
       "21523      3112.481705\n",
       "21524      1984.507589\n",
       "Name: days_employed, Length: 21525, dtype: float64"
      ]
     },
     "execution_count": 8,
     "metadata": {},
     "output_type": "execute_result"
    }
   ],
   "source": [
    "# Заменим отрицательные значения дней в столбце 'days_employed'\n",
    "# Проверим корректность замены\n",
    "\n",
    "df['days_employed'] = df['days_employed'].abs()\n",
    "df['days_employed']"
   ]
  },
  {
   "cell_type": "code",
   "execution_count": 9,
   "id": "b218d9b6",
   "metadata": {},
   "outputs": [
    {
     "name": "stdout",
     "output_type": "stream",
     "text": [
      "Медианное значение по столбцу days_employed: 2194.220566878695\n"
     ]
    }
   ],
   "source": [
    "# Возьмем столбец 'days-employed', найдем медианное значение \n",
    "# Заполним пропуски медианным значением и посмотрим чему оно равно\n",
    "\n",
    "days_employed_median = df['days_employed'].median()\n",
    "df['days_employed'] = df['days_employed'].fillna(days_employed_median)\n",
    "print('Медианное значение по столбцу days_employed:', days_employed_median)"
   ]
  },
  {
   "cell_type": "code",
   "execution_count": 10,
   "id": "41ac10e0",
   "metadata": {
    "scrolled": true
   },
   "outputs": [
    {
     "data": {
      "text/plain": [
       "children            0\n",
       "days_employed       0\n",
       "dob_years           0\n",
       "education           0\n",
       "education_id        0\n",
       "family_status       0\n",
       "family_status_id    0\n",
       "gender              0\n",
       "income_type         0\n",
       "debt                0\n",
       "total_income        0\n",
       "purpose             0\n",
       "dtype: int64"
      ]
     },
     "execution_count": 10,
     "metadata": {},
     "output_type": "execute_result"
    }
   ],
   "source": [
    "# Проверим корректность замены\n",
    "\n",
    "df.isna().sum()"
   ]
  },
  {
   "cell_type": "code",
   "execution_count": 11,
   "id": "9b46b4b5",
   "metadata": {},
   "outputs": [
    {
     "data": {
      "text/plain": [
       "0         8437.673028\n",
       "1         4024.803754\n",
       "2         5623.422610\n",
       "3         4124.747207\n",
       "4        14177.753002\n",
       "             ...     \n",
       "21520     4529.316663\n",
       "21521    14330.725172\n",
       "21522     2113.346888\n",
       "21523     3112.481705\n",
       "21524     1984.507589\n",
       "Name: days_employed, Length: 21525, dtype: float64"
      ]
     },
     "execution_count": 11,
     "metadata": {},
     "output_type": "execute_result"
    }
   ],
   "source": [
    "# Переведем все значения 'days_employed' пенсионеров из часов в дни\n",
    "# Оставим все значения в днях, не думаю что они повлияют на выводы задачи\n",
    "\n",
    "df.loc[df['income_type'] == 'пенсионер', 'days_employed'] = df[df['income_type'] == 'пенсионер']['days_employed']/24\n",
    "df['days_employed']"
   ]
  },
  {
   "cell_type": "code",
   "execution_count": 12,
   "id": "a265057c",
   "metadata": {},
   "outputs": [
    {
     "data": {
      "text/plain": [
       "array([ 1,  0,  3,  2, -1,  4, 20,  5], dtype=int64)"
      ]
     },
     "execution_count": 12,
     "metadata": {},
     "output_type": "execute_result"
    }
   ],
   "source": [
    "# Начнем с первого столбца, проверим уникальные значения\n",
    "\n",
    "df['children'].unique()"
   ]
  },
  {
   "cell_type": "code",
   "execution_count": 13,
   "id": "c3c764e2",
   "metadata": {
    "scrolled": true
   },
   "outputs": [
    {
     "data": {
      "text/plain": [
       " 0     14149\n",
       " 1      4818\n",
       " 2      2055\n",
       " 3       330\n",
       " 20       76\n",
       "-1        47\n",
       " 4        41\n",
       " 5         9\n",
       "Name: children, dtype: int64"
      ]
     },
     "execution_count": 13,
     "metadata": {},
     "output_type": "execute_result"
    }
   ],
   "source": [
    "# Странно, что есть количество детей \"-1\" и \"20\"\n",
    "# Проверим количество строк по количеству детей\n",
    "\n",
    "df['children'].value_counts()"
   ]
  },
  {
   "cell_type": "code",
   "execution_count": 14,
   "id": "20afd660",
   "metadata": {},
   "outputs": [
    {
     "data": {
      "text/plain": [
       "0    14149\n",
       "1     4865\n",
       "2     2131\n",
       "3      330\n",
       "4       41\n",
       "5        9\n",
       "Name: children, dtype: int64"
      ]
     },
     "execution_count": 14,
     "metadata": {},
     "output_type": "execute_result"
    }
   ],
   "source": [
    "# Возможно ошибка в количестве детей \"-1\" и \"20\" при заполнении данных. \n",
    "# Думаю, что в данном случае можно заменить \"-1\" на \"1\" и \"20\" на \"2\"\n",
    "\n",
    "df['children'] = df['children'].replace(-1, 1)\n",
    "df['children'] = df['children'].replace(20, 2)\n",
    "df['children'].value_counts()"
   ]
  },
  {
   "cell_type": "code",
   "execution_count": 15,
   "id": "7682cdd4",
   "metadata": {},
   "outputs": [
    {
     "data": {
      "text/plain": [
       "array([42, 36, 33, 32, 53, 27, 43, 50, 35, 41, 40, 65, 54, 56, 26, 48, 24,\n",
       "       21, 57, 67, 28, 63, 62, 47, 34, 68, 25, 31, 30, 20, 49, 37, 45, 61,\n",
       "       64, 44, 52, 46, 23, 38, 39, 51,  0, 59, 29, 60, 55, 58, 71, 22, 73,\n",
       "       66, 69, 19, 72, 70, 74, 75], dtype=int64)"
      ]
     },
     "execution_count": 15,
     "metadata": {},
     "output_type": "execute_result"
    }
   ],
   "source": [
    "# Проверим уникальные значения следующего столбца - возраст клиента\n",
    "\n",
    "df['dob_years'].unique()"
   ]
  },
  {
   "cell_type": "code",
   "execution_count": 16,
   "id": "f376b712",
   "metadata": {},
   "outputs": [
    {
     "data": {
      "text/plain": [
       "35    617\n",
       "40    609\n",
       "41    607\n",
       "34    603\n",
       "38    598\n",
       "42    597\n",
       "33    581\n",
       "39    573\n",
       "31    560\n",
       "36    555\n",
       "44    547\n",
       "29    545\n",
       "30    540\n",
       "48    538\n",
       "37    537\n",
       "50    514\n",
       "43    513\n",
       "32    510\n",
       "49    508\n",
       "28    503\n",
       "45    497\n",
       "27    493\n",
       "56    487\n",
       "52    484\n",
       "47    480\n",
       "54    479\n",
       "46    475\n",
       "58    461\n",
       "57    460\n",
       "53    459\n",
       "51    448\n",
       "59    444\n",
       "55    443\n",
       "26    408\n",
       "60    377\n",
       "25    357\n",
       "61    355\n",
       "62    352\n",
       "63    269\n",
       "64    265\n",
       "24    264\n",
       "23    254\n",
       "65    194\n",
       "22    183\n",
       "66    183\n",
       "67    167\n",
       "21    111\n",
       "0     101\n",
       "68     99\n",
       "69     85\n",
       "70     65\n",
       "71     58\n",
       "20     51\n",
       "72     33\n",
       "19     14\n",
       "73      8\n",
       "74      6\n",
       "75      1\n",
       "Name: dob_years, dtype: int64"
      ]
     },
     "execution_count": 16,
     "metadata": {},
     "output_type": "execute_result"
    }
   ],
   "source": [
    "# Есть возраст равный \"0\". Возможно это ошибка в данных, либо заполняли данные не зная возраст - решили ввести \"0\"\n",
    "# Посмотрим количество значений возраста равного \"0\"\n",
    "\n",
    "df['dob_years'].value_counts()"
   ]
  },
  {
   "cell_type": "markdown",
   "id": "8bb05589",
   "metadata": {},
   "source": [
    "Значение возраста \"0\" упоминается 101 раз.\n",
    "Есть ли смысл менять значения \"0\", либо оставить их и они не сильно повлияют на дальнейшую обработку пока непонятно.\n",
    "Учитывая, что в задании не применяется в выводах возраст клиента, думаю что можно оставить данное значение до конца проекта. "
   ]
  },
  {
   "cell_type": "code",
   "execution_count": 17,
   "id": "341c4a52",
   "metadata": {},
   "outputs": [
    {
     "data": {
      "text/plain": [
       "array(['высшее', 'среднее', 'Среднее', 'СРЕДНЕЕ', 'ВЫСШЕЕ',\n",
       "       'неоконченное высшее', 'начальное', 'Высшее',\n",
       "       'НЕОКОНЧЕННОЕ ВЫСШЕЕ', 'Неоконченное высшее', 'НАЧАЛЬНОЕ',\n",
       "       'Начальное', 'Ученая степень', 'УЧЕНАЯ СТЕПЕНЬ', 'ученая степень'],\n",
       "      dtype=object)"
      ]
     },
     "execution_count": 17,
     "metadata": {},
     "output_type": "execute_result"
    }
   ],
   "source": [
    "# Проверим следующий столбец - уровень образования\n",
    "# Надо будет привести все к единому регистру\n",
    "\n",
    "df['education'].unique()"
   ]
  },
  {
   "cell_type": "code",
   "execution_count": 18,
   "id": "eb79fc69",
   "metadata": {},
   "outputs": [
    {
     "data": {
      "text/plain": [
       "array([0, 1, 2, 3, 4], dtype=int64)"
      ]
     },
     "execution_count": 18,
     "metadata": {},
     "output_type": "execute_result"
    }
   ],
   "source": [
    "# Следующий столбец - идентификатор уровня образования\n",
    "# С идентификатором уровня образования все в порядке\n",
    "\n",
    "df['education_id'].unique()"
   ]
  },
  {
   "cell_type": "code",
   "execution_count": 19,
   "id": "f9e5e16e",
   "metadata": {},
   "outputs": [
    {
     "data": {
      "text/plain": [
       "array(['женат / замужем', 'гражданский брак', 'вдовец / вдова',\n",
       "       'в разводе', 'Не женат / не замужем'], dtype=object)"
      ]
     },
     "execution_count": 19,
     "metadata": {},
     "output_type": "execute_result"
    }
   ],
   "source": [
    "# Перейдем к семейному положению\n",
    "# Нужно будет привести все к единому регистру\n",
    "\n",
    "df['family_status'].unique()"
   ]
  },
  {
   "cell_type": "code",
   "execution_count": 20,
   "id": "8ae8ed51",
   "metadata": {},
   "outputs": [
    {
     "data": {
      "text/plain": [
       "array([0, 1, 2, 3, 4], dtype=int64)"
      ]
     },
     "execution_count": 20,
     "metadata": {},
     "output_type": "execute_result"
    }
   ],
   "source": [
    "# Посмотрим количество идентификаторов семейного положения\n",
    "# С идентификатором семейного положения тоже все в порядке\n",
    "\n",
    "df['family_status_id'].unique()"
   ]
  },
  {
   "cell_type": "code",
   "execution_count": 21,
   "id": "8520f419",
   "metadata": {},
   "outputs": [
    {
     "data": {
      "text/plain": [
       "array(['F', 'M', 'XNA'], dtype=object)"
      ]
     },
     "execution_count": 21,
     "metadata": {},
     "output_type": "execute_result"
    }
   ],
   "source": [
    "# Посмотрим столбец пол клиента\n",
    "\n",
    "df['gender'].unique()"
   ]
  },
  {
   "cell_type": "code",
   "execution_count": 22,
   "id": "adf78e4b",
   "metadata": {},
   "outputs": [
    {
     "data": {
      "text/plain": [
       "F      14236\n",
       "M       7288\n",
       "XNA        1\n",
       "Name: gender, dtype: int64"
      ]
     },
     "execution_count": 22,
     "metadata": {},
     "output_type": "execute_result"
    }
   ],
   "source": [
    "# Посмотрим сколько раз значение \"XNA\" встречается в столбце\n",
    "\n",
    "df['gender'].value_counts()"
   ]
  },
  {
   "cell_type": "markdown",
   "id": "463217d9",
   "metadata": {},
   "source": [
    "Интересно, что есть значение XNA в столбце пола клиента. Посмотрим сколько раз он встречается в столбце\n",
    "Значение \"XNA\" встречается лишь раз, думаю пол не повлияет на общие выводы. Оставим значение таким же, так как мы не можем\n",
    "определить пол ни по каким данным"
   ]
  },
  {
   "cell_type": "code",
   "execution_count": 23,
   "id": "eb518271",
   "metadata": {},
   "outputs": [
    {
     "data": {
      "text/plain": [
       "array(['сотрудник', 'пенсионер', 'компаньон', 'госслужащий',\n",
       "       'безработный', 'предприниматель', 'студент', 'в декрете'],\n",
       "      dtype=object)"
      ]
     },
     "execution_count": 23,
     "metadata": {},
     "output_type": "execute_result"
    }
   ],
   "source": [
    "# Проверим уникальные значения типа занятости\n",
    "\n",
    "df['income_type'].unique()"
   ]
  },
  {
   "cell_type": "code",
   "execution_count": 24,
   "id": "57f5bfdc",
   "metadata": {},
   "outputs": [
    {
     "data": {
      "text/plain": [
       "array([0, 1], dtype=int64)"
      ]
     },
     "execution_count": 24,
     "metadata": {},
     "output_type": "execute_result"
    }
   ],
   "source": [
    "# Проверим уникальные значения в столбце 'debt'\n",
    "# Проблем здесь нет, либо имел клиент задолженность по возврату кредитов, либо нет\n",
    "\n",
    "df['debt'].unique()"
   ]
  },
  {
   "cell_type": "code",
   "execution_count": 25,
   "id": "c9f2a5d3",
   "metadata": {
    "scrolled": true
   },
   "outputs": [
    {
     "data": {
      "text/plain": [
       "array([253875.6394526 , 112080.01410244, 145885.95229686, ...,\n",
       "        89672.56115303, 244093.05050043,  82047.41889948])"
      ]
     },
     "execution_count": 25,
     "metadata": {},
     "output_type": "execute_result"
    }
   ],
   "source": [
    "# Проверим уникальные значения в столбце ежемесячного дохода\n",
    "# Данных слишком много, все они разные\n",
    "\n",
    "df['total_income'].unique()"
   ]
  },
  {
   "cell_type": "code",
   "execution_count": 26,
   "id": "71f61baf",
   "metadata": {},
   "outputs": [
    {
     "data": {
      "text/plain": [
       "array(['покупка жилья', 'приобретение автомобиля',\n",
       "       'дополнительное образование', 'сыграть свадьбу',\n",
       "       'операции с жильем', 'образование', 'на проведение свадьбы',\n",
       "       'покупка жилья для семьи', 'покупка недвижимости',\n",
       "       'покупка коммерческой недвижимости', 'покупка жилой недвижимости',\n",
       "       'строительство собственной недвижимости', 'недвижимость',\n",
       "       'строительство недвижимости', 'на покупку подержанного автомобиля',\n",
       "       'на покупку своего автомобиля',\n",
       "       'операции с коммерческой недвижимостью',\n",
       "       'строительство жилой недвижимости', 'жилье',\n",
       "       'операции со своей недвижимостью', 'автомобили',\n",
       "       'заняться образованием', 'сделка с подержанным автомобилем',\n",
       "       'получение образования', 'автомобиль', 'свадьба',\n",
       "       'получение дополнительного образования', 'покупка своего жилья',\n",
       "       'операции с недвижимостью', 'получение высшего образования',\n",
       "       'свой автомобиль', 'сделка с автомобилем',\n",
       "       'профильное образование', 'высшее образование',\n",
       "       'покупка жилья для сдачи', 'на покупку автомобиля', 'ремонт жилью',\n",
       "       'заняться высшим образованием'], dtype=object)"
      ]
     },
     "execution_count": 26,
     "metadata": {},
     "output_type": "execute_result"
    }
   ],
   "source": [
    "# Проверим уникальные значения в столбце цели получения кредита.\n",
    "# Есть похожие цели, просто они написаны по разному. Будем проводить категоризацию данных\n",
    "\n",
    "df['purpose'].unique()"
   ]
  },
  {
   "cell_type": "markdown",
   "id": "951e1ecf",
   "metadata": {},
   "source": [
    "**Промежуточный вывод 3:**\n",
    "\n",
    "- Пропущенные значений были заменены на медианные;\n",
    "- Заполнил пропуски в столбце 'days_employed' медианным значением;\n",
    "- При этом произвел замену отрицательных значений на положительные;\n",
    "- Также, есть значения в которых клиенты работали около 1000 лет и они относятся к категории пенсионеров. Пока непонятно, что делать с такими данными. Скорее всего эти значения указаны в часах, а не в днях.\n",
    "- Проверил аномальные значения в каждом столбце;\n",
    "- Заменил отрицательные значения в столбце 'days_employed' на положительные. Заменил значения у пенсионеров с часов на дни;\n",
    "- Проверил уникальные значения в каждом столбце;\n",
    "- Произвел замену аномальных значения в столбце 'children' с '-1' на '1' и с '-20' на '2';\n",
    "- В столбце 'dob_years' нашел аномальное значение равное '0'. Решил его не менять, так как оно не влияет на общую картину задания;\n",
    "- В столбце 'education_id' необходимо все привести к единому регистру и удалить дубликаты;\n",
    "- В столбце 'gender' встречается значение XNA, пол определить мы не можем, не обратившись к источнику данных;\n",
    "- В столбце 'total_income' необходимо все привести к целочисленным значениям;\n",
    "- В столбце 'purpose' имеются похожие, но написанные по разному цели. Необходимо провести категоризацию данных."
   ]
  },
  {
   "cell_type": "markdown",
   "id": "a7728392",
   "metadata": {},
   "source": [
    "### Изменение типов данных"
   ]
  },
  {
   "cell_type": "code",
   "execution_count": 27,
   "id": "9b223dfd",
   "metadata": {},
   "outputs": [
    {
     "name": "stdout",
     "output_type": "stream",
     "text": [
      "<class 'pandas.core.frame.DataFrame'>\n",
      "RangeIndex: 21525 entries, 0 to 21524\n",
      "Data columns (total 12 columns):\n",
      " #   Column            Non-Null Count  Dtype \n",
      "---  ------            --------------  ----- \n",
      " 0   children          21525 non-null  int64 \n",
      " 1   days_employed     21525 non-null  int32 \n",
      " 2   dob_years         21525 non-null  int64 \n",
      " 3   education         21525 non-null  object\n",
      " 4   education_id      21525 non-null  int64 \n",
      " 5   family_status     21525 non-null  object\n",
      " 6   family_status_id  21525 non-null  int64 \n",
      " 7   gender            21525 non-null  object\n",
      " 8   income_type       21525 non-null  object\n",
      " 9   debt              21525 non-null  int64 \n",
      " 10  total_income      21525 non-null  int32 \n",
      " 11  purpose           21525 non-null  object\n",
      "dtypes: int32(2), int64(5), object(5)\n",
      "memory usage: 1.8+ MB\n"
     ]
    }
   ],
   "source": [
    "# Проведем замену с вещественного типа данных на целочисленный в столбцах 'days_employed' и 'total_income'\n",
    "# Проверим корректность замены\n",
    "\n",
    "df['days_employed'] = df['days_employed'].astype('int')\n",
    "df['total_income'] = df['total_income'].astype('int')\n",
    "\n",
    "df.info()"
   ]
  },
  {
   "cell_type": "markdown",
   "id": "9224a5b0",
   "metadata": {},
   "source": [
    "**Промежуточный вывод 3:**\n",
    "\n",
    "- Заменили вещественный тип данных на целочисленный в столбцах 'days_employed' и 'total_income';\n",
    "- Проверили корректность замены, столбцов с вещественным типом данных не осталось."
   ]
  },
  {
   "cell_type": "markdown",
   "id": "33aa60a2",
   "metadata": {},
   "source": [
    "### Удаление дубликатов"
   ]
  },
  {
   "cell_type": "code",
   "execution_count": 28,
   "id": "bb8f2c05",
   "metadata": {},
   "outputs": [
    {
     "data": {
      "text/plain": [
       "array(['высшее', 'среднее', 'неоконченное высшее', 'начальное',\n",
       "       'ученая степень'], dtype=object)"
      ]
     },
     "execution_count": 28,
     "metadata": {},
     "output_type": "execute_result"
    }
   ],
   "source": [
    "# Приведем значения в столбце 'education_id' к единому регистру и проверим замену\n",
    "\n",
    "df['education'] = df['education'].str.lower()\n",
    "df['education'].unique()"
   ]
  },
  {
   "cell_type": "code",
   "execution_count": 29,
   "id": "7d9e7e68",
   "metadata": {},
   "outputs": [
    {
     "data": {
      "text/plain": [
       "71"
      ]
     },
     "execution_count": 29,
     "metadata": {},
     "output_type": "execute_result"
    }
   ],
   "source": [
    "# Посчитаем общее количество дубликатов в данных\n",
    "\n",
    "df.duplicated().sum()"
   ]
  },
  {
   "cell_type": "code",
   "execution_count": 30,
   "id": "562874e5",
   "metadata": {},
   "outputs": [],
   "source": [
    "# 71 дубликат. Возможно были повторно введены данные нескольких клиентов\n",
    "# Удалим дубликаты и сбросим индекс для дальнейшей работы\n",
    "\n",
    "df = df.drop_duplicates().reset_index(drop=True)"
   ]
  },
  {
   "cell_type": "code",
   "execution_count": 31,
   "id": "c26d6669",
   "metadata": {},
   "outputs": [
    {
     "data": {
      "text/plain": [
       "0"
      ]
     },
     "execution_count": 31,
     "metadata": {},
     "output_type": "execute_result"
    }
   ],
   "source": [
    "# Проверим корректность удаления дубликатов\n",
    "\n",
    "df.duplicated().sum()"
   ]
  },
  {
   "cell_type": "markdown",
   "id": "30f94657",
   "metadata": {},
   "source": [
    "**Промежуточный вывод 4:**\n",
    "\n",
    "- Привели все значения в столбце 'education_id' к единому регистру;\n",
    "- Посчитали общее количество дубликатов. Использовали специальный метод duplicated() и результат передали методу sum(), чтобы вывести общее количество;\n",
    "- Удалили дубликаты методом drop_duplicates() и сбросили индекс (с изменением новых и удалением старых);\n",
    "- Дубликаты могли появиться при повторном заполнении заявки клиента в разных точках обслуживания, либо это просто ошибочное создание дубликатов."
   ]
  },
  {
   "cell_type": "markdown",
   "id": "e25630f7",
   "metadata": {},
   "source": [
    "### Формирование дополнительных датафреймов словарей, декомпозиция исходного датафрейма"
   ]
  },
  {
   "cell_type": "code",
   "execution_count": 32,
   "id": "85c3d804",
   "metadata": {
    "scrolled": false
   },
   "outputs": [
    {
     "data": {
      "text/html": [
       "<div>\n",
       "<style scoped>\n",
       "    .dataframe tbody tr th:only-of-type {\n",
       "        vertical-align: middle;\n",
       "    }\n",
       "\n",
       "    .dataframe tbody tr th {\n",
       "        vertical-align: top;\n",
       "    }\n",
       "\n",
       "    .dataframe thead th {\n",
       "        text-align: right;\n",
       "    }\n",
       "</style>\n",
       "<table border=\"1\" class=\"dataframe\">\n",
       "  <thead>\n",
       "    <tr style=\"text-align: right;\">\n",
       "      <th></th>\n",
       "      <th>education_id</th>\n",
       "      <th>education</th>\n",
       "    </tr>\n",
       "  </thead>\n",
       "  <tbody>\n",
       "    <tr>\n",
       "      <th>0</th>\n",
       "      <td>0</td>\n",
       "      <td>высшее</td>\n",
       "    </tr>\n",
       "    <tr>\n",
       "      <th>1</th>\n",
       "      <td>1</td>\n",
       "      <td>среднее</td>\n",
       "    </tr>\n",
       "    <tr>\n",
       "      <th>2</th>\n",
       "      <td>1</td>\n",
       "      <td>среднее</td>\n",
       "    </tr>\n",
       "    <tr>\n",
       "      <th>3</th>\n",
       "      <td>1</td>\n",
       "      <td>среднее</td>\n",
       "    </tr>\n",
       "    <tr>\n",
       "      <th>4</th>\n",
       "      <td>1</td>\n",
       "      <td>среднее</td>\n",
       "    </tr>\n",
       "  </tbody>\n",
       "</table>\n",
       "</div>"
      ],
      "text/plain": [
       "   education_id education\n",
       "0             0    высшее\n",
       "1             1   среднее\n",
       "2             1   среднее\n",
       "3             1   среднее\n",
       "4             1   среднее"
      ]
     },
     "metadata": {},
     "output_type": "display_data"
    },
    {
     "data": {
      "text/html": [
       "<div>\n",
       "<style scoped>\n",
       "    .dataframe tbody tr th:only-of-type {\n",
       "        vertical-align: middle;\n",
       "    }\n",
       "\n",
       "    .dataframe tbody tr th {\n",
       "        vertical-align: top;\n",
       "    }\n",
       "\n",
       "    .dataframe thead th {\n",
       "        text-align: right;\n",
       "    }\n",
       "</style>\n",
       "<table border=\"1\" class=\"dataframe\">\n",
       "  <thead>\n",
       "    <tr style=\"text-align: right;\">\n",
       "      <th></th>\n",
       "      <th>family_status_id</th>\n",
       "      <th>family_status</th>\n",
       "    </tr>\n",
       "  </thead>\n",
       "  <tbody>\n",
       "    <tr>\n",
       "      <th>0</th>\n",
       "      <td>0</td>\n",
       "      <td>женат / замужем</td>\n",
       "    </tr>\n",
       "    <tr>\n",
       "      <th>1</th>\n",
       "      <td>0</td>\n",
       "      <td>женат / замужем</td>\n",
       "    </tr>\n",
       "    <tr>\n",
       "      <th>2</th>\n",
       "      <td>0</td>\n",
       "      <td>женат / замужем</td>\n",
       "    </tr>\n",
       "    <tr>\n",
       "      <th>3</th>\n",
       "      <td>0</td>\n",
       "      <td>женат / замужем</td>\n",
       "    </tr>\n",
       "    <tr>\n",
       "      <th>4</th>\n",
       "      <td>1</td>\n",
       "      <td>гражданский брак</td>\n",
       "    </tr>\n",
       "  </tbody>\n",
       "</table>\n",
       "</div>"
      ],
      "text/plain": [
       "   family_status_id     family_status\n",
       "0                 0   женат / замужем\n",
       "1                 0   женат / замужем\n",
       "2                 0   женат / замужем\n",
       "3                 0   женат / замужем\n",
       "4                 1  гражданский брак"
      ]
     },
     "metadata": {},
     "output_type": "display_data"
    }
   ],
   "source": [
    "# Создаем отдельные датафреймы для уровня образования и семейного статуса\n",
    "# Проверим создание датафреймов\n",
    "\n",
    "education_dict = df[['education_id', 'education']]\n",
    "family_dict = df[['family_status_id', 'family_status']]\n",
    "\n",
    "display(education_dict.head())\n",
    "display(family_dict.head())"
   ]
  },
  {
   "cell_type": "code",
   "execution_count": 33,
   "id": "da09883f",
   "metadata": {},
   "outputs": [
    {
     "data": {
      "text/plain": [
       "21449"
      ]
     },
     "execution_count": 33,
     "metadata": {},
     "output_type": "execute_result"
    }
   ],
   "source": [
    "# Посчитаем общее количество дубликатов в новом созданном датафрейме\n",
    "\n",
    "education_dict.duplicated().sum()"
   ]
  },
  {
   "cell_type": "code",
   "execution_count": 34,
   "id": "0810df43",
   "metadata": {},
   "outputs": [],
   "source": [
    "# Удалим дубликаты и сбросим индекс\n",
    "\n",
    "education_dict = education_dict.drop_duplicates().reset_index(drop=True)"
   ]
  },
  {
   "cell_type": "code",
   "execution_count": 35,
   "id": "329557a5",
   "metadata": {},
   "outputs": [
    {
     "data": {
      "text/plain": [
       "0"
      ]
     },
     "execution_count": 35,
     "metadata": {},
     "output_type": "execute_result"
    }
   ],
   "source": [
    "# Проверим корректность удаления дубликатов\n",
    "\n",
    "education_dict.duplicated().sum()"
   ]
  },
  {
   "cell_type": "code",
   "execution_count": 36,
   "id": "5789b4b5",
   "metadata": {},
   "outputs": [
    {
     "data": {
      "text/plain": [
       "21449"
      ]
     },
     "execution_count": 36,
     "metadata": {},
     "output_type": "execute_result"
    }
   ],
   "source": [
    "# Проведем такую же операцию с другим датафреймом\n",
    "\n",
    "family_dict.duplicated().sum()"
   ]
  },
  {
   "cell_type": "code",
   "execution_count": 37,
   "id": "2d09a8eb",
   "metadata": {},
   "outputs": [],
   "source": [
    "# Удалим дубликаты и сбросим индекс\n",
    "\n",
    "family_dict = family_dict.drop_duplicates().reset_index(drop=True)"
   ]
  },
  {
   "cell_type": "code",
   "execution_count": 38,
   "id": "7d4d42d7",
   "metadata": {},
   "outputs": [
    {
     "data": {
      "text/plain": [
       "0"
      ]
     },
     "execution_count": 38,
     "metadata": {},
     "output_type": "execute_result"
    }
   ],
   "source": [
    "# Проверим корректность удаления дубликатов\n",
    "\n",
    "family_dict.duplicated().sum()"
   ]
  },
  {
   "cell_type": "code",
   "execution_count": 39,
   "id": "28db86a8",
   "metadata": {
    "scrolled": false
   },
   "outputs": [
    {
     "data": {
      "text/html": [
       "<div>\n",
       "<style scoped>\n",
       "    .dataframe tbody tr th:only-of-type {\n",
       "        vertical-align: middle;\n",
       "    }\n",
       "\n",
       "    .dataframe tbody tr th {\n",
       "        vertical-align: top;\n",
       "    }\n",
       "\n",
       "    .dataframe thead th {\n",
       "        text-align: right;\n",
       "    }\n",
       "</style>\n",
       "<table border=\"1\" class=\"dataframe\">\n",
       "  <thead>\n",
       "    <tr style=\"text-align: right;\">\n",
       "      <th></th>\n",
       "      <th>children</th>\n",
       "      <th>days_employed</th>\n",
       "      <th>dob_years</th>\n",
       "      <th>education_id</th>\n",
       "      <th>family_status_id</th>\n",
       "      <th>gender</th>\n",
       "      <th>income_type</th>\n",
       "      <th>debt</th>\n",
       "      <th>total_income</th>\n",
       "      <th>purpose</th>\n",
       "    </tr>\n",
       "  </thead>\n",
       "  <tbody>\n",
       "    <tr>\n",
       "      <th>0</th>\n",
       "      <td>1</td>\n",
       "      <td>8437</td>\n",
       "      <td>42</td>\n",
       "      <td>0</td>\n",
       "      <td>0</td>\n",
       "      <td>F</td>\n",
       "      <td>сотрудник</td>\n",
       "      <td>0</td>\n",
       "      <td>253875</td>\n",
       "      <td>покупка жилья</td>\n",
       "    </tr>\n",
       "    <tr>\n",
       "      <th>1</th>\n",
       "      <td>1</td>\n",
       "      <td>4024</td>\n",
       "      <td>36</td>\n",
       "      <td>1</td>\n",
       "      <td>0</td>\n",
       "      <td>F</td>\n",
       "      <td>сотрудник</td>\n",
       "      <td>0</td>\n",
       "      <td>112080</td>\n",
       "      <td>приобретение автомобиля</td>\n",
       "    </tr>\n",
       "    <tr>\n",
       "      <th>2</th>\n",
       "      <td>0</td>\n",
       "      <td>5623</td>\n",
       "      <td>33</td>\n",
       "      <td>1</td>\n",
       "      <td>0</td>\n",
       "      <td>M</td>\n",
       "      <td>сотрудник</td>\n",
       "      <td>0</td>\n",
       "      <td>145885</td>\n",
       "      <td>покупка жилья</td>\n",
       "    </tr>\n",
       "    <tr>\n",
       "      <th>3</th>\n",
       "      <td>3</td>\n",
       "      <td>4124</td>\n",
       "      <td>32</td>\n",
       "      <td>1</td>\n",
       "      <td>0</td>\n",
       "      <td>M</td>\n",
       "      <td>сотрудник</td>\n",
       "      <td>0</td>\n",
       "      <td>267628</td>\n",
       "      <td>дополнительное образование</td>\n",
       "    </tr>\n",
       "    <tr>\n",
       "      <th>4</th>\n",
       "      <td>0</td>\n",
       "      <td>14177</td>\n",
       "      <td>53</td>\n",
       "      <td>1</td>\n",
       "      <td>1</td>\n",
       "      <td>F</td>\n",
       "      <td>пенсионер</td>\n",
       "      <td>0</td>\n",
       "      <td>158616</td>\n",
       "      <td>сыграть свадьбу</td>\n",
       "    </tr>\n",
       "  </tbody>\n",
       "</table>\n",
       "</div>"
      ],
      "text/plain": [
       "   children  days_employed  dob_years  education_id  family_status_id gender  \\\n",
       "0         1           8437         42             0                 0      F   \n",
       "1         1           4024         36             1                 0      F   \n",
       "2         0           5623         33             1                 0      M   \n",
       "3         3           4124         32             1                 0      M   \n",
       "4         0          14177         53             1                 1      F   \n",
       "\n",
       "  income_type  debt  total_income                     purpose  \n",
       "0   сотрудник     0        253875               покупка жилья  \n",
       "1   сотрудник     0        112080     приобретение автомобиля  \n",
       "2   сотрудник     0        145885               покупка жилья  \n",
       "3   сотрудник     0        267628  дополнительное образование  \n",
       "4   пенсионер     0        158616             сыграть свадьбу  "
      ]
     },
     "execution_count": 39,
     "metadata": {},
     "output_type": "execute_result"
    }
   ],
   "source": [
    "# Удалим из исходного датафрейма столбцы 'education' и 'family_status'\n",
    "# Проверим корректность удаление столбцов\n",
    "\n",
    "df = df.drop(columns=['education', 'family_status'])\n",
    "\n",
    "df.head()"
   ]
  },
  {
   "cell_type": "markdown",
   "id": "ac6356f0",
   "metadata": {},
   "source": [
    "**Промежуточный вывод 5:**\n",
    "\n",
    "- Создали два отдельных датафрейма;\n",
    "- Удалили дубликаты из обоих датафреймов и сбросили индекс\n",
    "- Удалили столбцы 'education' и 'family_status' из исходного датафрейма."
   ]
  },
  {
   "cell_type": "markdown",
   "id": "7a286feb",
   "metadata": {},
   "source": [
    "### Категоризация дохода"
   ]
  },
  {
   "cell_type": "code",
   "execution_count": 40,
   "id": "de2ce588",
   "metadata": {
    "scrolled": false
   },
   "outputs": [
    {
     "data": {
      "text/html": [
       "<div>\n",
       "<style scoped>\n",
       "    .dataframe tbody tr th:only-of-type {\n",
       "        vertical-align: middle;\n",
       "    }\n",
       "\n",
       "    .dataframe tbody tr th {\n",
       "        vertical-align: top;\n",
       "    }\n",
       "\n",
       "    .dataframe thead th {\n",
       "        text-align: right;\n",
       "    }\n",
       "</style>\n",
       "<table border=\"1\" class=\"dataframe\">\n",
       "  <thead>\n",
       "    <tr style=\"text-align: right;\">\n",
       "      <th></th>\n",
       "      <th>children</th>\n",
       "      <th>days_employed</th>\n",
       "      <th>dob_years</th>\n",
       "      <th>education_id</th>\n",
       "      <th>family_status_id</th>\n",
       "      <th>gender</th>\n",
       "      <th>income_type</th>\n",
       "      <th>debt</th>\n",
       "      <th>total_income</th>\n",
       "      <th>purpose</th>\n",
       "      <th>total_income_category</th>\n",
       "    </tr>\n",
       "  </thead>\n",
       "  <tbody>\n",
       "    <tr>\n",
       "      <th>0</th>\n",
       "      <td>1</td>\n",
       "      <td>8437</td>\n",
       "      <td>42</td>\n",
       "      <td>0</td>\n",
       "      <td>0</td>\n",
       "      <td>F</td>\n",
       "      <td>сотрудник</td>\n",
       "      <td>0</td>\n",
       "      <td>253875</td>\n",
       "      <td>покупка жилья</td>\n",
       "      <td>B</td>\n",
       "    </tr>\n",
       "    <tr>\n",
       "      <th>1</th>\n",
       "      <td>1</td>\n",
       "      <td>4024</td>\n",
       "      <td>36</td>\n",
       "      <td>1</td>\n",
       "      <td>0</td>\n",
       "      <td>F</td>\n",
       "      <td>сотрудник</td>\n",
       "      <td>0</td>\n",
       "      <td>112080</td>\n",
       "      <td>приобретение автомобиля</td>\n",
       "      <td>C</td>\n",
       "    </tr>\n",
       "    <tr>\n",
       "      <th>2</th>\n",
       "      <td>0</td>\n",
       "      <td>5623</td>\n",
       "      <td>33</td>\n",
       "      <td>1</td>\n",
       "      <td>0</td>\n",
       "      <td>M</td>\n",
       "      <td>сотрудник</td>\n",
       "      <td>0</td>\n",
       "      <td>145885</td>\n",
       "      <td>покупка жилья</td>\n",
       "      <td>C</td>\n",
       "    </tr>\n",
       "    <tr>\n",
       "      <th>3</th>\n",
       "      <td>3</td>\n",
       "      <td>4124</td>\n",
       "      <td>32</td>\n",
       "      <td>1</td>\n",
       "      <td>0</td>\n",
       "      <td>M</td>\n",
       "      <td>сотрудник</td>\n",
       "      <td>0</td>\n",
       "      <td>267628</td>\n",
       "      <td>дополнительное образование</td>\n",
       "      <td>B</td>\n",
       "    </tr>\n",
       "    <tr>\n",
       "      <th>4</th>\n",
       "      <td>0</td>\n",
       "      <td>14177</td>\n",
       "      <td>53</td>\n",
       "      <td>1</td>\n",
       "      <td>1</td>\n",
       "      <td>F</td>\n",
       "      <td>пенсионер</td>\n",
       "      <td>0</td>\n",
       "      <td>158616</td>\n",
       "      <td>сыграть свадьбу</td>\n",
       "      <td>C</td>\n",
       "    </tr>\n",
       "    <tr>\n",
       "      <th>5</th>\n",
       "      <td>0</td>\n",
       "      <td>926</td>\n",
       "      <td>27</td>\n",
       "      <td>0</td>\n",
       "      <td>1</td>\n",
       "      <td>M</td>\n",
       "      <td>компаньон</td>\n",
       "      <td>0</td>\n",
       "      <td>255763</td>\n",
       "      <td>покупка жилья</td>\n",
       "      <td>B</td>\n",
       "    </tr>\n",
       "    <tr>\n",
       "      <th>6</th>\n",
       "      <td>0</td>\n",
       "      <td>2879</td>\n",
       "      <td>43</td>\n",
       "      <td>0</td>\n",
       "      <td>0</td>\n",
       "      <td>F</td>\n",
       "      <td>компаньон</td>\n",
       "      <td>0</td>\n",
       "      <td>240525</td>\n",
       "      <td>операции с жильем</td>\n",
       "      <td>B</td>\n",
       "    </tr>\n",
       "    <tr>\n",
       "      <th>7</th>\n",
       "      <td>0</td>\n",
       "      <td>152</td>\n",
       "      <td>50</td>\n",
       "      <td>1</td>\n",
       "      <td>0</td>\n",
       "      <td>M</td>\n",
       "      <td>сотрудник</td>\n",
       "      <td>0</td>\n",
       "      <td>135823</td>\n",
       "      <td>образование</td>\n",
       "      <td>C</td>\n",
       "    </tr>\n",
       "    <tr>\n",
       "      <th>8</th>\n",
       "      <td>2</td>\n",
       "      <td>6929</td>\n",
       "      <td>35</td>\n",
       "      <td>0</td>\n",
       "      <td>1</td>\n",
       "      <td>F</td>\n",
       "      <td>сотрудник</td>\n",
       "      <td>0</td>\n",
       "      <td>95856</td>\n",
       "      <td>на проведение свадьбы</td>\n",
       "      <td>C</td>\n",
       "    </tr>\n",
       "    <tr>\n",
       "      <th>9</th>\n",
       "      <td>0</td>\n",
       "      <td>2188</td>\n",
       "      <td>41</td>\n",
       "      <td>1</td>\n",
       "      <td>0</td>\n",
       "      <td>M</td>\n",
       "      <td>сотрудник</td>\n",
       "      <td>0</td>\n",
       "      <td>144425</td>\n",
       "      <td>покупка жилья для семьи</td>\n",
       "      <td>C</td>\n",
       "    </tr>\n",
       "  </tbody>\n",
       "</table>\n",
       "</div>"
      ],
      "text/plain": [
       "   children  days_employed  dob_years  education_id  family_status_id gender  \\\n",
       "0         1           8437         42             0                 0      F   \n",
       "1         1           4024         36             1                 0      F   \n",
       "2         0           5623         33             1                 0      M   \n",
       "3         3           4124         32             1                 0      M   \n",
       "4         0          14177         53             1                 1      F   \n",
       "5         0            926         27             0                 1      M   \n",
       "6         0           2879         43             0                 0      F   \n",
       "7         0            152         50             1                 0      M   \n",
       "8         2           6929         35             0                 1      F   \n",
       "9         0           2188         41             1                 0      M   \n",
       "\n",
       "  income_type  debt  total_income                     purpose  \\\n",
       "0   сотрудник     0        253875               покупка жилья   \n",
       "1   сотрудник     0        112080     приобретение автомобиля   \n",
       "2   сотрудник     0        145885               покупка жилья   \n",
       "3   сотрудник     0        267628  дополнительное образование   \n",
       "4   пенсионер     0        158616             сыграть свадьбу   \n",
       "5   компаньон     0        255763               покупка жилья   \n",
       "6   компаньон     0        240525           операции с жильем   \n",
       "7   сотрудник     0        135823                 образование   \n",
       "8   сотрудник     0         95856       на проведение свадьбы   \n",
       "9   сотрудник     0        144425     покупка жилья для семьи   \n",
       "\n",
       "  total_income_category  \n",
       "0                     B  \n",
       "1                     C  \n",
       "2                     C  \n",
       "3                     B  \n",
       "4                     C  \n",
       "5                     B  \n",
       "6                     B  \n",
       "7                     C  \n",
       "8                     C  \n",
       "9                     C  "
      ]
     },
     "execution_count": 40,
     "metadata": {},
     "output_type": "execute_result"
    }
   ],
   "source": [
    "# Необходимо провести категоризацию дохода через создание функции с указанием диапазонов зарплат и присвоение им группы\n",
    "# Создать новый столбец категории зарплат через метод apply()\n",
    "# Проверим корректность присвоение группы и создания столбца\n",
    "\n",
    "def total_income_category(total_income):\n",
    "    if total_income <= 30000:\n",
    "            return 'E'\n",
    "    if total_income >= 30001 and total_income < 50000:\n",
    "            return 'D'\n",
    "    if total_income >= 50001 and total_income < 200000:\n",
    "            return 'C'\n",
    "    if total_income >= 200001 and total_income < 1000000:\n",
    "            return 'B'\n",
    "    if total_income >= 1000001:\n",
    "            return 'A'\n",
    "df['total_income_category'] = df['total_income'].apply(total_income_category)\n",
    "df.head(10)"
   ]
  },
  {
   "cell_type": "markdown",
   "id": "f8b46b2f",
   "metadata": {},
   "source": [
    "**Промежуточный вывод 6:**\n",
    "\n",
    "- Провели категоризацию дохода по диапазонам зарплат в столбце 'total_income' через создание функции;\n",
    "- Создали новый столбец 'total_income_category' с указанием группы по уровню зарплаты с помощью метода apply(). "
   ]
  },
  {
   "cell_type": "markdown",
   "id": "e3bbee52",
   "metadata": {},
   "source": [
    "### Категоризация целей кредита"
   ]
  },
  {
   "cell_type": "code",
   "execution_count": 41,
   "id": "58e8ba7d",
   "metadata": {},
   "outputs": [
    {
     "data": {
      "text/html": [
       "<div>\n",
       "<style scoped>\n",
       "    .dataframe tbody tr th:only-of-type {\n",
       "        vertical-align: middle;\n",
       "    }\n",
       "\n",
       "    .dataframe tbody tr th {\n",
       "        vertical-align: top;\n",
       "    }\n",
       "\n",
       "    .dataframe thead th {\n",
       "        text-align: right;\n",
       "    }\n",
       "</style>\n",
       "<table border=\"1\" class=\"dataframe\">\n",
       "  <thead>\n",
       "    <tr style=\"text-align: right;\">\n",
       "      <th></th>\n",
       "      <th>children</th>\n",
       "      <th>days_employed</th>\n",
       "      <th>dob_years</th>\n",
       "      <th>education_id</th>\n",
       "      <th>family_status_id</th>\n",
       "      <th>gender</th>\n",
       "      <th>income_type</th>\n",
       "      <th>debt</th>\n",
       "      <th>total_income</th>\n",
       "      <th>purpose</th>\n",
       "      <th>total_income_category</th>\n",
       "      <th>purpose_category</th>\n",
       "    </tr>\n",
       "  </thead>\n",
       "  <tbody>\n",
       "    <tr>\n",
       "      <th>0</th>\n",
       "      <td>1</td>\n",
       "      <td>8437</td>\n",
       "      <td>42</td>\n",
       "      <td>0</td>\n",
       "      <td>0</td>\n",
       "      <td>F</td>\n",
       "      <td>сотрудник</td>\n",
       "      <td>0</td>\n",
       "      <td>253875</td>\n",
       "      <td>покупка жилья</td>\n",
       "      <td>B</td>\n",
       "      <td>операции с недвижимостью</td>\n",
       "    </tr>\n",
       "    <tr>\n",
       "      <th>1</th>\n",
       "      <td>1</td>\n",
       "      <td>4024</td>\n",
       "      <td>36</td>\n",
       "      <td>1</td>\n",
       "      <td>0</td>\n",
       "      <td>F</td>\n",
       "      <td>сотрудник</td>\n",
       "      <td>0</td>\n",
       "      <td>112080</td>\n",
       "      <td>приобретение автомобиля</td>\n",
       "      <td>C</td>\n",
       "      <td>операции с автомобилем</td>\n",
       "    </tr>\n",
       "    <tr>\n",
       "      <th>2</th>\n",
       "      <td>0</td>\n",
       "      <td>5623</td>\n",
       "      <td>33</td>\n",
       "      <td>1</td>\n",
       "      <td>0</td>\n",
       "      <td>M</td>\n",
       "      <td>сотрудник</td>\n",
       "      <td>0</td>\n",
       "      <td>145885</td>\n",
       "      <td>покупка жилья</td>\n",
       "      <td>C</td>\n",
       "      <td>операции с недвижимостью</td>\n",
       "    </tr>\n",
       "    <tr>\n",
       "      <th>3</th>\n",
       "      <td>3</td>\n",
       "      <td>4124</td>\n",
       "      <td>32</td>\n",
       "      <td>1</td>\n",
       "      <td>0</td>\n",
       "      <td>M</td>\n",
       "      <td>сотрудник</td>\n",
       "      <td>0</td>\n",
       "      <td>267628</td>\n",
       "      <td>дополнительное образование</td>\n",
       "      <td>B</td>\n",
       "      <td>получение образования</td>\n",
       "    </tr>\n",
       "    <tr>\n",
       "      <th>4</th>\n",
       "      <td>0</td>\n",
       "      <td>14177</td>\n",
       "      <td>53</td>\n",
       "      <td>1</td>\n",
       "      <td>1</td>\n",
       "      <td>F</td>\n",
       "      <td>пенсионер</td>\n",
       "      <td>0</td>\n",
       "      <td>158616</td>\n",
       "      <td>сыграть свадьбу</td>\n",
       "      <td>C</td>\n",
       "      <td>проведение свадьбы</td>\n",
       "    </tr>\n",
       "    <tr>\n",
       "      <th>5</th>\n",
       "      <td>0</td>\n",
       "      <td>926</td>\n",
       "      <td>27</td>\n",
       "      <td>0</td>\n",
       "      <td>1</td>\n",
       "      <td>M</td>\n",
       "      <td>компаньон</td>\n",
       "      <td>0</td>\n",
       "      <td>255763</td>\n",
       "      <td>покупка жилья</td>\n",
       "      <td>B</td>\n",
       "      <td>операции с недвижимостью</td>\n",
       "    </tr>\n",
       "    <tr>\n",
       "      <th>6</th>\n",
       "      <td>0</td>\n",
       "      <td>2879</td>\n",
       "      <td>43</td>\n",
       "      <td>0</td>\n",
       "      <td>0</td>\n",
       "      <td>F</td>\n",
       "      <td>компаньон</td>\n",
       "      <td>0</td>\n",
       "      <td>240525</td>\n",
       "      <td>операции с жильем</td>\n",
       "      <td>B</td>\n",
       "      <td>операции с недвижимостью</td>\n",
       "    </tr>\n",
       "    <tr>\n",
       "      <th>7</th>\n",
       "      <td>0</td>\n",
       "      <td>152</td>\n",
       "      <td>50</td>\n",
       "      <td>1</td>\n",
       "      <td>0</td>\n",
       "      <td>M</td>\n",
       "      <td>сотрудник</td>\n",
       "      <td>0</td>\n",
       "      <td>135823</td>\n",
       "      <td>образование</td>\n",
       "      <td>C</td>\n",
       "      <td>получение образования</td>\n",
       "    </tr>\n",
       "    <tr>\n",
       "      <th>8</th>\n",
       "      <td>2</td>\n",
       "      <td>6929</td>\n",
       "      <td>35</td>\n",
       "      <td>0</td>\n",
       "      <td>1</td>\n",
       "      <td>F</td>\n",
       "      <td>сотрудник</td>\n",
       "      <td>0</td>\n",
       "      <td>95856</td>\n",
       "      <td>на проведение свадьбы</td>\n",
       "      <td>C</td>\n",
       "      <td>проведение свадьбы</td>\n",
       "    </tr>\n",
       "    <tr>\n",
       "      <th>9</th>\n",
       "      <td>0</td>\n",
       "      <td>2188</td>\n",
       "      <td>41</td>\n",
       "      <td>1</td>\n",
       "      <td>0</td>\n",
       "      <td>M</td>\n",
       "      <td>сотрудник</td>\n",
       "      <td>0</td>\n",
       "      <td>144425</td>\n",
       "      <td>покупка жилья для семьи</td>\n",
       "      <td>C</td>\n",
       "      <td>операции с недвижимостью</td>\n",
       "    </tr>\n",
       "  </tbody>\n",
       "</table>\n",
       "</div>"
      ],
      "text/plain": [
       "   children  days_employed  dob_years  education_id  family_status_id gender  \\\n",
       "0         1           8437         42             0                 0      F   \n",
       "1         1           4024         36             1                 0      F   \n",
       "2         0           5623         33             1                 0      M   \n",
       "3         3           4124         32             1                 0      M   \n",
       "4         0          14177         53             1                 1      F   \n",
       "5         0            926         27             0                 1      M   \n",
       "6         0           2879         43             0                 0      F   \n",
       "7         0            152         50             1                 0      M   \n",
       "8         2           6929         35             0                 1      F   \n",
       "9         0           2188         41             1                 0      M   \n",
       "\n",
       "  income_type  debt  total_income                     purpose  \\\n",
       "0   сотрудник     0        253875               покупка жилья   \n",
       "1   сотрудник     0        112080     приобретение автомобиля   \n",
       "2   сотрудник     0        145885               покупка жилья   \n",
       "3   сотрудник     0        267628  дополнительное образование   \n",
       "4   пенсионер     0        158616             сыграть свадьбу   \n",
       "5   компаньон     0        255763               покупка жилья   \n",
       "6   компаньон     0        240525           операции с жильем   \n",
       "7   сотрудник     0        135823                 образование   \n",
       "8   сотрудник     0         95856       на проведение свадьбы   \n",
       "9   сотрудник     0        144425     покупка жилья для семьи   \n",
       "\n",
       "  total_income_category          purpose_category  \n",
       "0                     B  операции с недвижимостью  \n",
       "1                     C    операции с автомобилем  \n",
       "2                     C  операции с недвижимостью  \n",
       "3                     B     получение образования  \n",
       "4                     C        проведение свадьбы  \n",
       "5                     B  операции с недвижимостью  \n",
       "6                     B  операции с недвижимостью  \n",
       "7                     C     получение образования  \n",
       "8                     C        проведение свадьбы  \n",
       "9                     C  операции с недвижимостью  "
      ]
     },
     "execution_count": 41,
     "metadata": {},
     "output_type": "execute_result"
    }
   ],
   "source": [
    "# Необходимо провести категоризацию целей кредита через создание функции с указанием цели по нахождению части значения во всех значениях\n",
    "# Создать новый столбец целей кредита через метод apply()\n",
    "# Проверим корректность присвоение цели и создания столбца\n",
    "\n",
    "def purpose_category(purpose):\n",
    "    if 'авто' in purpose:\n",
    "        return 'операции с автомобилем'\n",
    "    if 'недвиж' in purpose or 'жиль' in purpose:\n",
    "        return 'операции с недвижимостью'\n",
    "    if 'свадьб' in purpose:\n",
    "        return 'проведение свадьбы'\n",
    "    if 'образован' in purpose:\n",
    "        return 'получение образования'\n",
    "\n",
    "df['purpose_category'] = df['purpose'].apply(purpose_category)\n",
    "df.head(10)"
   ]
  },
  {
   "cell_type": "markdown",
   "id": "c0fd343d",
   "metadata": {},
   "source": [
    "**Промежуточный вывод 7:**\n",
    "\n",
    "- Провели категоризацию дохода по целям кредита в столбце 'purpose' через создание функции;\n",
    "- Создали новый столбец 'purpose_category' с указанием группы по цели кредита с помощью метода apply(). "
   ]
  },
  {
   "cell_type": "markdown",
   "id": "c76242df",
   "metadata": {},
   "source": [
    "## Ответы на вопросы"
   ]
  },
  {
   "cell_type": "markdown",
   "id": "617463e9",
   "metadata": {},
   "source": [
    "### Вопрос 1:"
   ]
  },
  {
   "cell_type": "markdown",
   "id": "5a3fe3d1",
   "metadata": {},
   "source": [
    "**Есть ли зависимость между количеством детей и возвратом кредита в срок?**"
   ]
  },
  {
   "cell_type": "code",
   "execution_count": 42,
   "id": "c31e998d",
   "metadata": {},
   "outputs": [
    {
     "data": {
      "text/html": [
       "<div>\n",
       "<style scoped>\n",
       "    .dataframe tbody tr th:only-of-type {\n",
       "        vertical-align: middle;\n",
       "    }\n",
       "\n",
       "    .dataframe tbody tr th {\n",
       "        vertical-align: top;\n",
       "    }\n",
       "\n",
       "    .dataframe thead th {\n",
       "        text-align: right;\n",
       "    }\n",
       "</style>\n",
       "<table border=\"1\" class=\"dataframe\">\n",
       "  <thead>\n",
       "    <tr style=\"text-align: right;\">\n",
       "      <th>debt</th>\n",
       "      <th>0</th>\n",
       "      <th>1</th>\n",
       "      <th>result_children_status</th>\n",
       "    </tr>\n",
       "    <tr>\n",
       "      <th>children</th>\n",
       "      <th></th>\n",
       "      <th></th>\n",
       "      <th></th>\n",
       "    </tr>\n",
       "  </thead>\n",
       "  <tbody>\n",
       "    <tr>\n",
       "      <th>0</th>\n",
       "      <td>13028.0</td>\n",
       "      <td>1063.0</td>\n",
       "      <td>8.159349</td>\n",
       "    </tr>\n",
       "    <tr>\n",
       "      <th>1</th>\n",
       "      <td>4410.0</td>\n",
       "      <td>445.0</td>\n",
       "      <td>10.090703</td>\n",
       "    </tr>\n",
       "    <tr>\n",
       "      <th>2</th>\n",
       "      <td>1926.0</td>\n",
       "      <td>202.0</td>\n",
       "      <td>10.488058</td>\n",
       "    </tr>\n",
       "    <tr>\n",
       "      <th>3</th>\n",
       "      <td>303.0</td>\n",
       "      <td>27.0</td>\n",
       "      <td>8.910891</td>\n",
       "    </tr>\n",
       "    <tr>\n",
       "      <th>4</th>\n",
       "      <td>37.0</td>\n",
       "      <td>4.0</td>\n",
       "      <td>10.810811</td>\n",
       "    </tr>\n",
       "    <tr>\n",
       "      <th>5</th>\n",
       "      <td>9.0</td>\n",
       "      <td>NaN</td>\n",
       "      <td>NaN</td>\n",
       "    </tr>\n",
       "  </tbody>\n",
       "</table>\n",
       "</div>"
      ],
      "text/plain": [
       "debt            0       1  result_children_status\n",
       "children                                         \n",
       "0         13028.0  1063.0                8.159349\n",
       "1          4410.0   445.0               10.090703\n",
       "2          1926.0   202.0               10.488058\n",
       "3           303.0    27.0                8.910891\n",
       "4            37.0     4.0               10.810811\n",
       "5             9.0     NaN                     NaN"
      ]
     },
     "metadata": {},
     "output_type": "display_data"
    }
   ],
   "source": [
    "# Для проверки зависимости вызываем метод pivot_table() для подготовки сводных таблиц\n",
    "# Посчитаем зависимость и выведем результат в процентах\n",
    "# Отчего-то в последней строке появилось значение NaN, хотя я заполнил все пропуски\n",
    "# На выводах это не сказывается\n",
    "\n",
    "children_status_result = df.pivot_table(index = 'children', columns='debt', values='days_employed', aggfunc='count')\n",
    "children_status_result ['result_children_status'] = children_status_result[1] / children_status_result[0] * 100\n",
    "display(children_status_result)"
   ]
  },
  {
   "cell_type": "markdown",
   "id": "ebc424bf",
   "metadata": {},
   "source": [
    "**Вывод 1:**\n",
    "\n",
    "**По полученным данным видно, что на процент возврата кредита в срок кардинально не влияет количество детей клиента.**"
   ]
  },
  {
   "cell_type": "markdown",
   "id": "cc225fd0",
   "metadata": {},
   "source": [
    "### Вопрос 2:"
   ]
  },
  {
   "cell_type": "markdown",
   "id": "41bf1308",
   "metadata": {},
   "source": [
    "**Есть ли зависимость между семейным положением и возвратом кредита в срок?**"
   ]
  },
  {
   "cell_type": "code",
   "execution_count": 43,
   "id": "9950eccf",
   "metadata": {
    "scrolled": true
   },
   "outputs": [
    {
     "data": {
      "text/html": [
       "<div>\n",
       "<style scoped>\n",
       "    .dataframe tbody tr th:only-of-type {\n",
       "        vertical-align: middle;\n",
       "    }\n",
       "\n",
       "    .dataframe tbody tr th {\n",
       "        vertical-align: top;\n",
       "    }\n",
       "\n",
       "    .dataframe thead th {\n",
       "        text-align: right;\n",
       "    }\n",
       "</style>\n",
       "<table border=\"1\" class=\"dataframe\">\n",
       "  <thead>\n",
       "    <tr style=\"text-align: right;\">\n",
       "      <th></th>\n",
       "      <th>family_status_id</th>\n",
       "      <th>0</th>\n",
       "      <th>1</th>\n",
       "      <th>result_family_status</th>\n",
       "      <th>family_status</th>\n",
       "    </tr>\n",
       "  </thead>\n",
       "  <tbody>\n",
       "    <tr>\n",
       "      <th>0</th>\n",
       "      <td>0</td>\n",
       "      <td>11408</td>\n",
       "      <td>931</td>\n",
       "      <td>8.160940</td>\n",
       "      <td>женат / замужем</td>\n",
       "    </tr>\n",
       "    <tr>\n",
       "      <th>1</th>\n",
       "      <td>1</td>\n",
       "      <td>3763</td>\n",
       "      <td>388</td>\n",
       "      <td>10.310922</td>\n",
       "      <td>гражданский брак</td>\n",
       "    </tr>\n",
       "    <tr>\n",
       "      <th>2</th>\n",
       "      <td>2</td>\n",
       "      <td>896</td>\n",
       "      <td>63</td>\n",
       "      <td>7.031250</td>\n",
       "      <td>вдовец / вдова</td>\n",
       "    </tr>\n",
       "    <tr>\n",
       "      <th>3</th>\n",
       "      <td>3</td>\n",
       "      <td>1110</td>\n",
       "      <td>85</td>\n",
       "      <td>7.657658</td>\n",
       "      <td>в разводе</td>\n",
       "    </tr>\n",
       "    <tr>\n",
       "      <th>4</th>\n",
       "      <td>4</td>\n",
       "      <td>2536</td>\n",
       "      <td>274</td>\n",
       "      <td>10.804416</td>\n",
       "      <td>Не женат / не замужем</td>\n",
       "    </tr>\n",
       "  </tbody>\n",
       "</table>\n",
       "</div>"
      ],
      "text/plain": [
       "   family_status_id      0    1  result_family_status          family_status\n",
       "0                 0  11408  931              8.160940        женат / замужем\n",
       "1                 1   3763  388             10.310922       гражданский брак\n",
       "2                 2    896   63              7.031250         вдовец / вдова\n",
       "3                 3   1110   85              7.657658              в разводе\n",
       "4                 4   2536  274             10.804416  Не женат / не замужем"
      ]
     },
     "execution_count": 43,
     "metadata": {},
     "output_type": "execute_result"
    }
   ],
   "source": [
    "# Для проверки зависимости вызываем метод pivot_table() для подготовки сводных таблиц\n",
    "# Посчитаем зависимость и выведем результат в процентах\n",
    "# Добавим столбец из словаря для расшифровки семейного статуса\n",
    "\n",
    "family_status_result = df.pivot_table(index='family_status_id', columns= 'debt', values='days_employed', aggfunc='count')\n",
    "family_status_result ['result_family_status'] = family_status_result[1] / family_status_result[0] * 100\n",
    "family_status_result.reset_index().merge(family_dict)"
   ]
  },
  {
   "cell_type": "markdown",
   "id": "aa6c5046",
   "metadata": {},
   "source": [
    "**Вывод 2:**\n",
    "\n",
    "**Семейное положение влияет на возврат кредита в срок. Самые низкие показатели, на удивление - у вдовцов/вдов и тех, кто в разводе. Люди в гражданском браке и не будучи в браке допускают большую вероятность невозврата кредита в срок**"
   ]
  },
  {
   "cell_type": "markdown",
   "id": "d38c7e60",
   "metadata": {},
   "source": [
    "### Вопрос 3:"
   ]
  },
  {
   "cell_type": "markdown",
   "id": "2e613e91",
   "metadata": {},
   "source": [
    "**Есть ли зависимость между уровнем дохода и возвратом кредита в срок?**"
   ]
  },
  {
   "cell_type": "code",
   "execution_count": 44,
   "id": "d08d3314",
   "metadata": {},
   "outputs": [
    {
     "data": {
      "text/html": [
       "<div>\n",
       "<style scoped>\n",
       "    .dataframe tbody tr th:only-of-type {\n",
       "        vertical-align: middle;\n",
       "    }\n",
       "\n",
       "    .dataframe tbody tr th {\n",
       "        vertical-align: top;\n",
       "    }\n",
       "\n",
       "    .dataframe thead th {\n",
       "        text-align: right;\n",
       "    }\n",
       "</style>\n",
       "<table border=\"1\" class=\"dataframe\">\n",
       "  <thead>\n",
       "    <tr style=\"text-align: right;\">\n",
       "      <th>debt</th>\n",
       "      <th>0</th>\n",
       "      <th>1</th>\n",
       "      <th>result_total_income</th>\n",
       "    </tr>\n",
       "    <tr>\n",
       "      <th>total_income_category</th>\n",
       "      <th></th>\n",
       "      <th></th>\n",
       "      <th></th>\n",
       "    </tr>\n",
       "  </thead>\n",
       "  <tbody>\n",
       "    <tr>\n",
       "      <th>A</th>\n",
       "      <td>23</td>\n",
       "      <td>2</td>\n",
       "      <td>8.695652</td>\n",
       "    </tr>\n",
       "    <tr>\n",
       "      <th>B</th>\n",
       "      <td>4685</td>\n",
       "      <td>356</td>\n",
       "      <td>7.598719</td>\n",
       "    </tr>\n",
       "    <tr>\n",
       "      <th>C</th>\n",
       "      <td>14656</td>\n",
       "      <td>1360</td>\n",
       "      <td>9.279476</td>\n",
       "    </tr>\n",
       "    <tr>\n",
       "      <th>D</th>\n",
       "      <td>329</td>\n",
       "      <td>21</td>\n",
       "      <td>6.382979</td>\n",
       "    </tr>\n",
       "    <tr>\n",
       "      <th>E</th>\n",
       "      <td>20</td>\n",
       "      <td>2</td>\n",
       "      <td>10.000000</td>\n",
       "    </tr>\n",
       "  </tbody>\n",
       "</table>\n",
       "</div>"
      ],
      "text/plain": [
       "debt                       0     1  result_total_income\n",
       "total_income_category                                  \n",
       "A                         23     2             8.695652\n",
       "B                       4685   356             7.598719\n",
       "C                      14656  1360             9.279476\n",
       "D                        329    21             6.382979\n",
       "E                         20     2            10.000000"
      ]
     },
     "metadata": {},
     "output_type": "display_data"
    }
   ],
   "source": [
    "# Для проверки зависимости вызываем метод pivot_table() для подготовки сводных таблиц\n",
    "# Посчитаем зависимость и выведем результат в процентах\n",
    "\n",
    "total_income_result = df.pivot_table(index = 'total_income_category', columns='debt', values='days_employed', aggfunc='count')\n",
    "total_income_result ['result_total_income'] = total_income_result[1] / total_income_result[0] * 100\n",
    "display(total_income_result)"
   ]
  },
  {
   "cell_type": "markdown",
   "id": "e377a4a1",
   "metadata": {},
   "source": [
    "**Вывод 3:**\n",
    "\n",
    "**Зависимость между уровнем дохода и возвратом кредита в срок незначительна. Больше всего кредитов выдают людям со средним  и выше среднего уровнем дохода. Учитывая разницу в количестве выданных кредитов, значения возвратов кредитов в срок примерно одинаковы.**"
   ]
  },
  {
   "cell_type": "markdown",
   "id": "1f9f0ba6",
   "metadata": {},
   "source": [
    "### Вопрос 4:"
   ]
  },
  {
   "cell_type": "markdown",
   "id": "0d3815bb",
   "metadata": {},
   "source": [
    "**Как разные цели кредита влияют на его возврат в срок?**"
   ]
  },
  {
   "cell_type": "code",
   "execution_count": 45,
   "id": "ce9db9f3",
   "metadata": {},
   "outputs": [
    {
     "data": {
      "text/html": [
       "<div>\n",
       "<style scoped>\n",
       "    .dataframe tbody tr th:only-of-type {\n",
       "        vertical-align: middle;\n",
       "    }\n",
       "\n",
       "    .dataframe tbody tr th {\n",
       "        vertical-align: top;\n",
       "    }\n",
       "\n",
       "    .dataframe thead th {\n",
       "        text-align: right;\n",
       "    }\n",
       "</style>\n",
       "<table border=\"1\" class=\"dataframe\">\n",
       "  <thead>\n",
       "    <tr style=\"text-align: right;\">\n",
       "      <th>debt</th>\n",
       "      <th>0</th>\n",
       "      <th>1</th>\n",
       "      <th>result_total_income</th>\n",
       "    </tr>\n",
       "    <tr>\n",
       "      <th>purpose_category</th>\n",
       "      <th></th>\n",
       "      <th></th>\n",
       "      <th></th>\n",
       "    </tr>\n",
       "  </thead>\n",
       "  <tbody>\n",
       "    <tr>\n",
       "      <th>операции с автомобилем</th>\n",
       "      <td>3903</td>\n",
       "      <td>403</td>\n",
       "      <td>10.325391</td>\n",
       "    </tr>\n",
       "    <tr>\n",
       "      <th>операции с недвижимостью</th>\n",
       "      <td>10029</td>\n",
       "      <td>782</td>\n",
       "      <td>7.797388</td>\n",
       "    </tr>\n",
       "    <tr>\n",
       "      <th>получение образования</th>\n",
       "      <td>3643</td>\n",
       "      <td>370</td>\n",
       "      <td>10.156464</td>\n",
       "    </tr>\n",
       "    <tr>\n",
       "      <th>проведение свадьбы</th>\n",
       "      <td>2138</td>\n",
       "      <td>186</td>\n",
       "      <td>8.699719</td>\n",
       "    </tr>\n",
       "  </tbody>\n",
       "</table>\n",
       "</div>"
      ],
      "text/plain": [
       "debt                          0    1  result_total_income\n",
       "purpose_category                                         \n",
       "операции с автомобилем     3903  403            10.325391\n",
       "операции с недвижимостью  10029  782             7.797388\n",
       "получение образования      3643  370            10.156464\n",
       "проведение свадьбы         2138  186             8.699719"
      ]
     },
     "metadata": {},
     "output_type": "display_data"
    }
   ],
   "source": [
    "# Для проверки зависимости вызываем метод pivot_table() для подготовки сводных таблиц\n",
    "# Посчитаем зависимость и выведем результат в процентах\n",
    "\n",
    "purpose_result = df.pivot_table(index = 'purpose_category', columns='debt', values='days_employed', aggfunc='count')\n",
    "purpose_result ['result_total_income'] = purpose_result[1] / purpose_result[0] * 100\n",
    "display(purpose_result)"
   ]
  },
  {
   "cell_type": "markdown",
   "id": "42f08a40",
   "metadata": {},
   "source": [
    "**Вывод 4:**\n",
    "\n",
    "**Цели кредита влияют на его возврат в срок. На удивление, сложнее всего возвращают в срок клиенты, которые брали кредиты для операций с автомобилем, а также для получения образования, которые чаще всего не сразу окупаются**"
   ]
  },
  {
   "cell_type": "markdown",
   "id": "b6f7f2c9",
   "metadata": {},
   "source": [
    "## Общий вывод:"
   ]
  },
  {
   "cell_type": "markdown",
   "id": "46cab2be",
   "metadata": {},
   "source": [
    "На основании статистики о платёжеспособности клиентов банка была проделана следующая работа:\n",
    "\n",
    "**1. Проведена предобработка данных со следующими изменениями:**\n",
    "\n",
    "   - Заполнили пропущенные значения в столбцах \"Общего трудового стажа в днях\" и \"Ежемесячного дохода\". Заменили пустые ячейки на медианные значения, равные *2194* и *145017* соответственно;\n",
    "   - Провели изменения типов данных. Все возможные значения привели из дробных в целые числа для удобства просмотра данных;\n",
    "   - Провели проверку уникальных значений во всех столбцах. Произвели замену в столбце \"Количества детей в семье\" с \"-1\" на \"1\" и с \"20\" на \"2\", потому что это смотрелось самым логичным выводом;\n",
    "   - Провели удаление *71* дубликата и привели все названия к единому регистру;\n",
    "   - Провели категоризацию дохода по диапазонам ежемесячного дохода и категоризацию по целям получения кредита с созданием соответствующих групп.\n",
    "    \n",
    "    \n",
    "**2. Согласно поставленной задаче, отвечаем на целевые вопросы:**\n",
    "    \n",
    "   1) Есть ли зависимость между количеством детей и возвратом кредита в срок?\n",
    "    \n",
    "   `На процент возврата кредита в срок кардинально не влияет количество детей клиента`, однако все же самые низкий процент невозврата кредита в срок равный *8,15%* у клиентов без детей, при том что наибольшее количество кредитов (*более 13000*) было выдано именно данной категории клиентов. У клиентов процент невозврата кредита в срок близок к *9%* с 3 детьми и более *10%* с 1, 2 и 4 детьми.\n",
    "    \n",
    "   2) Есть ли зависимость между семейным положением и возвратом кредита в срок?\n",
    "    \n",
    "   `Семейное положение имеет влияние на возврат кредита в срок`. Самые низкие показатели, на удивление - у вдовцов/вдов (*около 7%*) и тех, кто в разводе (*около 7,5%*). Люди в гражданском браке и не будучи в браке допускают большую вероятность невозврата кредита в срок (*более 10%*), однако и количество выданных кредитов у этих категорий больше. У официально зарегестрировавших семейные отношения клиентов процент невозврата средний (*около 8%*), при этом было одобрено более *10000* кредитов.\n",
    "    \n",
    "   3) Есть ли зависимость между уровнем дохода и возвратом кредита в срок?\n",
    "    \n",
    "   `Зависимость между уровнем дохода и возвратом кредита в срок незначительна`, если учитывать разницу в количестве выданных кредитов по категориям дохода. Больше всего кредитов выдают людям со средним уровнем дохода (*от 50 до 200 тысяч*) с процентом невозврата кредита в срок *более 9%* и выше среднего уровнем дохода (*от 200 тысяч до 1 миллиона*) с процентом невозврата *около 7,5%*. Самый лучший показатель возврата кредитов в срок (*около 6,4%*) у клиентов с доходом *от 30 до 50 тысяч*.\n",
    "    \n",
    "   4) Как разные цели кредита влияют на его возврат в срок?\n",
    "    \n",
    "   `Цели кредита влияют на его возврат в срок`. На удивление, сложнее всего возвращают в срок клиенты, которые брали кредиты для операций с автомобилем и получения образования, которые чаще всего не сразу окупаются или не окупаются вовсе, и процент невозврата кредитов в срок данных категорий составляет *более 10%*. Более низкий процент невозврата в срок имеют клиенты, получающие кредиты на операции с недвижимостью (*около 7,8%*) и проведения свадеб (*около 8,7%*).\n",
    "    \n",
    "   На основании вышеуказанных промежуточных выводов можно сформировать модели по способности потенциального клиента вовремя вернуть кредит банку:\n",
    "    \n",
    "   - **Добросовестный клиент** - без детей, находится или был в браке (официальном), с уровнем дохода от 30  до 50 тысяч, запрашивающий кредит на операции с недвижимостью;\n",
    "    \n",
    "   - **Среднестатистический клиент** - без детей, находится или был в браке (официальном), с уровнем дохода от 30 тысяч до 1 миллиона, запрашивающий кредит на операции с недвижимостью или проведение свадьбы;\n",
    "    \n",
    "   - **Недобросовестный клиент** - имеет от 1 ребенка, не в отношениях или гражданском браке, с уровнем дохода менее 30 тысяч и более 1 миллиона, запрашивающий кредит на операции с автомобилем или получения образования. \n",
    "    \n",
    "    \n",
    "**3. По итогам проведенной работы можно рассмотреть рекомендации для модели кредитного скоринга банка по улучшению качества входных данных:**\n",
    "\n",
    "   - Присвоение каждому клиенту идентификационного номера во избежании дублирования данных;\n",
    "   - Заполнение всех данных по клиенту, ведь от этого будет зависеть анализ даннных и решение по его запросу на кредит;\n",
    "   - Заполнение стажа работы в годах, так легче будет получить точную информацию от клиента;\n",
    "   - Во избежание заполнения аномальных и некорректных значений в системе можно установить запрет на указание отрицательных значений в столбцах с количеством детей, стажем работы, ежемесячного дохода."
   ]
  },
  {
   "cell_type": "code",
   "execution_count": null,
   "id": "128a433e",
   "metadata": {},
   "outputs": [],
   "source": []
  }
 ],
 "metadata": {
  "ExecuteTimeLog": [
   {
    "duration": 627,
    "start_time": "2022-04-12T04:53:14.159Z"
   },
   {
    "duration": 117,
    "start_time": "2022-04-12T05:10:25.798Z"
   },
   {
    "duration": 22,
    "start_time": "2022-04-12T05:10:35.057Z"
   },
   {
    "duration": 24,
    "start_time": "2022-04-12T05:36:50.986Z"
   },
   {
    "duration": 116,
    "start_time": "2022-04-12T05:38:59.139Z"
   },
   {
    "duration": 24,
    "start_time": "2022-04-12T05:39:05.461Z"
   },
   {
    "duration": 97,
    "start_time": "2022-04-12T05:44:30.525Z"
   },
   {
    "duration": 88,
    "start_time": "2022-04-12T05:44:35.799Z"
   },
   {
    "duration": 51,
    "start_time": "2022-04-14T05:08:38.274Z"
   },
   {
    "duration": 514,
    "start_time": "2022-04-14T05:08:49.301Z"
   },
   {
    "duration": 15,
    "start_time": "2022-04-14T05:08:49.817Z"
   },
   {
    "duration": 25,
    "start_time": "2022-04-14T05:08:49.834Z"
   },
   {
    "duration": 31,
    "start_time": "2022-04-14T05:08:49.861Z"
   },
   {
    "duration": 5,
    "start_time": "2022-04-14T05:59:25.378Z"
   },
   {
    "duration": 5,
    "start_time": "2022-04-14T06:03:37.761Z"
   },
   {
    "duration": 8,
    "start_time": "2022-04-14T06:20:15.473Z"
   },
   {
    "duration": 11,
    "start_time": "2022-04-14T06:20:24.332Z"
   },
   {
    "duration": 11,
    "start_time": "2022-04-14T06:22:46.619Z"
   },
   {
    "duration": 8,
    "start_time": "2022-04-14T06:25:48.570Z"
   },
   {
    "duration": 6,
    "start_time": "2022-04-14T06:25:55.474Z"
   },
   {
    "duration": 6,
    "start_time": "2022-04-14T06:26:01.314Z"
   },
   {
    "duration": 7,
    "start_time": "2022-04-14T06:40:00.281Z"
   },
   {
    "duration": 6,
    "start_time": "2022-04-14T06:40:04.041Z"
   },
   {
    "duration": 528,
    "start_time": "2022-04-14T08:25:31.297Z"
   },
   {
    "duration": 15,
    "start_time": "2022-04-14T08:25:31.828Z"
   },
   {
    "duration": 25,
    "start_time": "2022-04-14T08:25:31.845Z"
   },
   {
    "duration": 10,
    "start_time": "2022-04-14T08:25:31.872Z"
   },
   {
    "duration": 22,
    "start_time": "2022-04-14T08:32:09.451Z"
   },
   {
    "duration": 12,
    "start_time": "2022-04-14T08:32:21.052Z"
   },
   {
    "duration": 7,
    "start_time": "2022-04-14T08:36:08.492Z"
   },
   {
    "duration": 6,
    "start_time": "2022-04-14T08:36:24.950Z"
   },
   {
    "duration": 7,
    "start_time": "2022-04-14T08:36:26.324Z"
   },
   {
    "duration": 7,
    "start_time": "2022-04-14T08:36:34.772Z"
   },
   {
    "duration": 562,
    "start_time": "2022-04-14T08:36:42.370Z"
   },
   {
    "duration": 21,
    "start_time": "2022-04-14T08:36:42.936Z"
   },
   {
    "duration": 49,
    "start_time": "2022-04-14T08:36:42.959Z"
   },
   {
    "duration": 20,
    "start_time": "2022-04-14T08:36:43.011Z"
   },
   {
    "duration": 14,
    "start_time": "2022-04-14T08:36:43.035Z"
   },
   {
    "duration": 53,
    "start_time": "2022-04-14T08:36:43.052Z"
   },
   {
    "duration": 12,
    "start_time": "2022-04-14T08:37:16.349Z"
   },
   {
    "duration": 10,
    "start_time": "2022-04-14T08:38:31.302Z"
   },
   {
    "duration": 7,
    "start_time": "2022-04-14T08:38:35.524Z"
   },
   {
    "duration": 12,
    "start_time": "2022-04-14T09:32:23.262Z"
   },
   {
    "duration": 9,
    "start_time": "2022-04-14T09:50:13.215Z"
   },
   {
    "duration": 20,
    "start_time": "2022-04-14T09:50:15.207Z"
   },
   {
    "duration": 7,
    "start_time": "2022-04-14T09:50:29.960Z"
   },
   {
    "duration": 12,
    "start_time": "2022-04-14T09:50:35.360Z"
   },
   {
    "duration": 8,
    "start_time": "2022-04-14T09:50:39.554Z"
   },
   {
    "duration": 17,
    "start_time": "2022-04-14T09:50:42.359Z"
   },
   {
    "duration": 8,
    "start_time": "2022-04-14T09:50:43.903Z"
   },
   {
    "duration": 8,
    "start_time": "2022-04-14T09:50:45.251Z"
   },
   {
    "duration": 21,
    "start_time": "2022-04-14T09:50:46.712Z"
   },
   {
    "duration": 605,
    "start_time": "2022-04-14T09:50:51.290Z"
   },
   {
    "duration": 35,
    "start_time": "2022-04-14T09:50:51.898Z"
   },
   {
    "duration": 73,
    "start_time": "2022-04-14T09:50:51.937Z"
   },
   {
    "duration": 23,
    "start_time": "2022-04-14T09:50:52.014Z"
   },
   {
    "duration": 52,
    "start_time": "2022-04-14T09:50:52.042Z"
   },
   {
    "duration": 12,
    "start_time": "2022-04-14T09:50:52.096Z"
   },
   {
    "duration": 65,
    "start_time": "2022-04-14T09:50:52.110Z"
   },
   {
    "duration": 5,
    "start_time": "2022-04-14T09:58:53.302Z"
   },
   {
    "duration": 5,
    "start_time": "2022-04-14T09:59:35.135Z"
   },
   {
    "duration": 67,
    "start_time": "2022-04-14T10:16:29.220Z"
   },
   {
    "duration": 3,
    "start_time": "2022-04-14T10:16:39.925Z"
   },
   {
    "duration": 3,
    "start_time": "2022-04-14T10:16:41.235Z"
   },
   {
    "duration": 525,
    "start_time": "2022-04-14T10:16:46.517Z"
   },
   {
    "duration": 22,
    "start_time": "2022-04-14T10:16:47.045Z"
   },
   {
    "duration": 26,
    "start_time": "2022-04-14T10:16:47.069Z"
   },
   {
    "duration": 30,
    "start_time": "2022-04-14T10:16:47.098Z"
   },
   {
    "duration": 16,
    "start_time": "2022-04-14T10:16:47.130Z"
   },
   {
    "duration": 29,
    "start_time": "2022-04-14T10:16:47.148Z"
   },
   {
    "duration": 26,
    "start_time": "2022-04-14T10:16:47.179Z"
   },
   {
    "duration": 9,
    "start_time": "2022-04-14T10:16:47.207Z"
   },
   {
    "duration": 3,
    "start_time": "2022-04-14T10:16:57.857Z"
   },
   {
    "duration": 507,
    "start_time": "2022-04-14T10:17:03.646Z"
   },
   {
    "duration": 15,
    "start_time": "2022-04-14T10:17:04.155Z"
   },
   {
    "duration": 26,
    "start_time": "2022-04-14T10:17:04.172Z"
   },
   {
    "duration": 25,
    "start_time": "2022-04-14T10:17:04.200Z"
   },
   {
    "duration": 16,
    "start_time": "2022-04-14T10:17:04.227Z"
   },
   {
    "duration": 11,
    "start_time": "2022-04-14T10:17:04.245Z"
   },
   {
    "duration": 13,
    "start_time": "2022-04-14T10:17:04.258Z"
   },
   {
    "duration": 14,
    "start_time": "2022-04-14T10:17:04.273Z"
   },
   {
    "duration": 508,
    "start_time": "2022-04-14T10:17:27.620Z"
   },
   {
    "duration": 16,
    "start_time": "2022-04-14T10:17:28.130Z"
   },
   {
    "duration": 54,
    "start_time": "2022-04-14T10:17:28.148Z"
   },
   {
    "duration": 39,
    "start_time": "2022-04-14T10:17:28.205Z"
   },
   {
    "duration": 25,
    "start_time": "2022-04-14T10:17:28.247Z"
   },
   {
    "duration": 38,
    "start_time": "2022-04-14T10:17:28.275Z"
   },
   {
    "duration": 69,
    "start_time": "2022-04-14T10:17:28.316Z"
   },
   {
    "duration": 24,
    "start_time": "2022-04-14T10:17:28.387Z"
   },
   {
    "duration": 5,
    "start_time": "2022-04-14T10:17:49.768Z"
   },
   {
    "duration": 4,
    "start_time": "2022-04-14T10:23:23.551Z"
   },
   {
    "duration": 6,
    "start_time": "2022-04-14T10:25:54.400Z"
   },
   {
    "duration": 7,
    "start_time": "2022-04-14T10:56:10.046Z"
   },
   {
    "duration": 6,
    "start_time": "2022-04-14T10:58:31.613Z"
   },
   {
    "duration": 185,
    "start_time": "2022-04-14T11:05:56.125Z"
   },
   {
    "duration": 6,
    "start_time": "2022-04-14T11:09:25.348Z"
   },
   {
    "duration": 11,
    "start_time": "2022-04-14T11:13:53.918Z"
   },
   {
    "duration": 6,
    "start_time": "2022-04-14T11:17:12.635Z"
   },
   {
    "duration": 8,
    "start_time": "2022-04-14T11:21:56.596Z"
   },
   {
    "duration": 4,
    "start_time": "2022-04-14T11:28:23.620Z"
   },
   {
    "duration": 8,
    "start_time": "2022-04-14T11:28:33.163Z"
   },
   {
    "duration": 8,
    "start_time": "2022-04-14T11:28:47.860Z"
   },
   {
    "duration": 9,
    "start_time": "2022-04-14T11:28:53.196Z"
   },
   {
    "duration": 8,
    "start_time": "2022-04-14T11:28:57.379Z"
   },
   {
    "duration": 7,
    "start_time": "2022-04-14T11:29:01.836Z"
   },
   {
    "duration": 6,
    "start_time": "2022-04-14T11:29:04.870Z"
   },
   {
    "duration": 708,
    "start_time": "2022-04-14T11:29:12.205Z"
   },
   {
    "duration": 23,
    "start_time": "2022-04-14T11:29:12.916Z"
   },
   {
    "duration": 32,
    "start_time": "2022-04-14T11:29:12.941Z"
   },
   {
    "duration": 18,
    "start_time": "2022-04-14T11:29:12.976Z"
   },
   {
    "duration": 8,
    "start_time": "2022-04-14T11:29:13.020Z"
   },
   {
    "duration": 22,
    "start_time": "2022-04-14T11:29:13.030Z"
   },
   {
    "duration": 8,
    "start_time": "2022-04-14T11:29:13.054Z"
   },
   {
    "duration": 15,
    "start_time": "2022-04-14T11:29:13.064Z"
   },
   {
    "duration": 38,
    "start_time": "2022-04-14T11:29:13.081Z"
   },
   {
    "duration": 6,
    "start_time": "2022-04-14T11:29:13.121Z"
   },
   {
    "duration": 16,
    "start_time": "2022-04-14T11:29:13.129Z"
   },
   {
    "duration": 14,
    "start_time": "2022-04-14T11:29:13.147Z"
   },
   {
    "duration": 76,
    "start_time": "2022-04-15T16:51:47.701Z"
   },
   {
    "duration": 644,
    "start_time": "2022-04-15T16:51:55.339Z"
   },
   {
    "duration": 23,
    "start_time": "2022-04-15T16:51:55.986Z"
   },
   {
    "duration": 21,
    "start_time": "2022-04-15T16:51:56.011Z"
   },
   {
    "duration": 13,
    "start_time": "2022-04-15T16:51:56.034Z"
   },
   {
    "duration": 36,
    "start_time": "2022-04-15T16:51:56.051Z"
   },
   {
    "duration": 15,
    "start_time": "2022-04-15T16:51:56.090Z"
   },
   {
    "duration": 7,
    "start_time": "2022-04-15T16:51:56.107Z"
   },
   {
    "duration": 8,
    "start_time": "2022-04-15T16:51:56.116Z"
   },
   {
    "duration": 14,
    "start_time": "2022-04-15T16:51:56.126Z"
   },
   {
    "duration": 6,
    "start_time": "2022-04-15T16:51:56.183Z"
   },
   {
    "duration": 9,
    "start_time": "2022-04-15T16:51:56.192Z"
   },
   {
    "duration": 18,
    "start_time": "2022-04-15T16:51:56.204Z"
   },
   {
    "duration": 11,
    "start_time": "2022-04-15T16:57:04.771Z"
   },
   {
    "duration": 7,
    "start_time": "2022-04-15T16:58:32.867Z"
   },
   {
    "duration": 8,
    "start_time": "2022-04-15T17:14:38.940Z"
   },
   {
    "duration": 107,
    "start_time": "2022-04-15T17:17:06.235Z"
   },
   {
    "duration": 17,
    "start_time": "2022-04-15T17:17:18.161Z"
   },
   {
    "duration": 14,
    "start_time": "2022-04-15T17:25:21.908Z"
   },
   {
    "duration": 14,
    "start_time": "2022-04-15T17:25:28.417Z"
   },
   {
    "duration": 15,
    "start_time": "2022-04-15T17:25:31.279Z"
   },
   {
    "duration": 14,
    "start_time": "2022-04-15T17:25:34.032Z"
   },
   {
    "duration": 12,
    "start_time": "2022-04-15T17:45:34.072Z"
   },
   {
    "duration": 14,
    "start_time": "2022-04-15T17:45:44.252Z"
   },
   {
    "duration": 12,
    "start_time": "2022-04-15T17:45:56.071Z"
   },
   {
    "duration": 12,
    "start_time": "2022-04-15T17:46:00.207Z"
   },
   {
    "duration": 14,
    "start_time": "2022-04-15T17:46:17.248Z"
   },
   {
    "duration": 19,
    "start_time": "2022-04-15T17:46:38.783Z"
   },
   {
    "duration": 16,
    "start_time": "2022-04-15T17:46:48.705Z"
   },
   {
    "duration": 13,
    "start_time": "2022-04-15T17:46:52.101Z"
   },
   {
    "duration": 13,
    "start_time": "2022-04-15T18:01:08.950Z"
   },
   {
    "duration": 12,
    "start_time": "2022-04-15T18:01:16.021Z"
   },
   {
    "duration": 120,
    "start_time": "2022-04-15T18:10:56.509Z"
   },
   {
    "duration": 9,
    "start_time": "2022-04-15T18:10:59.767Z"
   },
   {
    "duration": 10,
    "start_time": "2022-04-15T18:13:12.770Z"
   },
   {
    "duration": 13,
    "start_time": "2022-04-15T18:14:56.705Z"
   },
   {
    "duration": 11,
    "start_time": "2022-04-15T18:17:03.992Z"
   },
   {
    "duration": 18,
    "start_time": "2022-04-15T18:17:10.852Z"
   },
   {
    "duration": 19,
    "start_time": "2022-04-15T18:17:28.279Z"
   },
   {
    "duration": 17,
    "start_time": "2022-04-15T18:17:31.762Z"
   },
   {
    "duration": 32,
    "start_time": "2022-04-15T18:17:39.406Z"
   },
   {
    "duration": 26,
    "start_time": "2022-04-15T18:17:56.699Z"
   },
   {
    "duration": 24,
    "start_time": "2022-04-15T18:18:05.657Z"
   },
   {
    "duration": 24,
    "start_time": "2022-04-15T18:19:38.407Z"
   },
   {
    "duration": 21,
    "start_time": "2022-04-15T18:19:45.840Z"
   },
   {
    "duration": 20,
    "start_time": "2022-04-15T18:20:08.007Z"
   },
   {
    "duration": 14,
    "start_time": "2022-04-15T18:20:40.145Z"
   },
   {
    "duration": 13,
    "start_time": "2022-04-15T18:20:58.064Z"
   },
   {
    "duration": 8,
    "start_time": "2022-04-15T18:21:04.525Z"
   },
   {
    "duration": 6,
    "start_time": "2022-04-15T18:21:16.519Z"
   },
   {
    "duration": 630,
    "start_time": "2022-04-15T18:21:39.995Z"
   },
   {
    "duration": 21,
    "start_time": "2022-04-15T18:21:40.627Z"
   },
   {
    "duration": 43,
    "start_time": "2022-04-15T18:21:40.650Z"
   },
   {
    "duration": 17,
    "start_time": "2022-04-15T18:21:40.697Z"
   },
   {
    "duration": 13,
    "start_time": "2022-04-15T18:21:40.716Z"
   },
   {
    "duration": 18,
    "start_time": "2022-04-15T18:21:40.731Z"
   },
   {
    "duration": 37,
    "start_time": "2022-04-15T18:21:40.751Z"
   },
   {
    "duration": 8,
    "start_time": "2022-04-15T18:21:40.790Z"
   },
   {
    "duration": 15,
    "start_time": "2022-04-15T18:21:40.800Z"
   },
   {
    "duration": 6,
    "start_time": "2022-04-15T18:21:40.819Z"
   },
   {
    "duration": 10,
    "start_time": "2022-04-15T18:21:40.828Z"
   },
   {
    "duration": 12,
    "start_time": "2022-04-15T18:21:40.883Z"
   },
   {
    "duration": 7,
    "start_time": "2022-04-15T18:21:40.897Z"
   },
   {
    "duration": 22,
    "start_time": "2022-04-15T18:21:40.906Z"
   },
   {
    "duration": 5,
    "start_time": "2022-04-15T18:21:40.930Z"
   },
   {
    "duration": 6,
    "start_time": "2022-04-15T18:23:37.325Z"
   },
   {
    "duration": 9,
    "start_time": "2022-04-15T18:27:52.679Z"
   },
   {
    "duration": 7,
    "start_time": "2022-04-15T18:27:57.065Z"
   },
   {
    "duration": 4,
    "start_time": "2022-04-15T18:31:38.514Z"
   },
   {
    "duration": 1723,
    "start_time": "2022-04-15T18:32:46.941Z"
   },
   {
    "duration": 1813,
    "start_time": "2022-04-15T18:32:49.091Z"
   },
   {
    "duration": 8,
    "start_time": "2022-04-15T18:32:59.145Z"
   },
   {
    "duration": 6,
    "start_time": "2022-04-15T18:41:19.620Z"
   },
   {
    "duration": 7,
    "start_time": "2022-04-15T18:42:45.238Z"
   },
   {
    "duration": 6,
    "start_time": "2022-04-15T18:45:42.204Z"
   },
   {
    "duration": 8,
    "start_time": "2022-04-15T18:46:10.588Z"
   },
   {
    "duration": 6,
    "start_time": "2022-04-15T18:46:16.181Z"
   },
   {
    "duration": 7,
    "start_time": "2022-04-15T18:46:45.825Z"
   },
   {
    "duration": 17,
    "start_time": "2022-04-15T18:47:38.276Z"
   },
   {
    "duration": 22,
    "start_time": "2022-04-15T18:48:48.974Z"
   },
   {
    "duration": 9,
    "start_time": "2022-04-15T18:48:53.282Z"
   },
   {
    "duration": 7,
    "start_time": "2022-04-15T18:52:45.365Z"
   },
   {
    "duration": 6,
    "start_time": "2022-04-15T18:54:52.413Z"
   },
   {
    "duration": 7,
    "start_time": "2022-04-15T18:55:15.057Z"
   },
   {
    "duration": 8,
    "start_time": "2022-04-15T18:55:38.897Z"
   },
   {
    "duration": 7,
    "start_time": "2022-04-15T19:07:04.541Z"
   },
   {
    "duration": 488,
    "start_time": "2022-04-16T17:35:39.679Z"
   },
   {
    "duration": 13,
    "start_time": "2022-04-16T17:35:40.169Z"
   },
   {
    "duration": 17,
    "start_time": "2022-04-16T17:35:40.184Z"
   },
   {
    "duration": 11,
    "start_time": "2022-04-16T17:35:40.203Z"
   },
   {
    "duration": 23,
    "start_time": "2022-04-16T17:35:40.215Z"
   },
   {
    "duration": 14,
    "start_time": "2022-04-16T17:35:40.241Z"
   },
   {
    "duration": 7,
    "start_time": "2022-04-16T17:35:40.257Z"
   },
   {
    "duration": 7,
    "start_time": "2022-04-16T17:35:40.266Z"
   },
   {
    "duration": 13,
    "start_time": "2022-04-16T17:35:40.275Z"
   },
   {
    "duration": 46,
    "start_time": "2022-04-16T17:35:40.292Z"
   },
   {
    "duration": 14,
    "start_time": "2022-04-16T17:35:40.341Z"
   },
   {
    "duration": 9,
    "start_time": "2022-04-16T17:35:40.357Z"
   },
   {
    "duration": 8,
    "start_time": "2022-04-16T17:35:40.368Z"
   },
   {
    "duration": 9,
    "start_time": "2022-04-16T17:35:40.377Z"
   },
   {
    "duration": 2,
    "start_time": "2022-04-16T17:35:40.388Z"
   },
   {
    "duration": 8,
    "start_time": "2022-04-16T17:35:40.392Z"
   },
   {
    "duration": 9,
    "start_time": "2022-04-16T17:35:40.402Z"
   },
   {
    "duration": 41,
    "start_time": "2022-04-16T17:35:40.412Z"
   },
   {
    "duration": 8,
    "start_time": "2022-04-16T17:35:40.455Z"
   },
   {
    "duration": 7,
    "start_time": "2022-04-16T17:35:40.464Z"
   },
   {
    "duration": 8,
    "start_time": "2022-04-16T17:35:40.473Z"
   },
   {
    "duration": 9,
    "start_time": "2022-04-16T17:35:40.482Z"
   },
   {
    "duration": 7,
    "start_time": "2022-04-16T17:35:40.492Z"
   },
   {
    "duration": 7,
    "start_time": "2022-04-16T17:35:40.501Z"
   },
   {
    "duration": 11,
    "start_time": "2022-04-16T17:35:40.532Z"
   },
   {
    "duration": 424,
    "start_time": "2022-04-17T14:27:50.488Z"
   },
   {
    "duration": 12,
    "start_time": "2022-04-17T14:27:50.914Z"
   },
   {
    "duration": 23,
    "start_time": "2022-04-17T14:27:50.927Z"
   },
   {
    "duration": 8,
    "start_time": "2022-04-17T14:27:50.951Z"
   },
   {
    "duration": 6,
    "start_time": "2022-04-17T14:27:50.961Z"
   },
   {
    "duration": 8,
    "start_time": "2022-04-17T14:27:50.968Z"
   },
   {
    "duration": 5,
    "start_time": "2022-04-17T14:27:50.977Z"
   },
   {
    "duration": 6,
    "start_time": "2022-04-17T14:27:50.983Z"
   },
   {
    "duration": 8,
    "start_time": "2022-04-17T14:27:50.991Z"
   },
   {
    "duration": 12,
    "start_time": "2022-04-17T14:27:51.023Z"
   },
   {
    "duration": 7,
    "start_time": "2022-04-17T14:27:51.036Z"
   },
   {
    "duration": 7,
    "start_time": "2022-04-17T14:27:51.045Z"
   },
   {
    "duration": 11,
    "start_time": "2022-04-17T14:27:51.054Z"
   },
   {
    "duration": 14,
    "start_time": "2022-04-17T14:27:51.068Z"
   },
   {
    "duration": 3,
    "start_time": "2022-04-17T14:27:51.083Z"
   },
   {
    "duration": 11,
    "start_time": "2022-04-17T14:27:51.087Z"
   },
   {
    "duration": 30,
    "start_time": "2022-04-17T14:27:51.100Z"
   },
   {
    "duration": 13,
    "start_time": "2022-04-17T14:27:51.132Z"
   },
   {
    "duration": 14,
    "start_time": "2022-04-17T14:27:51.147Z"
   },
   {
    "duration": 7,
    "start_time": "2022-04-17T14:27:51.162Z"
   },
   {
    "duration": 20,
    "start_time": "2022-04-17T14:27:51.170Z"
   },
   {
    "duration": 14,
    "start_time": "2022-04-17T14:27:51.191Z"
   },
   {
    "duration": 20,
    "start_time": "2022-04-17T14:27:51.207Z"
   },
   {
    "duration": 20,
    "start_time": "2022-04-17T14:27:51.230Z"
   },
   {
    "duration": 25,
    "start_time": "2022-04-17T14:27:51.251Z"
   },
   {
    "duration": 7,
    "start_time": "2022-04-17T14:29:56.215Z"
   },
   {
    "duration": 8,
    "start_time": "2022-04-17T14:30:08.941Z"
   },
   {
    "duration": 7,
    "start_time": "2022-04-17T14:30:11.088Z"
   },
   {
    "duration": 459,
    "start_time": "2022-04-17T14:30:17.614Z"
   },
   {
    "duration": 11,
    "start_time": "2022-04-17T14:30:18.075Z"
   },
   {
    "duration": 18,
    "start_time": "2022-04-17T14:30:18.087Z"
   },
   {
    "duration": 8,
    "start_time": "2022-04-17T14:30:18.106Z"
   },
   {
    "duration": 10,
    "start_time": "2022-04-17T14:30:18.123Z"
   },
   {
    "duration": 14,
    "start_time": "2022-04-17T14:30:18.134Z"
   },
   {
    "duration": 5,
    "start_time": "2022-04-17T14:30:18.150Z"
   },
   {
    "duration": 4,
    "start_time": "2022-04-17T14:30:18.156Z"
   },
   {
    "duration": 10,
    "start_time": "2022-04-17T14:30:18.161Z"
   },
   {
    "duration": 9,
    "start_time": "2022-04-17T14:30:18.174Z"
   },
   {
    "duration": 5,
    "start_time": "2022-04-17T14:30:18.184Z"
   },
   {
    "duration": 7,
    "start_time": "2022-04-17T14:30:18.191Z"
   },
   {
    "duration": 26,
    "start_time": "2022-04-17T14:30:18.199Z"
   },
   {
    "duration": 10,
    "start_time": "2022-04-17T14:30:18.235Z"
   },
   {
    "duration": 3,
    "start_time": "2022-04-17T14:30:18.246Z"
   },
   {
    "duration": 6,
    "start_time": "2022-04-17T14:30:18.250Z"
   },
   {
    "duration": 6,
    "start_time": "2022-04-17T14:30:18.257Z"
   },
   {
    "duration": 6,
    "start_time": "2022-04-17T14:30:18.264Z"
   },
   {
    "duration": 3,
    "start_time": "2022-04-17T14:30:18.272Z"
   },
   {
    "duration": 5,
    "start_time": "2022-04-17T14:30:18.277Z"
   },
   {
    "duration": 5,
    "start_time": "2022-04-17T14:30:18.284Z"
   },
   {
    "duration": 34,
    "start_time": "2022-04-17T14:30:18.291Z"
   },
   {
    "duration": 4,
    "start_time": "2022-04-17T14:30:18.327Z"
   },
   {
    "duration": 13,
    "start_time": "2022-04-17T14:30:18.334Z"
   },
   {
    "duration": 9,
    "start_time": "2022-04-17T14:30:18.348Z"
   },
   {
    "duration": 6,
    "start_time": "2022-04-17T14:30:35.637Z"
   },
   {
    "duration": 4,
    "start_time": "2022-04-17T14:30:39.514Z"
   },
   {
    "duration": 4,
    "start_time": "2022-04-17T14:31:31.902Z"
   },
   {
    "duration": 61,
    "start_time": "2022-04-17T14:31:35.802Z"
   },
   {
    "duration": 5,
    "start_time": "2022-04-17T14:31:43.582Z"
   },
   {
    "duration": 6,
    "start_time": "2022-04-17T14:50:08.159Z"
   },
   {
    "duration": 12,
    "start_time": "2022-04-17T14:50:16.763Z"
   },
   {
    "duration": 12,
    "start_time": "2022-04-17T14:50:29.183Z"
   },
   {
    "duration": 128,
    "start_time": "2022-04-17T14:50:57.310Z"
   },
   {
    "duration": 8,
    "start_time": "2022-04-17T14:55:41.803Z"
   },
   {
    "duration": 7,
    "start_time": "2022-04-17T14:55:44.474Z"
   },
   {
    "duration": 427,
    "start_time": "2022-04-17T14:55:49.773Z"
   },
   {
    "duration": 11,
    "start_time": "2022-04-17T14:55:50.202Z"
   },
   {
    "duration": 24,
    "start_time": "2022-04-17T14:55:50.215Z"
   },
   {
    "duration": 9,
    "start_time": "2022-04-17T14:55:50.241Z"
   },
   {
    "duration": 14,
    "start_time": "2022-04-17T14:55:50.252Z"
   },
   {
    "duration": 9,
    "start_time": "2022-04-17T14:55:50.267Z"
   },
   {
    "duration": 6,
    "start_time": "2022-04-17T14:55:50.278Z"
   },
   {
    "duration": 6,
    "start_time": "2022-04-17T14:55:50.285Z"
   },
   {
    "duration": 41,
    "start_time": "2022-04-17T14:55:50.293Z"
   },
   {
    "duration": 13,
    "start_time": "2022-04-17T14:55:50.337Z"
   },
   {
    "duration": 4,
    "start_time": "2022-04-17T14:55:50.352Z"
   },
   {
    "duration": 7,
    "start_time": "2022-04-17T14:55:50.357Z"
   },
   {
    "duration": 11,
    "start_time": "2022-04-17T14:55:50.366Z"
   },
   {
    "duration": 4,
    "start_time": "2022-04-17T14:55:50.379Z"
   },
   {
    "duration": 6,
    "start_time": "2022-04-17T14:55:50.384Z"
   },
   {
    "duration": 37,
    "start_time": "2022-04-17T14:55:50.391Z"
   },
   {
    "duration": 14,
    "start_time": "2022-04-17T14:55:50.430Z"
   },
   {
    "duration": 5,
    "start_time": "2022-04-17T14:55:50.447Z"
   },
   {
    "duration": 9,
    "start_time": "2022-04-17T14:55:50.453Z"
   },
   {
    "duration": 4,
    "start_time": "2022-04-17T14:55:50.464Z"
   },
   {
    "duration": 6,
    "start_time": "2022-04-17T14:55:50.470Z"
   },
   {
    "duration": 8,
    "start_time": "2022-04-17T14:55:50.478Z"
   },
   {
    "duration": 40,
    "start_time": "2022-04-17T14:55:50.488Z"
   },
   {
    "duration": 10,
    "start_time": "2022-04-17T14:55:50.530Z"
   },
   {
    "duration": 8,
    "start_time": "2022-04-17T14:55:50.542Z"
   },
   {
    "duration": 10,
    "start_time": "2022-04-17T14:55:50.552Z"
   },
   {
    "duration": 18,
    "start_time": "2022-04-17T14:56:05.639Z"
   },
   {
    "duration": 8,
    "start_time": "2022-04-17T15:29:05.142Z"
   },
   {
    "duration": 10,
    "start_time": "2022-04-17T15:29:20.123Z"
   },
   {
    "duration": 462,
    "start_time": "2022-04-17T15:29:34.720Z"
   },
   {
    "duration": 18,
    "start_time": "2022-04-17T15:29:35.184Z"
   },
   {
    "duration": 21,
    "start_time": "2022-04-17T15:29:35.203Z"
   },
   {
    "duration": 14,
    "start_time": "2022-04-17T15:29:35.228Z"
   },
   {
    "duration": 6,
    "start_time": "2022-04-17T15:29:35.244Z"
   },
   {
    "duration": 17,
    "start_time": "2022-04-17T15:29:35.251Z"
   },
   {
    "duration": 5,
    "start_time": "2022-04-17T15:29:35.269Z"
   },
   {
    "duration": 7,
    "start_time": "2022-04-17T15:29:35.275Z"
   },
   {
    "duration": 13,
    "start_time": "2022-04-17T15:29:35.284Z"
   },
   {
    "duration": 41,
    "start_time": "2022-04-17T15:29:35.299Z"
   },
   {
    "duration": 5,
    "start_time": "2022-04-17T15:29:35.341Z"
   },
   {
    "duration": 11,
    "start_time": "2022-04-17T15:29:35.348Z"
   },
   {
    "duration": 15,
    "start_time": "2022-04-17T15:29:35.361Z"
   },
   {
    "duration": 5,
    "start_time": "2022-04-17T15:29:35.380Z"
   },
   {
    "duration": 8,
    "start_time": "2022-04-17T15:29:35.386Z"
   },
   {
    "duration": 39,
    "start_time": "2022-04-17T15:29:35.396Z"
   },
   {
    "duration": 12,
    "start_time": "2022-04-17T15:29:35.436Z"
   },
   {
    "duration": 7,
    "start_time": "2022-04-17T15:29:35.450Z"
   },
   {
    "duration": 7,
    "start_time": "2022-04-17T15:29:35.458Z"
   },
   {
    "duration": 10,
    "start_time": "2022-04-17T15:29:35.466Z"
   },
   {
    "duration": 7,
    "start_time": "2022-04-17T15:29:35.477Z"
   },
   {
    "duration": 7,
    "start_time": "2022-04-17T15:29:35.485Z"
   },
   {
    "duration": 9,
    "start_time": "2022-04-17T15:29:35.494Z"
   },
   {
    "duration": 20,
    "start_time": "2022-04-17T15:29:35.505Z"
   },
   {
    "duration": 16,
    "start_time": "2022-04-17T15:29:35.527Z"
   },
   {
    "duration": 6,
    "start_time": "2022-04-17T15:29:35.544Z"
   },
   {
    "duration": 9,
    "start_time": "2022-04-17T15:32:55.995Z"
   },
   {
    "duration": 475,
    "start_time": "2022-04-17T15:33:05.598Z"
   },
   {
    "duration": 12,
    "start_time": "2022-04-17T15:33:06.074Z"
   },
   {
    "duration": 29,
    "start_time": "2022-04-17T15:33:06.088Z"
   },
   {
    "duration": 16,
    "start_time": "2022-04-17T15:33:06.123Z"
   },
   {
    "duration": 7,
    "start_time": "2022-04-17T15:33:06.143Z"
   },
   {
    "duration": 10,
    "start_time": "2022-04-17T15:33:06.152Z"
   },
   {
    "duration": 7,
    "start_time": "2022-04-17T15:33:06.163Z"
   },
   {
    "duration": 6,
    "start_time": "2022-04-17T15:33:06.172Z"
   },
   {
    "duration": 11,
    "start_time": "2022-04-17T15:33:06.179Z"
   },
   {
    "duration": 42,
    "start_time": "2022-04-17T15:33:06.191Z"
   },
   {
    "duration": 5,
    "start_time": "2022-04-17T15:33:06.241Z"
   },
   {
    "duration": 7,
    "start_time": "2022-04-17T15:33:06.247Z"
   },
   {
    "duration": 8,
    "start_time": "2022-04-17T15:33:06.255Z"
   },
   {
    "duration": 4,
    "start_time": "2022-04-17T15:33:06.267Z"
   },
   {
    "duration": 11,
    "start_time": "2022-04-17T15:33:06.273Z"
   },
   {
    "duration": 17,
    "start_time": "2022-04-17T15:33:06.286Z"
   },
   {
    "duration": 26,
    "start_time": "2022-04-17T15:33:06.304Z"
   },
   {
    "duration": 13,
    "start_time": "2022-04-17T15:33:06.332Z"
   },
   {
    "duration": 6,
    "start_time": "2022-04-17T15:33:06.347Z"
   },
   {
    "duration": 5,
    "start_time": "2022-04-17T15:33:06.354Z"
   },
   {
    "duration": 9,
    "start_time": "2022-04-17T15:33:06.361Z"
   },
   {
    "duration": 13,
    "start_time": "2022-04-17T15:33:06.372Z"
   },
   {
    "duration": 19,
    "start_time": "2022-04-17T15:33:06.386Z"
   },
   {
    "duration": 43,
    "start_time": "2022-04-17T15:33:06.407Z"
   },
   {
    "duration": 7,
    "start_time": "2022-04-17T15:33:06.452Z"
   },
   {
    "duration": 7,
    "start_time": "2022-04-17T15:33:06.461Z"
   },
   {
    "duration": 2,
    "start_time": "2022-04-17T15:34:51.755Z"
   },
   {
    "duration": 18,
    "start_time": "2022-04-17T15:35:07.529Z"
   },
   {
    "duration": 26,
    "start_time": "2022-04-17T15:35:13.728Z"
   },
   {
    "duration": 474,
    "start_time": "2022-04-17T15:35:22.906Z"
   },
   {
    "duration": 11,
    "start_time": "2022-04-17T15:35:23.382Z"
   },
   {
    "duration": 15,
    "start_time": "2022-04-17T15:35:23.394Z"
   },
   {
    "duration": 29,
    "start_time": "2022-04-17T15:35:23.411Z"
   },
   {
    "duration": 7,
    "start_time": "2022-04-17T15:35:23.442Z"
   },
   {
    "duration": 9,
    "start_time": "2022-04-17T15:35:23.451Z"
   },
   {
    "duration": 6,
    "start_time": "2022-04-17T15:35:23.461Z"
   },
   {
    "duration": 26,
    "start_time": "2022-04-17T15:35:23.469Z"
   },
   {
    "duration": 12,
    "start_time": "2022-04-17T15:35:23.496Z"
   },
   {
    "duration": 27,
    "start_time": "2022-04-17T15:35:23.509Z"
   },
   {
    "duration": 4,
    "start_time": "2022-04-17T15:35:23.539Z"
   },
   {
    "duration": 8,
    "start_time": "2022-04-17T15:35:23.545Z"
   },
   {
    "duration": 14,
    "start_time": "2022-04-17T15:35:23.555Z"
   },
   {
    "duration": 7,
    "start_time": "2022-04-17T15:35:23.571Z"
   },
   {
    "duration": 9,
    "start_time": "2022-04-17T15:35:23.580Z"
   },
   {
    "duration": 7,
    "start_time": "2022-04-17T15:35:23.590Z"
   },
   {
    "duration": 28,
    "start_time": "2022-04-17T15:35:23.598Z"
   },
   {
    "duration": 7,
    "start_time": "2022-04-17T15:35:23.629Z"
   },
   {
    "duration": 16,
    "start_time": "2022-04-17T15:35:23.638Z"
   },
   {
    "duration": 6,
    "start_time": "2022-04-17T15:35:23.655Z"
   },
   {
    "duration": 7,
    "start_time": "2022-04-17T15:35:23.662Z"
   },
   {
    "duration": 7,
    "start_time": "2022-04-17T15:35:23.671Z"
   },
   {
    "duration": 19,
    "start_time": "2022-04-17T15:35:23.679Z"
   },
   {
    "duration": 19,
    "start_time": "2022-04-17T15:35:23.699Z"
   },
   {
    "duration": 11,
    "start_time": "2022-04-17T15:35:23.719Z"
   },
   {
    "duration": 13,
    "start_time": "2022-04-17T15:35:23.732Z"
   },
   {
    "duration": 16,
    "start_time": "2022-04-17T15:39:10.772Z"
   },
   {
    "duration": 11,
    "start_time": "2022-04-17T15:39:37.683Z"
   },
   {
    "duration": 5,
    "start_time": "2022-04-17T15:39:45.849Z"
   },
   {
    "duration": 450,
    "start_time": "2022-04-17T15:40:00.191Z"
   },
   {
    "duration": 13,
    "start_time": "2022-04-17T15:40:00.643Z"
   },
   {
    "duration": 24,
    "start_time": "2022-04-17T15:40:00.657Z"
   },
   {
    "duration": 13,
    "start_time": "2022-04-17T15:40:00.683Z"
   },
   {
    "duration": 20,
    "start_time": "2022-04-17T15:40:00.698Z"
   },
   {
    "duration": 17,
    "start_time": "2022-04-17T15:40:00.720Z"
   },
   {
    "duration": 19,
    "start_time": "2022-04-17T15:40:00.739Z"
   },
   {
    "duration": 8,
    "start_time": "2022-04-17T15:40:00.760Z"
   },
   {
    "duration": 15,
    "start_time": "2022-04-17T15:40:00.769Z"
   },
   {
    "duration": 10,
    "start_time": "2022-04-17T15:40:00.787Z"
   },
   {
    "duration": 10,
    "start_time": "2022-04-17T15:40:00.799Z"
   },
   {
    "duration": 9,
    "start_time": "2022-04-17T15:40:00.810Z"
   },
   {
    "duration": 31,
    "start_time": "2022-04-17T15:40:00.821Z"
   },
   {
    "duration": 18,
    "start_time": "2022-04-17T15:40:00.854Z"
   },
   {
    "duration": 14,
    "start_time": "2022-04-17T15:40:00.873Z"
   },
   {
    "duration": 24,
    "start_time": "2022-04-17T15:40:00.888Z"
   },
   {
    "duration": 31,
    "start_time": "2022-04-17T15:40:00.914Z"
   },
   {
    "duration": 9,
    "start_time": "2022-04-17T15:40:00.946Z"
   },
   {
    "duration": 10,
    "start_time": "2022-04-17T15:40:00.957Z"
   },
   {
    "duration": 8,
    "start_time": "2022-04-17T15:40:00.969Z"
   },
   {
    "duration": 8,
    "start_time": "2022-04-17T15:40:00.979Z"
   },
   {
    "duration": 22,
    "start_time": "2022-04-17T15:40:00.988Z"
   },
   {
    "duration": 14,
    "start_time": "2022-04-17T15:40:01.012Z"
   },
   {
    "duration": 15,
    "start_time": "2022-04-17T15:40:01.032Z"
   },
   {
    "duration": 16,
    "start_time": "2022-04-17T15:40:01.049Z"
   },
   {
    "duration": 7,
    "start_time": "2022-04-17T15:40:01.067Z"
   },
   {
    "duration": 4,
    "start_time": "2022-04-17T15:52:17.319Z"
   },
   {
    "duration": 7,
    "start_time": "2022-04-17T15:52:30.421Z"
   },
   {
    "duration": 7,
    "start_time": "2022-04-17T15:57:19.223Z"
   },
   {
    "duration": 7,
    "start_time": "2022-04-17T15:58:25.020Z"
   },
   {
    "duration": 8,
    "start_time": "2022-04-17T15:58:49.067Z"
   },
   {
    "duration": 139,
    "start_time": "2022-04-17T15:59:00.684Z"
   },
   {
    "duration": 139,
    "start_time": "2022-04-17T15:59:09.923Z"
   },
   {
    "duration": 13,
    "start_time": "2022-04-17T15:59:12.832Z"
   },
   {
    "duration": 138,
    "start_time": "2022-04-17T15:59:24.341Z"
   },
   {
    "duration": 147,
    "start_time": "2022-04-17T15:59:33.959Z"
   },
   {
    "duration": 9,
    "start_time": "2022-04-17T15:59:43.895Z"
   },
   {
    "duration": 10,
    "start_time": "2022-04-17T15:59:48.044Z"
   },
   {
    "duration": 15,
    "start_time": "2022-04-17T16:02:32.314Z"
   },
   {
    "duration": 16,
    "start_time": "2022-04-17T16:05:21.104Z"
   },
   {
    "duration": 446,
    "start_time": "2022-04-17T16:05:29.422Z"
   },
   {
    "duration": 12,
    "start_time": "2022-04-17T16:05:29.869Z"
   },
   {
    "duration": 16,
    "start_time": "2022-04-17T16:05:29.882Z"
   },
   {
    "duration": 23,
    "start_time": "2022-04-17T16:05:29.900Z"
   },
   {
    "duration": 5,
    "start_time": "2022-04-17T16:05:29.925Z"
   },
   {
    "duration": 14,
    "start_time": "2022-04-17T16:05:29.931Z"
   },
   {
    "duration": 8,
    "start_time": "2022-04-17T16:05:29.946Z"
   },
   {
    "duration": 5,
    "start_time": "2022-04-17T16:05:29.956Z"
   },
   {
    "duration": 9,
    "start_time": "2022-04-17T16:05:29.963Z"
   },
   {
    "duration": 11,
    "start_time": "2022-04-17T16:05:29.975Z"
   },
   {
    "duration": 38,
    "start_time": "2022-04-17T16:05:29.987Z"
   },
   {
    "duration": 7,
    "start_time": "2022-04-17T16:05:30.027Z"
   },
   {
    "duration": 9,
    "start_time": "2022-04-17T16:05:30.036Z"
   },
   {
    "duration": 10,
    "start_time": "2022-04-17T16:05:30.046Z"
   },
   {
    "duration": 8,
    "start_time": "2022-04-17T16:05:30.057Z"
   },
   {
    "duration": 9,
    "start_time": "2022-04-17T16:05:30.067Z"
   },
   {
    "duration": 13,
    "start_time": "2022-04-17T16:05:30.077Z"
   },
   {
    "duration": 5,
    "start_time": "2022-04-17T16:05:30.092Z"
   },
   {
    "duration": 26,
    "start_time": "2022-04-17T16:05:30.099Z"
   },
   {
    "duration": 4,
    "start_time": "2022-04-17T16:05:30.127Z"
   },
   {
    "duration": 13,
    "start_time": "2022-04-17T16:05:30.133Z"
   },
   {
    "duration": 19,
    "start_time": "2022-04-17T16:05:30.148Z"
   },
   {
    "duration": 17,
    "start_time": "2022-04-17T16:05:30.168Z"
   },
   {
    "duration": 12,
    "start_time": "2022-04-17T16:05:30.186Z"
   },
   {
    "duration": 20,
    "start_time": "2022-04-17T16:05:30.199Z"
   },
   {
    "duration": 27,
    "start_time": "2022-04-17T16:05:30.221Z"
   },
   {
    "duration": 31,
    "start_time": "2022-04-17T16:05:30.250Z"
   },
   {
    "duration": 14,
    "start_time": "2022-04-17T16:06:04.132Z"
   },
   {
    "duration": 24,
    "start_time": "2022-04-17T16:14:25.010Z"
   },
   {
    "duration": 55,
    "start_time": "2022-04-17T16:15:42.561Z"
   },
   {
    "duration": 27,
    "start_time": "2022-04-17T16:15:47.670Z"
   },
   {
    "duration": 136,
    "start_time": "2022-04-17T16:16:03.905Z"
   },
   {
    "duration": 6,
    "start_time": "2022-04-17T16:20:06.678Z"
   },
   {
    "duration": 16,
    "start_time": "2022-04-17T16:29:20.392Z"
   },
   {
    "duration": 6,
    "start_time": "2022-04-17T16:29:46.659Z"
   },
   {
    "duration": 6,
    "start_time": "2022-04-17T16:31:21.397Z"
   },
   {
    "duration": 23,
    "start_time": "2022-04-17T16:33:15.018Z"
   },
   {
    "duration": 22,
    "start_time": "2022-04-17T16:33:21.692Z"
   },
   {
    "duration": 428,
    "start_time": "2022-04-17T16:34:09.794Z"
   },
   {
    "duration": 15,
    "start_time": "2022-04-17T16:34:10.223Z"
   },
   {
    "duration": 14,
    "start_time": "2022-04-17T16:34:10.241Z"
   },
   {
    "duration": 8,
    "start_time": "2022-04-17T16:34:10.256Z"
   },
   {
    "duration": 5,
    "start_time": "2022-04-17T16:34:10.266Z"
   },
   {
    "duration": 8,
    "start_time": "2022-04-17T16:34:10.273Z"
   },
   {
    "duration": 6,
    "start_time": "2022-04-17T16:34:10.282Z"
   },
   {
    "duration": 37,
    "start_time": "2022-04-17T16:34:10.289Z"
   },
   {
    "duration": 18,
    "start_time": "2022-04-17T16:34:10.329Z"
   },
   {
    "duration": 14,
    "start_time": "2022-04-17T16:34:10.350Z"
   },
   {
    "duration": 4,
    "start_time": "2022-04-17T16:34:10.366Z"
   },
   {
    "duration": 7,
    "start_time": "2022-04-17T16:34:10.371Z"
   },
   {
    "duration": 7,
    "start_time": "2022-04-17T16:34:10.379Z"
   },
   {
    "duration": 4,
    "start_time": "2022-04-17T16:34:10.388Z"
   },
   {
    "duration": 6,
    "start_time": "2022-04-17T16:34:10.393Z"
   },
   {
    "duration": 6,
    "start_time": "2022-04-17T16:34:10.423Z"
   },
   {
    "duration": 12,
    "start_time": "2022-04-17T16:34:10.432Z"
   },
   {
    "duration": 4,
    "start_time": "2022-04-17T16:34:10.446Z"
   },
   {
    "duration": 6,
    "start_time": "2022-04-17T16:34:10.452Z"
   },
   {
    "duration": 4,
    "start_time": "2022-04-17T16:34:10.460Z"
   },
   {
    "duration": 6,
    "start_time": "2022-04-17T16:34:10.466Z"
   },
   {
    "duration": 7,
    "start_time": "2022-04-17T16:34:10.474Z"
   },
   {
    "duration": 8,
    "start_time": "2022-04-17T16:34:10.482Z"
   },
   {
    "duration": 4,
    "start_time": "2022-04-17T16:34:10.492Z"
   },
   {
    "duration": 9,
    "start_time": "2022-04-17T16:34:10.527Z"
   },
   {
    "duration": 6,
    "start_time": "2022-04-17T16:34:10.538Z"
   },
   {
    "duration": 14,
    "start_time": "2022-04-17T16:34:10.545Z"
   },
   {
    "duration": 14,
    "start_time": "2022-04-17T16:34:10.562Z"
   },
   {
    "duration": 16,
    "start_time": "2022-04-17T16:34:10.577Z"
   },
   {
    "duration": 60,
    "start_time": "2022-04-17T16:34:10.595Z"
   },
   {
    "duration": 68,
    "start_time": "2022-04-17T16:39:51.818Z"
   },
   {
    "duration": 35,
    "start_time": "2022-04-17T16:40:00.823Z"
   },
   {
    "duration": 27,
    "start_time": "2022-04-17T16:40:06.591Z"
   },
   {
    "duration": 26,
    "start_time": "2022-04-17T16:41:54.664Z"
   },
   {
    "duration": 124,
    "start_time": "2022-04-17T16:42:54.903Z"
   },
   {
    "duration": 27,
    "start_time": "2022-04-17T16:43:16.020Z"
   },
   {
    "duration": 2,
    "start_time": "2022-04-17T16:45:01.649Z"
   },
   {
    "duration": 6,
    "start_time": "2022-04-17T16:45:26.532Z"
   },
   {
    "duration": 7,
    "start_time": "2022-04-17T16:45:32.071Z"
   },
   {
    "duration": 22,
    "start_time": "2022-04-17T16:45:34.909Z"
   },
   {
    "duration": 158,
    "start_time": "2022-04-17T16:45:49.208Z"
   },
   {
    "duration": 27,
    "start_time": "2022-04-17T16:46:04.299Z"
   },
   {
    "duration": 7,
    "start_time": "2022-04-17T16:47:00.034Z"
   },
   {
    "duration": 17,
    "start_time": "2022-04-17T16:48:57.292Z"
   },
   {
    "duration": 16,
    "start_time": "2022-04-17T16:49:35.237Z"
   },
   {
    "duration": 9,
    "start_time": "2022-04-17T17:05:01.906Z"
   },
   {
    "duration": 9,
    "start_time": "2022-04-17T17:05:50.993Z"
   },
   {
    "duration": 12,
    "start_time": "2022-04-17T17:06:14.611Z"
   },
   {
    "duration": 14,
    "start_time": "2022-04-17T17:06:27.164Z"
   },
   {
    "duration": 2240,
    "start_time": "2022-04-17T17:07:58.187Z"
   },
   {
    "duration": 3,
    "start_time": "2022-04-17T17:08:10.767Z"
   },
   {
    "duration": 2322,
    "start_time": "2022-04-17T17:08:22.762Z"
   },
   {
    "duration": 2156,
    "start_time": "2022-04-17T17:08:30.405Z"
   },
   {
    "duration": 12,
    "start_time": "2022-04-17T17:10:35.963Z"
   },
   {
    "duration": 403,
    "start_time": "2022-04-17T17:11:12.074Z"
   },
   {
    "duration": 12,
    "start_time": "2022-04-17T17:11:12.479Z"
   },
   {
    "duration": 14,
    "start_time": "2022-04-17T17:11:12.492Z"
   },
   {
    "duration": 16,
    "start_time": "2022-04-17T17:11:12.508Z"
   },
   {
    "duration": 5,
    "start_time": "2022-04-17T17:11:12.526Z"
   },
   {
    "duration": 10,
    "start_time": "2022-04-17T17:11:12.533Z"
   },
   {
    "duration": 5,
    "start_time": "2022-04-17T17:11:12.545Z"
   },
   {
    "duration": 6,
    "start_time": "2022-04-17T17:11:12.551Z"
   },
   {
    "duration": 12,
    "start_time": "2022-04-17T17:11:12.558Z"
   },
   {
    "duration": 11,
    "start_time": "2022-04-17T17:11:12.572Z"
   },
   {
    "duration": 4,
    "start_time": "2022-04-17T17:11:12.585Z"
   },
   {
    "duration": 6,
    "start_time": "2022-04-17T17:11:12.623Z"
   },
   {
    "duration": 13,
    "start_time": "2022-04-17T17:11:12.631Z"
   },
   {
    "duration": 5,
    "start_time": "2022-04-17T17:11:12.647Z"
   },
   {
    "duration": 7,
    "start_time": "2022-04-17T17:11:12.653Z"
   },
   {
    "duration": 3,
    "start_time": "2022-04-17T17:11:12.662Z"
   },
   {
    "duration": 7,
    "start_time": "2022-04-17T17:11:12.666Z"
   },
   {
    "duration": 4,
    "start_time": "2022-04-17T17:11:12.674Z"
   },
   {
    "duration": 7,
    "start_time": "2022-04-17T17:11:12.679Z"
   },
   {
    "duration": 36,
    "start_time": "2022-04-17T17:11:12.688Z"
   },
   {
    "duration": 6,
    "start_time": "2022-04-17T17:11:12.726Z"
   },
   {
    "duration": 10,
    "start_time": "2022-04-17T17:11:12.734Z"
   },
   {
    "duration": 7,
    "start_time": "2022-04-17T17:11:12.745Z"
   },
   {
    "duration": 17,
    "start_time": "2022-04-17T17:11:12.753Z"
   },
   {
    "duration": 10,
    "start_time": "2022-04-17T17:11:12.771Z"
   },
   {
    "duration": 5,
    "start_time": "2022-04-17T17:11:12.782Z"
   },
   {
    "duration": 35,
    "start_time": "2022-04-17T17:11:12.789Z"
   },
   {
    "duration": 13,
    "start_time": "2022-04-17T17:11:12.825Z"
   },
   {
    "duration": 15,
    "start_time": "2022-04-17T17:11:12.840Z"
   },
   {
    "duration": 17,
    "start_time": "2022-04-17T17:11:12.856Z"
   },
   {
    "duration": 14,
    "start_time": "2022-04-17T17:11:12.875Z"
   },
   {
    "duration": 38,
    "start_time": "2022-04-17T17:11:12.890Z"
   },
   {
    "duration": 13,
    "start_time": "2022-04-17T17:11:12.930Z"
   },
   {
    "duration": 63,
    "start_time": "2022-04-17T17:22:12.225Z"
   },
   {
    "duration": 16,
    "start_time": "2022-04-17T17:22:15.335Z"
   },
   {
    "duration": 17,
    "start_time": "2022-04-17T17:36:56.437Z"
   },
   {
    "duration": 17,
    "start_time": "2022-04-17T17:37:19.663Z"
   },
   {
    "duration": 23,
    "start_time": "2022-04-17T17:41:57.915Z"
   },
   {
    "duration": 17,
    "start_time": "2022-04-17T17:47:17.776Z"
   },
   {
    "duration": 45,
    "start_time": "2022-04-18T06:07:33.645Z"
   },
   {
    "duration": 7,
    "start_time": "2022-04-18T06:07:46.802Z"
   },
   {
    "duration": 452,
    "start_time": "2022-04-18T06:07:56.297Z"
   },
   {
    "duration": 18,
    "start_time": "2022-04-18T06:07:56.752Z"
   },
   {
    "duration": 37,
    "start_time": "2022-04-18T06:07:56.772Z"
   },
   {
    "duration": 14,
    "start_time": "2022-04-18T06:07:56.812Z"
   },
   {
    "duration": 11,
    "start_time": "2022-04-18T06:07:56.828Z"
   },
   {
    "duration": 30,
    "start_time": "2022-04-18T06:07:56.840Z"
   },
   {
    "duration": 8,
    "start_time": "2022-04-18T06:07:56.872Z"
   },
   {
    "duration": 13,
    "start_time": "2022-04-18T06:07:56.882Z"
   },
   {
    "duration": 19,
    "start_time": "2022-04-18T06:07:56.898Z"
   },
   {
    "duration": 20,
    "start_time": "2022-04-18T06:07:56.920Z"
   },
   {
    "duration": 5,
    "start_time": "2022-04-18T06:07:56.954Z"
   },
   {
    "duration": 8,
    "start_time": "2022-04-18T06:07:56.960Z"
   },
   {
    "duration": 10,
    "start_time": "2022-04-18T06:07:56.970Z"
   },
   {
    "duration": 5,
    "start_time": "2022-04-18T06:07:56.982Z"
   },
   {
    "duration": 9,
    "start_time": "2022-04-18T06:07:56.988Z"
   },
   {
    "duration": 17,
    "start_time": "2022-04-18T06:07:56.998Z"
   },
   {
    "duration": 14,
    "start_time": "2022-04-18T06:07:57.017Z"
   },
   {
    "duration": 11,
    "start_time": "2022-04-18T06:07:57.032Z"
   },
   {
    "duration": 14,
    "start_time": "2022-04-18T06:07:57.044Z"
   },
   {
    "duration": 6,
    "start_time": "2022-04-18T06:07:57.059Z"
   },
   {
    "duration": 5,
    "start_time": "2022-04-18T06:07:57.067Z"
   },
   {
    "duration": 7,
    "start_time": "2022-04-18T06:07:57.074Z"
   },
   {
    "duration": 10,
    "start_time": "2022-04-18T06:07:57.082Z"
   },
   {
    "duration": 4,
    "start_time": "2022-04-18T06:07:57.094Z"
   },
   {
    "duration": 8,
    "start_time": "2022-04-18T06:07:57.100Z"
   },
   {
    "duration": 48,
    "start_time": "2022-04-18T06:07:57.110Z"
   },
   {
    "duration": 16,
    "start_time": "2022-04-18T06:07:57.160Z"
   },
   {
    "duration": 13,
    "start_time": "2022-04-18T06:07:57.181Z"
   },
   {
    "duration": 24,
    "start_time": "2022-04-18T06:07:57.196Z"
   },
   {
    "duration": 44,
    "start_time": "2022-04-18T06:07:57.221Z"
   },
   {
    "duration": 17,
    "start_time": "2022-04-18T06:07:57.266Z"
   },
   {
    "duration": 13,
    "start_time": "2022-04-18T06:07:57.285Z"
   },
   {
    "duration": 16,
    "start_time": "2022-04-18T06:07:57.299Z"
   },
   {
    "duration": 41,
    "start_time": "2022-04-18T06:07:57.317Z"
   },
   {
    "duration": 21,
    "start_time": "2022-04-18T06:07:57.360Z"
   },
   {
    "duration": 83,
    "start_time": "2022-04-18T06:07:57.383Z"
   },
   {
    "duration": 15,
    "start_time": "2022-04-18T06:19:12.520Z"
   },
   {
    "duration": 15,
    "start_time": "2022-04-18T06:20:55.817Z"
   },
   {
    "duration": 11,
    "start_time": "2022-04-18T06:23:32.535Z"
   },
   {
    "duration": 468,
    "start_time": "2022-04-18T06:23:41.116Z"
   },
   {
    "duration": 12,
    "start_time": "2022-04-18T06:23:41.586Z"
   },
   {
    "duration": 15,
    "start_time": "2022-04-18T06:23:41.600Z"
   },
   {
    "duration": 9,
    "start_time": "2022-04-18T06:23:41.617Z"
   },
   {
    "duration": 7,
    "start_time": "2022-04-18T06:23:41.627Z"
   },
   {
    "duration": 27,
    "start_time": "2022-04-18T06:23:41.635Z"
   },
   {
    "duration": 10,
    "start_time": "2022-04-18T06:23:41.664Z"
   },
   {
    "duration": 11,
    "start_time": "2022-04-18T06:23:41.675Z"
   },
   {
    "duration": 12,
    "start_time": "2022-04-18T06:23:41.687Z"
   },
   {
    "duration": 13,
    "start_time": "2022-04-18T06:23:41.702Z"
   },
   {
    "duration": 4,
    "start_time": "2022-04-18T06:23:41.717Z"
   },
   {
    "duration": 33,
    "start_time": "2022-04-18T06:23:41.722Z"
   },
   {
    "duration": 7,
    "start_time": "2022-04-18T06:23:41.756Z"
   },
   {
    "duration": 4,
    "start_time": "2022-04-18T06:23:41.765Z"
   },
   {
    "duration": 6,
    "start_time": "2022-04-18T06:23:41.770Z"
   },
   {
    "duration": 7,
    "start_time": "2022-04-18T06:23:41.777Z"
   },
   {
    "duration": 7,
    "start_time": "2022-04-18T06:23:41.785Z"
   },
   {
    "duration": 4,
    "start_time": "2022-04-18T06:23:41.793Z"
   },
   {
    "duration": 7,
    "start_time": "2022-04-18T06:23:41.799Z"
   },
   {
    "duration": 4,
    "start_time": "2022-04-18T06:23:41.808Z"
   },
   {
    "duration": 8,
    "start_time": "2022-04-18T06:23:41.813Z"
   },
   {
    "duration": 37,
    "start_time": "2022-04-18T06:23:41.822Z"
   },
   {
    "duration": 8,
    "start_time": "2022-04-18T06:23:41.861Z"
   },
   {
    "duration": 5,
    "start_time": "2022-04-18T06:23:41.870Z"
   },
   {
    "duration": 6,
    "start_time": "2022-04-18T06:23:41.877Z"
   },
   {
    "duration": 6,
    "start_time": "2022-04-18T06:23:41.884Z"
   },
   {
    "duration": 16,
    "start_time": "2022-04-18T06:23:41.891Z"
   },
   {
    "duration": 45,
    "start_time": "2022-04-18T06:23:41.910Z"
   },
   {
    "duration": 17,
    "start_time": "2022-04-18T06:23:41.957Z"
   },
   {
    "duration": 19,
    "start_time": "2022-04-18T06:23:41.975Z"
   },
   {
    "duration": 16,
    "start_time": "2022-04-18T06:23:41.996Z"
   },
   {
    "duration": 12,
    "start_time": "2022-04-18T06:23:42.014Z"
   },
   {
    "duration": 11,
    "start_time": "2022-04-18T06:23:42.055Z"
   },
   {
    "duration": 18,
    "start_time": "2022-04-18T06:23:42.067Z"
   },
   {
    "duration": 19,
    "start_time": "2022-04-18T06:23:42.087Z"
   },
   {
    "duration": 47,
    "start_time": "2022-04-18T06:23:42.108Z"
   },
   {
    "duration": 14,
    "start_time": "2022-04-18T06:23:42.157Z"
   },
   {
    "duration": 25,
    "start_time": "2022-04-18T06:23:53.166Z"
   },
   {
    "duration": 27,
    "start_time": "2022-04-18T06:25:07.839Z"
   },
   {
    "duration": 18,
    "start_time": "2022-04-18T06:25:14.479Z"
   },
   {
    "duration": 23,
    "start_time": "2022-04-18T06:25:20.608Z"
   },
   {
    "duration": 11,
    "start_time": "2022-04-18T06:32:54.415Z"
   },
   {
    "duration": 16,
    "start_time": "2022-04-18T06:33:01.975Z"
   },
   {
    "duration": 76,
    "start_time": "2022-04-18T06:34:03.009Z"
   },
   {
    "duration": 23,
    "start_time": "2022-04-18T06:34:08.830Z"
   },
   {
    "duration": 16,
    "start_time": "2022-04-18T06:36:37.263Z"
   },
   {
    "duration": 13,
    "start_time": "2022-04-18T06:36:56.422Z"
   },
   {
    "duration": 16,
    "start_time": "2022-04-18T06:37:03.382Z"
   },
   {
    "duration": 16,
    "start_time": "2022-04-18T06:38:36.981Z"
   },
   {
    "duration": 433,
    "start_time": "2022-04-18T06:38:56.078Z"
   },
   {
    "duration": 12,
    "start_time": "2022-04-18T06:38:56.513Z"
   },
   {
    "duration": 28,
    "start_time": "2022-04-18T06:38:56.526Z"
   },
   {
    "duration": 8,
    "start_time": "2022-04-18T06:38:56.556Z"
   },
   {
    "duration": 18,
    "start_time": "2022-04-18T06:38:56.566Z"
   },
   {
    "duration": 15,
    "start_time": "2022-04-18T06:38:56.585Z"
   },
   {
    "duration": 17,
    "start_time": "2022-04-18T06:38:56.602Z"
   },
   {
    "duration": 19,
    "start_time": "2022-04-18T06:38:56.620Z"
   },
   {
    "duration": 16,
    "start_time": "2022-04-18T06:38:56.640Z"
   },
   {
    "duration": 23,
    "start_time": "2022-04-18T06:38:56.657Z"
   },
   {
    "duration": 4,
    "start_time": "2022-04-18T06:38:56.682Z"
   },
   {
    "duration": 18,
    "start_time": "2022-04-18T06:38:56.687Z"
   },
   {
    "duration": 18,
    "start_time": "2022-04-18T06:38:56.706Z"
   },
   {
    "duration": 5,
    "start_time": "2022-04-18T06:38:56.726Z"
   },
   {
    "duration": 17,
    "start_time": "2022-04-18T06:38:56.732Z"
   },
   {
    "duration": 12,
    "start_time": "2022-04-18T06:38:56.750Z"
   },
   {
    "duration": 20,
    "start_time": "2022-04-18T06:38:56.763Z"
   },
   {
    "duration": 12,
    "start_time": "2022-04-18T06:38:56.784Z"
   },
   {
    "duration": 12,
    "start_time": "2022-04-18T06:38:56.797Z"
   },
   {
    "duration": 13,
    "start_time": "2022-04-18T06:38:56.810Z"
   },
   {
    "duration": 12,
    "start_time": "2022-04-18T06:38:56.824Z"
   },
   {
    "duration": 8,
    "start_time": "2022-04-18T06:38:56.838Z"
   },
   {
    "duration": 15,
    "start_time": "2022-04-18T06:38:56.847Z"
   },
   {
    "duration": 3,
    "start_time": "2022-04-18T06:38:56.864Z"
   },
   {
    "duration": 6,
    "start_time": "2022-04-18T06:38:56.869Z"
   },
   {
    "duration": 7,
    "start_time": "2022-04-18T06:38:56.876Z"
   },
   {
    "duration": 24,
    "start_time": "2022-04-18T06:38:56.884Z"
   },
   {
    "duration": 14,
    "start_time": "2022-04-18T06:38:56.910Z"
   },
   {
    "duration": 38,
    "start_time": "2022-04-18T06:38:56.925Z"
   },
   {
    "duration": 17,
    "start_time": "2022-04-18T06:38:56.965Z"
   },
   {
    "duration": 16,
    "start_time": "2022-04-18T06:38:56.984Z"
   },
   {
    "duration": 12,
    "start_time": "2022-04-18T06:38:57.002Z"
   },
   {
    "duration": 14,
    "start_time": "2022-04-18T06:38:57.015Z"
   },
   {
    "duration": 18,
    "start_time": "2022-04-18T06:38:57.055Z"
   },
   {
    "duration": 21,
    "start_time": "2022-04-18T06:38:57.075Z"
   },
   {
    "duration": 20,
    "start_time": "2022-04-18T06:38:57.097Z"
   },
   {
    "duration": 85,
    "start_time": "2022-04-18T06:38:57.119Z"
   },
   {
    "duration": 0,
    "start_time": "2022-04-18T06:38:57.206Z"
   },
   {
    "duration": 0,
    "start_time": "2022-04-18T06:38:57.207Z"
   },
   {
    "duration": 13,
    "start_time": "2022-04-18T06:43:08.650Z"
   },
   {
    "duration": 18,
    "start_time": "2022-04-18T06:43:52.298Z"
   },
   {
    "duration": 8,
    "start_time": "2022-04-18T06:44:44.776Z"
   },
   {
    "duration": 7,
    "start_time": "2022-04-18T06:44:50.980Z"
   },
   {
    "duration": 432,
    "start_time": "2022-04-18T06:44:59.502Z"
   },
   {
    "duration": 11,
    "start_time": "2022-04-18T06:44:59.936Z"
   },
   {
    "duration": 24,
    "start_time": "2022-04-18T06:44:59.948Z"
   },
   {
    "duration": 9,
    "start_time": "2022-04-18T06:44:59.973Z"
   },
   {
    "duration": 5,
    "start_time": "2022-04-18T06:44:59.984Z"
   },
   {
    "duration": 10,
    "start_time": "2022-04-18T06:44:59.990Z"
   },
   {
    "duration": 7,
    "start_time": "2022-04-18T06:45:00.001Z"
   },
   {
    "duration": 5,
    "start_time": "2022-04-18T06:45:00.010Z"
   },
   {
    "duration": 38,
    "start_time": "2022-04-18T06:45:00.016Z"
   },
   {
    "duration": 21,
    "start_time": "2022-04-18T06:45:00.057Z"
   },
   {
    "duration": 23,
    "start_time": "2022-04-18T06:45:00.079Z"
   },
   {
    "duration": 20,
    "start_time": "2022-04-18T06:45:00.103Z"
   },
   {
    "duration": 10,
    "start_time": "2022-04-18T06:45:00.125Z"
   },
   {
    "duration": 13,
    "start_time": "2022-04-18T06:45:00.138Z"
   },
   {
    "duration": 19,
    "start_time": "2022-04-18T06:45:00.152Z"
   },
   {
    "duration": 15,
    "start_time": "2022-04-18T06:45:00.173Z"
   },
   {
    "duration": 29,
    "start_time": "2022-04-18T06:45:00.189Z"
   },
   {
    "duration": 8,
    "start_time": "2022-04-18T06:45:00.220Z"
   },
   {
    "duration": 9,
    "start_time": "2022-04-18T06:45:00.230Z"
   },
   {
    "duration": 8,
    "start_time": "2022-04-18T06:45:00.241Z"
   },
   {
    "duration": 14,
    "start_time": "2022-04-18T06:45:00.250Z"
   },
   {
    "duration": 23,
    "start_time": "2022-04-18T06:45:00.266Z"
   },
   {
    "duration": 37,
    "start_time": "2022-04-18T06:45:00.290Z"
   },
   {
    "duration": 12,
    "start_time": "2022-04-18T06:45:00.328Z"
   },
   {
    "duration": 9,
    "start_time": "2022-04-18T06:45:00.341Z"
   },
   {
    "duration": 19,
    "start_time": "2022-04-18T06:45:00.351Z"
   },
   {
    "duration": 16,
    "start_time": "2022-04-18T06:45:00.372Z"
   },
   {
    "duration": 15,
    "start_time": "2022-04-18T06:45:00.390Z"
   },
   {
    "duration": 35,
    "start_time": "2022-04-18T06:45:00.406Z"
   },
   {
    "duration": 26,
    "start_time": "2022-04-18T06:45:00.442Z"
   },
   {
    "duration": 16,
    "start_time": "2022-04-18T06:45:00.470Z"
   },
   {
    "duration": 12,
    "start_time": "2022-04-18T06:45:00.487Z"
   },
   {
    "duration": 25,
    "start_time": "2022-04-18T06:45:00.500Z"
   },
   {
    "duration": 84,
    "start_time": "2022-04-18T06:45:00.526Z"
   },
   {
    "duration": 53,
    "start_time": "2022-04-18T06:45:00.611Z"
   },
   {
    "duration": 29,
    "start_time": "2022-04-18T06:45:00.667Z"
   },
   {
    "duration": 22,
    "start_time": "2022-04-18T06:45:00.697Z"
   },
   {
    "duration": 79,
    "start_time": "2022-04-18T06:45:00.720Z"
   },
   {
    "duration": 0,
    "start_time": "2022-04-18T06:45:00.801Z"
   },
   {
    "duration": 0,
    "start_time": "2022-04-18T06:45:00.802Z"
   },
   {
    "duration": 9,
    "start_time": "2022-04-18T06:45:05.036Z"
   },
   {
    "duration": 3,
    "start_time": "2022-04-18T06:46:48.957Z"
   },
   {
    "duration": 2,
    "start_time": "2022-04-18T06:46:49.781Z"
   },
   {
    "duration": 3,
    "start_time": "2022-04-18T06:47:01.781Z"
   },
   {
    "duration": 3,
    "start_time": "2022-04-18T06:47:02.421Z"
   },
   {
    "duration": 8,
    "start_time": "2022-04-18T06:47:03.972Z"
   },
   {
    "duration": 10,
    "start_time": "2022-04-18T06:48:19.580Z"
   },
   {
    "duration": 8,
    "start_time": "2022-04-18T06:48:47.932Z"
   },
   {
    "duration": 5,
    "start_time": "2022-04-18T06:48:53.284Z"
   },
   {
    "duration": 6,
    "start_time": "2022-04-18T06:48:58.771Z"
   },
   {
    "duration": 6,
    "start_time": "2022-04-18T06:49:04.845Z"
   },
   {
    "duration": 7,
    "start_time": "2022-04-18T06:49:23.853Z"
   },
   {
    "duration": 7,
    "start_time": "2022-04-18T06:49:29.012Z"
   },
   {
    "duration": 25,
    "start_time": "2022-04-18T06:49:39.398Z"
   },
   {
    "duration": 16,
    "start_time": "2022-04-18T06:56:39.908Z"
   },
   {
    "duration": 18,
    "start_time": "2022-04-18T06:58:37.276Z"
   },
   {
    "duration": 26,
    "start_time": "2022-04-18T11:09:06.714Z"
   },
   {
    "duration": 437,
    "start_time": "2022-04-18T11:09:29.599Z"
   },
   {
    "duration": 13,
    "start_time": "2022-04-18T11:09:30.038Z"
   },
   {
    "duration": 19,
    "start_time": "2022-04-18T11:09:30.053Z"
   },
   {
    "duration": 9,
    "start_time": "2022-04-18T11:09:30.075Z"
   },
   {
    "duration": 10,
    "start_time": "2022-04-18T11:09:30.086Z"
   },
   {
    "duration": 13,
    "start_time": "2022-04-18T11:09:30.098Z"
   },
   {
    "duration": 10,
    "start_time": "2022-04-18T11:09:30.112Z"
   },
   {
    "duration": 12,
    "start_time": "2022-04-18T11:09:30.123Z"
   },
   {
    "duration": 26,
    "start_time": "2022-04-18T11:09:30.137Z"
   },
   {
    "duration": 13,
    "start_time": "2022-04-18T11:09:30.166Z"
   },
   {
    "duration": 18,
    "start_time": "2022-04-18T11:09:30.180Z"
   },
   {
    "duration": 14,
    "start_time": "2022-04-18T11:09:30.200Z"
   },
   {
    "duration": 10,
    "start_time": "2022-04-18T11:09:30.215Z"
   },
   {
    "duration": 15,
    "start_time": "2022-04-18T11:09:30.226Z"
   },
   {
    "duration": 15,
    "start_time": "2022-04-18T11:09:30.243Z"
   },
   {
    "duration": 12,
    "start_time": "2022-04-18T11:09:30.260Z"
   },
   {
    "duration": 23,
    "start_time": "2022-04-18T11:09:30.274Z"
   },
   {
    "duration": 28,
    "start_time": "2022-04-18T11:09:30.299Z"
   },
   {
    "duration": 25,
    "start_time": "2022-04-18T11:09:30.329Z"
   },
   {
    "duration": 23,
    "start_time": "2022-04-18T11:09:30.355Z"
   },
   {
    "duration": 24,
    "start_time": "2022-04-18T11:09:30.380Z"
   },
   {
    "duration": 18,
    "start_time": "2022-04-18T11:09:30.406Z"
   },
   {
    "duration": 21,
    "start_time": "2022-04-18T11:09:30.426Z"
   },
   {
    "duration": 15,
    "start_time": "2022-04-18T11:09:30.449Z"
   },
   {
    "duration": 17,
    "start_time": "2022-04-18T11:09:30.465Z"
   },
   {
    "duration": 20,
    "start_time": "2022-04-18T11:09:30.483Z"
   },
   {
    "duration": 29,
    "start_time": "2022-04-18T11:09:30.504Z"
   },
   {
    "duration": 26,
    "start_time": "2022-04-18T11:09:30.537Z"
   },
   {
    "duration": 25,
    "start_time": "2022-04-18T11:09:30.565Z"
   },
   {
    "duration": 19,
    "start_time": "2022-04-18T11:09:30.593Z"
   },
   {
    "duration": 17,
    "start_time": "2022-04-18T11:09:30.614Z"
   },
   {
    "duration": 27,
    "start_time": "2022-04-18T11:09:30.633Z"
   },
   {
    "duration": 12,
    "start_time": "2022-04-18T11:09:30.661Z"
   },
   {
    "duration": 33,
    "start_time": "2022-04-18T11:09:30.675Z"
   },
   {
    "duration": 39,
    "start_time": "2022-04-18T11:09:30.709Z"
   },
   {
    "duration": 40,
    "start_time": "2022-04-18T11:09:30.750Z"
   },
   {
    "duration": 63,
    "start_time": "2022-04-18T11:09:30.792Z"
   },
   {
    "duration": 20,
    "start_time": "2022-04-18T11:09:30.856Z"
   },
   {
    "duration": 19,
    "start_time": "2022-04-18T11:15:25.771Z"
   },
   {
    "duration": 7,
    "start_time": "2022-04-18T11:16:00.122Z"
   },
   {
    "duration": 11,
    "start_time": "2022-04-18T11:16:37.707Z"
   },
   {
    "duration": 11,
    "start_time": "2022-04-18T11:17:07.105Z"
   },
   {
    "duration": 5,
    "start_time": "2022-04-18T11:17:15.682Z"
   },
   {
    "duration": 10,
    "start_time": "2022-04-18T11:17:36.547Z"
   },
   {
    "duration": 5,
    "start_time": "2022-04-18T11:17:38.777Z"
   },
   {
    "duration": 21,
    "start_time": "2022-04-18T11:17:44.336Z"
   },
   {
    "duration": 5,
    "start_time": "2022-04-18T11:19:34.027Z"
   },
   {
    "duration": 6,
    "start_time": "2022-04-18T11:19:39.275Z"
   },
   {
    "duration": 460,
    "start_time": "2022-04-18T11:26:49.465Z"
   },
   {
    "duration": 12,
    "start_time": "2022-04-18T11:26:49.928Z"
   },
   {
    "duration": 16,
    "start_time": "2022-04-18T11:26:49.942Z"
   },
   {
    "duration": 10,
    "start_time": "2022-04-18T11:26:49.959Z"
   },
   {
    "duration": 18,
    "start_time": "2022-04-18T11:26:49.970Z"
   },
   {
    "duration": 10,
    "start_time": "2022-04-18T11:26:49.989Z"
   },
   {
    "duration": 6,
    "start_time": "2022-04-18T11:26:50.000Z"
   },
   {
    "duration": 10,
    "start_time": "2022-04-18T11:26:50.007Z"
   },
   {
    "duration": 25,
    "start_time": "2022-04-18T11:26:50.018Z"
   },
   {
    "duration": 18,
    "start_time": "2022-04-18T11:26:50.045Z"
   },
   {
    "duration": 3,
    "start_time": "2022-04-18T11:26:50.065Z"
   },
   {
    "duration": 7,
    "start_time": "2022-04-18T11:26:50.070Z"
   },
   {
    "duration": 12,
    "start_time": "2022-04-18T11:26:50.079Z"
   },
   {
    "duration": 6,
    "start_time": "2022-04-18T11:26:50.094Z"
   },
   {
    "duration": 9,
    "start_time": "2022-04-18T11:26:50.101Z"
   },
   {
    "duration": 8,
    "start_time": "2022-04-18T11:26:50.112Z"
   },
   {
    "duration": 10,
    "start_time": "2022-04-18T11:26:50.121Z"
   },
   {
    "duration": 25,
    "start_time": "2022-04-18T11:26:50.133Z"
   },
   {
    "duration": 17,
    "start_time": "2022-04-18T11:26:50.159Z"
   },
   {
    "duration": 9,
    "start_time": "2022-04-18T11:26:50.178Z"
   },
   {
    "duration": 7,
    "start_time": "2022-04-18T11:26:50.188Z"
   },
   {
    "duration": 9,
    "start_time": "2022-04-18T11:26:50.196Z"
   },
   {
    "duration": 10,
    "start_time": "2022-04-18T11:26:50.206Z"
   },
   {
    "duration": 6,
    "start_time": "2022-04-18T11:26:50.217Z"
   },
   {
    "duration": 10,
    "start_time": "2022-04-18T11:26:50.224Z"
   },
   {
    "duration": 19,
    "start_time": "2022-04-18T11:26:50.236Z"
   },
   {
    "duration": 31,
    "start_time": "2022-04-18T11:26:50.256Z"
   },
   {
    "duration": 26,
    "start_time": "2022-04-18T11:26:50.289Z"
   },
   {
    "duration": 18,
    "start_time": "2022-04-18T11:26:50.317Z"
   },
   {
    "duration": 20,
    "start_time": "2022-04-18T11:26:50.337Z"
   },
   {
    "duration": 17,
    "start_time": "2022-04-18T11:26:50.359Z"
   },
   {
    "duration": 12,
    "start_time": "2022-04-18T11:26:50.378Z"
   },
   {
    "duration": 8,
    "start_time": "2022-04-18T11:26:50.392Z"
   },
   {
    "duration": 6,
    "start_time": "2022-04-18T11:26:50.402Z"
   },
   {
    "duration": 11,
    "start_time": "2022-04-18T11:26:50.409Z"
   },
   {
    "duration": 19,
    "start_time": "2022-04-18T11:26:50.421Z"
   },
   {
    "duration": 6,
    "start_time": "2022-04-18T11:26:50.454Z"
   },
   {
    "duration": 8,
    "start_time": "2022-04-18T11:26:50.462Z"
   },
   {
    "duration": 13,
    "start_time": "2022-04-18T11:26:50.471Z"
   },
   {
    "duration": 22,
    "start_time": "2022-04-18T11:26:50.485Z"
   },
   {
    "duration": 17,
    "start_time": "2022-04-18T11:26:50.510Z"
   },
   {
    "duration": 39,
    "start_time": "2022-04-18T11:26:50.528Z"
   },
   {
    "duration": 19,
    "start_time": "2022-04-18T11:26:50.568Z"
   },
   {
    "duration": 2,
    "start_time": "2022-04-18T11:26:50.589Z"
   },
   {
    "duration": 18,
    "start_time": "2022-04-18T11:32:22.313Z"
   },
   {
    "duration": 21,
    "start_time": "2022-04-18T11:32:32.490Z"
   },
   {
    "duration": 31,
    "start_time": "2022-04-18T11:32:34.257Z"
   },
   {
    "duration": 18,
    "start_time": "2022-04-18T11:33:42.465Z"
   },
   {
    "duration": 18,
    "start_time": "2022-04-18T11:34:17.734Z"
   },
   {
    "duration": 19,
    "start_time": "2022-04-18T11:41:44.583Z"
   },
   {
    "duration": 19,
    "start_time": "2022-04-18T11:41:50.013Z"
   },
   {
    "duration": 20,
    "start_time": "2022-04-18T11:46:17.452Z"
   },
   {
    "duration": 478,
    "start_time": "2022-04-26T16:52:48.088Z"
   },
   {
    "duration": 12,
    "start_time": "2022-04-26T16:52:48.569Z"
   },
   {
    "duration": 16,
    "start_time": "2022-04-26T16:52:48.582Z"
   },
   {
    "duration": 10,
    "start_time": "2022-04-26T16:52:48.600Z"
   },
   {
    "duration": 5,
    "start_time": "2022-04-26T16:52:48.611Z"
   },
   {
    "duration": 40,
    "start_time": "2022-04-26T16:52:48.618Z"
   },
   {
    "duration": 6,
    "start_time": "2022-04-26T16:52:48.660Z"
   },
   {
    "duration": 6,
    "start_time": "2022-04-26T16:52:48.668Z"
   },
   {
    "duration": 10,
    "start_time": "2022-04-26T16:52:48.675Z"
   },
   {
    "duration": 12,
    "start_time": "2022-04-26T16:52:48.687Z"
   },
   {
    "duration": 4,
    "start_time": "2022-04-26T16:52:48.700Z"
   },
   {
    "duration": 7,
    "start_time": "2022-04-26T16:52:48.706Z"
   },
   {
    "duration": 45,
    "start_time": "2022-04-26T16:52:48.714Z"
   },
   {
    "duration": 5,
    "start_time": "2022-04-26T16:52:48.760Z"
   },
   {
    "duration": 8,
    "start_time": "2022-04-26T16:52:48.766Z"
   },
   {
    "duration": 2,
    "start_time": "2022-04-26T16:52:48.776Z"
   },
   {
    "duration": 7,
    "start_time": "2022-04-26T16:52:48.779Z"
   },
   {
    "duration": 5,
    "start_time": "2022-04-26T16:52:48.788Z"
   },
   {
    "duration": 9,
    "start_time": "2022-04-26T16:52:48.794Z"
   },
   {
    "duration": 4,
    "start_time": "2022-04-26T16:52:48.805Z"
   },
   {
    "duration": 6,
    "start_time": "2022-04-26T16:52:48.810Z"
   },
   {
    "duration": 7,
    "start_time": "2022-04-26T16:52:48.855Z"
   },
   {
    "duration": 8,
    "start_time": "2022-04-26T16:52:48.863Z"
   },
   {
    "duration": 5,
    "start_time": "2022-04-26T16:52:48.872Z"
   },
   {
    "duration": 8,
    "start_time": "2022-04-26T16:52:48.878Z"
   },
   {
    "duration": 7,
    "start_time": "2022-04-26T16:52:48.887Z"
   },
   {
    "duration": 15,
    "start_time": "2022-04-26T16:52:48.896Z"
   },
   {
    "duration": 43,
    "start_time": "2022-04-26T16:52:48.914Z"
   },
   {
    "duration": 16,
    "start_time": "2022-04-26T16:52:48.959Z"
   },
   {
    "duration": 18,
    "start_time": "2022-04-26T16:52:48.977Z"
   },
   {
    "duration": 16,
    "start_time": "2022-04-26T16:52:48.996Z"
   },
   {
    "duration": 42,
    "start_time": "2022-04-26T16:52:49.013Z"
   },
   {
    "duration": 8,
    "start_time": "2022-04-26T16:52:49.057Z"
   },
   {
    "duration": 11,
    "start_time": "2022-04-26T16:52:49.066Z"
   },
   {
    "duration": 7,
    "start_time": "2022-04-26T16:52:49.079Z"
   },
   {
    "duration": 12,
    "start_time": "2022-04-26T16:52:49.087Z"
   },
   {
    "duration": 15,
    "start_time": "2022-04-26T16:52:49.100Z"
   },
   {
    "duration": 5,
    "start_time": "2022-04-26T16:52:49.116Z"
   },
   {
    "duration": 31,
    "start_time": "2022-04-26T16:52:49.123Z"
   },
   {
    "duration": 18,
    "start_time": "2022-04-26T16:52:49.156Z"
   },
   {
    "duration": 29,
    "start_time": "2022-04-26T16:52:49.176Z"
   },
   {
    "duration": 25,
    "start_time": "2022-04-26T16:52:49.207Z"
   },
   {
    "duration": 26,
    "start_time": "2022-04-26T16:52:49.233Z"
   },
   {
    "duration": 16,
    "start_time": "2022-04-26T16:52:49.261Z"
   },
   {
    "duration": 17,
    "start_time": "2022-04-26T16:52:49.278Z"
   },
   {
    "duration": 546,
    "start_time": "2022-04-27T17:07:29.507Z"
   },
   {
    "duration": 108,
    "start_time": "2022-04-27T17:07:30.056Z"
   },
   {
    "duration": 28,
    "start_time": "2022-04-27T17:07:30.167Z"
   },
   {
    "duration": 27,
    "start_time": "2022-04-27T17:07:30.198Z"
   },
   {
    "duration": 33,
    "start_time": "2022-04-27T17:07:30.227Z"
   },
   {
    "duration": 33,
    "start_time": "2022-04-27T17:07:30.262Z"
   },
   {
    "duration": 31,
    "start_time": "2022-04-27T17:07:30.298Z"
   },
   {
    "duration": 37,
    "start_time": "2022-04-27T17:07:30.332Z"
   },
   {
    "duration": 19,
    "start_time": "2022-04-27T17:07:30.371Z"
   },
   {
    "duration": 40,
    "start_time": "2022-04-27T17:07:30.395Z"
   },
   {
    "duration": 21,
    "start_time": "2022-04-27T17:07:30.438Z"
   },
   {
    "duration": 9,
    "start_time": "2022-04-27T17:07:30.461Z"
   },
   {
    "duration": 19,
    "start_time": "2022-04-27T17:07:30.473Z"
   },
   {
    "duration": 28,
    "start_time": "2022-04-27T17:07:30.494Z"
   },
   {
    "duration": 18,
    "start_time": "2022-04-27T17:07:30.525Z"
   },
   {
    "duration": 21,
    "start_time": "2022-04-27T17:07:30.546Z"
   },
   {
    "duration": 17,
    "start_time": "2022-04-27T17:07:30.570Z"
   },
   {
    "duration": 27,
    "start_time": "2022-04-27T17:07:30.589Z"
   },
   {
    "duration": 18,
    "start_time": "2022-04-27T17:07:30.619Z"
   },
   {
    "duration": 34,
    "start_time": "2022-04-27T17:07:30.640Z"
   },
   {
    "duration": 25,
    "start_time": "2022-04-27T17:07:30.677Z"
   },
   {
    "duration": 25,
    "start_time": "2022-04-27T17:07:30.705Z"
   },
   {
    "duration": 32,
    "start_time": "2022-04-27T17:07:30.733Z"
   },
   {
    "duration": 29,
    "start_time": "2022-04-27T17:07:30.767Z"
   },
   {
    "duration": 43,
    "start_time": "2022-04-27T17:07:30.798Z"
   },
   {
    "duration": 44,
    "start_time": "2022-04-27T17:07:30.843Z"
   },
   {
    "duration": 50,
    "start_time": "2022-04-27T17:07:30.889Z"
   },
   {
    "duration": 91,
    "start_time": "2022-04-27T17:07:30.946Z"
   },
   {
    "duration": 32,
    "start_time": "2022-04-27T17:07:31.041Z"
   },
   {
    "duration": 43,
    "start_time": "2022-04-27T17:07:31.075Z"
   },
   {
    "duration": 41,
    "start_time": "2022-04-27T17:07:31.121Z"
   },
   {
    "duration": 59,
    "start_time": "2022-04-27T17:07:31.165Z"
   },
   {
    "duration": 29,
    "start_time": "2022-04-27T17:07:31.227Z"
   },
   {
    "duration": 67,
    "start_time": "2022-04-27T17:07:31.259Z"
   },
   {
    "duration": 37,
    "start_time": "2022-04-27T17:07:31.329Z"
   },
   {
    "duration": 26,
    "start_time": "2022-04-27T17:07:31.370Z"
   },
   {
    "duration": 70,
    "start_time": "2022-04-27T17:07:31.399Z"
   },
   {
    "duration": 27,
    "start_time": "2022-04-27T17:07:31.473Z"
   },
   {
    "duration": 17,
    "start_time": "2022-04-27T17:07:31.502Z"
   },
   {
    "duration": 34,
    "start_time": "2022-04-27T17:07:31.523Z"
   },
   {
    "duration": 45,
    "start_time": "2022-04-27T17:07:31.559Z"
   },
   {
    "duration": 31,
    "start_time": "2022-04-27T17:07:31.607Z"
   },
   {
    "duration": 59,
    "start_time": "2022-04-27T17:07:31.640Z"
   },
   {
    "duration": 33,
    "start_time": "2022-04-27T17:07:31.702Z"
   },
   {
    "duration": 56,
    "start_time": "2022-04-27T17:07:31.737Z"
   },
   {
    "duration": 27,
    "start_time": "2022-04-27T17:07:31.795Z"
   },
   {
    "duration": 512,
    "start_time": "2022-04-28T07:00:27.490Z"
   },
   {
    "duration": 108,
    "start_time": "2022-04-28T07:00:28.006Z"
   },
   {
    "duration": 20,
    "start_time": "2022-04-28T07:00:28.117Z"
   },
   {
    "duration": 26,
    "start_time": "2022-04-28T07:00:28.141Z"
   },
   {
    "duration": 40,
    "start_time": "2022-04-28T07:00:28.169Z"
   },
   {
    "duration": 8,
    "start_time": "2022-04-28T07:00:28.212Z"
   },
   {
    "duration": 14,
    "start_time": "2022-04-28T07:00:28.222Z"
   },
   {
    "duration": 8,
    "start_time": "2022-04-28T07:00:28.238Z"
   },
   {
    "duration": 14,
    "start_time": "2022-04-28T07:00:28.249Z"
   },
   {
    "duration": 17,
    "start_time": "2022-04-28T07:00:28.304Z"
   },
   {
    "duration": 24,
    "start_time": "2022-04-28T07:00:28.323Z"
   },
   {
    "duration": 9,
    "start_time": "2022-04-28T07:00:28.350Z"
   },
   {
    "duration": 36,
    "start_time": "2022-04-28T07:00:28.361Z"
   },
   {
    "duration": 11,
    "start_time": "2022-04-28T07:00:28.402Z"
   },
   {
    "duration": 6,
    "start_time": "2022-04-28T07:00:28.416Z"
   },
   {
    "duration": 12,
    "start_time": "2022-04-28T07:00:28.425Z"
   },
   {
    "duration": 5,
    "start_time": "2022-04-28T07:00:28.439Z"
   },
   {
    "duration": 53,
    "start_time": "2022-04-28T07:00:28.447Z"
   },
   {
    "duration": 13,
    "start_time": "2022-04-28T07:00:28.503Z"
   },
   {
    "duration": 30,
    "start_time": "2022-04-28T07:00:28.519Z"
   },
   {
    "duration": 11,
    "start_time": "2022-04-28T07:00:28.552Z"
   },
   {
    "duration": 19,
    "start_time": "2022-04-28T07:00:28.566Z"
   },
   {
    "duration": 17,
    "start_time": "2022-04-28T07:00:28.588Z"
   },
   {
    "duration": 21,
    "start_time": "2022-04-28T07:00:28.607Z"
   },
   {
    "duration": 6,
    "start_time": "2022-04-28T07:00:28.630Z"
   },
   {
    "duration": 10,
    "start_time": "2022-04-28T07:00:28.638Z"
   },
   {
    "duration": 11,
    "start_time": "2022-04-28T07:00:28.651Z"
   },
   {
    "duration": 27,
    "start_time": "2022-04-28T07:00:28.699Z"
   },
   {
    "duration": 21,
    "start_time": "2022-04-28T07:00:28.728Z"
   },
   {
    "duration": 62,
    "start_time": "2022-04-28T07:00:28.752Z"
   },
   {
    "duration": 42,
    "start_time": "2022-04-28T07:00:28.817Z"
   },
   {
    "duration": 57,
    "start_time": "2022-04-28T07:00:28.862Z"
   },
   {
    "duration": 24,
    "start_time": "2022-04-28T07:00:28.922Z"
   },
   {
    "duration": 9,
    "start_time": "2022-04-28T07:00:28.949Z"
   },
   {
    "duration": 42,
    "start_time": "2022-04-28T07:00:28.960Z"
   },
   {
    "duration": 10,
    "start_time": "2022-04-28T07:00:29.005Z"
   },
   {
    "duration": 12,
    "start_time": "2022-04-28T07:00:29.018Z"
   },
   {
    "duration": 9,
    "start_time": "2022-04-28T07:00:29.033Z"
   },
   {
    "duration": 9,
    "start_time": "2022-04-28T07:00:29.045Z"
   },
   {
    "duration": 56,
    "start_time": "2022-04-28T07:00:29.056Z"
   },
   {
    "duration": 34,
    "start_time": "2022-04-28T07:00:29.115Z"
   },
   {
    "duration": 57,
    "start_time": "2022-04-28T07:00:29.151Z"
   },
   {
    "duration": 35,
    "start_time": "2022-04-28T07:00:29.211Z"
   },
   {
    "duration": 60,
    "start_time": "2022-04-28T07:00:29.249Z"
   },
   {
    "duration": 40,
    "start_time": "2022-04-28T07:00:29.312Z"
   },
   {
    "duration": 59,
    "start_time": "2022-04-28T07:00:29.355Z"
   }
  ],
  "kernelspec": {
   "display_name": "Python 3 (ipykernel)",
   "language": "python",
   "name": "python3"
  },
  "language_info": {
   "codemirror_mode": {
    "name": "ipython",
    "version": 3
   },
   "file_extension": ".py",
   "mimetype": "text/x-python",
   "name": "python",
   "nbconvert_exporter": "python",
   "pygments_lexer": "ipython3",
   "version": "3.9.7"
  },
  "toc": {
   "base_numbering": 1,
   "nav_menu": {
    "height": "241px",
    "width": "410px"
   },
   "number_sections": true,
   "sideBar": true,
   "skip_h1_title": true,
   "title_cell": "Table of Contents",
   "title_sidebar": "Contents",
   "toc_cell": false,
   "toc_position": {},
   "toc_section_display": true,
   "toc_window_display": true
  }
 },
 "nbformat": 4,
 "nbformat_minor": 5
}
