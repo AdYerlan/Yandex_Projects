{
 "cells": [
  {
   "cell_type": "markdown",
   "metadata": {},
   "source": [
    "# Анализ оттока клиентов банка"
   ]
  },
  {
   "cell_type": "markdown",
   "metadata": {},
   "source": [
    "# Материалы\n",
    "* [Презентация] (https://drive.google.com/file/d/1iySpYBnmCqq1oJl10omiKj9_gbRh1GjK/view?usp=share_link)\n",
    "* [Дашборд] (https://public.tableau.com/views/_16844078886780/Dashboard1?:language=en-US&:display_count=n&:origin=viz_share_link)"
   ]
  },
  {
   "cell_type": "markdown",
   "metadata": {},
   "source": [
    "# Описание проекта"
   ]
  },
  {
   "cell_type": "markdown",
   "metadata": {},
   "source": [
    "### Контекст"
   ]
  },
  {
   "cell_type": "markdown",
   "metadata": {},
   "source": [
    "Заказчик - банк «Метанпром». Банк располагается в Ярославле и областных городах: Ростов Великий и Рыбинск.\n",
    "\n",
    "Необходимо проанализировать клиентов регионального банка и выделить сегменты клиентов, которые склонны уходить из банка."
   ]
  },
  {
   "cell_type": "markdown",
   "metadata": {},
   "source": [
    "### Цель"
   ]
  },
  {
   "cell_type": "markdown",
   "metadata": {},
   "source": [
    "Определить особенности параметров и характеристики клиентов, попадающих в группу оттока для разработки мер по удержанию клиентов"
   ]
  },
  {
   "cell_type": "markdown",
   "metadata": {},
   "source": [
    "### Задачи"
   ]
  },
  {
   "cell_type": "markdown",
   "metadata": {},
   "source": [
    "На основании поведения клиентов определить вероятность их ухода:\n",
    "\n",
    "- Провести исследовательский анализ данных;\n",
    "- Выделить портреты клиентов, которые склонны уходить из банка;\n",
    "- Сформулировать и проверить статистические гипотезы:\n",
    "\n",
    "\n",
    "    - Гипотеза различия дохода между действующими и ушедшими клиентами;\n",
    "    - Гипотеза различия баллов кредитного скоринга между действующими и ушедшими клиентами;\n",
    "    - Гипотеза различия возраста между действующими и ушедшими клиентами.\n",
    "    \n",
    "    \n",
    "- По результатам исследования необходимо подготовить:\n",
    "\n",
    "\n",
    "    - презентацию,\n",
    "    - дашборд."
   ]
  },
  {
   "cell_type": "markdown",
   "metadata": {},
   "source": [
    "### Описание исходных данных"
   ]
  },
  {
   "cell_type": "markdown",
   "metadata": {},
   "source": [
    "Датасет содержит данные о клиентах банка «Метанпром».\n",
    "\n",
    "- `userid` — идентификатор пользователя,\n",
    "- `score` — баллы кредитного скоринга,\n",
    "- `City` — город,\n",
    "- `Gender` — пол,\n",
    "- `Age` — возраст,\n",
    "- `Objects` — количество объектов в собственности,\n",
    "- `Balance` — баланс на счёте,\n",
    "- `Products` — количество продуктов, которыми пользуется клиент,\n",
    "- `CreditCard` — есть ли кредитная карта,\n",
    "- `Loyalty` — активный клиент,\n",
    "- `estimated_salary` — заработная плата клиента,\n",
    "- `Churn` — ушёл или нет."
   ]
  },
  {
   "cell_type": "markdown",
   "metadata": {},
   "source": [
    "### План работы"
   ]
  },
  {
   "cell_type": "markdown",
   "metadata": {},
   "source": [
    "1. Загрузим данные и изучим общую информацию;\n",
    "2. Проведем предобработку данных:\n",
    "    - проверим стиль названия и порядок столбцов;\n",
    "    - проверим пропуски;\n",
    "    - проверим дубликаты;\n",
    "    - проверим соответствие типов данных;\n",
    "    - категоризация данных.\n",
    "3. Проведем исследовательский анализ данных:\n",
    "    - анализ распределения средних значений параметров:\n",
    "        - изучим влияние категориальных параметров на отток клиентов;\n",
    "        - изучим влияние численных параметров на отток клиентов;\n",
    "        - изучим редкие и выбивающиеся значений;\n",
    "    - корреляционный анализ.\n",
    "4. Выделим портреты клиентов, склонных уходить из банка;\n",
    "5. Сформулируем и проверим статистические гипотезы;\n",
    "6. Проведем сегментацию клиентов\n",
    "7. Опишем выводы на основе проведенного анализа и дадим рекомендации;\n",
    "8. Подготовим презентацию и дашборд."
   ]
  },
  {
   "cell_type": "markdown",
   "metadata": {},
   "source": [
    "## Изучение данных"
   ]
  },
  {
   "cell_type": "markdown",
   "metadata": {},
   "source": [
    "### Загрузка необходимых библиотек и изучение общей информации"
   ]
  },
  {
   "cell_type": "code",
   "execution_count": 1,
   "metadata": {},
   "outputs": [],
   "source": [
    "# импортируем необходимые библиотеки для проведения анализа\n",
    "\n",
    "import pandas as pd\n",
    "import numpy as np\n",
    "import math as mth\n",
    "\n",
    "import seaborn as sns\n",
    "sns.set(color_codes=True)\n",
    "sns.set(rc={'figure.figsize':(12, 5)})\n",
    "sns.set_style('whitegrid')\n",
    "\n",
    "import matplotlib.pyplot as plt\n",
    "import matplotlib.colors as mcolors\n",
    "import plotly.express as px\n",
    "import requests\n",
    "import scipy.stats as stats\n",
    "from scipy import stats as st\n",
    "from sklearn.preprocessing import StandardScaler\n",
    "from sklearn.cluster import KMeans\n",
    "from sklearn.metrics import silhouette_score\n",
    "from scipy.cluster.hierarchy import dendrogram, linkage\n",
    "\n",
    "pd.set_option('display.max_columns', None)\n",
    "pd.options.display.float_format = '{:,.2f}'.format\n",
    "pd.set_option('display.max_colwidth', 1)"
   ]
  },
  {
   "cell_type": "code",
   "execution_count": 2,
   "metadata": {},
   "outputs": [],
   "source": [
    "# загрузим данные для анализа\n",
    "\n",
    "try:\n",
    "    data = pd.read_csv('/datasets/bank_dataset.csv')\n",
    "except:\n",
    "    data = pd.read_csv('https://disk.yandex.ru/d/JVAJ9uxtV1uydQ')"
   ]
  },
  {
   "cell_type": "code",
   "execution_count": 3,
   "metadata": {},
   "outputs": [
    {
     "name": "stdout",
     "output_type": "stream",
     "text": [
      "<class 'pandas.core.frame.DataFrame'>\n",
      "RangeIndex: 10000 entries, 0 to 9999\n",
      "Data columns (total 12 columns):\n",
      " #   Column            Non-Null Count  Dtype  \n",
      "---  ------            --------------  -----  \n",
      " 0   userid            10000 non-null  int64  \n",
      " 1   score             10000 non-null  int64  \n",
      " 2   City              10000 non-null  object \n",
      " 3   Gender            10000 non-null  object \n",
      " 4   Age               10000 non-null  int64  \n",
      " 5   Objects           10000 non-null  int64  \n",
      " 6   Balance           6383 non-null   float64\n",
      " 7   Products          10000 non-null  int64  \n",
      " 8   CreditCard        10000 non-null  int64  \n",
      " 9   Loyalty           10000 non-null  int64  \n",
      " 10  estimated_salary  10000 non-null  float64\n",
      " 11  Churn             10000 non-null  int64  \n",
      "dtypes: float64(2), int64(8), object(2)\n",
      "memory usage: 937.6+ KB\n"
     ]
    }
   ],
   "source": [
    "# посмотрим общую информацию о данных\n",
    "\n",
    "data.info()"
   ]
  },
  {
   "cell_type": "code",
   "execution_count": 4,
   "metadata": {
    "scrolled": true
   },
   "outputs": [
    {
     "data": {
      "text/html": [
       "<div>\n",
       "<style scoped>\n",
       "    .dataframe tbody tr th:only-of-type {\n",
       "        vertical-align: middle;\n",
       "    }\n",
       "\n",
       "    .dataframe tbody tr th {\n",
       "        vertical-align: top;\n",
       "    }\n",
       "\n",
       "    .dataframe thead th {\n",
       "        text-align: right;\n",
       "    }\n",
       "</style>\n",
       "<table border=\"1\" class=\"dataframe\">\n",
       "  <thead>\n",
       "    <tr style=\"text-align: right;\">\n",
       "      <th></th>\n",
       "      <th>userid</th>\n",
       "      <th>score</th>\n",
       "      <th>City</th>\n",
       "      <th>Gender</th>\n",
       "      <th>Age</th>\n",
       "      <th>Objects</th>\n",
       "      <th>Balance</th>\n",
       "      <th>Products</th>\n",
       "      <th>CreditCard</th>\n",
       "      <th>Loyalty</th>\n",
       "      <th>estimated_salary</th>\n",
       "      <th>Churn</th>\n",
       "    </tr>\n",
       "  </thead>\n",
       "  <tbody>\n",
       "    <tr>\n",
       "      <th>0</th>\n",
       "      <td>15677338</td>\n",
       "      <td>619</td>\n",
       "      <td>Ярославль</td>\n",
       "      <td>Ж</td>\n",
       "      <td>42</td>\n",
       "      <td>2</td>\n",
       "      <td>NaN</td>\n",
       "      <td>1</td>\n",
       "      <td>1</td>\n",
       "      <td>1</td>\n",
       "      <td>101,348.88</td>\n",
       "      <td>1</td>\n",
       "    </tr>\n",
       "    <tr>\n",
       "      <th>1</th>\n",
       "      <td>15690047</td>\n",
       "      <td>608</td>\n",
       "      <td>Рыбинск</td>\n",
       "      <td>Ж</td>\n",
       "      <td>41</td>\n",
       "      <td>1</td>\n",
       "      <td>83,807.86</td>\n",
       "      <td>1</td>\n",
       "      <td>0</td>\n",
       "      <td>1</td>\n",
       "      <td>112,542.58</td>\n",
       "      <td>0</td>\n",
       "    </tr>\n",
       "    <tr>\n",
       "      <th>2</th>\n",
       "      <td>15662040</td>\n",
       "      <td>502</td>\n",
       "      <td>Ярославль</td>\n",
       "      <td>Ж</td>\n",
       "      <td>42</td>\n",
       "      <td>8</td>\n",
       "      <td>159,660.80</td>\n",
       "      <td>3</td>\n",
       "      <td>1</td>\n",
       "      <td>0</td>\n",
       "      <td>113,931.57</td>\n",
       "      <td>1</td>\n",
       "    </tr>\n",
       "    <tr>\n",
       "      <th>3</th>\n",
       "      <td>15744090</td>\n",
       "      <td>699</td>\n",
       "      <td>Ярославль</td>\n",
       "      <td>Ж</td>\n",
       "      <td>39</td>\n",
       "      <td>1</td>\n",
       "      <td>NaN</td>\n",
       "      <td>2</td>\n",
       "      <td>0</td>\n",
       "      <td>0</td>\n",
       "      <td>93,826.63</td>\n",
       "      <td>0</td>\n",
       "    </tr>\n",
       "    <tr>\n",
       "      <th>4</th>\n",
       "      <td>15780624</td>\n",
       "      <td>850</td>\n",
       "      <td>Рыбинск</td>\n",
       "      <td>Ж</td>\n",
       "      <td>43</td>\n",
       "      <td>2</td>\n",
       "      <td>125,510.82</td>\n",
       "      <td>1</td>\n",
       "      <td>1</td>\n",
       "      <td>1</td>\n",
       "      <td>79,084.10</td>\n",
       "      <td>0</td>\n",
       "    </tr>\n",
       "    <tr>\n",
       "      <th>5</th>\n",
       "      <td>15616748</td>\n",
       "      <td>645</td>\n",
       "      <td>Рыбинск</td>\n",
       "      <td>М</td>\n",
       "      <td>44</td>\n",
       "      <td>8</td>\n",
       "      <td>113,755.78</td>\n",
       "      <td>2</td>\n",
       "      <td>1</td>\n",
       "      <td>0</td>\n",
       "      <td>149,756.71</td>\n",
       "      <td>1</td>\n",
       "    </tr>\n",
       "    <tr>\n",
       "      <th>6</th>\n",
       "      <td>15635267</td>\n",
       "      <td>822</td>\n",
       "      <td>Ярославль</td>\n",
       "      <td>М</td>\n",
       "      <td>50</td>\n",
       "      <td>7</td>\n",
       "      <td>NaN</td>\n",
       "      <td>2</td>\n",
       "      <td>1</td>\n",
       "      <td>1</td>\n",
       "      <td>10,062.80</td>\n",
       "      <td>0</td>\n",
       "    </tr>\n",
       "    <tr>\n",
       "      <th>7</th>\n",
       "      <td>15698884</td>\n",
       "      <td>376</td>\n",
       "      <td>Ростов Великий</td>\n",
       "      <td>Ж</td>\n",
       "      <td>29</td>\n",
       "      <td>4</td>\n",
       "      <td>115,046.74</td>\n",
       "      <td>4</td>\n",
       "      <td>1</td>\n",
       "      <td>0</td>\n",
       "      <td>119,346.88</td>\n",
       "      <td>1</td>\n",
       "    </tr>\n",
       "    <tr>\n",
       "      <th>8</th>\n",
       "      <td>15835101</td>\n",
       "      <td>501</td>\n",
       "      <td>Ярославль</td>\n",
       "      <td>М</td>\n",
       "      <td>44</td>\n",
       "      <td>4</td>\n",
       "      <td>142,051.07</td>\n",
       "      <td>2</td>\n",
       "      <td>0</td>\n",
       "      <td>1</td>\n",
       "      <td>74,940.50</td>\n",
       "      <td>0</td>\n",
       "    </tr>\n",
       "    <tr>\n",
       "      <th>9</th>\n",
       "      <td>15635125</td>\n",
       "      <td>684</td>\n",
       "      <td>Ярославль</td>\n",
       "      <td>М</td>\n",
       "      <td>27</td>\n",
       "      <td>2</td>\n",
       "      <td>134,603.88</td>\n",
       "      <td>1</td>\n",
       "      <td>1</td>\n",
       "      <td>1</td>\n",
       "      <td>71,725.73</td>\n",
       "      <td>0</td>\n",
       "    </tr>\n",
       "  </tbody>\n",
       "</table>\n",
       "</div>"
      ],
      "text/plain": [
       "     userid  score            City Gender  Age  Objects    Balance  Products  \\\n",
       "0  15677338  619    Ярославль       Ж      42   2       NaN         1          \n",
       "1  15690047  608    Рыбинск         Ж      41   1       83,807.86   1          \n",
       "2  15662040  502    Ярославль       Ж      42   8       159,660.80  3          \n",
       "3  15744090  699    Ярославль       Ж      39   1       NaN         2          \n",
       "4  15780624  850    Рыбинск         Ж      43   2       125,510.82  1          \n",
       "5  15616748  645    Рыбинск         М      44   8       113,755.78  2          \n",
       "6  15635267  822    Ярославль       М      50   7       NaN         2          \n",
       "7  15698884  376    Ростов Великий  Ж      29   4       115,046.74  4          \n",
       "8  15835101  501    Ярославль       М      44   4       142,051.07  2          \n",
       "9  15635125  684    Ярославль       М      27   2       134,603.88  1          \n",
       "\n",
       "   CreditCard  Loyalty  estimated_salary  Churn  \n",
       "0  1           1       101,348.88         1      \n",
       "1  0           1       112,542.58         0      \n",
       "2  1           0       113,931.57         1      \n",
       "3  0           0       93,826.63          0      \n",
       "4  1           1       79,084.10          0      \n",
       "5  1           0       149,756.71         1      \n",
       "6  1           1       10,062.80          0      \n",
       "7  1           0       119,346.88         1      \n",
       "8  0           1       74,940.50          0      \n",
       "9  1           1       71,725.73          0      "
      ]
     },
     "execution_count": 4,
     "metadata": {},
     "output_type": "execute_result"
    }
   ],
   "source": [
    "# посмотрим на первые десять строк таблицы\n",
    "\n",
    "data.head(10)"
   ]
  },
  {
   "cell_type": "markdown",
   "metadata": {},
   "source": [
    "### Предварительный вывод и шаги предобработки данных"
   ]
  },
  {
   "cell_type": "markdown",
   "metadata": {},
   "source": [
    "**Промежуточный вывод 1:**"
   ]
  },
  {
   "cell_type": "markdown",
   "metadata": {},
   "source": [
    "В датасете представлено:\n",
    "- 10 000 строк и 12 столбцов, из которых в одном столбце `Balance` с данными о балансе счета клиента имеются 3617 пропусков;\n",
    "- в столбцах представлены три типа данных - строки, целочисленные и вещественные числа. С типом данных все в порядке;\n",
    "\n",
    "Шаги предобработки данных:\n",
    "- приведем названия столбцов в единый регистр и стиль;\n",
    "- проверим характер пропусков в столбце `Balance`;\n",
    "- проверим дубликаты;\n",
    "- приведем значения в столбце `Balance` и `estimated_salary` к целочисленному для удобства;\n",
    "- проведем категоризацию данных."
   ]
  },
  {
   "cell_type": "markdown",
   "metadata": {},
   "source": [
    "## Предобработка данных"
   ]
  },
  {
   "cell_type": "markdown",
   "metadata": {},
   "source": [
    "### Проверка стиля названий и порядка столбцов"
   ]
  },
  {
   "cell_type": "code",
   "execution_count": 5,
   "metadata": {},
   "outputs": [
    {
     "data": {
      "text/plain": [
       "Index(['user_id', 'score', 'city', 'gender', 'age', 'objects', 'balance',\n",
       "       'products', 'credit_card', 'loyalty', 'estimated_salary', 'churn'],\n",
       "      dtype='object')"
      ]
     },
     "execution_count": 5,
     "metadata": {},
     "output_type": "execute_result"
    }
   ],
   "source": [
    "# приведем названия столбцов к нижнему регистру, изменим стиль названия\n",
    "\n",
    "data.columns = data.columns.str.lower()\n",
    "data = data.rename(columns={'userid' : 'user_id', 'creditcard': 'credit_card'})\n",
    "\n",
    "data.columns"
   ]
  },
  {
   "cell_type": "markdown",
   "metadata": {},
   "source": [
    "### Проверка пропусков"
   ]
  },
  {
   "cell_type": "code",
   "execution_count": 6,
   "metadata": {},
   "outputs": [
    {
     "data": {
      "text/plain": [
       "3617"
      ]
     },
     "execution_count": 6,
     "metadata": {},
     "output_type": "execute_result"
    }
   ],
   "source": [
    "# проверим количество пропущенных значений в столбце Balance\n",
    "\n",
    "len(data[data['balance'].isna()])"
   ]
  },
  {
   "cell_type": "markdown",
   "metadata": {},
   "source": [
    "Более чем 3-я часть пропущенных значений, удалить их мы не можем. Предположим, что пропуски в этом столбце означают отсутствие у клиента счета в банке (например, дебетовой карты), а значит можно заменить пропущенные значения на нули."
   ]
  },
  {
   "cell_type": "code",
   "execution_count": 7,
   "metadata": {},
   "outputs": [],
   "source": [
    "# произведем замену пропусков на нули\n",
    "\n",
    "data['balance'] = data['balance'].fillna(0)"
   ]
  },
  {
   "cell_type": "markdown",
   "metadata": {},
   "source": [
    "Посмотрим на характер и признаки пропусков (уже заполненных нулями). Для этого создадим отдельный датафрейм для клиентов с нулевым балансом"
   ]
  },
  {
   "cell_type": "code",
   "execution_count": 8,
   "metadata": {},
   "outputs": [
    {
     "data": {
      "text/html": [
       "<div>\n",
       "<style scoped>\n",
       "    .dataframe tbody tr th:only-of-type {\n",
       "        vertical-align: middle;\n",
       "    }\n",
       "\n",
       "    .dataframe tbody tr th {\n",
       "        vertical-align: top;\n",
       "    }\n",
       "\n",
       "    .dataframe thead th {\n",
       "        text-align: right;\n",
       "    }\n",
       "</style>\n",
       "<table border=\"1\" class=\"dataframe\">\n",
       "  <thead>\n",
       "    <tr style=\"text-align: right;\">\n",
       "      <th></th>\n",
       "      <th>city</th>\n",
       "    </tr>\n",
       "  </thead>\n",
       "  <tbody>\n",
       "    <tr>\n",
       "      <th>Ярославль</th>\n",
       "      <td>2418</td>\n",
       "    </tr>\n",
       "    <tr>\n",
       "      <th>Рыбинск</th>\n",
       "      <td>1199</td>\n",
       "    </tr>\n",
       "  </tbody>\n",
       "</table>\n",
       "</div>"
      ],
      "text/plain": [
       "           city\n",
       "Ярославль  2418\n",
       "Рыбинск    1199"
      ]
     },
     "execution_count": 8,
     "metadata": {},
     "output_type": "execute_result"
    }
   ],
   "source": [
    "# создадим отдельный датафрейм и посмотрим на распределение между городами для клиентов с нулевым балансом\n",
    "\n",
    "balance_null = data[data['balance'] == 0]\n",
    "balance_null['city'].value_counts().to_frame()"
   ]
  },
  {
   "cell_type": "code",
   "execution_count": 9,
   "metadata": {},
   "outputs": [
    {
     "data": {
      "text/html": [
       "<div>\n",
       "<style scoped>\n",
       "    .dataframe tbody tr th:only-of-type {\n",
       "        vertical-align: middle;\n",
       "    }\n",
       "\n",
       "    .dataframe tbody tr th {\n",
       "        vertical-align: top;\n",
       "    }\n",
       "\n",
       "    .dataframe thead th {\n",
       "        text-align: right;\n",
       "    }\n",
       "</style>\n",
       "<table border=\"1\" class=\"dataframe\">\n",
       "  <thead>\n",
       "    <tr style=\"text-align: right;\">\n",
       "      <th></th>\n",
       "      <th>loyalty</th>\n",
       "    </tr>\n",
       "  </thead>\n",
       "  <tbody>\n",
       "    <tr>\n",
       "      <th>1</th>\n",
       "      <td>1873</td>\n",
       "    </tr>\n",
       "    <tr>\n",
       "      <th>0</th>\n",
       "      <td>1744</td>\n",
       "    </tr>\n",
       "  </tbody>\n",
       "</table>\n",
       "</div>"
      ],
      "text/plain": [
       "   loyalty\n",
       "1  1873   \n",
       "0  1744   "
      ]
     },
     "execution_count": 9,
     "metadata": {},
     "output_type": "execute_result"
    }
   ],
   "source": [
    "# посмотрим на активность клиента с нулевым балансом\n",
    "\n",
    "balance_null['loyalty'].value_counts().to_frame()"
   ]
  },
  {
   "cell_type": "code",
   "execution_count": 10,
   "metadata": {},
   "outputs": [
    {
     "data": {
      "text/html": [
       "<div>\n",
       "<style scoped>\n",
       "    .dataframe tbody tr th:only-of-type {\n",
       "        vertical-align: middle;\n",
       "    }\n",
       "\n",
       "    .dataframe tbody tr th {\n",
       "        vertical-align: top;\n",
       "    }\n",
       "\n",
       "    .dataframe thead th {\n",
       "        text-align: right;\n",
       "    }\n",
       "</style>\n",
       "<table border=\"1\" class=\"dataframe\">\n",
       "  <thead>\n",
       "    <tr style=\"text-align: right;\">\n",
       "      <th></th>\n",
       "      <th>credit_card</th>\n",
       "    </tr>\n",
       "  </thead>\n",
       "  <tbody>\n",
       "    <tr>\n",
       "      <th>1</th>\n",
       "      <td>2592</td>\n",
       "    </tr>\n",
       "    <tr>\n",
       "      <th>0</th>\n",
       "      <td>1025</td>\n",
       "    </tr>\n",
       "  </tbody>\n",
       "</table>\n",
       "</div>"
      ],
      "text/plain": [
       "   credit_card\n",
       "1  2592       \n",
       "0  1025       "
      ]
     },
     "execution_count": 10,
     "metadata": {},
     "output_type": "execute_result"
    }
   ],
   "source": [
    "# посмотрим на наличие кредитной карты у клиента с нулевым балансом\n",
    "\n",
    "balance_null['credit_card'].value_counts().to_frame()"
   ]
  },
  {
   "cell_type": "code",
   "execution_count": 11,
   "metadata": {},
   "outputs": [
    {
     "data": {
      "text/html": [
       "<div>\n",
       "<style scoped>\n",
       "    .dataframe tbody tr th:only-of-type {\n",
       "        vertical-align: middle;\n",
       "    }\n",
       "\n",
       "    .dataframe tbody tr th {\n",
       "        vertical-align: top;\n",
       "    }\n",
       "\n",
       "    .dataframe thead th {\n",
       "        text-align: right;\n",
       "    }\n",
       "</style>\n",
       "<table border=\"1\" class=\"dataframe\">\n",
       "  <thead>\n",
       "    <tr style=\"text-align: right;\">\n",
       "      <th></th>\n",
       "      <th>churn</th>\n",
       "    </tr>\n",
       "  </thead>\n",
       "  <tbody>\n",
       "    <tr>\n",
       "      <th>0</th>\n",
       "      <td>3117</td>\n",
       "    </tr>\n",
       "    <tr>\n",
       "      <th>1</th>\n",
       "      <td>500</td>\n",
       "    </tr>\n",
       "  </tbody>\n",
       "</table>\n",
       "</div>"
      ],
      "text/plain": [
       "   churn\n",
       "0  3117 \n",
       "1  500  "
      ]
     },
     "execution_count": 11,
     "metadata": {},
     "output_type": "execute_result"
    }
   ],
   "source": [
    "# теперь посмотрим на количество действующих и ушедших клиентов с нулевым балансом\n",
    "\n",
    "balance_null['churn'].value_counts().to_frame()"
   ]
  },
  {
   "cell_type": "markdown",
   "metadata": {},
   "source": [
    "Нулевые значения в значениях баланса на счете встречаются:\n",
    "- в 2-х городах из 3-х, в Ярославле - 2418, в Рыбинске - 1199;\n",
    "- активность клиентов распределяется примерно поровну;\n",
    "- у 2592 клиентов есть, 1025 - не имеют кредитной карты;\n",
    "- 3117 действующих и 500 ушедших клиентов.\n",
    "\n",
    "Характер и признаки нулевых значений в значениях баланса на счете клиента выявить не удалось. Возможно это просто незаполненные данные, либо техническая особенность системы для клиентов не имеющих дебетовой карты."
   ]
  },
  {
   "cell_type": "markdown",
   "metadata": {},
   "source": [
    "### Проверка дубликатов"
   ]
  },
  {
   "cell_type": "code",
   "execution_count": 12,
   "metadata": {},
   "outputs": [
    {
     "data": {
      "text/plain": [
       "0"
      ]
     },
     "execution_count": 12,
     "metadata": {},
     "output_type": "execute_result"
    }
   ],
   "source": [
    "# проверим количество дубликатов\n",
    "\n",
    "data.duplicated().sum()"
   ]
  },
  {
   "cell_type": "markdown",
   "metadata": {},
   "source": [
    "### Проверка соответствия типов данных"
   ]
  },
  {
   "cell_type": "code",
   "execution_count": 13,
   "metadata": {},
   "outputs": [],
   "source": [
    "# для удобства приведем столбец с балансом и зарплатой к целочисленному типу\n",
    "\n",
    "data['balance'] = data['balance'].astype('int')\n",
    "data['estimated_salary'] = data['estimated_salary'].astype('int')"
   ]
  },
  {
   "cell_type": "code",
   "execution_count": 14,
   "metadata": {},
   "outputs": [
    {
     "name": "stdout",
     "output_type": "stream",
     "text": [
      "<class 'pandas.core.frame.DataFrame'>\n",
      "RangeIndex: 10000 entries, 0 to 9999\n",
      "Data columns (total 12 columns):\n",
      " #   Column            Non-Null Count  Dtype \n",
      "---  ------            --------------  ----- \n",
      " 0   user_id           10000 non-null  int64 \n",
      " 1   score             10000 non-null  int64 \n",
      " 2   city              10000 non-null  object\n",
      " 3   gender            10000 non-null  object\n",
      " 4   age               10000 non-null  int64 \n",
      " 5   objects           10000 non-null  int64 \n",
      " 6   balance           10000 non-null  int64 \n",
      " 7   products          10000 non-null  int64 \n",
      " 8   credit_card       10000 non-null  int64 \n",
      " 9   loyalty           10000 non-null  int64 \n",
      " 10  estimated_salary  10000 non-null  int64 \n",
      " 11  churn             10000 non-null  int64 \n",
      "dtypes: int64(10), object(2)\n",
      "memory usage: 937.6+ KB\n"
     ]
    }
   ],
   "source": [
    "# проверим корректность замены после предобработки\n",
    "\n",
    "data.info()"
   ]
  },
  {
   "cell_type": "markdown",
   "metadata": {},
   "source": [
    "### Категоризация данных"
   ]
  },
  {
   "cell_type": "code",
   "execution_count": 15,
   "metadata": {},
   "outputs": [],
   "source": [
    "# для категоризации создадим копию датафрейма\n",
    "\n",
    "data_category = data.copy()"
   ]
  },
  {
   "cell_type": "markdown",
   "metadata": {},
   "source": [
    "#### Категоризация по баллам кредитного скоринга"
   ]
  },
  {
   "cell_type": "code",
   "execution_count": 16,
   "metadata": {},
   "outputs": [],
   "source": [
    "# напишем функцию по категоризации баллов кредитного скоринга и добавим новый столбец в таблицу\n",
    "\n",
    "def score_category(data_category):\n",
    "    \n",
    "    if data_category['score'] < 600:\n",
    "        return 'низкий балл'\n",
    "    elif data_category['score'] <= 700:\n",
    "        return 'средний балл'\n",
    "    else:\n",
    "        return 'высокий балл'\n",
    "\n",
    "data_category['score_category'] = data_category.apply(score_category, axis=1)"
   ]
  },
  {
   "cell_type": "code",
   "execution_count": 17,
   "metadata": {},
   "outputs": [
    {
     "data": {
      "text/html": [
       "<div>\n",
       "<style scoped>\n",
       "    .dataframe tbody tr th:only-of-type {\n",
       "        vertical-align: middle;\n",
       "    }\n",
       "\n",
       "    .dataframe tbody tr th {\n",
       "        vertical-align: top;\n",
       "    }\n",
       "\n",
       "    .dataframe thead th {\n",
       "        text-align: right;\n",
       "    }\n",
       "</style>\n",
       "<table border=\"1\" class=\"dataframe\">\n",
       "  <thead>\n",
       "    <tr style=\"text-align: right;\">\n",
       "      <th></th>\n",
       "      <th>score_category</th>\n",
       "      <th>amount</th>\n",
       "    </tr>\n",
       "  </thead>\n",
       "  <tbody>\n",
       "    <tr>\n",
       "      <th>0</th>\n",
       "      <td>средний балл</td>\n",
       "      <td>3850</td>\n",
       "    </tr>\n",
       "    <tr>\n",
       "      <th>1</th>\n",
       "      <td>высокий балл</td>\n",
       "      <td>3116</td>\n",
       "    </tr>\n",
       "    <tr>\n",
       "      <th>2</th>\n",
       "      <td>низкий балл</td>\n",
       "      <td>3034</td>\n",
       "    </tr>\n",
       "  </tbody>\n",
       "</table>\n",
       "</div>"
      ],
      "text/plain": [
       "  score_category  amount\n",
       "0  средний балл   3850  \n",
       "1  высокий балл   3116  \n",
       "2  низкий балл    3034  "
      ]
     },
     "execution_count": 17,
     "metadata": {},
     "output_type": "execute_result"
    }
   ],
   "source": [
    "# посмотрим на количество клиентов в разрезе баллов кредитного скоринга\n",
    "\n",
    "score_category = data_category['score_category'].value_counts().to_frame().reset_index()\n",
    "score_category.columns = ['score_category', 'amount']\n",
    "score_category"
   ]
  },
  {
   "cell_type": "code",
   "execution_count": 18,
   "metadata": {},
   "outputs": [
    {
     "data": {
      "image/png": "[encoded data removed]",
      "text/plain": [
       "<Figure size 864x360 with 1 Axes>"
      ]
     },
     "metadata": {},
     "output_type": "display_data"
    }
   ],
   "source": [
    "# построим гистограмму с отображением баллов кредитного скоринга и их количеством\n",
    "\n",
    "sns.barplot(x = 'score_category', y = 'amount', palette = 'pastel', data = score_category,\n",
    "           order=[\"высокий балл\", \"средний балл\", \"низкий балл\"])\n",
    "plt.ylabel('Количество клиентов')\n",
    "plt.xlabel('Категория баллов кредитоного скоринга')\n",
    "plt.title('Количество клиентов по категории \"баллы кредитного скоринга\"')\n",
    "plt.xticks(rotation=25);"
   ]
  },
  {
   "cell_type": "markdown",
   "metadata": {},
   "source": [
    "Почти 40% клиентов имеют средний балл кредитного скоринга (что, по данным из Интернета достаточно для одобрения кредита). Около 31% клиентов имеют высокий и 30% - низкий баллы."
   ]
  },
  {
   "cell_type": "markdown",
   "metadata": {},
   "source": [
    "#### Категоризация по возрасту"
   ]
  },
  {
   "cell_type": "code",
   "execution_count": 19,
   "metadata": {},
   "outputs": [],
   "source": [
    "# напишем функцию по категоризации возраста и добавим новый столбец в таблицу\n",
    "\n",
    "def age_category(data_category):\n",
    "    \n",
    "    if data_category['age'] <= 45:\n",
    "        return '18-45 лет'\n",
    "    elif data_category['age'] <= 60:\n",
    "        return '46-60 лет'\n",
    "    else:\n",
    "        return 'старше 61 года'\n",
    "\n",
    "data_category['age_category'] = data_category.apply(age_category, axis=1)"
   ]
  },
  {
   "cell_type": "code",
   "execution_count": 20,
   "metadata": {},
   "outputs": [
    {
     "data": {
      "text/html": [
       "<div>\n",
       "<style scoped>\n",
       "    .dataframe tbody tr th:only-of-type {\n",
       "        vertical-align: middle;\n",
       "    }\n",
       "\n",
       "    .dataframe tbody tr th {\n",
       "        vertical-align: top;\n",
       "    }\n",
       "\n",
       "    .dataframe thead th {\n",
       "        text-align: right;\n",
       "    }\n",
       "</style>\n",
       "<table border=\"1\" class=\"dataframe\">\n",
       "  <thead>\n",
       "    <tr style=\"text-align: right;\">\n",
       "      <th></th>\n",
       "      <th>age_category</th>\n",
       "      <th>amount</th>\n",
       "    </tr>\n",
       "  </thead>\n",
       "  <tbody>\n",
       "    <tr>\n",
       "      <th>0</th>\n",
       "      <td>18-45 лет</td>\n",
       "      <td>7889</td>\n",
       "    </tr>\n",
       "    <tr>\n",
       "      <th>1</th>\n",
       "      <td>46-60 лет</td>\n",
       "      <td>1647</td>\n",
       "    </tr>\n",
       "    <tr>\n",
       "      <th>2</th>\n",
       "      <td>старше 61 года</td>\n",
       "      <td>464</td>\n",
       "    </tr>\n",
       "  </tbody>\n",
       "</table>\n",
       "</div>"
      ],
      "text/plain": [
       "     age_category  amount\n",
       "0  18-45 лет       7889  \n",
       "1  46-60 лет       1647  \n",
       "2  старше 61 года  464   "
      ]
     },
     "execution_count": 20,
     "metadata": {},
     "output_type": "execute_result"
    }
   ],
   "source": [
    "# посмотрим на количество клиентов в разрезе по возрасту\n",
    "\n",
    "age_category = data_category['age_category'].value_counts().to_frame().reset_index()\n",
    "age_category.columns = ['age_category', 'amount']\n",
    "age_category"
   ]
  },
  {
   "cell_type": "code",
   "execution_count": 21,
   "metadata": {},
   "outputs": [
    {
     "data": {
      "image/png": "[encoded data removed]",
      "text/plain": [
       "<Figure size 864x360 with 1 Axes>"
      ]
     },
     "metadata": {},
     "output_type": "display_data"
    }
   ],
   "source": [
    "# построим гистограмму с отображением возрастных категорий клиентов и их количеством\n",
    "\n",
    "sns.barplot(x = 'age_category', y = 'amount', palette = 'pastel', data = age_category)\n",
    "plt.ylabel('Количество клиентов')\n",
    "plt.xlabel('Категория возраста')\n",
    "plt.title('Количество клиентов по категории \"возраст\"')\n",
    "plt.xticks(rotation=25);"
   ]
  },
  {
   "cell_type": "markdown",
   "metadata": {},
   "source": [
    "В данной категории почти 80% клиентов от 18 до 45 лет, около 15% - в диапазоне от 46 до 60 лет, около 5% - старше 61 года."
   ]
  },
  {
   "cell_type": "markdown",
   "metadata": {},
   "source": [
    "#### Категоризация по количеству объектов в собственности"
   ]
  },
  {
   "cell_type": "code",
   "execution_count": 22,
   "metadata": {},
   "outputs": [],
   "source": [
    "# напишем функцию по категоризации количества объектов в собственности и добавим новый столбец в таблицу\n",
    "\n",
    "def objects_category(data_category):\n",
    "    \n",
    "    if data_category['objects'] == 0:\n",
    "        return 'нет объектов'\n",
    "    elif data_category['objects'] < 3:\n",
    "        return '1-2 объекта'\n",
    "    elif data_category['objects'] <= 5:\n",
    "        return '3-5 объектов'\n",
    "    else:\n",
    "        return 'более 5 объектов'\n",
    "\n",
    "data_category['objects_category'] = data_category.apply(objects_category, axis=1)"
   ]
  },
  {
   "cell_type": "code",
   "execution_count": 23,
   "metadata": {},
   "outputs": [
    {
     "data": {
      "text/html": [
       "<div>\n",
       "<style scoped>\n",
       "    .dataframe tbody tr th:only-of-type {\n",
       "        vertical-align: middle;\n",
       "    }\n",
       "\n",
       "    .dataframe tbody tr th {\n",
       "        vertical-align: top;\n",
       "    }\n",
       "\n",
       "    .dataframe thead th {\n",
       "        text-align: right;\n",
       "    }\n",
       "</style>\n",
       "<table border=\"1\" class=\"dataframe\">\n",
       "  <thead>\n",
       "    <tr style=\"text-align: right;\">\n",
       "      <th></th>\n",
       "      <th>objects_category</th>\n",
       "      <th>amount</th>\n",
       "    </tr>\n",
       "  </thead>\n",
       "  <tbody>\n",
       "    <tr>\n",
       "      <th>0</th>\n",
       "      <td>более 5 объектов</td>\n",
       "      <td>4494</td>\n",
       "    </tr>\n",
       "    <tr>\n",
       "      <th>1</th>\n",
       "      <td>3-5 объектов</td>\n",
       "      <td>3010</td>\n",
       "    </tr>\n",
       "    <tr>\n",
       "      <th>2</th>\n",
       "      <td>1-2 объекта</td>\n",
       "      <td>2083</td>\n",
       "    </tr>\n",
       "    <tr>\n",
       "      <th>3</th>\n",
       "      <td>нет объектов</td>\n",
       "      <td>413</td>\n",
       "    </tr>\n",
       "  </tbody>\n",
       "</table>\n",
       "</div>"
      ],
      "text/plain": [
       "   objects_category  amount\n",
       "0  более 5 объектов  4494  \n",
       "1  3-5 объектов      3010  \n",
       "2  1-2 объекта       2083  \n",
       "3  нет объектов      413   "
      ]
     },
     "execution_count": 23,
     "metadata": {},
     "output_type": "execute_result"
    }
   ],
   "source": [
    "# посмотрим на количество клиентов в разрезе по количеству объектов в собственности\n",
    "\n",
    "objects_category = data_category['objects_category'].value_counts().to_frame().reset_index()\n",
    "objects_category.columns = ['objects_category', 'amount']\n",
    "objects_category"
   ]
  },
  {
   "cell_type": "code",
   "execution_count": 24,
   "metadata": {},
   "outputs": [
    {
     "data": {
      "image/png": "[encoded data removed]",
      "text/plain": [
       "<Figure size 864x360 with 1 Axes>"
      ]
     },
     "metadata": {},
     "output_type": "display_data"
    }
   ],
   "source": [
    "# построим гистограмму с отображением категории объектов в собственности клиентов\n",
    "\n",
    "sns.barplot(x = 'objects_category', y = 'amount', palette = 'pastel', data = objects_category)\n",
    "plt.ylabel('Количество клиентов')\n",
    "plt.xlabel('Категория количества объектов в собственности')\n",
    "plt.title('Количество клиентов по категории \"количество объектов в собственности\"')\n",
    "plt.xticks(rotation=25);"
   ]
  },
  {
   "cell_type": "markdown",
   "metadata": {},
   "source": [
    "У 45% клиентов в собственности более 5 объектов, что довольно неожиданно. 30% имеет от 3 до 5 объектов, 20% - от 1 до 2 объектов, и около 4% не имеет объектов."
   ]
  },
  {
   "cell_type": "markdown",
   "metadata": {},
   "source": [
    "#### Категоризация по балансу на счете"
   ]
  },
  {
   "cell_type": "code",
   "execution_count": 25,
   "metadata": {},
   "outputs": [],
   "source": [
    "# напишем функцию по категоризации баланса на счете и добавим новый столбец в таблицу\n",
    "\n",
    "def balance_category(data_category):\n",
    "    \n",
    "    if data_category['balance'] <= 5000:\n",
    "        return 'менее 5000'\n",
    "    elif data_category['balance'] <= 30000:\n",
    "        return '5 000 - 30 000'\n",
    "    elif data_category['balance'] <= 50000:\n",
    "        return '30 000 - 50 000'\n",
    "    elif data_category['balance'] <= 100000:\n",
    "        return '50 000 - 100 000'\n",
    "    else:\n",
    "        return 'более 100 000'\n",
    "\n",
    "data_category['balance_category'] = data_category.apply(balance_category, axis=1)"
   ]
  },
  {
   "cell_type": "code",
   "execution_count": 26,
   "metadata": {},
   "outputs": [
    {
     "data": {
      "text/html": [
       "<div>\n",
       "<style scoped>\n",
       "    .dataframe tbody tr th:only-of-type {\n",
       "        vertical-align: middle;\n",
       "    }\n",
       "\n",
       "    .dataframe tbody tr th {\n",
       "        vertical-align: top;\n",
       "    }\n",
       "\n",
       "    .dataframe thead th {\n",
       "        text-align: right;\n",
       "    }\n",
       "</style>\n",
       "<table border=\"1\" class=\"dataframe\">\n",
       "  <thead>\n",
       "    <tr style=\"text-align: right;\">\n",
       "      <th></th>\n",
       "      <th>balance_category</th>\n",
       "      <th>amount</th>\n",
       "    </tr>\n",
       "  </thead>\n",
       "  <tbody>\n",
       "    <tr>\n",
       "      <th>0</th>\n",
       "      <td>более 100 000</td>\n",
       "      <td>4799</td>\n",
       "    </tr>\n",
       "    <tr>\n",
       "      <th>1</th>\n",
       "      <td>менее 5000</td>\n",
       "      <td>3618</td>\n",
       "    </tr>\n",
       "    <tr>\n",
       "      <th>2</th>\n",
       "      <td>50 000 - 100 000</td>\n",
       "      <td>1509</td>\n",
       "    </tr>\n",
       "    <tr>\n",
       "      <th>3</th>\n",
       "      <td>30 000 - 50 000</td>\n",
       "      <td>63</td>\n",
       "    </tr>\n",
       "    <tr>\n",
       "      <th>4</th>\n",
       "      <td>5 000 - 30 000</td>\n",
       "      <td>11</td>\n",
       "    </tr>\n",
       "  </tbody>\n",
       "</table>\n",
       "</div>"
      ],
      "text/plain": [
       "   balance_category  amount\n",
       "0  более 100 000     4799  \n",
       "1  менее 5000        3618  \n",
       "2  50 000 - 100 000  1509  \n",
       "3  30 000 - 50 000   63    \n",
       "4  5 000 - 30 000    11    "
      ]
     },
     "execution_count": 26,
     "metadata": {},
     "output_type": "execute_result"
    }
   ],
   "source": [
    "# посмотрим на количество клиентов в разрезе по балансу на счете\n",
    "\n",
    "balance_category = data_category['balance_category'].value_counts().to_frame().reset_index()\n",
    "balance_category.columns = ['balance_category', 'amount']\n",
    "balance_category"
   ]
  },
  {
   "cell_type": "code",
   "execution_count": 27,
   "metadata": {},
   "outputs": [
    {
     "data": {
      "image/png": "[encoded data removed]",
      "text/plain": [
       "<Figure size 864x360 with 1 Axes>"
      ]
     },
     "metadata": {},
     "output_type": "display_data"
    }
   ],
   "source": [
    "# построим гистограмму с отображением количества клиентов в разрезе по балансу на счете\n",
    "\n",
    "sns.barplot(x = 'balance_category', y = 'amount', palette = 'pastel', data = balance_category, \n",
    "            order=[\"более 100 000\", \"50 000 - 100 000\", \"30 000 - 50 000\", \"5 000 - 30 000\", \"менее 5000\"])\n",
    "plt.ylabel('Количество клиентов')\n",
    "plt.xlabel('Категория баланса на счете')\n",
    "plt.title('Количество клиентов по категории \"баланс на счете\"')\n",
    "plt.xticks(rotation=25);"
   ]
  },
  {
   "cell_type": "markdown",
   "metadata": {},
   "source": [
    "Почти 50% клиентов имеют на счете более 100 000, 15% - от 50 до 100 тысяч. В категории от 30 до 50 тысяч около 6%, от 5 до 30 тысяч - около 1%. Внушительный процент имеет менее 5000 на счете - около 36%."
   ]
  },
  {
   "cell_type": "markdown",
   "metadata": {},
   "source": [
    "#### Категоризация по заработной плате клиента"
   ]
  },
  {
   "cell_type": "code",
   "execution_count": 28,
   "metadata": {},
   "outputs": [],
   "source": [
    "# напишем функцию по категоризации заработной платы и добавим новый столбец в таблицу\n",
    "\n",
    "def salary_category(data_category):\n",
    "    \n",
    "    if data_category['estimated_salary'] <= 50000:\n",
    "        return 'низкий достаток'\n",
    "    elif data_category['estimated_salary'] <= 100000:\n",
    "        return 'средний достаток'\n",
    "    else:\n",
    "        return 'высокий достаток'\n",
    "\n",
    "data_category['salary_category'] = data_category.apply(salary_category, axis=1)"
   ]
  },
  {
   "cell_type": "code",
   "execution_count": 29,
   "metadata": {},
   "outputs": [
    {
     "data": {
      "text/html": [
       "<div>\n",
       "<style scoped>\n",
       "    .dataframe tbody tr th:only-of-type {\n",
       "        vertical-align: middle;\n",
       "    }\n",
       "\n",
       "    .dataframe tbody tr th {\n",
       "        vertical-align: top;\n",
       "    }\n",
       "\n",
       "    .dataframe thead th {\n",
       "        text-align: right;\n",
       "    }\n",
       "</style>\n",
       "<table border=\"1\" class=\"dataframe\">\n",
       "  <thead>\n",
       "    <tr style=\"text-align: right;\">\n",
       "      <th></th>\n",
       "      <th>salary_category</th>\n",
       "      <th>amount</th>\n",
       "    </tr>\n",
       "  </thead>\n",
       "  <tbody>\n",
       "    <tr>\n",
       "      <th>0</th>\n",
       "      <td>высокий достаток</td>\n",
       "      <td>5010</td>\n",
       "    </tr>\n",
       "    <tr>\n",
       "      <th>1</th>\n",
       "      <td>средний достаток</td>\n",
       "      <td>2537</td>\n",
       "    </tr>\n",
       "    <tr>\n",
       "      <th>2</th>\n",
       "      <td>низкий достаток</td>\n",
       "      <td>2453</td>\n",
       "    </tr>\n",
       "  </tbody>\n",
       "</table>\n",
       "</div>"
      ],
      "text/plain": [
       "    salary_category  amount\n",
       "0  высокий достаток  5010  \n",
       "1  средний достаток  2537  \n",
       "2  низкий достаток   2453  "
      ]
     },
     "execution_count": 29,
     "metadata": {},
     "output_type": "execute_result"
    }
   ],
   "source": [
    "# посмотрим на количество клиентов в разрезе по заработной плате\n",
    "\n",
    "salary_category = data_category['salary_category'].value_counts().to_frame().reset_index()\n",
    "salary_category.columns = ['salary_category', 'amount']\n",
    "salary_category"
   ]
  },
  {
   "cell_type": "code",
   "execution_count": 30,
   "metadata": {},
   "outputs": [
    {
     "data": {
      "image/png": "[encoded data removed]",
      "text/plain": [
       "<Figure size 864x360 with 1 Axes>"
      ]
     },
     "metadata": {},
     "output_type": "display_data"
    }
   ],
   "source": [
    "# построим гистограмму с отображением категорий заработной платы клиентов\n",
    "\n",
    "sns.barplot(x = 'salary_category', y = 'amount', palette = 'pastel', data = salary_category)\n",
    "plt.ylabel('Количество клиентов')\n",
    "plt.xlabel('Категория заработной платы клиентов')\n",
    "plt.title('Количество клиентов по категории \"заработная плата\"')\n",
    "plt.xticks(rotation=25);"
   ]
  },
  {
   "cell_type": "markdown",
   "metadata": {},
   "source": [
    "50% клиентов имеют высокий достаток, около 25% клиентов имеют средний и низкий достатки."
   ]
  },
  {
   "cell_type": "markdown",
   "metadata": {},
   "source": [
    "**Промежуточный вывод 2:**"
   ]
  },
  {
   "cell_type": "markdown",
   "metadata": {},
   "source": [
    "*Проведена предобработка данных:*\n",
    "\n",
    "- привели названия столбцов к нижнему регистру, изменили стиль названия;\n",
    "- проверили количество пропущенных значений в столбце Balance - 3617 из 10 000. Провели замену пропущенных значений на нули на основании предположения, что пропуски означают отсутствие у клиента счета в банке (например, дебетовой карты);\n",
    "- проверили характер пропущенных (нулевых) значений, которые встречаются:\n",
    "    - в 2-х городах из 3-х, в Ярославле - 2418, в Рыбинске - 1199;\n",
    "    - активность клиентов распределяется примерно поровну;\n",
    "    - у 2592 клиентов есть, 1025 - не имеют кредитной карты;\n",
    "    - 3117 действующих и 500 ушедших клиентов.\n",
    "    - характер и признаки нулевых значений в значениях баланса на счете клиента выявить не удалось. Возможно это просто незаполненные данные, либо техническая особенность системы для клиентов не имеющих дебетовой карты.\n",
    "- проверили количество дубликатов - их нет;\n",
    "- для удобства привели значения столбцов с балансом и зарплатой к целочисленному типу.\n",
    "\n",
    "*Проведена категоризация данных*\n",
    "\n",
    "- **Баллы кредитного скоринга** - почти 40% клиентов имеют средний балл (что, по данным из Интернета достаточно для одобрения кредита). Около 31% клиентов имеют высокий и 30% - низкий баллы.\n",
    "- **Возраст** -  почти 80% клиентов от 18 до 45 лет, около 15% - в диапазоне от 46 до 60 лет, около 5% - старше 61 года.\n",
    "- **Число объектов в собственности клиента** - у 45% клиентов в собственности более 5 объектов, что довольно неожиданно. 30% имеет от 3 до 5 объектов, 20% - от 1 до 2 объектов, и около 4% не имеет объектов.\n",
    "- **Баланс на счете** - почти 50% клиентов имеют на счете более 100 000, 15% - от 50 до 100 тысяч. В категории от 30 до 50 тысяч около 6%, от 5 до 30 тысяч - около 1%. Внушительный процент имеет менее 5000 на счете - около 36%.\n",
    "- **Заработная плата** - 50% клиентов имеют высокий достаток, около 25% клиентов имеют средний и низкий достатки."
   ]
  },
  {
   "cell_type": "markdown",
   "metadata": {},
   "source": [
    "## Исследовательский анализ данных"
   ]
  },
  {
   "cell_type": "markdown",
   "metadata": {},
   "source": [
    "### Анализ распределения средних значений параметров"
   ]
  },
  {
   "cell_type": "code",
   "execution_count": 31,
   "metadata": {},
   "outputs": [
    {
     "data": {
      "text/html": [
       "<div>\n",
       "<style scoped>\n",
       "    .dataframe tbody tr th:only-of-type {\n",
       "        vertical-align: middle;\n",
       "    }\n",
       "\n",
       "    .dataframe tbody tr th {\n",
       "        vertical-align: top;\n",
       "    }\n",
       "\n",
       "    .dataframe thead th {\n",
       "        text-align: right;\n",
       "    }\n",
       "</style>\n",
       "<table border=\"1\" class=\"dataframe\">\n",
       "  <thead>\n",
       "    <tr style=\"text-align: right;\">\n",
       "      <th></th>\n",
       "      <th>user_id</th>\n",
       "      <th>score</th>\n",
       "      <th>age</th>\n",
       "      <th>objects</th>\n",
       "      <th>balance</th>\n",
       "      <th>products</th>\n",
       "      <th>credit_card</th>\n",
       "      <th>loyalty</th>\n",
       "      <th>estimated_salary</th>\n",
       "      <th>churn</th>\n",
       "    </tr>\n",
       "  </thead>\n",
       "  <tbody>\n",
       "    <tr>\n",
       "      <th>count</th>\n",
       "      <td>10,000.00</td>\n",
       "      <td>10,000.00</td>\n",
       "      <td>10,000.00</td>\n",
       "      <td>10,000.00</td>\n",
       "      <td>10,000.00</td>\n",
       "      <td>10,000.00</td>\n",
       "      <td>10,000.00</td>\n",
       "      <td>10,000.00</td>\n",
       "      <td>10,000.00</td>\n",
       "      <td>10,000.00</td>\n",
       "    </tr>\n",
       "    <tr>\n",
       "      <th>mean</th>\n",
       "      <td>15,733,676.57</td>\n",
       "      <td>650.53</td>\n",
       "      <td>38.92</td>\n",
       "      <td>5.01</td>\n",
       "      <td>76,485.57</td>\n",
       "      <td>1.53</td>\n",
       "      <td>0.71</td>\n",
       "      <td>0.52</td>\n",
       "      <td>100,089.75</td>\n",
       "      <td>0.20</td>\n",
       "    </tr>\n",
       "    <tr>\n",
       "      <th>std</th>\n",
       "      <td>71,936.19</td>\n",
       "      <td>96.65</td>\n",
       "      <td>10.49</td>\n",
       "      <td>2.89</td>\n",
       "      <td>62,397.19</td>\n",
       "      <td>0.58</td>\n",
       "      <td>0.46</td>\n",
       "      <td>0.50</td>\n",
       "      <td>57,510.49</td>\n",
       "      <td>0.40</td>\n",
       "    </tr>\n",
       "    <tr>\n",
       "      <th>min</th>\n",
       "      <td>15,608,437.00</td>\n",
       "      <td>350.00</td>\n",
       "      <td>18.00</td>\n",
       "      <td>0.00</td>\n",
       "      <td>0.00</td>\n",
       "      <td>1.00</td>\n",
       "      <td>0.00</td>\n",
       "      <td>0.00</td>\n",
       "      <td>11.00</td>\n",
       "      <td>0.00</td>\n",
       "    </tr>\n",
       "    <tr>\n",
       "      <th>25%</th>\n",
       "      <td>15,671,264.25</td>\n",
       "      <td>584.00</td>\n",
       "      <td>32.00</td>\n",
       "      <td>3.00</td>\n",
       "      <td>0.00</td>\n",
       "      <td>1.00</td>\n",
       "      <td>0.00</td>\n",
       "      <td>0.00</td>\n",
       "      <td>51,001.75</td>\n",
       "      <td>0.00</td>\n",
       "    </tr>\n",
       "    <tr>\n",
       "      <th>50%</th>\n",
       "      <td>15,733,474.00</td>\n",
       "      <td>652.00</td>\n",
       "      <td>37.00</td>\n",
       "      <td>5.00</td>\n",
       "      <td>97,198.00</td>\n",
       "      <td>1.00</td>\n",
       "      <td>1.00</td>\n",
       "      <td>1.00</td>\n",
       "      <td>100,193.50</td>\n",
       "      <td>0.00</td>\n",
       "    </tr>\n",
       "    <tr>\n",
       "      <th>75%</th>\n",
       "      <td>15,795,969.75</td>\n",
       "      <td>718.00</td>\n",
       "      <td>44.00</td>\n",
       "      <td>7.00</td>\n",
       "      <td>127,643.75</td>\n",
       "      <td>2.00</td>\n",
       "      <td>1.00</td>\n",
       "      <td>1.00</td>\n",
       "      <td>149,387.75</td>\n",
       "      <td>0.00</td>\n",
       "    </tr>\n",
       "    <tr>\n",
       "      <th>max</th>\n",
       "      <td>15,858,426.00</td>\n",
       "      <td>850.00</td>\n",
       "      <td>92.00</td>\n",
       "      <td>10.00</td>\n",
       "      <td>250,898.00</td>\n",
       "      <td>4.00</td>\n",
       "      <td>1.00</td>\n",
       "      <td>1.00</td>\n",
       "      <td>199,992.00</td>\n",
       "      <td>1.00</td>\n",
       "    </tr>\n",
       "  </tbody>\n",
       "</table>\n",
       "</div>"
      ],
      "text/plain": [
       "            user_id     score       age   objects    balance  products  \\\n",
       "count 10,000.00     10,000.00 10,000.00 10,000.00 10,000.00  10,000.00   \n",
       "mean  15,733,676.57 650.53    38.92     5.01      76,485.57  1.53        \n",
       "std   71,936.19     96.65     10.49     2.89      62,397.19  0.58        \n",
       "min   15,608,437.00 350.00    18.00     0.00      0.00       1.00        \n",
       "25%   15,671,264.25 584.00    32.00     3.00      0.00       1.00        \n",
       "50%   15,733,474.00 652.00    37.00     5.00      97,198.00  1.00        \n",
       "75%   15,795,969.75 718.00    44.00     7.00      127,643.75 2.00        \n",
       "max   15,858,426.00 850.00    92.00     10.00     250,898.00 4.00        \n",
       "\n",
       "       credit_card   loyalty  estimated_salary     churn  \n",
       "count 10,000.00    10,000.00 10,000.00         10,000.00  \n",
       "mean  0.71         0.52      100,089.75        0.20       \n",
       "std   0.46         0.50      57,510.49         0.40       \n",
       "min   0.00         0.00      11.00             0.00       \n",
       "25%   0.00         0.00      51,001.75         0.00       \n",
       "50%   1.00         1.00      100,193.50        0.00       \n",
       "75%   1.00         1.00      149,387.75        0.00       \n",
       "max   1.00         1.00      199,992.00        1.00       "
      ]
     },
     "execution_count": 31,
     "metadata": {},
     "output_type": "execute_result"
    }
   ],
   "source": [
    "# посмотрим на параметры данных\n",
    "\n",
    "data.describe()"
   ]
  },
  {
   "cell_type": "markdown",
   "metadata": {},
   "source": [
    "- В выборке 10 000 уникальных клиентов;\n",
    "- Разброс баллов кредитного скоринга находятся в пределах от 350 до 850, в среднем 650 на клиента;\n",
    "- Возраст клиентов от 18 до 92 лет, средний возраст - около 39 лет;\n",
    "- Среднее количество объектов в собственности у клиентов - 5, при этом имеются клиенты как без объектов, так и с 10 объектами;\n",
    "- Средний баланс на счете около 80 000 с учетом того, что мы заменили пропущенные значения на нули;\n",
    "- Продуктами пользуются все клиенты, в среднем - 1-2 продуктами;\n",
    "- Кредитной картой в среднем пользуются около 70% клиентов;\n",
    "- Средняя активность клиентов всего чуть более 50%;\n",
    "- Заработная плата в среднем около 100 000. При этом довольно много клиентов с высоким доходом более 100 000;\n",
    "- Средняя доля оттока 20%."
   ]
  },
  {
   "cell_type": "markdown",
   "metadata": {},
   "source": [
    "#### Изучение влияния категориальных параметров на отток клиентов"
   ]
  },
  {
   "cell_type": "code",
   "execution_count": 32,
   "metadata": {
    "scrolled": false
   },
   "outputs": [
    {
     "data": {
      "image/png": "[encoded data removed]",
      "text/plain": [
       "<Figure size 864x360 with 1 Axes>"
      ]
     },
     "metadata": {},
     "output_type": "display_data"
    },
    {
     "data": {
      "image/png": "[encoded data removed]",
      "text/plain": [
       "<Figure size 864x360 with 1 Axes>"
      ]
     },
     "metadata": {},
     "output_type": "display_data"
    },
    {
     "data": {
      "image/png": "[encoded data removed]",
      "text/plain": [
       "<Figure size 864x360 with 1 Axes>"
      ]
     },
     "metadata": {},
     "output_type": "display_data"
    },
    {
     "data": {
      "image/png": "[encoded data removed]",
      "text/plain": [
       "<Figure size 864x360 with 1 Axes>"
      ]
     },
     "metadata": {},
     "output_type": "display_data"
    },
    {
     "data": {
      "image/png": "[encoded data removed]",
      "text/plain": [
       "<Figure size 864x360 with 1 Axes>"
      ]
     },
     "metadata": {},
     "output_type": "display_data"
    },
    {
     "data": {
      "image/png": "[encoded data removed]",
      "text/plain": [
       "<Figure size 864x360 with 1 Axes>"
      ]
     },
     "metadata": {},
     "output_type": "display_data"
    }
   ],
   "source": [
    "# Построим диаграммы для изучения влияния категориальных параметров на отток\n",
    "\n",
    "for column in ['city','gender', 'objects', 'products','credit_card','loyalty']:\n",
    "    sns.countplot(x = data[column], hue='churn', palette='pastel', data=data)\n",
    "    plt.ylabel('Количество клиентов')\n",
    "    plt.xlabel(column)\n",
    "    plt.title('Распределение для признака ' + ' ' + column)\n",
    "    plt.legend()\n",
    "    plt.show()"
   ]
  },
  {
   "cell_type": "markdown",
   "metadata": {},
   "source": [
    "По графикам для категориальных параметров можно сделать следующие выводы:\n",
    "\n",
    "- больше всего клиентов попадает в отток из Ростова Великого, затем идет Ярославль (где находится половина клиентов), меньше всего в отток уходят в Рыбинске;\n",
    "- женщины больше мужчин перестают пользоваться услугами банка;\n",
    "- количество объектов в собственности от 1 до 9 дает больший процент оттока, нежели у клиентов с 0 и 10 объектами;\n",
    "- с увеличением количества продуктов снижается количество ушедших клиентов, но при этом и оставшихся клиентов с 3 и 4 продуктами почти нет;\n",
    "- в отток уходят больше те клиенты, кто пользуется кредитной картой;\n",
    "- неактивные клиенты уходят с большей вероятностью."
   ]
  },
  {
   "cell_type": "markdown",
   "metadata": {},
   "source": [
    "#### Изучение влияния численных параметров на отток клиентов"
   ]
  },
  {
   "cell_type": "code",
   "execution_count": 33,
   "metadata": {},
   "outputs": [],
   "source": [
    "# Напишем функцию для вывода гистограмм в разрезе оттока:\n",
    "\n",
    "def numeric_plots(data, col, title):\n",
    "    '''\n",
    "    Функция поcтроения гистограмм распределения для численных параметров;\n",
    "    \n",
    "    На входе функции передаем параметры: датафрейм, название столбца, по которому строим график, название графика;\n",
    "    '''\n",
    "    fig, ax = plt.subplots(figsize = (12, 5))\n",
    "    \n",
    "    sns.histplot(data[data['churn']==0][col], label = 'остались', color = '#6495ED')\n",
    "    sns.histplot(data[data['churn']==1][col], label = 'ушли', color = '#F4A460', alpha=0.8)\n",
    "    plt.xlabel(col)\n",
    "    plt.ylabel('Количество клиентов')\n",
    "    plt.legend()\n",
    "    \n",
    "    fig.suptitle(title + ' (' + col + ')')\n",
    "    plt.show()\n",
    "    \n",
    "    pass"
   ]
  },
  {
   "cell_type": "code",
   "execution_count": 34,
   "metadata": {},
   "outputs": [
    {
     "data": {
      "image/png": "[encoded data removed]",
      "text/plain": [
       "<Figure size 864x360 with 1 Axes>"
      ]
     },
     "metadata": {},
     "output_type": "display_data"
    },
    {
     "data": {
      "image/png": "[encoded data removed]",
      "text/plain": [
       "<Figure size 864x360 with 1 Axes>"
      ]
     },
     "metadata": {},
     "output_type": "display_data"
    },
    {
     "data": {
      "image/png": "[encoded data removed]",
      "text/plain": [
       "<Figure size 864x360 with 1 Axes>"
      ]
     },
     "metadata": {},
     "output_type": "display_data"
    },
    {
     "data": {
      "image/png": "[encoded data removed]",
      "text/plain": [
       "<Figure size 864x360 with 1 Axes>"
      ]
     },
     "metadata": {},
     "output_type": "display_data"
    }
   ],
   "source": [
    "numeric = pd.DataFrame({'col' : ['score', 'age', 'balance', 'estimated_salary'], \n",
    "                        'title' : ['Баллы кредитного скорринга', 'Возраст', \n",
    "                                   'Баланс', 'Заработная плата клиента']\n",
    "                       })\n",
    "\n",
    "for index, row in numeric.iterrows():\n",
    "    numeric_plots(data, row[0], row[1])"
   ]
  },
  {
   "cell_type": "code",
   "execution_count": 35,
   "metadata": {},
   "outputs": [],
   "source": [
    "# Напишем функцию для вывода диаграмм размаха в разрезе оттока:\n",
    "\n",
    "def numeric_plots(data, col, title):\n",
    "    '''\n",
    "    Функция построения диаграмм размаха для численных параметров;\n",
    "    \n",
    "    На входе функции передаем параметры: датафрейм, название столбца, по которому строим график, название графика;\n",
    "    '''\n",
    "    fig, ax = plt.subplots(figsize = (12, 5))\n",
    "    \n",
    "    sns.boxplot(y = col, x = 'churn', data = data, palette='pastel') \n",
    "    plt.xlabel(col)\n",
    "    plt.ylabel('Количество клиентов')\n",
    "    plt.xticks(np.arange(2), ('Действующие клиенты', 'Отток'))\n",
    "    \n",
    "    fig.suptitle(title + ' (' + col + ')')\n",
    "    plt.show()\n",
    "    \n",
    "    pass"
   ]
  },
  {
   "cell_type": "code",
   "execution_count": 36,
   "metadata": {},
   "outputs": [
    {
     "data": {
      "image/png": "[encoded data removed]",
      "text/plain": [
       "<Figure size 864x360 with 1 Axes>"
      ]
     },
     "metadata": {},
     "output_type": "display_data"
    },
    {
     "data": {
      "image/png": "[encoded data removed]",
      "text/plain": [
       "<Figure size 864x360 with 1 Axes>"
      ]
     },
     "metadata": {},
     "output_type": "display_data"
    },
    {
     "data": {
      "image/png": "[encoded data removed]",
      "text/plain": [
       "<Figure size 864x360 with 1 Axes>"
      ]
     },
     "metadata": {},
     "output_type": "display_data"
    },
    {
     "data": {
      "image/png": "[encoded data removed]",
      "text/plain": [
       "<Figure size 864x360 with 1 Axes>"
      ]
     },
     "metadata": {},
     "output_type": "display_data"
    }
   ],
   "source": [
    "numeric = pd.DataFrame({'col' : ['score', 'age', 'balance', 'estimated_salary'], \n",
    "                        'title' : ['Баллы кредитного скорринга', 'Возраст', \n",
    "                                   'Баланс', 'Заработная плата клиента']\n",
    "                       })\n",
    "\n",
    "for index, row in numeric.iterrows():\n",
    "    numeric_plots(data, row[0], row[1])"
   ]
  },
  {
   "cell_type": "markdown",
   "metadata": {},
   "source": [
    "По графикам для численных параметров можно сделать следующие выводы:\n",
    "\n",
    "- Среднее значение кредитного скоринга примерно равно для ушедших и оставшихся клиентов, а вот клиенты с минимальными значениями баланса больше склонны уходить, так как у распределений отточников больший хвост в начале;\n",
    "- Клиенты в возрасте примерно от 40 до 50 лет более склонны уходить, тенденция прослеживается примерно до 65-70 лет;\n",
    "- При средних значениях баланса клиентов вероятность оттока повышается;\n",
    "- Зарплата клиента практически не влияет на отток."
   ]
  },
  {
   "cell_type": "markdown",
   "metadata": {},
   "source": [
    "### Корреляционный анализ"
   ]
  },
  {
   "cell_type": "markdown",
   "metadata": {},
   "source": [
    "Для корреляционного анализа используем датасет `data_eda` из пункта 3.1 для участия всех параметров в анализе"
   ]
  },
  {
   "cell_type": "code",
   "execution_count": 37,
   "metadata": {},
   "outputs": [
    {
     "data": {
      "image/png": "[encoded data removed]",
      "text/plain": [
       "<Figure size 1080x1080 with 2 Axes>"
      ]
     },
     "metadata": {},
     "output_type": "display_data"
    }
   ],
   "source": [
    "# построим матрицу корреляций и нарисуем тепловую карту\n",
    "\n",
    "cm = data.corr() \n",
    "fig, ax = plt.subplots(figsize = (15, 15))\n",
    "\n",
    "sns.heatmap(cm, annot = True, square=True, fmt = '.2g', cmap=\"coolwarm\")\n",
    "\n",
    "plt.title('Матрица корреляций')\n",
    "plt.show()"
   ]
  },
  {
   "cell_type": "code",
   "execution_count": 38,
   "metadata": {},
   "outputs": [
    {
     "data": {
      "image/png": "[encoded data removed]",
      "text/plain": [
       "<Figure size 504x720 with 2 Axes>"
      ]
     },
     "metadata": {},
     "output_type": "display_data"
    }
   ],
   "source": [
    "plt.figure(figsize=(7, 10))\n",
    "heatmap = sns.heatmap(data.corr()[['churn']].sort_values(by='churn', ascending=False).drop(['churn'], axis=0), \\\n",
    "                      vmin=-0.4, vmax=0.3, annot=True, annot_kws={\"size\":12}, cmap='coolwarm', linewidths=1, linecolor='black')\n",
    "plt.tick_params(axis='y', labelsize=10)\n",
    "heatmap.set_title('Корреляция параметров с оттоком')\n",
    "plt.show()"
   ]
  },
  {
   "cell_type": "markdown",
   "metadata": {},
   "source": [
    "Имеется самая значительная корреляция  оттока с возрастом (коэффициент корреляции 0.29) - чем больше возраст, тем выше вероятность ухода клиента.\n",
    "\n",
    "Далее по выраженности зависимости идут: \n",
    "- активность клиента = -0.16;\n",
    "- баланс на счете = 0.12.\n",
    "\n",
    "Для всех остальных признаков примечательна еще более слабая корреляция с оттоком.\n",
    "\n",
    "Отсутствует очевидный признак, по которому можно было бы выявить склонность клиентов к оттоку. При этом признаков имеющих нулевую корреляцию с целевой переменной у нас тоже нет, как и сильно коррелирующих признаков между собой."
   ]
  },
  {
   "cell_type": "markdown",
   "metadata": {},
   "source": [
    "**Промежуточный вывод 3:**"
   ]
  },
  {
   "cell_type": "markdown",
   "metadata": {},
   "source": [
    "По графикам для категориальных параметров:\n",
    "\n",
    "- больше всего клиентов попадает в отток из Ростова Великого, затем идет Ярославль (где находится половина клиентов), меньше всего в отток уходят в Рыбинске;\n",
    "- женщины больше мужчин перестают пользоваться услугами банка;\n",
    "- количество объектов в собственности от 1 до 9 дает больший процент оттока, нежели у клиентов с 0 и 10 объектами;\n",
    "- клиенты, пользующихся 1 продуктом, чаще всего уходят. Далее, с увеличением количества продуктов снижается количество ушедших клиентов, но при этом и оставшихся клиентов с 3 и 4 продуктами почти нет;\n",
    "- в отток уходят больше те клиенты, кто пользуется кредитной картой;\n",
    "- неактивные клиенты уходят с большей вероятностью.\n",
    "\n",
    "По графикам для численных параметров:\n",
    "\n",
    "- среднее значение кредитного скоринга примерно равно для ушедших и оставшихся клиентов, а вот клиенты с минимальными значениями баланса больше склонны уходить, так как у распределений отточников больший хвост в начале;\n",
    "- клиенты в возрасте примерно от 40 до 50 лет более склонны уходить, тенденция прослеживается примерно до 65-70 лет;\n",
    "- при средних значениях баланса клиентов вероятность оттока повышается;\n",
    "- зарплата клиента практически не влияет на отток.\n",
    "\n",
    "По корреляционному анализу:\n",
    "- имеется самая значительная корреляция оттока с возрастом (коэффициент корреляции 0.29) - чем больше возраст, тем выше вероятность ухода клиента.\n",
    "- далее по выраженности зависимости идут:\n",
    "    - активность клиента = -0.16;\n",
    "    - баланс на счете = 0.12.\n",
    "- для всех остальных признаков примечательна еще более слабая корреляция с оттоком.\n",
    "\n",
    "*Отсутствует очевидный признак, по которому можно было бы выявить склонность клиентов к оттоку.*"
   ]
  },
  {
   "cell_type": "markdown",
   "metadata": {},
   "source": [
    "## Выделение портретов клиентов, которые склонны уходить из банка"
   ]
  },
  {
   "cell_type": "markdown",
   "metadata": {},
   "source": [
    "По итогам проведенного анализа можно предварительно выделить портреты клиентов"
   ]
  },
  {
   "cell_type": "markdown",
   "metadata": {},
   "source": [
    "### Признаки клиентов, которые склонны уходить в отток:\n"
   ]
  },
  {
   "cell_type": "markdown",
   "metadata": {},
   "source": [
    "- клиент из Ярославля или Ростова Великого;\n",
    "- чаще всего женщины;\n",
    "- клиент в возрасте примерно от 40 до 50 лет, тенденция прослеживается примерно до 65-70 лет;\n",
    "- клиент имеет 1 до 9 объектов собственности;\n",
    "- клиент с низким баллом кредитного скоринга (менее 600 баллов);\n",
    "- неактивный клиент;\n",
    "- клиент имеет кредитную карту;\n",
    "- клиент с высокой заработной платой (более 100 000);\n",
    "- среднее значение баланса на счете (около 120 000);\n",
    "- клиент пользующийся 3 или 4 продуктами банка."
   ]
  },
  {
   "cell_type": "markdown",
   "metadata": {},
   "source": [
    "### Признаки клиентов, которые не склонны уходить в отток:"
   ]
  },
  {
   "cell_type": "markdown",
   "metadata": {},
   "source": [
    "- клиент из Рыбинска;\n",
    "- чаще всего это мужчины;\n",
    "- клиент молодого и среднего возрастов;\n",
    "- клиент имеет от 1 до 9 объектов собственности;\n",
    "- клиенты со средним и высоким баллом кредитного скоринга;\n",
    "- активный клиент;\n",
    "- клиент имеет кредитную карту;\n",
    "- клиент со средней и высокой заработной платой;\n",
    "- среднее значение баланса на счете (около 120 000);\n",
    "- клиент пользующийся 1 или 2 продуктами банка."
   ]
  },
  {
   "cell_type": "markdown",
   "metadata": {},
   "source": [
    "## Формулировка и проверка статистических гипотез"
   ]
  },
  {
   "cell_type": "code",
   "execution_count": 39,
   "metadata": {},
   "outputs": [],
   "source": [
    "# для проверки гипотез установим уровень статистической значимости, равный 0,05.\n",
    "\n",
    "alpha = 0.05"
   ]
  },
  {
   "cell_type": "markdown",
   "metadata": {},
   "source": [
    "### Гипотеза различия дохода между действующими и ушедшими клиентами"
   ]
  },
  {
   "cell_type": "markdown",
   "metadata": {},
   "source": [
    "Проверим гипотезу различия дохода между действующими и ушедшими клиентами. Изучим распределение выборок."
   ]
  },
  {
   "cell_type": "markdown",
   "metadata": {},
   "source": [
    "**Гипотеза H0**: доходы у действующих и ушедших клиентов равны.\n",
    "\n",
    "**Гипотеза Н1**: доходы у действующих и ушедших клиентов не равны."
   ]
  },
  {
   "cell_type": "code",
   "execution_count": 40,
   "metadata": {},
   "outputs": [
    {
     "name": "stderr",
     "output_type": "stream",
     "text": [
      "/opt/conda/lib/python3.9/site-packages/seaborn/distributions.py:2557: FutureWarning: `distplot` is a deprecated function and will be removed in a future version. Please adapt your code to use either `displot` (a figure-level function with similar flexibility) or `histplot` (an axes-level function for histograms).\n",
      "  warnings.warn(msg, FutureWarning)\n",
      "/opt/conda/lib/python3.9/site-packages/seaborn/distributions.py:2557: FutureWarning: `distplot` is a deprecated function and will be removed in a future version. Please adapt your code to use either `displot` (a figure-level function with similar flexibility) or `histplot` (an axes-level function for histograms).\n",
      "  warnings.warn(msg, FutureWarning)\n"
     ]
    },
    {
     "data": {
      "image/png": "[encoded data removed]",
      "text/plain": [
       "<Figure size 864x360 with 1 Axes>"
      ]
     },
     "metadata": {},
     "output_type": "display_data"
    }
   ],
   "source": [
    "# проверим данные на нормальность распределения\n",
    "\n",
    "sns.distplot(data.query('churn == 0')['estimated_salary'], label=0)\n",
    "sns.distplot(data.query('churn == 1')['estimated_salary'], label=1)\n",
    "plt.title('Распределение дохода', fontsize=16)\n",
    "plt.ylabel('Количество клиентов')\n",
    "plt.xlabel('Значение заработной платы клиента')\n",
    "plt.legend()\n",
    "plt.show()"
   ]
  },
  {
   "cell_type": "markdown",
   "metadata": {},
   "source": [
    "По графику можно сказать, что распределение приближенно к нормальному."
   ]
  },
  {
   "cell_type": "code",
   "execution_count": 41,
   "metadata": {},
   "outputs": [
    {
     "name": "stdout",
     "output_type": "stream",
     "text": [
      "Дисперсия первой выборки = 3294987155.9\n",
      "Дисперсия второй выборки = 3352202354.71\n"
     ]
    }
   ],
   "source": [
    "# посмотрим на дисперсии сравниваемых генеральных совокупностей\n",
    "\n",
    "print('Дисперсия первой выборки =', round(np.var(data.query('churn == 0')['estimated_salary']),2))\n",
    "print('Дисперсия второй выборки =', round(np.var(data.query('churn == 1')['estimated_salary']),2))"
   ]
  },
  {
   "cell_type": "code",
   "execution_count": 42,
   "metadata": {},
   "outputs": [
    {
     "data": {
      "text/html": [
       "<div>\n",
       "<style scoped>\n",
       "    .dataframe tbody tr th:only-of-type {\n",
       "        vertical-align: middle;\n",
       "    }\n",
       "\n",
       "    .dataframe tbody tr th {\n",
       "        vertical-align: top;\n",
       "    }\n",
       "\n",
       "    .dataframe thead th {\n",
       "        text-align: right;\n",
       "    }\n",
       "</style>\n",
       "<table border=\"1\" class=\"dataframe\">\n",
       "  <thead>\n",
       "    <tr style=\"text-align: right;\">\n",
       "      <th></th>\n",
       "      <th>estimated_salary</th>\n",
       "    </tr>\n",
       "    <tr>\n",
       "      <th>churn</th>\n",
       "      <th></th>\n",
       "    </tr>\n",
       "  </thead>\n",
       "  <tbody>\n",
       "    <tr>\n",
       "      <th>0</th>\n",
       "      <td>7963</td>\n",
       "    </tr>\n",
       "    <tr>\n",
       "      <th>1</th>\n",
       "      <td>2037</td>\n",
       "    </tr>\n",
       "  </tbody>\n",
       "</table>\n",
       "</div>"
      ],
      "text/plain": [
       "       estimated_salary\n",
       "churn                  \n",
       "0      7963            \n",
       "1      2037            "
      ]
     },
     "execution_count": 42,
     "metadata": {},
     "output_type": "execute_result"
    }
   ],
   "source": [
    "# посмотрим на размер выборок\n",
    "\n",
    "data.groupby('churn')['estimated_salary'].count().to_frame()"
   ]
  },
  {
   "cell_type": "markdown",
   "metadata": {},
   "source": [
    "В данном случае рассматривается гипотеза о равенстве между собой средних двух генеральных совокупностей. Значения в выборках распределены равномерно, выбросов нет, дисперсии равны. Следовательно используем параметрический метод `ttest_ind`. "
   ]
  },
  {
   "cell_type": "code",
   "execution_count": 43,
   "metadata": {},
   "outputs": [
    {
     "name": "stdout",
     "output_type": "stream",
     "text": [
      "p-значение: 0.22644173695461328\n",
      "Не получилось отвергнуть нулевую гипотезу: доходы у действующих и ушедших клиентов равны\n"
     ]
    }
   ],
   "source": [
    "# проверим гипотезу о равенстве средних двух генеральных совокупностей\n",
    "\n",
    "results = st.ttest_ind(\n",
    "    data.query('churn == 0')['estimated_salary'], \n",
    "    data.query('churn == 1')['estimated_salary'])\n",
    "\n",
    "p_value = results.pvalue\n",
    "\n",
    "print('p-значение:', results.pvalue)\n",
    "if (results.pvalue < alpha):\n",
    "    print(\"Отвергаем нулевую гипотезу: доходы у действующих и ушедших клиентов не равны\")\n",
    "else:\n",
    "    print(\"Не получилось отвергнуть нулевую гипотезу: доходы у действующих и ушедших клиентов равны\")"
   ]
  },
  {
   "cell_type": "markdown",
   "metadata": {},
   "source": [
    "р-значение больше уровня критической значимости, следовательно, нет причин отвергать нулевую гипотезу. Вывод о различии доходов действующих и ушедших клиентов сделать нельзя."
   ]
  },
  {
   "cell_type": "markdown",
   "metadata": {},
   "source": [
    "### Гипотеза различия баллов кредитного скоринга между действующими и ушедшими клиентами"
   ]
  },
  {
   "cell_type": "markdown",
   "metadata": {},
   "source": [
    "Проверим гипотезу различия баллов кредитного скоринга между действующими и ушедшими клиентами. Изучим распределение выборок."
   ]
  },
  {
   "cell_type": "markdown",
   "metadata": {},
   "source": [
    "**Гипотеза H0**: баллы кредитного скоринга у действующих и ушедших клиентов равны.\n",
    "\n",
    "**Гипотеза Н1**: баллы кредитного скоринга у действующих и ушедших клиентов не равны."
   ]
  },
  {
   "cell_type": "code",
   "execution_count": 44,
   "metadata": {},
   "outputs": [
    {
     "name": "stderr",
     "output_type": "stream",
     "text": [
      "/opt/conda/lib/python3.9/site-packages/seaborn/distributions.py:2557: FutureWarning: `distplot` is a deprecated function and will be removed in a future version. Please adapt your code to use either `displot` (a figure-level function with similar flexibility) or `histplot` (an axes-level function for histograms).\n",
      "  warnings.warn(msg, FutureWarning)\n",
      "/opt/conda/lib/python3.9/site-packages/seaborn/distributions.py:2557: FutureWarning: `distplot` is a deprecated function and will be removed in a future version. Please adapt your code to use either `displot` (a figure-level function with similar flexibility) or `histplot` (an axes-level function for histograms).\n",
      "  warnings.warn(msg, FutureWarning)\n"
     ]
    },
    {
     "data": {
      "image/png": "[encoded data removed]",
      "text/plain": [
       "<Figure size 864x360 with 1 Axes>"
      ]
     },
     "metadata": {},
     "output_type": "display_data"
    }
   ],
   "source": [
    "# проверим данные на нормальность распределения\n",
    "\n",
    "sns.distplot(data.query('churn == 0')['score'], label=0)\n",
    "sns.distplot(data.query('churn == 1')['score'], label=1)\n",
    "plt.title('Распределение баллов кредитного скоринга', fontsize=16)\n",
    "plt.ylabel('Количество клиентов')\n",
    "plt.xlabel('Значение баллов кредитного скоринга')\n",
    "plt.legend()\n",
    "plt.show()"
   ]
  },
  {
   "cell_type": "markdown",
   "metadata": {},
   "source": [
    "По графику можно сказать, что распределение приближенно к нормальному."
   ]
  },
  {
   "cell_type": "code",
   "execution_count": 45,
   "metadata": {},
   "outputs": [
    {
     "name": "stdout",
     "output_type": "stream",
     "text": [
      "Дисперсия первой выборки = 9148.51\n",
      "Дисперсия второй выборки = 10059.46\n"
     ]
    }
   ],
   "source": [
    "# посмотрим на дисперсии сравниваемых генеральных совокупностей\n",
    "\n",
    "print('Дисперсия первой выборки =', round(np.var(data.query('churn == 0')['score']),2))\n",
    "print('Дисперсия второй выборки =', round(np.var(data.query('churn == 1')['score']),2))"
   ]
  },
  {
   "cell_type": "markdown",
   "metadata": {},
   "source": [
    "Дисперсии выборок различаются в пределах 10%. В данном случае рассматривается гипотеза о равенстве между собой средних двух генеральных совокупностей. Значения в выборках распределены достаточно равномерно. Следовательно используем параметрический метод ttest_ind."
   ]
  },
  {
   "cell_type": "code",
   "execution_count": 46,
   "metadata": {},
   "outputs": [
    {
     "name": "stdout",
     "output_type": "stream",
     "text": [
      "p-значение: 0.006738213892192373\n",
      "Отвергаем нулевую гипотезу: баллы кредитного скоринга у действующих и ушедших клиентов не равны\n"
     ]
    }
   ],
   "source": [
    "# проверим гипотезу о равенстве средних двух генеральных совокупностей\n",
    "\n",
    "results = st.ttest_ind(\n",
    "    data.query('churn == 0')['score'], \n",
    "    data.query('churn == 1')['score'])\n",
    "\n",
    "p_value = results.pvalue\n",
    "\n",
    "print('p-значение:', results.pvalue)\n",
    "if (results.pvalue < alpha):\n",
    "    print(\"Отвергаем нулевую гипотезу: баллы кредитного скоринга у действующих и ушедших клиентов не равны\")\n",
    "else:\n",
    "    print(\"Не получилось отвергнуть нулевую гипотезу: баллы кредитного скоринга у действующих и ушедших клиентов равны\")"
   ]
  },
  {
   "cell_type": "markdown",
   "metadata": {},
   "source": [
    "р-значение меньше уровня критической значимости, следовательно, отвергаем нулевую гипотезу. Можно сделать вывод о различии баллов действующих и ушедших клиентов. Уходящие пользователи становятся менее заинтересованными в продуктах банка и их активнсть падает."
   ]
  },
  {
   "cell_type": "markdown",
   "metadata": {},
   "source": [
    "### Гипотеза различия возраста между действующими и ушедшими клиентами"
   ]
  },
  {
   "cell_type": "markdown",
   "metadata": {},
   "source": [
    "Проверим гипотезу различия возраста между действующими и ушедшими клиентами. Изучим распределение выборок."
   ]
  },
  {
   "cell_type": "markdown",
   "metadata": {},
   "source": [
    "**Гипотеза H0**: возраст у действующих и ушедших клиентов равен.\n",
    "\n",
    "**Гипотеза Н1**: возраст у действующих и ушедших клиентов не равен."
   ]
  },
  {
   "cell_type": "code",
   "execution_count": 47,
   "metadata": {},
   "outputs": [
    {
     "name": "stderr",
     "output_type": "stream",
     "text": [
      "/opt/conda/lib/python3.9/site-packages/seaborn/distributions.py:2557: FutureWarning: `distplot` is a deprecated function and will be removed in a future version. Please adapt your code to use either `displot` (a figure-level function with similar flexibility) or `histplot` (an axes-level function for histograms).\n",
      "  warnings.warn(msg, FutureWarning)\n",
      "/opt/conda/lib/python3.9/site-packages/seaborn/distributions.py:2557: FutureWarning: `distplot` is a deprecated function and will be removed in a future version. Please adapt your code to use either `displot` (a figure-level function with similar flexibility) or `histplot` (an axes-level function for histograms).\n",
      "  warnings.warn(msg, FutureWarning)\n"
     ]
    },
    {
     "data": {
      "image/png": "[encoded data removed]",
      "text/plain": [
       "<Figure size 864x360 with 1 Axes>"
      ]
     },
     "metadata": {},
     "output_type": "display_data"
    }
   ],
   "source": [
    "# проверим данные на нормальность распределения\n",
    "\n",
    "sns.distplot(data.query('churn == 0')['age'], label=0)\n",
    "sns.distplot(data.query('churn == 1')['age'], label=1)\n",
    "plt.title('Распределение возраста', fontsize=16)\n",
    "plt.ylabel('Количество клиентов')\n",
    "plt.xlabel('Значение возраста')\n",
    "plt.legend()\n",
    "plt.show()"
   ]
  },
  {
   "cell_type": "code",
   "execution_count": 48,
   "metadata": {},
   "outputs": [
    {
     "name": "stdout",
     "output_type": "stream",
     "text": [
      "Дисперсия первой выборки = 102.51\n",
      "Дисперсия второй выборки = 95.24\n"
     ]
    }
   ],
   "source": [
    "# посмотрим на дисперсии сравниваемых генеральных совокупностей\n",
    "\n",
    "print('Дисперсия первой выборки =', round(np.var(data.query('churn == 0')['age']),2))\n",
    "print('Дисперсия второй выборки =', round(np.var(data.query('churn == 1')['age']),2))"
   ]
  },
  {
   "cell_type": "markdown",
   "metadata": {},
   "source": [
    "Распределение не совсем равномерное, есть небольшой перекос в виде нескольких клиентов пред- и пенсионного возраста. Поэтому вместо t-критерия Стьюдента будем использовать аналогичный методы U-критерий Манна — Уитни, которорый является непараметрическим аналогом критерия Стьюдента"
   ]
  },
  {
   "cell_type": "code",
   "execution_count": 49,
   "metadata": {},
   "outputs": [
    {
     "name": "stdout",
     "output_type": "stream",
     "text": [
      "p-значение: 3.2104014319371675e-230\n",
      "Отвергаем нулевую гипотезу: возраст у действующих и ушедших клиентов не равен\n"
     ]
    }
   ],
   "source": [
    "# проверим гипотезу о равенстве средних двух генеральных совокупностей\n",
    "\n",
    "results = st.mannwhitneyu(\n",
    "    data.query('churn == 0')['age'], \n",
    "    data.query('churn == 1')['age'])\n",
    "\n",
    "p_value = results.pvalue\n",
    "\n",
    "print('p-значение:', results.pvalue)\n",
    "if (results.pvalue < alpha):\n",
    "    print(\"Отвергаем нулевую гипотезу: возраст у действующих и ушедших клиентов не равен\")\n",
    "else:\n",
    "    print(\"Не получилось отвергнуть нулевую гипотезу: возраст у действующих и ушедших клиентов равен\")"
   ]
  },
  {
   "cell_type": "code",
   "execution_count": 50,
   "metadata": {},
   "outputs": [
    {
     "data": {
      "text/html": [
       "<div>\n",
       "<style scoped>\n",
       "    .dataframe tbody tr th:only-of-type {\n",
       "        vertical-align: middle;\n",
       "    }\n",
       "\n",
       "    .dataframe tbody tr th {\n",
       "        vertical-align: top;\n",
       "    }\n",
       "\n",
       "    .dataframe thead th {\n",
       "        text-align: right;\n",
       "    }\n",
       "</style>\n",
       "<table border=\"1\" class=\"dataframe\">\n",
       "  <thead>\n",
       "    <tr style=\"text-align: right;\">\n",
       "      <th></th>\n",
       "      <th>age</th>\n",
       "    </tr>\n",
       "    <tr>\n",
       "      <th>churn</th>\n",
       "      <th></th>\n",
       "    </tr>\n",
       "  </thead>\n",
       "  <tbody>\n",
       "    <tr>\n",
       "      <th>0</th>\n",
       "      <td>37.41</td>\n",
       "    </tr>\n",
       "    <tr>\n",
       "      <th>1</th>\n",
       "      <td>44.84</td>\n",
       "    </tr>\n",
       "  </tbody>\n",
       "</table>\n",
       "</div>"
      ],
      "text/plain": [
       "        age\n",
       "churn      \n",
       "0     37.41\n",
       "1     44.84"
      ]
     },
     "metadata": {},
     "output_type": "display_data"
    },
    {
     "data": {
      "text/html": [
       "<div>\n",
       "<style scoped>\n",
       "    .dataframe tbody tr th:only-of-type {\n",
       "        vertical-align: middle;\n",
       "    }\n",
       "\n",
       "    .dataframe tbody tr th {\n",
       "        vertical-align: top;\n",
       "    }\n",
       "\n",
       "    .dataframe thead th {\n",
       "        text-align: right;\n",
       "    }\n",
       "</style>\n",
       "<table border=\"1\" class=\"dataframe\">\n",
       "  <thead>\n",
       "    <tr style=\"text-align: right;\">\n",
       "      <th></th>\n",
       "      <th>age</th>\n",
       "    </tr>\n",
       "    <tr>\n",
       "      <th>churn</th>\n",
       "      <th></th>\n",
       "    </tr>\n",
       "  </thead>\n",
       "  <tbody>\n",
       "    <tr>\n",
       "      <th>0</th>\n",
       "      <td>36</td>\n",
       "    </tr>\n",
       "    <tr>\n",
       "      <th>1</th>\n",
       "      <td>45</td>\n",
       "    </tr>\n",
       "  </tbody>\n",
       "</table>\n",
       "</div>"
      ],
      "text/plain": [
       "       age\n",
       "churn     \n",
       "0      36 \n",
       "1      45 "
      ]
     },
     "metadata": {},
     "output_type": "display_data"
    }
   ],
   "source": [
    "# посмотрим на средние и меданные значения возраста у действующих и ушедших клиентов\n",
    "\n",
    "display(data.pivot_table(index='churn', values='age', aggfunc='mean'))\n",
    "display(data.pivot_table(index='churn', values='age', aggfunc='median'))"
   ]
  },
  {
   "cell_type": "markdown",
   "metadata": {},
   "source": [
    "р-значение меньше уровня критической значимости, следовательно, отвергаем нулевую гипотезу. Можно сделать вывод о различии возраста действующих и ушедших клиентов. Как видно, разница в возрасте составляет около 10 лет."
   ]
  },
  {
   "cell_type": "markdown",
   "metadata": {},
   "source": [
    "**Промежуточный вывод 4:**"
   ]
  },
  {
   "cell_type": "markdown",
   "metadata": {},
   "source": [
    "Были проверены следующие гипотезы:\n",
    "\n",
    "- о равенстве различия дохода между действующими и ушедшими клиентами. Нулевая гипотеза подтвердилась. Вывод о различии доходов действующих и ушедших клиентов сделать нельзя.\n",
    "- о равенстве различия баллов кредитного скоринга между действующими и ушедшими клиентами. Нулевая гипотеза не подтвердилась. Уходящие пользователи становятся менее заинтересованными в продуктах банка и их активнсть падает.\n",
    "- о равенстве баллов скоринга между теми клиентами, которые ушли и теми, которые остались. Нулевая гипотеза не подтвердилась. Разница в возрасте составляет около 10 лет."
   ]
  },
  {
   "cell_type": "markdown",
   "metadata": {},
   "source": [
    "## Сегментация клиентов"
   ]
  },
  {
   "cell_type": "markdown",
   "metadata": {},
   "source": [
    "Проведем сегментацию клиентов. Переведем категориальные переменные в численные с использованием `one-hot encoding`."
   ]
  },
  {
   "cell_type": "code",
   "execution_count": 51,
   "metadata": {},
   "outputs": [
    {
     "data": {
      "text/html": [
       "<div>\n",
       "<style scoped>\n",
       "    .dataframe tbody tr th:only-of-type {\n",
       "        vertical-align: middle;\n",
       "    }\n",
       "\n",
       "    .dataframe tbody tr th {\n",
       "        vertical-align: top;\n",
       "    }\n",
       "\n",
       "    .dataframe thead th {\n",
       "        text-align: right;\n",
       "    }\n",
       "</style>\n",
       "<table border=\"1\" class=\"dataframe\">\n",
       "  <thead>\n",
       "    <tr style=\"text-align: right;\">\n",
       "      <th></th>\n",
       "      <th>user_id</th>\n",
       "      <th>score</th>\n",
       "      <th>age</th>\n",
       "      <th>objects</th>\n",
       "      <th>balance</th>\n",
       "      <th>products</th>\n",
       "      <th>credit_card</th>\n",
       "      <th>loyalty</th>\n",
       "      <th>estimated_salary</th>\n",
       "      <th>churn</th>\n",
       "      <th>Ж</th>\n",
       "      <th>М</th>\n",
       "      <th>Ростов Великий</th>\n",
       "      <th>Рыбинск</th>\n",
       "      <th>Ярославль</th>\n",
       "    </tr>\n",
       "  </thead>\n",
       "  <tbody>\n",
       "    <tr>\n",
       "      <th>0</th>\n",
       "      <td>15677338</td>\n",
       "      <td>619</td>\n",
       "      <td>42</td>\n",
       "      <td>2</td>\n",
       "      <td>0</td>\n",
       "      <td>1</td>\n",
       "      <td>1</td>\n",
       "      <td>1</td>\n",
       "      <td>101348</td>\n",
       "      <td>1</td>\n",
       "      <td>1</td>\n",
       "      <td>0</td>\n",
       "      <td>0</td>\n",
       "      <td>0</td>\n",
       "      <td>1</td>\n",
       "    </tr>\n",
       "    <tr>\n",
       "      <th>1</th>\n",
       "      <td>15690047</td>\n",
       "      <td>608</td>\n",
       "      <td>41</td>\n",
       "      <td>1</td>\n",
       "      <td>83807</td>\n",
       "      <td>1</td>\n",
       "      <td>0</td>\n",
       "      <td>1</td>\n",
       "      <td>112542</td>\n",
       "      <td>0</td>\n",
       "      <td>1</td>\n",
       "      <td>0</td>\n",
       "      <td>0</td>\n",
       "      <td>1</td>\n",
       "      <td>0</td>\n",
       "    </tr>\n",
       "    <tr>\n",
       "      <th>2</th>\n",
       "      <td>15662040</td>\n",
       "      <td>502</td>\n",
       "      <td>42</td>\n",
       "      <td>8</td>\n",
       "      <td>159660</td>\n",
       "      <td>3</td>\n",
       "      <td>1</td>\n",
       "      <td>0</td>\n",
       "      <td>113931</td>\n",
       "      <td>1</td>\n",
       "      <td>1</td>\n",
       "      <td>0</td>\n",
       "      <td>0</td>\n",
       "      <td>0</td>\n",
       "      <td>1</td>\n",
       "    </tr>\n",
       "    <tr>\n",
       "      <th>3</th>\n",
       "      <td>15744090</td>\n",
       "      <td>699</td>\n",
       "      <td>39</td>\n",
       "      <td>1</td>\n",
       "      <td>0</td>\n",
       "      <td>2</td>\n",
       "      <td>0</td>\n",
       "      <td>0</td>\n",
       "      <td>93826</td>\n",
       "      <td>0</td>\n",
       "      <td>1</td>\n",
       "      <td>0</td>\n",
       "      <td>0</td>\n",
       "      <td>0</td>\n",
       "      <td>1</td>\n",
       "    </tr>\n",
       "    <tr>\n",
       "      <th>4</th>\n",
       "      <td>15780624</td>\n",
       "      <td>850</td>\n",
       "      <td>43</td>\n",
       "      <td>2</td>\n",
       "      <td>125510</td>\n",
       "      <td>1</td>\n",
       "      <td>1</td>\n",
       "      <td>1</td>\n",
       "      <td>79084</td>\n",
       "      <td>0</td>\n",
       "      <td>1</td>\n",
       "      <td>0</td>\n",
       "      <td>0</td>\n",
       "      <td>1</td>\n",
       "      <td>0</td>\n",
       "    </tr>\n",
       "  </tbody>\n",
       "</table>\n",
       "</div>"
      ],
      "text/plain": [
       "    user_id  score  age  objects  balance  products  credit_card  loyalty  \\\n",
       "0  15677338  619    42   2        0        1         1            1         \n",
       "1  15690047  608    41   1        83807    1         0            1         \n",
       "2  15662040  502    42   8        159660   3         1            0         \n",
       "3  15744090  699    39   1        0        2         0            0         \n",
       "4  15780624  850    43   2        125510   1         1            1         \n",
       "\n",
       "   estimated_salary  churn  Ж  М  Ростов Великий  Рыбинск  Ярославль  \n",
       "0  101348            1      1  0  0               0        1          \n",
       "1  112542            0      1  0  0               1        0          \n",
       "2  113931            1      1  0  0               0        1          \n",
       "3  93826             0      1  0  0               0        1          \n",
       "4  79084             0      1  0  0               1        0          "
      ]
     },
     "execution_count": 51,
     "metadata": {},
     "output_type": "execute_result"
    }
   ],
   "source": [
    "# переводим категориальные данные в числовые\n",
    "city = pd.get_dummies(data.city).iloc[::]\n",
    "gender = pd.get_dummies(data.gender).iloc[::]\n",
    "\n",
    "# объединяям новые столбцы с датасетом, удаляем столбцы city и gender с категориальными значениями\n",
    "data_segment = pd.concat([data, gender, city], axis=1)\n",
    "data_segment =  data_segment.drop(['city', 'gender'], axis=1)\n",
    "\n",
    "data_segment.head(5)     "
   ]
  },
  {
   "cell_type": "code",
   "execution_count": 52,
   "metadata": {},
   "outputs": [],
   "source": [
    "# обязательная стандартизация данных перед работой с алгоритмами\n",
    "\n",
    "sc = StandardScaler()\n",
    "X_sc = sc.fit_transform(data_segment.drop(columns = 'churn')) "
   ]
  },
  {
   "cell_type": "code",
   "execution_count": 53,
   "metadata": {},
   "outputs": [
    {
     "data": {
      "image/png": "[encoded data removed]",
      "text/plain": [
       "<Figure size 1080x720 with 1 Axes>"
      ]
     },
     "metadata": {},
     "output_type": "display_data"
    }
   ],
   "source": [
    "# построим таблицу расстояний между объектами\n",
    "linked = linkage(X_sc, method = 'ward')\n",
    "\n",
    "# построим дендрограмму\n",
    "plt.figure(figsize=(15, 10))\n",
    "dendrogram(linked, orientation='top', show_leaf_counts=False, truncate_mode='lastp', p=30, leaf_rotation=90, leaf_font_size=14)\n",
    "plt.title('Иерархическая сегментация', fontsize=14)\n",
    "plt.xlabel('Размер сегмента', fontsize=12)\n",
    "plt.ylabel('Расстояние', fontsize=12)\n",
    "plt.show()"
   ]
  },
  {
   "cell_type": "markdown",
   "metadata": {},
   "source": [
    "Получаем 4 разных цвета на графике, предложенное число сегментов - 4."
   ]
  },
  {
   "cell_type": "code",
   "execution_count": 54,
   "metadata": {},
   "outputs": [
    {
     "data": {
      "text/html": [
       "<div>\n",
       "<style scoped>\n",
       "    .dataframe tbody tr th:only-of-type {\n",
       "        vertical-align: middle;\n",
       "    }\n",
       "\n",
       "    .dataframe tbody tr th {\n",
       "        vertical-align: top;\n",
       "    }\n",
       "\n",
       "    .dataframe thead th {\n",
       "        text-align: right;\n",
       "    }\n",
       "</style>\n",
       "<table border=\"1\" class=\"dataframe\">\n",
       "  <thead>\n",
       "    <tr style=\"text-align: right;\">\n",
       "      <th>segment</th>\n",
       "      <th>1</th>\n",
       "      <th>2</th>\n",
       "      <th>3</th>\n",
       "      <th>0</th>\n",
       "    </tr>\n",
       "  </thead>\n",
       "  <tbody>\n",
       "    <tr>\n",
       "      <th>user_id</th>\n",
       "      <td>15,732,029.21</td>\n",
       "      <td>15,734,654.41</td>\n",
       "      <td>15,735,038.29</td>\n",
       "      <td>15,733,291.65</td>\n",
       "    </tr>\n",
       "    <tr>\n",
       "      <th>score</th>\n",
       "      <td>650.06</td>\n",
       "      <td>651.33</td>\n",
       "      <td>649.19</td>\n",
       "      <td>651.45</td>\n",
       "    </tr>\n",
       "    <tr>\n",
       "      <th>age</th>\n",
       "      <td>38.30</td>\n",
       "      <td>38.89</td>\n",
       "      <td>38.77</td>\n",
       "      <td>39.77</td>\n",
       "    </tr>\n",
       "    <tr>\n",
       "      <th>objects</th>\n",
       "      <td>5.05</td>\n",
       "      <td>5.03</td>\n",
       "      <td>4.95</td>\n",
       "      <td>5.01</td>\n",
       "    </tr>\n",
       "    <tr>\n",
       "      <th>balance</th>\n",
       "      <td>63,546.03</td>\n",
       "      <td>61,817.89</td>\n",
       "      <td>60,322.41</td>\n",
       "      <td>119,729.62</td>\n",
       "    </tr>\n",
       "    <tr>\n",
       "      <th>products</th>\n",
       "      <td>1.52</td>\n",
       "      <td>1.54</td>\n",
       "      <td>1.55</td>\n",
       "      <td>1.52</td>\n",
       "    </tr>\n",
       "    <tr>\n",
       "      <th>credit_card</th>\n",
       "      <td>0.71</td>\n",
       "      <td>0.69</td>\n",
       "      <td>0.70</td>\n",
       "      <td>0.71</td>\n",
       "    </tr>\n",
       "    <tr>\n",
       "      <th>loyalty</th>\n",
       "      <td>0.52</td>\n",
       "      <td>0.53</td>\n",
       "      <td>0.51</td>\n",
       "      <td>0.50</td>\n",
       "    </tr>\n",
       "    <tr>\n",
       "      <th>estimated_salary</th>\n",
       "      <td>100,173.76</td>\n",
       "      <td>99,440.08</td>\n",
       "      <td>99,563.76</td>\n",
       "      <td>101,112.94</td>\n",
       "    </tr>\n",
       "    <tr>\n",
       "      <th>churn</th>\n",
       "      <td>0.13</td>\n",
       "      <td>0.17</td>\n",
       "      <td>0.20</td>\n",
       "      <td>0.32</td>\n",
       "    </tr>\n",
       "    <tr>\n",
       "      <th>Ж</th>\n",
       "      <td>0.00</td>\n",
       "      <td>0.44</td>\n",
       "      <td>1.00</td>\n",
       "      <td>0.48</td>\n",
       "    </tr>\n",
       "    <tr>\n",
       "      <th>М</th>\n",
       "      <td>1.00</td>\n",
       "      <td>0.56</td>\n",
       "      <td>0.00</td>\n",
       "      <td>0.52</td>\n",
       "    </tr>\n",
       "    <tr>\n",
       "      <th>Ростов Великий</th>\n",
       "      <td>0.00</td>\n",
       "      <td>0.00</td>\n",
       "      <td>0.00</td>\n",
       "      <td>1.00</td>\n",
       "    </tr>\n",
       "    <tr>\n",
       "      <th>Рыбинск</th>\n",
       "      <td>0.00</td>\n",
       "      <td>1.00</td>\n",
       "      <td>0.00</td>\n",
       "      <td>0.00</td>\n",
       "    </tr>\n",
       "    <tr>\n",
       "      <th>Ярославль</th>\n",
       "      <td>1.00</td>\n",
       "      <td>0.00</td>\n",
       "      <td>1.00</td>\n",
       "      <td>0.00</td>\n",
       "    </tr>\n",
       "  </tbody>\n",
       "</table>\n",
       "</div>"
      ],
      "text/plain": [
       "segment                      1             2             3             0\n",
       "user_id          15,732,029.21 15,734,654.41 15,735,038.29 15,733,291.65\n",
       "score            650.06        651.33        649.19        651.45       \n",
       "age              38.30         38.89         38.77         39.77        \n",
       "objects          5.05          5.03          4.95          5.01         \n",
       "balance          63,546.03     61,817.89     60,322.41     119,729.62   \n",
       "products         1.52          1.54          1.55          1.52         \n",
       "credit_card      0.71          0.69          0.70          0.71         \n",
       "loyalty          0.52          0.53          0.51          0.50         \n",
       "estimated_salary 100,173.76    99,440.08     99,563.76     101,112.94   \n",
       "churn            0.13          0.17          0.20          0.32         \n",
       "Ж                0.00          0.44          1.00          0.48         \n",
       "М                1.00          0.56          0.00          0.52         \n",
       "Ростов Великий   0.00          0.00          0.00          1.00         \n",
       "Рыбинск          0.00          1.00          0.00          0.00         \n",
       "Ярославль        1.00          0.00          1.00          0.00         "
      ]
     },
     "execution_count": 54,
     "metadata": {},
     "output_type": "execute_result"
    }
   ],
   "source": [
    "# задаём модель k_means с числом сегментов 4 и фиксируем значение random_state\n",
    "km = KMeans(n_clusters = 4, random_state = 0)\n",
    "\n",
    "# применяем алгоритм к данным и формируем вектор сегментов (алгоритм присваивает им номера от 0 до 3)\n",
    "labels = km.fit_predict(X_sc)\n",
    "\n",
    "# сохраняем метки сегментов в поле нашего датасета\n",
    "data_segment['segment'] = labels\n",
    "\n",
    "# выводим статистику по средним значениям наших признаков по сегменту\n",
    "segment_means = data_segment.groupby(['segment']).mean().sort_values('churn').T\n",
    "segment_means"
   ]
  },
  {
   "cell_type": "markdown",
   "metadata": {},
   "source": [
    "По полученным данным приведем следующие выводы по сегментам:\n",
    "\n",
    "**1. 1 сегмент с долей оттока 13% (*самый низкий показатель*):**\n",
    "\n",
    "- средний балл кредитного скоринга равен 650;\n",
    "- предпочтительно мужчины;\n",
    "- предпочтительно из Ярославля;\n",
    "- средний возраст клиентов около 38 лет;\n",
    "- среднее количество объектов в собственности равно 5;\n",
    "- средняя сумма на счете клиента равна 63 546;\n",
    "- количество продуктов, которыми пользуется клиент от 1 до 2;\n",
    "- наличие кредитной карты у 71% клиентов;\n",
    "- 52% клиентов пользовались продуктами банка;\n",
    "- средняя заработная плата клиентов равна 100 173.\n",
    "\n",
    "**2. 2 сегмент с долей оттока 17%:**\n",
    "\n",
    "- средний балл кредитного скоринга равен 651;\n",
    "- приблизительно равное распределение между мужчинами и женщинами;\n",
    "- предпочтительно из Рыбинска;\n",
    "- средний возраст клиентов около 38 лет;\n",
    "- среднее количество объектов в собственности равно 5;\n",
    "- средняя сумма на счете клиента равна 61 817;\n",
    "- количество продуктов, которыми пользуется клиент от 1 до 2;\n",
    "- наличие кредитной карты у 69% клиентов;\n",
    "- 53% клиентов пользовались продуктами банка;\n",
    "- средняя заработная плата клиентов равна 99 440.\n",
    "\n",
    "**3. 3 сегмент с долей оттока 20%:**\n",
    "\n",
    "- средний балл кредитного скоринга равен 649;\n",
    "- предпочтительно женщицы;\n",
    "- предпочтительно из Ярославля;\n",
    "- средний возраст клиентов около 38 лет;\n",
    "- среднее количество объектов в собственности равно 5;\n",
    "- средняя сумма на счете клиента равна 60 332;\n",
    "- количество продуктов, которыми пользуется клиент от 1 до 2;\n",
    "- наличие кредитной карты у 70% клиентов;\n",
    "- 51% клиентов пользовались продуктами банка;\n",
    "- средняя заработная плата клиентов равна 99 563.\n",
    "\n",
    "**0. 0 сегмент с долей оттока 32% (*самый высокий показатель*):**\n",
    "\n",
    "- средний балл кредитного скоринга равен 651;\n",
    "- приблизительно равное распределение между мужчинами и женщинами;\n",
    "- предпочтительно из Ростова Великого;\n",
    "- средний возраст клиентов около 39 лет;\n",
    "- среднее количество объектов в собственности равно 5;\n",
    "- средняя сумма на счете клиента равна 119 729;\n",
    "- количество продуктов, которыми пользуется клиент от 1 до 2;\n",
    "- наличие кредитной карты у 71% клиентов;\n",
    "- 50% клиентов пользовались продуктами банка;\n",
    "- средняя заработная плата клиентов равна 101 112."
   ]
  },
  {
   "cell_type": "code",
   "execution_count": 55,
   "metadata": {},
   "outputs": [
    {
     "data": {
      "text/html": [
       "<div>\n",
       "<style scoped>\n",
       "    .dataframe tbody tr th:only-of-type {\n",
       "        vertical-align: middle;\n",
       "    }\n",
       "\n",
       "    .dataframe tbody tr th {\n",
       "        vertical-align: top;\n",
       "    }\n",
       "\n",
       "    .dataframe thead th {\n",
       "        text-align: right;\n",
       "    }\n",
       "</style>\n",
       "<table border=\"1\" class=\"dataframe\">\n",
       "  <thead>\n",
       "    <tr style=\"text-align: right;\">\n",
       "      <th></th>\n",
       "      <th>churn</th>\n",
       "    </tr>\n",
       "    <tr>\n",
       "      <th>segment</th>\n",
       "      <th></th>\n",
       "    </tr>\n",
       "  </thead>\n",
       "  <tbody>\n",
       "    <tr>\n",
       "      <th>1</th>\n",
       "      <td>0.13</td>\n",
       "    </tr>\n",
       "    <tr>\n",
       "      <th>2</th>\n",
       "      <td>0.17</td>\n",
       "    </tr>\n",
       "    <tr>\n",
       "      <th>3</th>\n",
       "      <td>0.20</td>\n",
       "    </tr>\n",
       "    <tr>\n",
       "      <th>0</th>\n",
       "      <td>0.32</td>\n",
       "    </tr>\n",
       "  </tbody>\n",
       "</table>\n",
       "</div>"
      ],
      "text/plain": [
       "         churn\n",
       "segment       \n",
       "1       0.13  \n",
       "2       0.17  \n",
       "3       0.20  \n",
       "0       0.32  "
      ]
     },
     "execution_count": 55,
     "metadata": {},
     "output_type": "execute_result"
    }
   ],
   "source": [
    "# Покажем для каждого сегмента долю оттока\n",
    "\n",
    "data_segment.groupby('segment').agg({'churn':'mean'}).sort_values(by='churn')"
   ]
  },
  {
   "cell_type": "markdown",
   "metadata": {},
   "source": [
    "Сегменты, которые склонны к оттоку, это следующие:\n",
    "\n",
    "- сегмент 1 с вероятностью 13%, с самым низким показателем\n",
    "- сегмент 2 с вероятностью 17%\n",
    "- сегмент 3 с вероятностью 20%\n",
    "- сегмент 0 с вероятностью 32%, с самым высоким показателем"
   ]
  },
  {
   "cell_type": "markdown",
   "metadata": {},
   "source": [
    "## Выводы и рекомендации"
   ]
  },
  {
   "cell_type": "markdown",
   "metadata": {},
   "source": [
    "В ходе проведения исследования были проанализированы данные о клиентах банка \"Метанпром\", обслуживающихся в отделениях городов Ярославль, Ростов Великий и Рыбинск.\n",
    "\n",
    "1. Изучили общую информацию:\n",
    "\n",
    "- 10 000 строк и 12 столбцов, из которых в одном столбце Balance с данными о балансе счета клиента имеются 3617 пропусков;\n",
    "- в столбцах представлены три типа данных - строки, целочисленные и вещественные числа. С типом данных все в порядке;\n",
    "\n",
    "2. Провели предобработку данных:\n",
    "- привели названия столбцов к нижнему регистру, изменили стиль названия;\n",
    "- проверили количество пропущенных значений в столбце Balance - 3617 из 10 000. Провели замену пропущенных значений на нули на основании предположения, что пропуски означают отсутствие у клиента счета в банке (например, дебетовой карты);\n",
    "- проверили характер пропущенных (нулевых) значений, которые встречаются:\n",
    "\n",
    "\n",
    "    - в 2-х городах из 3-х, в Ярославле - 2418, в Рыбинске - 1199;\n",
    "    - активность клиентов распределяется примерно поровну;\n",
    "    - у 2592 клиентов есть, 1025 - не имеют кредитной карты;\n",
    "    - 3117 действующих и 500 ушедших клиентов.\n",
    "    - характер и признаки нулевых значений в значениях баланса на счете клиента выявить не удалось. Возможно это просто незаполненные данные, либо техническая особенность системы для клиентов не имеющих дебетовой карты.\n",
    "    - проверили количество дубликатов - их нет;\n",
    "    - для удобства привели значения столбцов с балансом и зарплатой к целочисленному типу.\n",
    "\n",
    "\n",
    "- Провели категоризацию данных\n",
    "\n",
    "\n",
    "    - Баллы кредитного скоринга - почти 40% клиентов имеют средний балл (что, по данным из Интернета достаточно для одобрения кредита). Около 31% клиентов имеют высокий и 30% - низкий баллы.\n",
    "    - Возраст - почти 80% клиентов от 18 до 45 лет, около 15% - в диапазоне от 46 до 60 лет, около 5% - старше 61 года.\n",
    "    - Число объектов в собственности клиента - у 45% клиентов в собственности более 5 объектов, что довольно неожиданно. 30% имеет от 3 до 5 объектов, 20% - от 1 до 2 объектов, и около 4% не имеет объектов.\n",
    "    - Баланс на счете - почти 50% клиентов имеют на счете более 100 000, 15% - от 50 до 100 тысяч. В категории от 30 до 50 тысяч около 6%, от 5 до 30 тысяч - около 1%. Внушительный процент имеет менее 5000 на счете - около 36%.\n",
    "    - Заработная плата - 50% клиентов имеют высокий достаток, около 25% клиентов имеют средний и низкий достатки.\n",
    "\n",
    "\n",
    "3. Провели исследовательский анализ данных:\n",
    "- По построенным графикам для категориальных параметров:\n",
    "\n",
    "\n",
    "    - больше всего клиентов попадает в отток из Ростова Великого, затем идет Ярославль (где находится половина клиентов), меньше всего в отток уходят в Рыбинске;\n",
    "    - женщины больше мужчин перестают пользоваться услугами банка;\n",
    "    - количество объектов в собственности от 1 до 9 дает больший процент оттока, нежели у клиентов с 0 и 10 объектами;\n",
    "    - с увеличением количества продуктов снижается количество ушедших клиентов, но при этом и оставшихся клиентов с 3 и 4 продуктами почти нет;\n",
    "    - в отток уходят больше те клиенты, кто пользуется кредитной картой;\n",
    "    - неактивные клиенты уходят с большей вероятностью.\n",
    "\n",
    "\n",
    "- По построенным графикам для численных параметров:\n",
    "\n",
    "\n",
    "    - среднее значение кредитного скоринга примерно равно для ушедших и оставшихся клиентов, а вот клиенты с минимальными значениями баланса больше склонны уходить, так как у распределений отточников больший хвост в начале;\n",
    "    - клиенты в возрасте примерно от 40 до 50 лет более склонны уходить, тенденция прослеживается примерно до 65-70 лет;\n",
    "    - при средних значениях баланса клиентов вероятность оттока повышается;\n",
    "    - зарплата клиента практически не влияет на отток.\n",
    "\n",
    "\n",
    "- По корреляционному анализу:\n",
    "\n",
    "\n",
    "    - имеется самая значительная корреляция оттока с возрастом (коэффициент корреляции 0.29) - чем больше возраст, тем выше вероятность ухода клиента.\n",
    "    - далее по выраженности зависимости идут:\n",
    "        - активность клиента = -0.16;\n",
    "        - баланс на счете = 0.12.\n",
    "    - для всех остальных признаков примечательна еще более слабая корреляция с оттоком.\n",
    "\n",
    "\n",
    "*Отсутствует очевидный признак, по которому можно было бы выявить склонность клиентов к оттоку*\n",
    "\n",
    "\n",
    "4. Выделили портреты клиентов, склонных уходить из банка:\n",
    "\n",
    "- Признаки клиентов, которые склонны уходить в отток:\n",
    "\n",
    "\n",
    "    - клиент из Ярославля или Ростова Великого;\n",
    "    - чаще всего женщины;\n",
    "    - клиент в возрасте примерно от 40 до 50 лет, тенденция прослеживается примерно до 65-70 лет;\n",
    "    - клиент имеет 1 до 9 объектов собственности;\n",
    "    - клиент с низким баллом кредитного скоринга (менее 600 баллов);\n",
    "    - неактивный клиент;\n",
    "    - клиент имеет кредитную карту;\n",
    "    - клиент с высокой заработной платой (более 100 000);\n",
    "    - среднее значение баланса на счете (около 120 000);\n",
    "    - клиент пользующийся 3 или 4 продуктами банка.\n",
    "\n",
    "\n",
    "- Признаки клиентов, которые не склонны уходить в отток:\n",
    "\n",
    "\n",
    "    - клиент из Рыбинска;\n",
    "    - чаще всего это мужчины;\n",
    "    - клиент молодого и среднего возрастов;\n",
    "    - клиент имеет от 1 до 9 объектов собственности;\n",
    "    - клиенты со средним и высоким баллом кредитного скоринга;\n",
    "    - активный клиент;\n",
    "    - клиент имеет кредитную карту;\n",
    "    - клиент со средней и высокой заработной платой;\n",
    "    - среднее значение баланса на счете (около 120 000);\n",
    "    - клиент пользующийся 1 или 2 продуктами банка.\n",
    "\n",
    "\n",
    "5. Сформулировали и проверили статистические гипотезы:\n",
    "- о равенстве различия дохода между действующими и ушедшими клиентами. Нулевая гипотеза подтвердилась. Вывод о различии доходов действующих и ушедших клиентов сделать нельзя.\n",
    "- о равенстве различия баллов кредитного скоринга между действующими и ушедшими клиентами. Нулевая гипотеза не подтвердилась. Уходящие пользователи становятся менее заинтересованными в продуктах банка и их активнсть падает.\n",
    "- о равенстве баллов скоринга между теми клиентами, которые ушли и теми, которые остались. Нулевая гипотеза не подтвердилась. Разница в возрасте составляет около 10 лет.\n",
    "\n",
    "6. Провели сегментацию клиентов\n",
    "- провели сегментацию клиентов: построили матрицу расстояний функцией linkage() на стандартизованной матрице признаков, после чего обучили модель сегментации на основании алгоритма K-Means. В результате были получены 4 сегмента, т.е. 3 портрета клиентов.\n",
    "\n",
    "- наиболее отточным показался сегмент 0 с долей оттока в 32%:\n",
    "\n",
    "\n",
    "    - средний балл кредитного скоринга равен 651;\n",
    "    - приблизительно равное распределение между мужчинами и женщинами;\n",
    "    - предпочтительно из Ростова Великого;\n",
    "    - средний возраст клиентов около 39 лет;\n",
    "    - среднее количество объектов в собственности равно 5;\n",
    "    - средняя сумма на счете клиента равна 119 729;\n",
    "    - количество продуктов, которыми пользуется клиент от 1 до 2;\n",
    "    - наличие кредитной карты у 71% клиентов;\n",
    "    - 50% клиентов пользовались продуктами банка;\n",
    "    - средняя заработная плата клиентов равна 101 112.\n",
    "\n",
    "\n",
    "- наименее отточным показался сегмент 1 с долей оттока 13%:\n",
    "\n",
    "\n",
    "    - средний балл кредитного скоринга равен 650;\n",
    "    - предпочтительно мужчины;\n",
    "    - предпочтительно из Ярославля;\n",
    "    - средний возраст клиентов около 38 лет;\n",
    "    - среднее количество объектов в собственности равно 5;\n",
    "    - средняя сумма на счете клиента равна 63 546;\n",
    "    - количество продуктов, которыми пользуется клиент от 1 до 2;\n",
    "    - наличие кредитной карты у 71% клиентов;\n",
    "    - 52% клиентов пользовались продуктами банка;\n",
    "    - средняя заработная плата клиентов равна 100 173.\n",
    "\n",
    "\n",
    "**Рекомендации:**\n",
    "\n",
    "Для клиентов из Ярославля и Ростова Великого провести анализ качества предоставляемых услуг, обратить внимание на следующие группы:\n",
    "- имеющих 3-4 продукта в пользовании.\n",
    "- женского пола в возрасте от 45 до 70 лет;\n",
    "- низкой активности;\n",
    "- по возможности пересмотреть баллы кредитного скоринга и актуализировать информацию.\n",
    "\n",
    "Вышеуказанным группам можно предложить особые условия продуктов, которыми они пользуются, возможно следует завлечь данную группу клиентов особыми льготами или услугами."
   ]
  }
 ],
 "metadata": {
  "ExecuteTimeLog": [
   {
    "duration": 1684,
    "start_time": "2022-12-07T11:02:59.776Z"
   },
   {
    "duration": 156,
    "start_time": "2022-12-07T11:03:20.517Z"
   },
   {
    "duration": 36,
    "start_time": "2022-12-07T11:03:34.178Z"
   },
   {
    "duration": 14,
    "start_time": "2022-12-07T11:03:36.526Z"
   },
   {
    "duration": 14,
    "start_time": "2022-12-07T11:03:45.917Z"
   },
   {
    "duration": 6,
    "start_time": "2022-12-07T11:04:20.317Z"
   },
   {
    "duration": 15,
    "start_time": "2022-12-07T11:28:23.877Z"
   },
   {
    "duration": 12,
    "start_time": "2022-12-07T11:28:29.549Z"
   },
   {
    "duration": 45,
    "start_time": "2022-12-08T07:58:13.745Z"
   },
   {
    "duration": 1594,
    "start_time": "2022-12-08T07:58:23.925Z"
   },
   {
    "duration": 157,
    "start_time": "2022-12-08T07:58:25.521Z"
   },
   {
    "duration": 13,
    "start_time": "2022-12-08T07:58:25.680Z"
   },
   {
    "duration": 19,
    "start_time": "2022-12-08T07:58:25.694Z"
   },
   {
    "duration": 5,
    "start_time": "2022-12-08T07:58:25.715Z"
   },
   {
    "duration": 11,
    "start_time": "2022-12-08T08:03:16.458Z"
   },
   {
    "duration": 6,
    "start_time": "2022-12-08T08:04:00.203Z"
   },
   {
    "duration": 5,
    "start_time": "2022-12-08T08:04:20.449Z"
   },
   {
    "duration": 15,
    "start_time": "2022-12-08T08:05:11.990Z"
   },
   {
    "duration": 13,
    "start_time": "2022-12-08T08:05:20.482Z"
   },
   {
    "duration": 11,
    "start_time": "2022-12-08T08:05:34.239Z"
   },
   {
    "duration": 6,
    "start_time": "2022-12-08T08:06:52.208Z"
   },
   {
    "duration": 3,
    "start_time": "2022-12-08T08:12:23.616Z"
   },
   {
    "duration": 23,
    "start_time": "2022-12-08T08:17:10.039Z"
   },
   {
    "duration": 76,
    "start_time": "2022-12-08T08:17:15.490Z"
   },
   {
    "duration": 6,
    "start_time": "2022-12-08T08:17:23.218Z"
   },
   {
    "duration": 3,
    "start_time": "2022-12-08T08:23:02.073Z"
   },
   {
    "duration": 5,
    "start_time": "2022-12-08T08:23:22.809Z"
   },
   {
    "duration": 12,
    "start_time": "2022-12-08T08:23:30.368Z"
   },
   {
    "duration": 9,
    "start_time": "2022-12-08T08:23:40.944Z"
   },
   {
    "duration": 12,
    "start_time": "2022-12-08T08:23:46.118Z"
   },
   {
    "duration": 5,
    "start_time": "2022-12-08T08:42:31.974Z"
   },
   {
    "duration": 7,
    "start_time": "2022-12-08T08:42:48.352Z"
   },
   {
    "duration": 8,
    "start_time": "2022-12-08T08:43:23.753Z"
   },
   {
    "duration": 6,
    "start_time": "2022-12-08T08:44:37.754Z"
   },
   {
    "duration": 5,
    "start_time": "2022-12-08T08:44:43.720Z"
   },
   {
    "duration": 9,
    "start_time": "2022-12-08T08:45:36.240Z"
   },
   {
    "duration": 6,
    "start_time": "2022-12-08T08:45:41.459Z"
   },
   {
    "duration": 118,
    "start_time": "2022-12-08T08:45:56.887Z"
   },
   {
    "duration": 12,
    "start_time": "2022-12-08T08:46:06.641Z"
   },
   {
    "duration": 11,
    "start_time": "2022-12-08T08:46:09.159Z"
   },
   {
    "duration": 5,
    "start_time": "2022-12-08T08:47:18.776Z"
   },
   {
    "duration": 7,
    "start_time": "2022-12-08T08:47:23.720Z"
   },
   {
    "duration": 7,
    "start_time": "2022-12-08T08:48:25.152Z"
   },
   {
    "duration": 9,
    "start_time": "2022-12-08T08:59:36.328Z"
   },
   {
    "duration": 5,
    "start_time": "2022-12-08T08:59:38.560Z"
   },
   {
    "duration": 11,
    "start_time": "2022-12-08T08:59:39.279Z"
   },
   {
    "duration": 10,
    "start_time": "2022-12-08T09:01:42.633Z"
   },
   {
    "duration": 112,
    "start_time": "2022-12-08T09:19:58.519Z"
   },
   {
    "duration": 114,
    "start_time": "2022-12-08T09:20:04.118Z"
   },
   {
    "duration": 20,
    "start_time": "2022-12-08T09:22:43.044Z"
   },
   {
    "duration": 78,
    "start_time": "2022-12-08T09:22:49.148Z"
   },
   {
    "duration": 74,
    "start_time": "2022-12-08T09:23:09.292Z"
   },
   {
    "duration": 1387,
    "start_time": "2022-12-08T09:23:15.545Z"
   },
   {
    "duration": 39,
    "start_time": "2022-12-08T09:23:16.934Z"
   },
   {
    "duration": 12,
    "start_time": "2022-12-08T09:23:16.975Z"
   },
   {
    "duration": 16,
    "start_time": "2022-12-08T09:23:16.988Z"
   },
   {
    "duration": 5,
    "start_time": "2022-12-08T09:23:17.005Z"
   },
   {
    "duration": 10,
    "start_time": "2022-12-08T09:23:17.012Z"
   },
   {
    "duration": 5,
    "start_time": "2022-12-08T09:23:17.023Z"
   },
   {
    "duration": 13,
    "start_time": "2022-12-08T09:23:17.029Z"
   },
   {
    "duration": 6,
    "start_time": "2022-12-08T09:23:17.043Z"
   },
   {
    "duration": 10,
    "start_time": "2022-12-08T09:23:17.051Z"
   },
   {
    "duration": 9,
    "start_time": "2022-12-08T09:23:17.062Z"
   },
   {
    "duration": 39,
    "start_time": "2022-12-08T09:23:17.073Z"
   },
   {
    "duration": 5,
    "start_time": "2022-12-08T09:23:17.114Z"
   },
   {
    "duration": 15,
    "start_time": "2022-12-08T09:23:17.121Z"
   },
   {
    "duration": 92,
    "start_time": "2022-12-08T09:23:17.138Z"
   },
   {
    "duration": 11,
    "start_time": "2022-12-08T10:44:14.522Z"
   },
   {
    "duration": 3,
    "start_time": "2022-12-08T10:48:17.818Z"
   },
   {
    "duration": 83,
    "start_time": "2022-12-08T10:48:19.049Z"
   },
   {
    "duration": 1569,
    "start_time": "2022-12-08T10:48:27.232Z"
   },
   {
    "duration": 39,
    "start_time": "2022-12-08T10:48:28.805Z"
   },
   {
    "duration": 13,
    "start_time": "2022-12-08T10:48:28.845Z"
   },
   {
    "duration": 43,
    "start_time": "2022-12-08T10:48:28.860Z"
   },
   {
    "duration": 32,
    "start_time": "2022-12-08T10:48:28.905Z"
   },
   {
    "duration": 21,
    "start_time": "2022-12-08T10:48:28.938Z"
   },
   {
    "duration": 20,
    "start_time": "2022-12-08T10:48:28.961Z"
   },
   {
    "duration": 42,
    "start_time": "2022-12-08T10:48:28.983Z"
   },
   {
    "duration": 27,
    "start_time": "2022-12-08T10:48:29.027Z"
   },
   {
    "duration": 40,
    "start_time": "2022-12-08T10:48:29.056Z"
   },
   {
    "duration": 26,
    "start_time": "2022-12-08T10:48:29.098Z"
   },
   {
    "duration": 29,
    "start_time": "2022-12-08T10:48:29.125Z"
   },
   {
    "duration": 16,
    "start_time": "2022-12-08T10:48:29.155Z"
   },
   {
    "duration": 26,
    "start_time": "2022-12-08T10:48:29.173Z"
   },
   {
    "duration": 18,
    "start_time": "2022-12-08T10:48:29.201Z"
   },
   {
    "duration": 98,
    "start_time": "2022-12-08T10:48:29.220Z"
   },
   {
    "duration": 125,
    "start_time": "2022-12-08T10:48:29.319Z"
   },
   {
    "duration": 12,
    "start_time": "2022-12-08T10:48:37.074Z"
   },
   {
    "duration": 16,
    "start_time": "2022-12-08T10:48:47.514Z"
   },
   {
    "duration": 6,
    "start_time": "2022-12-08T10:51:10.922Z"
   },
   {
    "duration": 74,
    "start_time": "2022-12-08T10:51:33.306Z"
   },
   {
    "duration": 66,
    "start_time": "2022-12-08T10:51:43.337Z"
   },
   {
    "duration": 9,
    "start_time": "2022-12-08T10:53:18.522Z"
   },
   {
    "duration": 162,
    "start_time": "2022-12-08T10:54:09.736Z"
   },
   {
    "duration": 17,
    "start_time": "2022-12-08T10:54:18.753Z"
   },
   {
    "duration": 142,
    "start_time": "2022-12-08T10:54:29.465Z"
   },
   {
    "duration": 137,
    "start_time": "2022-12-08T10:56:44.234Z"
   },
   {
    "duration": 158,
    "start_time": "2022-12-08T10:56:49.257Z"
   },
   {
    "duration": 3,
    "start_time": "2022-12-08T10:57:10.088Z"
   },
   {
    "duration": 69,
    "start_time": "2022-12-08T10:57:10.729Z"
   },
   {
    "duration": 8,
    "start_time": "2022-12-08T10:57:11.462Z"
   },
   {
    "duration": 230,
    "start_time": "2022-12-08T10:57:12.120Z"
   },
   {
    "duration": 22,
    "start_time": "2022-12-08T11:08:14.096Z"
   },
   {
    "duration": 110,
    "start_time": "2022-12-08T11:08:22.724Z"
   },
   {
    "duration": 8,
    "start_time": "2022-12-08T11:08:22.836Z"
   },
   {
    "duration": 102,
    "start_time": "2022-12-08T11:08:23.873Z"
   },
   {
    "duration": 8,
    "start_time": "2022-12-08T11:08:24.919Z"
   },
   {
    "duration": 104,
    "start_time": "2022-12-08T11:08:43.193Z"
   },
   {
    "duration": 8,
    "start_time": "2022-12-08T11:08:45.459Z"
   },
   {
    "duration": 150,
    "start_time": "2022-12-08T11:09:48.329Z"
   },
   {
    "duration": 10,
    "start_time": "2022-12-08T11:12:05.922Z"
   },
   {
    "duration": 15,
    "start_time": "2022-12-08T11:12:26.040Z"
   },
   {
    "duration": 8,
    "start_time": "2022-12-08T11:12:32.344Z"
   },
   {
    "duration": 9,
    "start_time": "2022-12-08T11:12:38.969Z"
   },
   {
    "duration": 6,
    "start_time": "2022-12-08T11:13:06.784Z"
   },
   {
    "duration": 18,
    "start_time": "2022-12-08T11:13:12.317Z"
   },
   {
    "duration": 8,
    "start_time": "2022-12-08T11:13:21.031Z"
   },
   {
    "duration": 17,
    "start_time": "2022-12-08T11:13:27.935Z"
   },
   {
    "duration": 6,
    "start_time": "2022-12-08T11:13:57.235Z"
   },
   {
    "duration": 10,
    "start_time": "2022-12-08T11:14:05.177Z"
   },
   {
    "duration": 105,
    "start_time": "2022-12-08T11:14:33.178Z"
   },
   {
    "duration": 12,
    "start_time": "2022-12-08T11:14:36.991Z"
   },
   {
    "duration": 17,
    "start_time": "2022-12-08T11:14:54.761Z"
   },
   {
    "duration": 143,
    "start_time": "2022-12-08T11:15:13.088Z"
   },
   {
    "duration": 21,
    "start_time": "2022-12-08T11:15:19.426Z"
   },
   {
    "duration": 10,
    "start_time": "2022-12-08T11:16:16.311Z"
   },
   {
    "duration": 9,
    "start_time": "2022-12-08T11:16:32.672Z"
   },
   {
    "duration": 12,
    "start_time": "2022-12-08T11:16:33.816Z"
   },
   {
    "duration": 147,
    "start_time": "2022-12-08T11:16:46.738Z"
   },
   {
    "duration": 10,
    "start_time": "2022-12-08T11:17:11.951Z"
   },
   {
    "duration": 149,
    "start_time": "2022-12-08T11:17:23.959Z"
   },
   {
    "duration": 138,
    "start_time": "2022-12-08T11:25:07.535Z"
   },
   {
    "duration": 108,
    "start_time": "2022-12-08T11:25:16.527Z"
   },
   {
    "duration": 84,
    "start_time": "2022-12-08T11:25:19.951Z"
   },
   {
    "duration": 9,
    "start_time": "2022-12-08T11:25:21.424Z"
   },
   {
    "duration": 105,
    "start_time": "2022-12-08T11:25:36.247Z"
   },
   {
    "duration": 10,
    "start_time": "2022-12-08T11:25:36.742Z"
   },
   {
    "duration": 113,
    "start_time": "2022-12-08T11:28:33.638Z"
   },
   {
    "duration": 10,
    "start_time": "2022-12-08T11:29:14.279Z"
   },
   {
    "duration": 11,
    "start_time": "2022-12-08T11:29:54.157Z"
   },
   {
    "duration": 169,
    "start_time": "2022-12-08T11:29:55.998Z"
   },
   {
    "duration": 9,
    "start_time": "2022-12-08T11:30:06.478Z"
   },
   {
    "duration": 17,
    "start_time": "2022-12-08T11:30:19.861Z"
   },
   {
    "duration": 110,
    "start_time": "2022-12-08T11:30:51.446Z"
   },
   {
    "duration": 19,
    "start_time": "2022-12-08T11:30:53.982Z"
   },
   {
    "duration": 13,
    "start_time": "2022-12-08T11:36:32.316Z"
   },
   {
    "duration": 18,
    "start_time": "2022-12-08T11:36:37.350Z"
   },
   {
    "duration": 9,
    "start_time": "2022-12-08T11:36:50.758Z"
   },
   {
    "duration": 106,
    "start_time": "2022-12-08T11:36:54.418Z"
   },
   {
    "duration": 10,
    "start_time": "2022-12-08T11:36:55.382Z"
   },
   {
    "duration": 150,
    "start_time": "2022-12-08T11:36:56.782Z"
   },
   {
    "duration": 4,
    "start_time": "2022-12-08T11:46:03.621Z"
   },
   {
    "duration": 99,
    "start_time": "2022-12-08T11:48:45.446Z"
   },
   {
    "duration": 9,
    "start_time": "2022-12-08T11:48:46.253Z"
   },
   {
    "duration": 145,
    "start_time": "2022-12-08T11:49:32.398Z"
   },
   {
    "duration": 80,
    "start_time": "2022-12-08T11:51:49.375Z"
   },
   {
    "duration": 9,
    "start_time": "2022-12-08T11:51:50.235Z"
   },
   {
    "duration": 148,
    "start_time": "2022-12-08T11:51:51.623Z"
   },
   {
    "duration": 83,
    "start_time": "2022-12-08T11:56:47.910Z"
   },
   {
    "duration": 10,
    "start_time": "2022-12-08T11:57:15.301Z"
   },
   {
    "duration": 16,
    "start_time": "2022-12-08T11:59:37.566Z"
   },
   {
    "duration": 155,
    "start_time": "2022-12-08T11:59:42.341Z"
   },
   {
    "duration": 1461,
    "start_time": "2022-12-09T08:18:18.785Z"
   },
   {
    "duration": 41,
    "start_time": "2022-12-09T08:18:20.248Z"
   },
   {
    "duration": 17,
    "start_time": "2022-12-09T08:18:20.291Z"
   },
   {
    "duration": 22,
    "start_time": "2022-12-09T08:18:20.310Z"
   },
   {
    "duration": 8,
    "start_time": "2022-12-09T08:18:20.335Z"
   },
   {
    "duration": 6,
    "start_time": "2022-12-09T08:18:20.345Z"
   },
   {
    "duration": 5,
    "start_time": "2022-12-09T08:18:20.353Z"
   },
   {
    "duration": 13,
    "start_time": "2022-12-09T08:18:20.359Z"
   },
   {
    "duration": 6,
    "start_time": "2022-12-09T08:18:20.405Z"
   },
   {
    "duration": 9,
    "start_time": "2022-12-09T08:18:20.413Z"
   },
   {
    "duration": 11,
    "start_time": "2022-12-09T08:18:20.424Z"
   },
   {
    "duration": 13,
    "start_time": "2022-12-09T08:18:20.436Z"
   },
   {
    "duration": 4,
    "start_time": "2022-12-09T08:18:20.450Z"
   },
   {
    "duration": 11,
    "start_time": "2022-12-09T08:18:20.457Z"
   },
   {
    "duration": 3,
    "start_time": "2022-12-09T08:18:20.470Z"
   },
   {
    "duration": 102,
    "start_time": "2022-12-09T08:18:20.474Z"
   },
   {
    "duration": 10,
    "start_time": "2022-12-09T08:18:20.578Z"
   },
   {
    "duration": 185,
    "start_time": "2022-12-09T08:18:20.589Z"
   },
   {
    "duration": 73,
    "start_time": "2022-12-09T08:18:20.776Z"
   },
   {
    "duration": 10,
    "start_time": "2022-12-09T08:18:20.851Z"
   },
   {
    "duration": 157,
    "start_time": "2022-12-09T08:18:20.862Z"
   },
   {
    "duration": 108,
    "start_time": "2022-12-09T08:18:21.021Z"
   },
   {
    "duration": 10,
    "start_time": "2022-12-09T08:18:21.132Z"
   },
   {
    "duration": 163,
    "start_time": "2022-12-09T08:18:21.144Z"
   },
   {
    "duration": 109,
    "start_time": "2022-12-09T08:18:21.309Z"
   },
   {
    "duration": 9,
    "start_time": "2022-12-09T08:18:21.420Z"
   },
   {
    "duration": 178,
    "start_time": "2022-12-09T08:18:21.431Z"
   },
   {
    "duration": 93,
    "start_time": "2022-12-09T08:18:21.611Z"
   },
   {
    "duration": 10,
    "start_time": "2022-12-09T08:18:21.706Z"
   },
   {
    "duration": 229,
    "start_time": "2022-12-09T08:18:21.718Z"
   },
   {
    "duration": 18,
    "start_time": "2022-12-09T08:38:50.600Z"
   },
   {
    "duration": 34,
    "start_time": "2022-12-09T09:05:50.788Z"
   },
   {
    "duration": 3,
    "start_time": "2022-12-09T09:10:31.621Z"
   },
   {
    "duration": 9,
    "start_time": "2022-12-09T09:10:33.412Z"
   },
   {
    "duration": 7,
    "start_time": "2022-12-09T09:10:35.035Z"
   },
   {
    "duration": 7,
    "start_time": "2022-12-09T09:10:36.091Z"
   },
   {
    "duration": 8,
    "start_time": "2022-12-09T09:10:37.453Z"
   },
   {
    "duration": 1456,
    "start_time": "2022-12-09T09:10:43.234Z"
   },
   {
    "duration": 39,
    "start_time": "2022-12-09T09:10:44.692Z"
   },
   {
    "duration": 12,
    "start_time": "2022-12-09T09:10:44.732Z"
   },
   {
    "duration": 15,
    "start_time": "2022-12-09T09:10:44.746Z"
   },
   {
    "duration": 12,
    "start_time": "2022-12-09T09:10:44.763Z"
   },
   {
    "duration": 15,
    "start_time": "2022-12-09T09:10:44.777Z"
   },
   {
    "duration": 4,
    "start_time": "2022-12-09T09:10:44.793Z"
   },
   {
    "duration": 11,
    "start_time": "2022-12-09T09:10:44.799Z"
   },
   {
    "duration": 12,
    "start_time": "2022-12-09T09:10:44.812Z"
   },
   {
    "duration": 15,
    "start_time": "2022-12-09T09:10:44.826Z"
   },
   {
    "duration": 30,
    "start_time": "2022-12-09T09:10:44.842Z"
   },
   {
    "duration": 21,
    "start_time": "2022-12-09T09:10:44.873Z"
   },
   {
    "duration": 24,
    "start_time": "2022-12-09T09:10:44.895Z"
   },
   {
    "duration": 29,
    "start_time": "2022-12-09T09:10:44.920Z"
   },
   {
    "duration": 16,
    "start_time": "2022-12-09T09:10:44.950Z"
   },
   {
    "duration": 94,
    "start_time": "2022-12-09T09:10:44.968Z"
   },
   {
    "duration": 9,
    "start_time": "2022-12-09T09:10:45.065Z"
   },
   {
    "duration": 180,
    "start_time": "2022-12-09T09:10:45.075Z"
   },
   {
    "duration": 77,
    "start_time": "2022-12-09T09:10:45.257Z"
   },
   {
    "duration": 9,
    "start_time": "2022-12-09T09:10:45.336Z"
   },
   {
    "duration": 163,
    "start_time": "2022-12-09T09:10:45.347Z"
   },
   {
    "duration": 112,
    "start_time": "2022-12-09T09:10:45.511Z"
   },
   {
    "duration": 10,
    "start_time": "2022-12-09T09:10:45.625Z"
   },
   {
    "duration": 176,
    "start_time": "2022-12-09T09:10:45.637Z"
   },
   {
    "duration": 122,
    "start_time": "2022-12-09T09:10:45.814Z"
   },
   {
    "duration": 9,
    "start_time": "2022-12-09T09:10:45.938Z"
   },
   {
    "duration": 190,
    "start_time": "2022-12-09T09:10:45.948Z"
   },
   {
    "duration": 97,
    "start_time": "2022-12-09T09:10:46.141Z"
   },
   {
    "duration": 10,
    "start_time": "2022-12-09T09:10:46.240Z"
   },
   {
    "duration": 233,
    "start_time": "2022-12-09T09:10:46.251Z"
   },
   {
    "duration": 46,
    "start_time": "2022-12-09T09:10:46.486Z"
   },
   {
    "duration": 163,
    "start_time": "2022-12-09T09:31:14.035Z"
   },
   {
    "duration": 163,
    "start_time": "2022-12-09T09:35:14.161Z"
   },
   {
    "duration": 3,
    "start_time": "2022-12-09T09:46:35.744Z"
   },
   {
    "duration": 14,
    "start_time": "2022-12-09T09:47:01.575Z"
   },
   {
    "duration": 13,
    "start_time": "2022-12-09T09:48:20.951Z"
   },
   {
    "duration": 33,
    "start_time": "2022-12-09T09:48:23.495Z"
   },
   {
    "duration": 37,
    "start_time": "2022-12-09T09:48:30.172Z"
   },
   {
    "duration": 11,
    "start_time": "2022-12-09T09:51:21.727Z"
   },
   {
    "duration": 5,
    "start_time": "2022-12-09T09:51:41.663Z"
   },
   {
    "duration": 12,
    "start_time": "2022-12-09T09:51:42.653Z"
   },
   {
    "duration": 36,
    "start_time": "2022-12-09T09:51:44.335Z"
   },
   {
    "duration": 7,
    "start_time": "2022-12-09T09:52:07.390Z"
   },
   {
    "duration": 37,
    "start_time": "2022-12-09T09:52:08.842Z"
   },
   {
    "duration": 13,
    "start_time": "2022-12-09T09:52:14.750Z"
   },
   {
    "duration": 6,
    "start_time": "2022-12-09T09:52:18.126Z"
   },
   {
    "duration": 5,
    "start_time": "2022-12-09T09:52:21.966Z"
   },
   {
    "duration": 12,
    "start_time": "2022-12-09T09:52:23.079Z"
   },
   {
    "duration": 40,
    "start_time": "2022-12-09T09:52:25.007Z"
   },
   {
    "duration": 3,
    "start_time": "2022-12-09T09:52:33.350Z"
   },
   {
    "duration": 11,
    "start_time": "2022-12-09T09:52:33.982Z"
   },
   {
    "duration": 11,
    "start_time": "2022-12-09T09:52:34.462Z"
   },
   {
    "duration": 38,
    "start_time": "2022-12-09T09:52:36.000Z"
   },
   {
    "duration": 5,
    "start_time": "2022-12-09T09:52:48.006Z"
   },
   {
    "duration": 13,
    "start_time": "2022-12-09T09:52:48.550Z"
   },
   {
    "duration": 3,
    "start_time": "2022-12-09T09:52:50.014Z"
   },
   {
    "duration": 13,
    "start_time": "2022-12-09T09:52:50.487Z"
   },
   {
    "duration": 13,
    "start_time": "2022-12-09T09:52:50.870Z"
   },
   {
    "duration": 4,
    "start_time": "2022-12-09T09:52:56.351Z"
   },
   {
    "duration": 40,
    "start_time": "2022-12-09T09:53:01.790Z"
   },
   {
    "duration": 1744,
    "start_time": "2022-12-09T11:42:47.529Z"
   },
   {
    "duration": 778,
    "start_time": "2022-12-09T11:42:56.147Z"
   },
   {
    "duration": 786,
    "start_time": "2022-12-09T11:45:40.418Z"
   },
   {
    "duration": 816,
    "start_time": "2022-12-09T11:46:15.706Z"
   },
   {
    "duration": 23,
    "start_time": "2022-12-09T11:48:00.874Z"
   },
   {
    "duration": 980,
    "start_time": "2022-12-09T11:48:09.465Z"
   },
   {
    "duration": 69,
    "start_time": "2022-12-09T11:48:18.812Z"
   },
   {
    "duration": 882,
    "start_time": "2022-12-09T11:48:23.065Z"
   },
   {
    "duration": 854,
    "start_time": "2022-12-09T11:48:46.922Z"
   },
   {
    "duration": 830,
    "start_time": "2022-12-09T11:49:24.835Z"
   },
   {
    "duration": 5,
    "start_time": "2022-12-09T11:57:01.930Z"
   },
   {
    "duration": 11,
    "start_time": "2022-12-09T11:57:10.624Z"
   },
   {
    "duration": 294,
    "start_time": "2022-12-09T11:57:28.848Z"
   },
   {
    "duration": 5,
    "start_time": "2022-12-09T11:58:05.417Z"
   },
   {
    "duration": 1637,
    "start_time": "2022-12-09T11:58:07.048Z"
   },
   {
    "duration": 1406,
    "start_time": "2022-12-09T11:58:17.809Z"
   },
   {
    "duration": 1541,
    "start_time": "2022-12-12T04:12:42.232Z"
   },
   {
    "duration": 87,
    "start_time": "2022-12-12T04:12:43.775Z"
   },
   {
    "duration": 13,
    "start_time": "2022-12-12T04:12:43.864Z"
   },
   {
    "duration": 15,
    "start_time": "2022-12-12T04:12:43.878Z"
   },
   {
    "duration": 5,
    "start_time": "2022-12-12T04:12:43.896Z"
   },
   {
    "duration": 10,
    "start_time": "2022-12-12T04:12:43.903Z"
   },
   {
    "duration": 6,
    "start_time": "2022-12-12T04:12:43.914Z"
   },
   {
    "duration": 11,
    "start_time": "2022-12-12T04:12:43.922Z"
   },
   {
    "duration": 12,
    "start_time": "2022-12-12T04:12:43.935Z"
   },
   {
    "duration": 7,
    "start_time": "2022-12-12T04:12:43.948Z"
   },
   {
    "duration": 9,
    "start_time": "2022-12-12T04:12:43.957Z"
   },
   {
    "duration": 12,
    "start_time": "2022-12-12T04:12:43.967Z"
   },
   {
    "duration": 4,
    "start_time": "2022-12-12T04:12:43.980Z"
   },
   {
    "duration": 10,
    "start_time": "2022-12-12T04:12:43.987Z"
   },
   {
    "duration": 25,
    "start_time": "2022-12-12T04:12:43.998Z"
   },
   {
    "duration": 78,
    "start_time": "2022-12-12T04:12:44.024Z"
   },
   {
    "duration": 8,
    "start_time": "2022-12-12T04:12:44.104Z"
   },
   {
    "duration": 160,
    "start_time": "2022-12-12T04:12:44.121Z"
   },
   {
    "duration": 71,
    "start_time": "2022-12-12T04:12:44.283Z"
   },
   {
    "duration": 9,
    "start_time": "2022-12-12T04:12:44.355Z"
   },
   {
    "duration": 148,
    "start_time": "2022-12-12T04:12:44.365Z"
   },
   {
    "duration": 99,
    "start_time": "2022-12-12T04:12:44.515Z"
   },
   {
    "duration": 12,
    "start_time": "2022-12-12T04:12:44.615Z"
   },
   {
    "duration": 151,
    "start_time": "2022-12-12T04:12:44.628Z"
   },
   {
    "duration": 110,
    "start_time": "2022-12-12T04:12:44.781Z"
   },
   {
    "duration": 8,
    "start_time": "2022-12-12T04:12:44.892Z"
   },
   {
    "duration": 158,
    "start_time": "2022-12-12T04:12:44.902Z"
   },
   {
    "duration": 83,
    "start_time": "2022-12-12T04:12:45.062Z"
   },
   {
    "duration": 11,
    "start_time": "2022-12-12T04:12:45.147Z"
   },
   {
    "duration": 248,
    "start_time": "2022-12-12T04:12:45.160Z"
   },
   {
    "duration": 3,
    "start_time": "2022-12-12T04:12:45.409Z"
   },
   {
    "duration": 17,
    "start_time": "2022-12-12T04:12:45.413Z"
   },
   {
    "duration": 36,
    "start_time": "2022-12-12T04:12:45.431Z"
   },
   {
    "duration": 812,
    "start_time": "2022-12-12T04:12:45.468Z"
   },
   {
    "duration": 5,
    "start_time": "2022-12-12T04:12:46.282Z"
   },
   {
    "duration": 1311,
    "start_time": "2022-12-12T04:12:46.288Z"
   },
   {
    "duration": 1019,
    "start_time": "2022-12-12T04:22:24.021Z"
   },
   {
    "duration": 4,
    "start_time": "2022-12-12T04:26:51.356Z"
   },
   {
    "duration": 1351,
    "start_time": "2022-12-12T04:26:53.460Z"
   },
   {
    "duration": 541501,
    "start_time": "2022-12-12T04:27:31.291Z"
   },
   {
    "duration": 4,
    "start_time": "2022-12-12T04:43:10.162Z"
   },
   {
    "duration": 52,
    "start_time": "2022-12-12T04:43:10.932Z"
   },
   {
    "duration": 109,
    "start_time": "2022-12-12T04:43:18.115Z"
   },
   {
    "duration": 10,
    "start_time": "2022-12-12T04:43:26.466Z"
   },
   {
    "duration": 4,
    "start_time": "2022-12-12T04:43:31.868Z"
   },
   {
    "duration": 1517,
    "start_time": "2022-12-12T04:43:32.635Z"
   },
   {
    "duration": 4,
    "start_time": "2022-12-12T04:43:46.348Z"
   },
   {
    "duration": 22,
    "start_time": "2022-12-12T04:43:48.171Z"
   },
   {
    "duration": 4,
    "start_time": "2022-12-12T04:43:59.355Z"
   },
   {
    "duration": 1569,
    "start_time": "2022-12-12T04:43:59.995Z"
   },
   {
    "duration": 4,
    "start_time": "2022-12-12T04:51:08.187Z"
   },
   {
    "duration": 8,
    "start_time": "2022-12-12T04:51:14.652Z"
   },
   {
    "duration": 4,
    "start_time": "2022-12-12T04:51:37.475Z"
   },
   {
    "duration": 3,
    "start_time": "2022-12-12T04:51:37.898Z"
   },
   {
    "duration": 141,
    "start_time": "2022-12-12T04:51:38.386Z"
   },
   {
    "duration": 4,
    "start_time": "2022-12-12T04:51:53.752Z"
   },
   {
    "duration": 4,
    "start_time": "2022-12-12T04:51:54.363Z"
   },
   {
    "duration": 1744,
    "start_time": "2022-12-12T04:51:54.814Z"
   },
   {
    "duration": 3,
    "start_time": "2022-12-12T04:53:58.211Z"
   },
   {
    "duration": 4,
    "start_time": "2022-12-12T04:53:58.587Z"
   },
   {
    "duration": 1708,
    "start_time": "2022-12-12T04:53:58.897Z"
   },
   {
    "duration": 4,
    "start_time": "2022-12-12T04:54:27.171Z"
   },
   {
    "duration": 4,
    "start_time": "2022-12-12T04:54:27.513Z"
   },
   {
    "duration": 1676,
    "start_time": "2022-12-12T04:54:27.793Z"
   },
   {
    "duration": 4,
    "start_time": "2022-12-12T04:54:35.545Z"
   },
   {
    "duration": 4,
    "start_time": "2022-12-12T04:54:36.658Z"
   },
   {
    "duration": 1687,
    "start_time": "2022-12-12T04:54:36.994Z"
   },
   {
    "duration": 4,
    "start_time": "2022-12-12T04:54:41.842Z"
   },
   {
    "duration": 4,
    "start_time": "2022-12-12T04:54:42.266Z"
   },
   {
    "duration": 1662,
    "start_time": "2022-12-12T04:54:42.614Z"
   },
   {
    "duration": 5,
    "start_time": "2022-12-12T04:56:25.451Z"
   },
   {
    "duration": 4,
    "start_time": "2022-12-12T04:56:25.957Z"
   },
   {
    "duration": 1129,
    "start_time": "2022-12-12T04:56:26.451Z"
   },
   {
    "duration": 4,
    "start_time": "2022-12-12T04:57:51.363Z"
   },
   {
    "duration": 4,
    "start_time": "2022-12-12T04:57:51.969Z"
   },
   {
    "duration": 1194,
    "start_time": "2022-12-12T04:57:52.435Z"
   },
   {
    "duration": 4,
    "start_time": "2022-12-12T04:59:05.370Z"
   },
   {
    "duration": 3,
    "start_time": "2022-12-12T04:59:05.842Z"
   },
   {
    "duration": 12,
    "start_time": "2022-12-12T04:59:06.250Z"
   },
   {
    "duration": 4,
    "start_time": "2022-12-12T04:59:15.570Z"
   },
   {
    "duration": 3,
    "start_time": "2022-12-12T04:59:16.011Z"
   },
   {
    "duration": 287,
    "start_time": "2022-12-12T04:59:16.370Z"
   },
   {
    "duration": 5,
    "start_time": "2022-12-12T04:59:38.954Z"
   },
   {
    "duration": 3,
    "start_time": "2022-12-12T04:59:39.330Z"
   },
   {
    "duration": 4479,
    "start_time": "2022-12-12T04:59:39.609Z"
   },
   {
    "duration": 5,
    "start_time": "2022-12-12T05:02:03.446Z"
   },
   {
    "duration": 3,
    "start_time": "2022-12-12T05:02:04.615Z"
   },
   {
    "duration": 1325,
    "start_time": "2022-12-12T05:02:04.932Z"
   },
   {
    "duration": 3,
    "start_time": "2022-12-12T05:03:06.129Z"
   },
   {
    "duration": 3,
    "start_time": "2022-12-12T05:03:07.147Z"
   },
   {
    "duration": 1193,
    "start_time": "2022-12-12T05:03:07.514Z"
   },
   {
    "duration": 4,
    "start_time": "2022-12-12T05:03:18.050Z"
   },
   {
    "duration": 4,
    "start_time": "2022-12-12T05:03:18.473Z"
   },
   {
    "duration": 1249,
    "start_time": "2022-12-12T05:03:18.817Z"
   },
   {
    "duration": 4,
    "start_time": "2022-12-12T05:12:08.066Z"
   },
   {
    "duration": 4,
    "start_time": "2022-12-12T05:12:08.456Z"
   },
   {
    "duration": 1147,
    "start_time": "2022-12-12T05:12:08.753Z"
   },
   {
    "duration": 1323,
    "start_time": "2022-12-12T05:12:45.112Z"
   },
   {
    "duration": 898,
    "start_time": "2022-12-12T05:13:24.098Z"
   },
   {
    "duration": 11,
    "start_time": "2022-12-12T05:13:34.161Z"
   },
   {
    "duration": 11,
    "start_time": "2022-12-12T05:13:41.124Z"
   },
   {
    "duration": 4,
    "start_time": "2022-12-12T05:13:43.354Z"
   },
   {
    "duration": 10,
    "start_time": "2022-12-12T05:13:44.064Z"
   },
   {
    "duration": 4,
    "start_time": "2022-12-12T05:14:27.193Z"
   },
   {
    "duration": 1206,
    "start_time": "2022-12-12T05:14:27.889Z"
   },
   {
    "duration": 4,
    "start_time": "2022-12-12T05:15:14.508Z"
   },
   {
    "duration": 1342,
    "start_time": "2022-12-12T05:15:15.104Z"
   },
   {
    "duration": 5,
    "start_time": "2022-12-12T05:20:46.185Z"
   },
   {
    "duration": 572,
    "start_time": "2022-12-12T05:20:47.105Z"
   },
   {
    "duration": 4,
    "start_time": "2022-12-12T05:21:09.849Z"
   },
   {
    "duration": 601,
    "start_time": "2022-12-12T05:21:10.888Z"
   },
   {
    "duration": 4,
    "start_time": "2022-12-12T05:21:34.801Z"
   },
   {
    "duration": 175,
    "start_time": "2022-12-12T05:21:35.259Z"
   },
   {
    "duration": 4,
    "start_time": "2022-12-12T05:21:42.160Z"
   },
   {
    "duration": 537,
    "start_time": "2022-12-12T05:21:42.590Z"
   },
   {
    "duration": 4,
    "start_time": "2022-12-12T05:23:44.825Z"
   },
   {
    "duration": 143,
    "start_time": "2022-12-12T05:23:45.513Z"
   },
   {
    "duration": 4,
    "start_time": "2022-12-12T05:23:54.417Z"
   },
   {
    "duration": 563,
    "start_time": "2022-12-12T05:23:54.893Z"
   },
   {
    "duration": 5,
    "start_time": "2022-12-12T05:26:12.329Z"
   },
   {
    "duration": 1245,
    "start_time": "2022-12-12T05:26:12.729Z"
   },
   {
    "duration": 4,
    "start_time": "2022-12-12T05:26:23.064Z"
   },
   {
    "duration": 1195,
    "start_time": "2022-12-12T05:26:23.449Z"
   },
   {
    "duration": 5,
    "start_time": "2022-12-12T05:26:40.096Z"
   },
   {
    "duration": 1284,
    "start_time": "2022-12-12T05:26:40.489Z"
   },
   {
    "duration": 4,
    "start_time": "2022-12-12T05:27:06.013Z"
   },
   {
    "duration": 1241,
    "start_time": "2022-12-12T05:27:06.399Z"
   },
   {
    "duration": 399,
    "start_time": "2022-12-12T05:32:04.689Z"
   },
   {
    "duration": 996,
    "start_time": "2022-12-12T05:47:52.568Z"
   },
   {
    "duration": 1458,
    "start_time": "2022-12-12T06:00:59.604Z"
   },
   {
    "duration": 38,
    "start_time": "2022-12-12T06:01:01.064Z"
   },
   {
    "duration": 11,
    "start_time": "2022-12-12T06:01:01.104Z"
   },
   {
    "duration": 47,
    "start_time": "2022-12-12T06:01:01.116Z"
   },
   {
    "duration": 29,
    "start_time": "2022-12-12T06:01:01.165Z"
   },
   {
    "duration": 66,
    "start_time": "2022-12-12T06:01:01.196Z"
   },
   {
    "duration": 25,
    "start_time": "2022-12-12T06:01:01.264Z"
   },
   {
    "duration": 65,
    "start_time": "2022-12-12T06:01:01.291Z"
   },
   {
    "duration": 35,
    "start_time": "2022-12-12T06:01:01.357Z"
   },
   {
    "duration": 23,
    "start_time": "2022-12-12T06:01:01.394Z"
   },
   {
    "duration": 35,
    "start_time": "2022-12-12T06:01:01.419Z"
   },
   {
    "duration": 53,
    "start_time": "2022-12-12T06:01:01.455Z"
   },
   {
    "duration": 29,
    "start_time": "2022-12-12T06:01:01.510Z"
   },
   {
    "duration": 40,
    "start_time": "2022-12-12T06:01:01.543Z"
   },
   {
    "duration": 19,
    "start_time": "2022-12-12T06:01:01.584Z"
   },
   {
    "duration": 95,
    "start_time": "2022-12-12T06:01:01.605Z"
   },
   {
    "duration": 10,
    "start_time": "2022-12-12T06:01:01.702Z"
   },
   {
    "duration": 199,
    "start_time": "2022-12-12T06:01:01.713Z"
   },
   {
    "duration": 67,
    "start_time": "2022-12-12T06:01:01.913Z"
   },
   {
    "duration": 9,
    "start_time": "2022-12-12T06:01:01.982Z"
   },
   {
    "duration": 178,
    "start_time": "2022-12-12T06:01:01.992Z"
   },
   {
    "duration": 102,
    "start_time": "2022-12-12T06:01:02.172Z"
   },
   {
    "duration": 9,
    "start_time": "2022-12-12T06:01:02.276Z"
   },
   {
    "duration": 193,
    "start_time": "2022-12-12T06:01:02.286Z"
   },
   {
    "duration": 113,
    "start_time": "2022-12-12T06:01:02.480Z"
   },
   {
    "duration": 10,
    "start_time": "2022-12-12T06:01:02.595Z"
   },
   {
    "duration": 187,
    "start_time": "2022-12-12T06:01:02.607Z"
   },
   {
    "duration": 86,
    "start_time": "2022-12-12T06:01:02.796Z"
   },
   {
    "duration": 10,
    "start_time": "2022-12-12T06:01:02.883Z"
   },
   {
    "duration": 235,
    "start_time": "2022-12-12T06:01:02.895Z"
   },
   {
    "duration": 2,
    "start_time": "2022-12-12T06:01:03.132Z"
   },
   {
    "duration": 26,
    "start_time": "2022-12-12T06:01:03.136Z"
   },
   {
    "duration": 47,
    "start_time": "2022-12-12T06:01:03.164Z"
   },
   {
    "duration": 969,
    "start_time": "2022-12-12T06:01:03.213Z"
   },
   {
    "duration": 5,
    "start_time": "2022-12-12T06:01:04.184Z"
   },
   {
    "duration": 1303,
    "start_time": "2022-12-12T06:01:04.190Z"
   },
   {
    "duration": 5,
    "start_time": "2022-12-12T06:01:05.494Z"
   },
   {
    "duration": 544,
    "start_time": "2022-12-12T06:01:05.501Z"
   },
   {
    "duration": 861,
    "start_time": "2022-12-12T06:01:06.047Z"
   },
   {
    "duration": 106,
    "start_time": "2022-12-12T06:01:06.910Z"
   },
   {
    "duration": 0,
    "start_time": "2022-12-12T06:01:07.018Z"
   },
   {
    "duration": 979,
    "start_time": "2022-12-12T06:04:36.784Z"
   },
   {
    "duration": 378,
    "start_time": "2022-12-12T06:04:40.191Z"
   },
   {
    "duration": 1168,
    "start_time": "2022-12-12T06:19:06.182Z"
   },
   {
    "duration": 327,
    "start_time": "2022-12-12T06:20:42.869Z"
   },
   {
    "duration": 877,
    "start_time": "2022-12-12T06:22:43.127Z"
   },
   {
    "duration": 963,
    "start_time": "2022-12-12T06:22:54.710Z"
   },
   {
    "duration": 857,
    "start_time": "2022-12-12T06:23:06.533Z"
   },
   {
    "duration": 921,
    "start_time": "2022-12-12T06:23:16.749Z"
   },
   {
    "duration": 393,
    "start_time": "2022-12-12T06:24:02.800Z"
   },
   {
    "duration": 340,
    "start_time": "2022-12-12T06:24:13.630Z"
   },
   {
    "duration": 356,
    "start_time": "2022-12-12T06:24:21.319Z"
   },
   {
    "duration": 378,
    "start_time": "2022-12-12T06:24:36.181Z"
   },
   {
    "duration": 386,
    "start_time": "2022-12-12T06:24:45.101Z"
   },
   {
    "duration": 334,
    "start_time": "2022-12-12T06:24:51.142Z"
   },
   {
    "duration": 338,
    "start_time": "2022-12-12T06:25:09.758Z"
   },
   {
    "duration": 341,
    "start_time": "2022-12-12T06:25:26.030Z"
   },
   {
    "duration": 336,
    "start_time": "2022-12-12T06:25:32.174Z"
   },
   {
    "duration": 324,
    "start_time": "2022-12-12T06:25:37.349Z"
   },
   {
    "duration": 469,
    "start_time": "2022-12-12T06:25:51.334Z"
   },
   {
    "duration": 370,
    "start_time": "2022-12-12T06:26:13.686Z"
   },
   {
    "duration": 362,
    "start_time": "2022-12-12T06:27:57.113Z"
   },
   {
    "duration": 1118,
    "start_time": "2022-12-12T06:28:44.181Z"
   },
   {
    "duration": 1079,
    "start_time": "2022-12-12T06:28:53.551Z"
   },
   {
    "duration": 1138,
    "start_time": "2022-12-12T06:30:50.269Z"
   },
   {
    "duration": 341,
    "start_time": "2022-12-12T06:33:46.628Z"
   },
   {
    "duration": 323,
    "start_time": "2022-12-12T07:16:48.698Z"
   },
   {
    "duration": 208,
    "start_time": "2022-12-12T07:16:53.130Z"
   },
   {
    "duration": 208,
    "start_time": "2022-12-12T07:16:56.970Z"
   },
   {
    "duration": 3,
    "start_time": "2022-12-12T07:19:23.721Z"
   },
   {
    "duration": 227,
    "start_time": "2022-12-12T07:24:38.034Z"
   },
   {
    "duration": 307,
    "start_time": "2022-12-12T07:24:46.083Z"
   },
   {
    "duration": 8,
    "start_time": "2022-12-12T07:25:28.805Z"
   },
   {
    "duration": 306,
    "start_time": "2022-12-12T07:26:30.936Z"
   },
   {
    "duration": 311,
    "start_time": "2022-12-12T07:28:59.738Z"
   },
   {
    "duration": 289,
    "start_time": "2022-12-12T07:29:26.794Z"
   },
   {
    "duration": 277,
    "start_time": "2022-12-12T07:30:19.977Z"
   },
   {
    "duration": 17,
    "start_time": "2022-12-12T07:31:15.325Z"
   },
   {
    "duration": 321,
    "start_time": "2022-12-12T07:31:39.370Z"
   },
   {
    "duration": 729,
    "start_time": "2022-12-12T07:31:48.042Z"
   },
   {
    "duration": 744,
    "start_time": "2022-12-12T07:31:50.362Z"
   },
   {
    "duration": 310,
    "start_time": "2022-12-12T07:32:01.250Z"
   },
   {
    "duration": 227,
    "start_time": "2022-12-12T07:36:53.131Z"
   },
   {
    "duration": 281,
    "start_time": "2022-12-12T07:43:22.131Z"
   },
   {
    "duration": 14,
    "start_time": "2022-12-12T07:44:54.008Z"
   },
   {
    "duration": 10,
    "start_time": "2022-12-12T07:45:12.521Z"
   },
   {
    "duration": 10,
    "start_time": "2022-12-12T07:45:25.473Z"
   },
   {
    "duration": 10,
    "start_time": "2022-12-12T07:45:30.004Z"
   },
   {
    "duration": 11,
    "start_time": "2022-12-12T07:50:59.080Z"
   },
   {
    "duration": 11,
    "start_time": "2022-12-12T07:51:13.017Z"
   },
   {
    "duration": 349,
    "start_time": "2022-12-12T08:40:09.813Z"
   },
   {
    "duration": 12,
    "start_time": "2022-12-12T08:40:26.924Z"
   },
   {
    "duration": 12,
    "start_time": "2022-12-12T08:40:36.331Z"
   },
   {
    "duration": 12,
    "start_time": "2022-12-12T08:54:46.556Z"
   },
   {
    "duration": 11,
    "start_time": "2022-12-12T09:07:07.859Z"
   },
   {
    "duration": 13,
    "start_time": "2022-12-12T09:07:26.787Z"
   },
   {
    "duration": 11,
    "start_time": "2022-12-12T09:09:11.068Z"
   },
   {
    "duration": 10,
    "start_time": "2022-12-12T09:09:27.931Z"
   },
   {
    "duration": 12,
    "start_time": "2022-12-12T09:11:27.723Z"
   },
   {
    "duration": 375,
    "start_time": "2022-12-12T09:14:44.659Z"
   },
   {
    "duration": 8,
    "start_time": "2022-12-12T09:17:36.738Z"
   },
   {
    "duration": 10,
    "start_time": "2022-12-12T09:20:12.944Z"
   },
   {
    "duration": 20,
    "start_time": "2022-12-12T09:22:36.825Z"
   },
   {
    "duration": 22,
    "start_time": "2022-12-12T09:23:21.409Z"
   },
   {
    "duration": 15,
    "start_time": "2022-12-12T09:45:34.906Z"
   },
   {
    "duration": 175,
    "start_time": "2022-12-12T09:45:35.694Z"
   },
   {
    "duration": 4,
    "start_time": "2022-12-12T09:45:58.313Z"
   },
   {
    "duration": 36,
    "start_time": "2022-12-12T09:45:59.265Z"
   },
   {
    "duration": 1245,
    "start_time": "2022-12-12T09:46:37.954Z"
   },
   {
    "duration": 428,
    "start_time": "2022-12-12T09:46:45.394Z"
   },
   {
    "duration": 1525,
    "start_time": "2022-12-12T09:46:58.425Z"
   },
   {
    "duration": 39,
    "start_time": "2022-12-12T09:46:59.952Z"
   },
   {
    "duration": 12,
    "start_time": "2022-12-12T09:46:59.993Z"
   },
   {
    "duration": 25,
    "start_time": "2022-12-12T09:47:00.007Z"
   },
   {
    "duration": 9,
    "start_time": "2022-12-12T09:47:00.034Z"
   },
   {
    "duration": 21,
    "start_time": "2022-12-12T09:47:00.045Z"
   },
   {
    "duration": 24,
    "start_time": "2022-12-12T09:47:00.068Z"
   },
   {
    "duration": 34,
    "start_time": "2022-12-12T09:47:00.093Z"
   },
   {
    "duration": 19,
    "start_time": "2022-12-12T09:47:00.129Z"
   },
   {
    "duration": 22,
    "start_time": "2022-12-12T09:47:00.152Z"
   },
   {
    "duration": 51,
    "start_time": "2022-12-12T09:47:00.175Z"
   },
   {
    "duration": 31,
    "start_time": "2022-12-12T09:47:00.228Z"
   },
   {
    "duration": 26,
    "start_time": "2022-12-12T09:47:00.261Z"
   },
   {
    "duration": 27,
    "start_time": "2022-12-12T09:47:00.289Z"
   },
   {
    "duration": 17,
    "start_time": "2022-12-12T09:47:00.318Z"
   },
   {
    "duration": 134,
    "start_time": "2022-12-12T09:47:00.338Z"
   },
   {
    "duration": 9,
    "start_time": "2022-12-12T09:47:00.473Z"
   },
   {
    "duration": 190,
    "start_time": "2022-12-12T09:47:00.484Z"
   },
   {
    "duration": 70,
    "start_time": "2022-12-12T09:47:00.675Z"
   },
   {
    "duration": 14,
    "start_time": "2022-12-12T09:47:00.748Z"
   },
   {
    "duration": 173,
    "start_time": "2022-12-12T09:47:00.763Z"
   },
   {
    "duration": 131,
    "start_time": "2022-12-12T09:47:00.938Z"
   },
   {
    "duration": 10,
    "start_time": "2022-12-12T09:47:01.071Z"
   },
   {
    "duration": 212,
    "start_time": "2022-12-12T09:47:01.082Z"
   },
   {
    "duration": 115,
    "start_time": "2022-12-12T09:47:01.295Z"
   },
   {
    "duration": 12,
    "start_time": "2022-12-12T09:47:01.412Z"
   },
   {
    "duration": 211,
    "start_time": "2022-12-12T09:47:01.426Z"
   },
   {
    "duration": 106,
    "start_time": "2022-12-12T09:47:01.642Z"
   },
   {
    "duration": 13,
    "start_time": "2022-12-12T09:47:01.750Z"
   },
   {
    "duration": 250,
    "start_time": "2022-12-12T09:47:01.766Z"
   },
   {
    "duration": 16,
    "start_time": "2022-12-12T09:47:02.018Z"
   },
   {
    "duration": 80,
    "start_time": "2022-12-12T09:47:02.035Z"
   },
   {
    "duration": 1092,
    "start_time": "2022-12-12T09:47:02.117Z"
   },
   {
    "duration": 10,
    "start_time": "2022-12-12T09:47:03.211Z"
   },
   {
    "duration": 1370,
    "start_time": "2022-12-12T09:47:03.223Z"
   },
   {
    "duration": 4,
    "start_time": "2022-12-12T09:47:04.594Z"
   },
   {
    "duration": 583,
    "start_time": "2022-12-12T09:47:04.600Z"
   },
   {
    "duration": 1411,
    "start_time": "2022-12-12T09:47:05.185Z"
   },
   {
    "duration": 406,
    "start_time": "2022-12-12T09:47:06.598Z"
   },
   {
    "duration": 2,
    "start_time": "2022-12-12T09:47:07.006Z"
   },
   {
    "duration": 358,
    "start_time": "2022-12-12T09:47:07.021Z"
   },
   {
    "duration": 9,
    "start_time": "2022-12-12T09:47:07.381Z"
   },
   {
    "duration": 15,
    "start_time": "2022-12-12T09:47:07.391Z"
   },
   {
    "duration": 24,
    "start_time": "2022-12-12T09:47:07.408Z"
   },
   {
    "duration": 450,
    "start_time": "2022-12-12T09:47:07.434Z"
   },
   {
    "duration": 9,
    "start_time": "2022-12-12T09:47:07.886Z"
   },
   {
    "duration": 25,
    "start_time": "2022-12-12T09:47:07.896Z"
   },
   {
    "duration": 366,
    "start_time": "2022-12-12T09:47:07.923Z"
   },
   {
    "duration": 9,
    "start_time": "2022-12-12T09:47:08.291Z"
   },
   {
    "duration": 28,
    "start_time": "2022-12-12T09:47:08.301Z"
   },
   {
    "duration": 38,
    "start_time": "2022-12-12T09:47:08.331Z"
   },
   {
    "duration": 1558,
    "start_time": "2022-12-12T09:47:44.039Z"
   },
   {
    "duration": 40,
    "start_time": "2022-12-12T09:47:45.599Z"
   },
   {
    "duration": 14,
    "start_time": "2022-12-12T09:47:45.641Z"
   },
   {
    "duration": 32,
    "start_time": "2022-12-12T09:47:45.656Z"
   },
   {
    "duration": 12,
    "start_time": "2022-12-12T09:47:45.690Z"
   },
   {
    "duration": 26,
    "start_time": "2022-12-12T09:47:45.704Z"
   },
   {
    "duration": 43,
    "start_time": "2022-12-12T09:47:45.732Z"
   },
   {
    "duration": 17,
    "start_time": "2022-12-12T09:47:45.777Z"
   },
   {
    "duration": 23,
    "start_time": "2022-12-12T09:47:45.796Z"
   },
   {
    "duration": 23,
    "start_time": "2022-12-12T09:47:45.821Z"
   },
   {
    "duration": 14,
    "start_time": "2022-12-12T09:47:45.847Z"
   },
   {
    "duration": 13,
    "start_time": "2022-12-12T09:47:45.863Z"
   },
   {
    "duration": 6,
    "start_time": "2022-12-12T09:47:45.878Z"
   },
   {
    "duration": 10,
    "start_time": "2022-12-12T09:47:45.888Z"
   },
   {
    "duration": 3,
    "start_time": "2022-12-12T09:47:45.900Z"
   },
   {
    "duration": 121,
    "start_time": "2022-12-12T09:47:45.905Z"
   },
   {
    "duration": 12,
    "start_time": "2022-12-12T09:47:46.028Z"
   },
   {
    "duration": 181,
    "start_time": "2022-12-12T09:47:46.042Z"
   },
   {
    "duration": 69,
    "start_time": "2022-12-12T09:47:46.225Z"
   },
   {
    "duration": 10,
    "start_time": "2022-12-12T09:47:46.295Z"
   },
   {
    "duration": 158,
    "start_time": "2022-12-12T09:47:46.323Z"
   },
   {
    "duration": 141,
    "start_time": "2022-12-12T09:47:46.483Z"
   },
   {
    "duration": 13,
    "start_time": "2022-12-12T09:47:46.627Z"
   },
   {
    "duration": 161,
    "start_time": "2022-12-12T09:47:46.642Z"
   },
   {
    "duration": 110,
    "start_time": "2022-12-12T09:47:46.805Z"
   },
   {
    "duration": 10,
    "start_time": "2022-12-12T09:47:46.920Z"
   },
   {
    "duration": 207,
    "start_time": "2022-12-12T09:47:46.932Z"
   },
   {
    "duration": 118,
    "start_time": "2022-12-12T09:47:47.142Z"
   },
   {
    "duration": 12,
    "start_time": "2022-12-12T09:47:47.262Z"
   },
   {
    "duration": 245,
    "start_time": "2022-12-12T09:47:47.276Z"
   },
   {
    "duration": 39,
    "start_time": "2022-12-12T09:47:47.522Z"
   },
   {
    "duration": 1051,
    "start_time": "2022-12-12T09:47:47.563Z"
   },
   {
    "duration": 9,
    "start_time": "2022-12-12T09:47:48.616Z"
   },
   {
    "duration": 1354,
    "start_time": "2022-12-12T09:47:48.627Z"
   },
   {
    "duration": 4,
    "start_time": "2022-12-12T09:47:49.982Z"
   },
   {
    "duration": 590,
    "start_time": "2022-12-12T09:47:49.987Z"
   },
   {
    "duration": 1020,
    "start_time": "2022-12-12T09:47:50.580Z"
   },
   {
    "duration": 355,
    "start_time": "2022-12-12T09:47:51.602Z"
   },
   {
    "duration": 2,
    "start_time": "2022-12-12T09:47:51.960Z"
   },
   {
    "duration": 354,
    "start_time": "2022-12-12T09:47:51.964Z"
   },
   {
    "duration": 13,
    "start_time": "2022-12-12T09:47:52.324Z"
   },
   {
    "duration": 12,
    "start_time": "2022-12-12T09:47:52.339Z"
   },
   {
    "duration": 11,
    "start_time": "2022-12-12T09:47:52.352Z"
   },
   {
    "duration": 471,
    "start_time": "2022-12-12T09:47:52.365Z"
   },
   {
    "duration": 12,
    "start_time": "2022-12-12T09:47:52.838Z"
   },
   {
    "duration": 22,
    "start_time": "2022-12-12T09:47:52.853Z"
   },
   {
    "duration": 482,
    "start_time": "2022-12-12T09:47:52.877Z"
   },
   {
    "duration": 12,
    "start_time": "2022-12-12T09:47:53.361Z"
   },
   {
    "duration": 38,
    "start_time": "2022-12-12T09:47:53.376Z"
   },
   {
    "duration": 29,
    "start_time": "2022-12-12T09:47:53.416Z"
   },
   {
    "duration": 19,
    "start_time": "2022-12-12T09:54:18.305Z"
   },
   {
    "duration": 128,
    "start_time": "2022-12-12T09:55:54.265Z"
   },
   {
    "duration": 13,
    "start_time": "2022-12-12T09:56:01.693Z"
   },
   {
    "duration": 25,
    "start_time": "2022-12-12T09:56:07.904Z"
   },
   {
    "duration": 28,
    "start_time": "2022-12-12T09:56:36.341Z"
   },
   {
    "duration": 24,
    "start_time": "2022-12-12T09:57:18.208Z"
   },
   {
    "duration": 7,
    "start_time": "2022-12-12T10:06:49.081Z"
   },
   {
    "duration": 12,
    "start_time": "2022-12-12T10:06:50.136Z"
   },
   {
    "duration": 283,
    "start_time": "2022-12-12T10:08:09.135Z"
   },
   {
    "duration": 4983,
    "start_time": "2022-12-12T10:08:18.759Z"
   },
   {
    "duration": 3920,
    "start_time": "2022-12-12T10:10:21.775Z"
   },
   {
    "duration": 5095,
    "start_time": "2022-12-12T10:10:57.631Z"
   },
   {
    "duration": 4204,
    "start_time": "2022-12-12T10:11:02.728Z"
   },
   {
    "duration": 4086,
    "start_time": "2022-12-12T10:12:01.688Z"
   },
   {
    "duration": 6616,
    "start_time": "2022-12-12T10:12:29.416Z"
   },
   {
    "duration": 4277,
    "start_time": "2022-12-12T10:12:41.135Z"
   },
   {
    "duration": 1624,
    "start_time": "2022-12-12T10:19:53.495Z"
   },
   {
    "duration": 49,
    "start_time": "2022-12-12T10:19:55.123Z"
   },
   {
    "duration": 15,
    "start_time": "2022-12-12T10:19:55.174Z"
   },
   {
    "duration": 24,
    "start_time": "2022-12-12T10:19:55.191Z"
   },
   {
    "duration": 7,
    "start_time": "2022-12-12T10:19:55.217Z"
   },
   {
    "duration": 36,
    "start_time": "2022-12-12T10:19:55.225Z"
   },
   {
    "duration": 19,
    "start_time": "2022-12-12T10:19:55.263Z"
   },
   {
    "duration": 44,
    "start_time": "2022-12-12T10:19:55.284Z"
   },
   {
    "duration": 49,
    "start_time": "2022-12-12T10:19:55.330Z"
   },
   {
    "duration": 33,
    "start_time": "2022-12-12T10:19:55.382Z"
   },
   {
    "duration": 43,
    "start_time": "2022-12-12T10:19:55.417Z"
   },
   {
    "duration": 39,
    "start_time": "2022-12-12T10:19:55.463Z"
   },
   {
    "duration": 42,
    "start_time": "2022-12-12T10:19:55.504Z"
   },
   {
    "duration": 30,
    "start_time": "2022-12-12T10:19:55.549Z"
   },
   {
    "duration": 29,
    "start_time": "2022-12-12T10:19:55.581Z"
   },
   {
    "duration": 133,
    "start_time": "2022-12-12T10:19:55.612Z"
   },
   {
    "duration": 11,
    "start_time": "2022-12-12T10:19:55.749Z"
   },
   {
    "duration": 177,
    "start_time": "2022-12-12T10:19:55.762Z"
   },
   {
    "duration": 97,
    "start_time": "2022-12-12T10:19:55.942Z"
   },
   {
    "duration": 11,
    "start_time": "2022-12-12T10:19:56.041Z"
   },
   {
    "duration": 165,
    "start_time": "2022-12-12T10:19:56.054Z"
   },
   {
    "duration": 127,
    "start_time": "2022-12-12T10:19:56.221Z"
   },
   {
    "duration": 12,
    "start_time": "2022-12-12T10:19:56.350Z"
   },
   {
    "duration": 172,
    "start_time": "2022-12-12T10:19:56.363Z"
   },
   {
    "duration": 117,
    "start_time": "2022-12-12T10:19:56.539Z"
   },
   {
    "duration": 12,
    "start_time": "2022-12-12T10:19:56.657Z"
   },
   {
    "duration": 270,
    "start_time": "2022-12-12T10:19:56.671Z"
   },
   {
    "duration": 92,
    "start_time": "2022-12-12T10:19:56.947Z"
   },
   {
    "duration": 10,
    "start_time": "2022-12-12T10:19:57.041Z"
   },
   {
    "duration": 189,
    "start_time": "2022-12-12T10:19:57.053Z"
   },
   {
    "duration": 32,
    "start_time": "2022-12-12T10:19:57.244Z"
   },
   {
    "duration": 1130,
    "start_time": "2022-12-12T10:19:57.278Z"
   },
   {
    "duration": 5,
    "start_time": "2022-12-12T10:19:58.410Z"
   },
   {
    "duration": 1490,
    "start_time": "2022-12-12T10:19:58.416Z"
   },
   {
    "duration": 5,
    "start_time": "2022-12-12T10:19:59.908Z"
   },
   {
    "duration": 635,
    "start_time": "2022-12-12T10:19:59.922Z"
   },
   {
    "duration": 1081,
    "start_time": "2022-12-12T10:20:00.559Z"
   },
   {
    "duration": 365,
    "start_time": "2022-12-12T10:20:01.643Z"
   },
   {
    "duration": 20,
    "start_time": "2022-12-12T10:20:02.010Z"
   },
   {
    "duration": 348,
    "start_time": "2022-12-12T10:20:02.037Z"
   },
   {
    "duration": 13,
    "start_time": "2022-12-12T10:20:02.387Z"
   },
   {
    "duration": 59,
    "start_time": "2022-12-12T10:20:02.402Z"
   },
   {
    "duration": 64,
    "start_time": "2022-12-12T10:20:02.463Z"
   },
   {
    "duration": 552,
    "start_time": "2022-12-12T10:20:02.533Z"
   },
   {
    "duration": 13,
    "start_time": "2022-12-12T10:20:03.088Z"
   },
   {
    "duration": 29,
    "start_time": "2022-12-12T10:20:03.103Z"
   },
   {
    "duration": 418,
    "start_time": "2022-12-12T10:20:03.133Z"
   },
   {
    "duration": 13,
    "start_time": "2022-12-12T10:20:03.553Z"
   },
   {
    "duration": 27,
    "start_time": "2022-12-12T10:20:03.568Z"
   },
   {
    "duration": 47,
    "start_time": "2022-12-12T10:20:03.597Z"
   },
   {
    "duration": 22,
    "start_time": "2022-12-12T10:20:03.645Z"
   },
   {
    "duration": 5501,
    "start_time": "2022-12-12T10:20:03.669Z"
   },
   {
    "duration": 140,
    "start_time": "2022-12-12T10:20:09.172Z"
   },
   {
    "duration": 3340,
    "start_time": "2022-12-12T10:20:52.994Z"
   },
   {
    "duration": 1265,
    "start_time": "2022-12-12T10:21:02.673Z"
   },
   {
    "duration": 5217,
    "start_time": "2022-12-12T10:26:29.297Z"
   },
   {
    "duration": 161,
    "start_time": "2022-12-12T10:35:34.965Z"
   },
   {
    "duration": 197,
    "start_time": "2022-12-12T10:35:54.414Z"
   },
   {
    "duration": 15,
    "start_time": "2022-12-12T10:36:32.972Z"
   },
   {
    "duration": 25,
    "start_time": "2022-12-12T10:37:20.421Z"
   },
   {
    "duration": 5404,
    "start_time": "2022-12-12T10:37:25.406Z"
   },
   {
    "duration": 915,
    "start_time": "2022-12-12T10:37:30.812Z"
   },
   {
    "duration": 345,
    "start_time": "2022-12-12T10:37:31.728Z"
   },
   {
    "duration": 25,
    "start_time": "2022-12-12T10:38:22.613Z"
   },
   {
    "duration": 12,
    "start_time": "2022-12-12T10:38:32.516Z"
   },
   {
    "duration": 344,
    "start_time": "2022-12-12T10:39:18.300Z"
   },
   {
    "duration": 331,
    "start_time": "2022-12-12T10:40:10.174Z"
   },
   {
    "duration": 349,
    "start_time": "2022-12-12T10:40:28.966Z"
   },
   {
    "duration": 23,
    "start_time": "2022-12-12T10:49:05.531Z"
   },
   {
    "duration": 18,
    "start_time": "2022-12-12T10:49:13.909Z"
   },
   {
    "duration": 5419,
    "start_time": "2022-12-12T10:49:24.148Z"
   },
   {
    "duration": 1872,
    "start_time": "2022-12-12T10:49:29.569Z"
   },
   {
    "duration": 10,
    "start_time": "2022-12-12T11:05:06.755Z"
   },
   {
    "duration": 12,
    "start_time": "2022-12-12T11:05:13.819Z"
   },
   {
    "duration": 24,
    "start_time": "2022-12-12T11:05:19.087Z"
   },
   {
    "duration": 26,
    "start_time": "2022-12-12T11:05:25.309Z"
   },
   {
    "duration": 19,
    "start_time": "2022-12-12T11:06:11.619Z"
   },
   {
    "duration": 4716,
    "start_time": "2022-12-12T11:06:26.060Z"
   },
   {
    "duration": 1527,
    "start_time": "2022-12-12T11:11:22.119Z"
   },
   {
    "duration": 39,
    "start_time": "2022-12-12T11:11:23.648Z"
   },
   {
    "duration": 12,
    "start_time": "2022-12-12T11:11:23.688Z"
   },
   {
    "duration": 15,
    "start_time": "2022-12-12T11:11:23.702Z"
   },
   {
    "duration": 6,
    "start_time": "2022-12-12T11:11:23.719Z"
   },
   {
    "duration": 7,
    "start_time": "2022-12-12T11:11:23.726Z"
   },
   {
    "duration": 20,
    "start_time": "2022-12-12T11:11:23.735Z"
   },
   {
    "duration": 13,
    "start_time": "2022-12-12T11:11:23.757Z"
   },
   {
    "duration": 6,
    "start_time": "2022-12-12T11:11:23.772Z"
   },
   {
    "duration": 12,
    "start_time": "2022-12-12T11:11:23.781Z"
   },
   {
    "duration": 11,
    "start_time": "2022-12-12T11:11:23.795Z"
   },
   {
    "duration": 25,
    "start_time": "2022-12-12T11:11:23.808Z"
   },
   {
    "duration": 6,
    "start_time": "2022-12-12T11:11:23.835Z"
   },
   {
    "duration": 18,
    "start_time": "2022-12-12T11:11:23.843Z"
   },
   {
    "duration": 3,
    "start_time": "2022-12-12T11:11:23.863Z"
   },
   {
    "duration": 108,
    "start_time": "2022-12-12T11:11:23.868Z"
   },
   {
    "duration": 10,
    "start_time": "2022-12-12T11:11:23.978Z"
   },
   {
    "duration": 176,
    "start_time": "2022-12-12T11:11:23.990Z"
   },
   {
    "duration": 77,
    "start_time": "2022-12-12T11:11:24.167Z"
   },
   {
    "duration": 10,
    "start_time": "2022-12-12T11:11:24.246Z"
   },
   {
    "duration": 168,
    "start_time": "2022-12-12T11:11:24.258Z"
   },
   {
    "duration": 125,
    "start_time": "2022-12-12T11:11:24.428Z"
   },
   {
    "duration": 18,
    "start_time": "2022-12-12T11:11:24.555Z"
   },
   {
    "duration": 167,
    "start_time": "2022-12-12T11:11:24.575Z"
   },
   {
    "duration": 120,
    "start_time": "2022-12-12T11:11:24.744Z"
   },
   {
    "duration": 11,
    "start_time": "2022-12-12T11:11:24.866Z"
   },
   {
    "duration": 260,
    "start_time": "2022-12-12T11:11:24.879Z"
   },
   {
    "duration": 120,
    "start_time": "2022-12-12T11:11:25.144Z"
   },
   {
    "duration": 12,
    "start_time": "2022-12-12T11:11:25.267Z"
   },
   {
    "duration": 184,
    "start_time": "2022-12-12T11:11:25.281Z"
   },
   {
    "duration": 58,
    "start_time": "2022-12-12T11:11:25.467Z"
   },
   {
    "duration": 1073,
    "start_time": "2022-12-12T11:11:25.527Z"
   },
   {
    "duration": 6,
    "start_time": "2022-12-12T11:11:26.602Z"
   },
   {
    "duration": 1341,
    "start_time": "2022-12-12T11:11:26.610Z"
   },
   {
    "duration": 5,
    "start_time": "2022-12-12T11:11:27.953Z"
   },
   {
    "duration": 568,
    "start_time": "2022-12-12T11:11:27.960Z"
   },
   {
    "duration": 979,
    "start_time": "2022-12-12T11:11:28.529Z"
   },
   {
    "duration": 383,
    "start_time": "2022-12-12T11:11:29.511Z"
   },
   {
    "duration": 4,
    "start_time": "2022-12-12T11:11:29.896Z"
   },
   {
    "duration": 370,
    "start_time": "2022-12-12T11:11:29.902Z"
   },
   {
    "duration": 11,
    "start_time": "2022-12-12T11:11:30.274Z"
   },
   {
    "duration": 49,
    "start_time": "2022-12-12T11:11:30.287Z"
   },
   {
    "duration": 43,
    "start_time": "2022-12-12T11:11:30.338Z"
   },
   {
    "duration": 518,
    "start_time": "2022-12-12T11:11:30.383Z"
   },
   {
    "duration": 24,
    "start_time": "2022-12-12T11:11:30.903Z"
   },
   {
    "duration": 12,
    "start_time": "2022-12-12T11:11:30.929Z"
   },
   {
    "duration": 484,
    "start_time": "2022-12-12T11:11:30.943Z"
   },
   {
    "duration": 13,
    "start_time": "2022-12-12T11:11:31.429Z"
   },
   {
    "duration": 41,
    "start_time": "2022-12-12T11:11:31.445Z"
   },
   {
    "duration": 43,
    "start_time": "2022-12-12T11:11:31.488Z"
   },
   {
    "duration": 31,
    "start_time": "2022-12-12T11:11:31.533Z"
   },
   {
    "duration": 162,
    "start_time": "2022-12-12T11:11:31.566Z"
   },
   {
    "duration": 0,
    "start_time": "2022-12-12T11:11:31.730Z"
   },
   {
    "duration": 0,
    "start_time": "2022-12-12T11:11:31.731Z"
   },
   {
    "duration": 10,
    "start_time": "2022-12-12T11:11:39.499Z"
   },
   {
    "duration": 12,
    "start_time": "2022-12-12T11:11:40.613Z"
   },
   {
    "duration": 21,
    "start_time": "2022-12-12T11:17:54.524Z"
   },
   {
    "duration": 28,
    "start_time": "2022-12-12T11:17:58.757Z"
   },
   {
    "duration": 4649,
    "start_time": "2022-12-12T11:18:20.242Z"
   },
   {
    "duration": 4601,
    "start_time": "2022-12-12T11:18:35.177Z"
   },
   {
    "duration": 1232,
    "start_time": "2022-12-12T11:19:19.603Z"
   },
   {
    "duration": 2326,
    "start_time": "2022-12-12T11:19:30.613Z"
   },
   {
    "duration": 1748,
    "start_time": "2022-12-12T11:19:40.995Z"
   },
   {
    "duration": 360,
    "start_time": "2022-12-12T11:23:15.633Z"
   },
   {
    "duration": 1629,
    "start_time": "2022-12-12T11:30:42.980Z"
   },
   {
    "duration": 389,
    "start_time": "2022-12-12T11:45:21.866Z"
   },
   {
    "duration": 1587,
    "start_time": "2022-12-13T14:20:47.747Z"
   },
   {
    "duration": 38,
    "start_time": "2022-12-13T14:20:49.336Z"
   },
   {
    "duration": 14,
    "start_time": "2022-12-13T14:20:49.375Z"
   },
   {
    "duration": 17,
    "start_time": "2022-12-13T14:20:49.391Z"
   },
   {
    "duration": 9,
    "start_time": "2022-12-13T14:20:49.409Z"
   },
   {
    "duration": 9,
    "start_time": "2022-12-13T14:20:49.420Z"
   },
   {
    "duration": 3,
    "start_time": "2022-12-13T14:20:49.431Z"
   },
   {
    "duration": 10,
    "start_time": "2022-12-13T14:20:49.436Z"
   },
   {
    "duration": 7,
    "start_time": "2022-12-13T14:20:49.448Z"
   },
   {
    "duration": 8,
    "start_time": "2022-12-13T14:20:49.458Z"
   },
   {
    "duration": 8,
    "start_time": "2022-12-13T14:20:49.468Z"
   },
   {
    "duration": 13,
    "start_time": "2022-12-13T14:20:49.477Z"
   },
   {
    "duration": 7,
    "start_time": "2022-12-13T14:20:49.522Z"
   },
   {
    "duration": 18,
    "start_time": "2022-12-13T14:20:49.531Z"
   },
   {
    "duration": 4,
    "start_time": "2022-12-13T14:20:49.550Z"
   },
   {
    "duration": 102,
    "start_time": "2022-12-13T14:20:49.555Z"
   },
   {
    "duration": 10,
    "start_time": "2022-12-13T14:20:49.659Z"
   },
   {
    "duration": 181,
    "start_time": "2022-12-13T14:20:49.670Z"
   },
   {
    "duration": 79,
    "start_time": "2022-12-13T14:20:49.853Z"
   },
   {
    "duration": 11,
    "start_time": "2022-12-13T14:20:49.934Z"
   },
   {
    "duration": 171,
    "start_time": "2022-12-13T14:20:49.947Z"
   },
   {
    "duration": 128,
    "start_time": "2022-12-13T14:20:50.120Z"
   },
   {
    "duration": 11,
    "start_time": "2022-12-13T14:20:50.250Z"
   },
   {
    "duration": 168,
    "start_time": "2022-12-13T14:20:50.263Z"
   },
   {
    "duration": 125,
    "start_time": "2022-12-13T14:20:50.433Z"
   },
   {
    "duration": 10,
    "start_time": "2022-12-13T14:20:50.560Z"
   },
   {
    "duration": 251,
    "start_time": "2022-12-13T14:20:50.571Z"
   },
   {
    "duration": 84,
    "start_time": "2022-12-13T14:20:50.825Z"
   },
   {
    "duration": 18,
    "start_time": "2022-12-13T14:20:50.911Z"
   },
   {
    "duration": 162,
    "start_time": "2022-12-13T14:20:50.930Z"
   },
   {
    "duration": 43,
    "start_time": "2022-12-13T14:20:51.094Z"
   },
   {
    "duration": 1110,
    "start_time": "2022-12-13T14:20:51.139Z"
   },
   {
    "duration": 4,
    "start_time": "2022-12-13T14:20:52.251Z"
   },
   {
    "duration": 1401,
    "start_time": "2022-12-13T14:20:52.257Z"
   },
   {
    "duration": 4,
    "start_time": "2022-12-13T14:20:53.660Z"
   },
   {
    "duration": 675,
    "start_time": "2022-12-13T14:20:53.666Z"
   },
   {
    "duration": 952,
    "start_time": "2022-12-13T14:20:54.343Z"
   },
   {
    "duration": 372,
    "start_time": "2022-12-13T14:20:55.297Z"
   },
   {
    "duration": 2,
    "start_time": "2022-12-13T14:20:55.671Z"
   },
   {
    "duration": 335,
    "start_time": "2022-12-13T14:20:55.675Z"
   },
   {
    "duration": 17,
    "start_time": "2022-12-13T14:20:56.011Z"
   },
   {
    "duration": 8,
    "start_time": "2022-12-13T14:20:56.030Z"
   },
   {
    "duration": 9,
    "start_time": "2022-12-13T14:20:56.040Z"
   },
   {
    "duration": 487,
    "start_time": "2022-12-13T14:20:56.051Z"
   },
   {
    "duration": 10,
    "start_time": "2022-12-13T14:20:56.540Z"
   },
   {
    "duration": 10,
    "start_time": "2022-12-13T14:20:56.552Z"
   },
   {
    "duration": 394,
    "start_time": "2022-12-13T14:20:56.564Z"
   },
   {
    "duration": 10,
    "start_time": "2022-12-13T14:20:56.959Z"
   },
   {
    "duration": 14,
    "start_time": "2022-12-13T14:20:56.971Z"
   },
   {
    "duration": 40,
    "start_time": "2022-12-13T14:20:56.987Z"
   },
   {
    "duration": 14,
    "start_time": "2022-12-13T14:20:57.029Z"
   },
   {
    "duration": 4770,
    "start_time": "2022-12-13T14:20:57.045Z"
   },
   {
    "duration": 1317,
    "start_time": "2022-12-13T14:21:01.817Z"
   },
   {
    "duration": 379,
    "start_time": "2022-12-13T14:21:03.136Z"
   },
   {
    "duration": 2022,
    "start_time": "2022-12-13T16:18:22.647Z"
   },
   {
    "duration": 90,
    "start_time": "2022-12-13T16:18:24.672Z"
   },
   {
    "duration": 19,
    "start_time": "2022-12-13T16:18:24.764Z"
   },
   {
    "duration": 35,
    "start_time": "2022-12-13T16:18:24.786Z"
   },
   {
    "duration": 9,
    "start_time": "2022-12-13T16:18:24.823Z"
   },
   {
    "duration": 25,
    "start_time": "2022-12-13T16:18:24.833Z"
   },
   {
    "duration": 36,
    "start_time": "2022-12-13T16:18:24.860Z"
   },
   {
    "duration": 20,
    "start_time": "2022-12-13T16:18:24.899Z"
   },
   {
    "duration": 9,
    "start_time": "2022-12-13T16:18:24.922Z"
   },
   {
    "duration": 53,
    "start_time": "2022-12-13T16:18:24.934Z"
   },
   {
    "duration": 31,
    "start_time": "2022-12-13T16:18:24.989Z"
   },
   {
    "duration": 26,
    "start_time": "2022-12-13T16:18:25.022Z"
   },
   {
    "duration": 18,
    "start_time": "2022-12-13T16:18:25.050Z"
   },
   {
    "duration": 48,
    "start_time": "2022-12-13T16:18:25.070Z"
   },
   {
    "duration": 22,
    "start_time": "2022-12-13T16:18:25.120Z"
   },
   {
    "duration": 118,
    "start_time": "2022-12-13T16:18:25.145Z"
   },
   {
    "duration": 22,
    "start_time": "2022-12-13T16:18:25.265Z"
   },
   {
    "duration": 214,
    "start_time": "2022-12-13T16:18:25.288Z"
   },
   {
    "duration": 93,
    "start_time": "2022-12-13T16:18:25.504Z"
   },
   {
    "duration": 11,
    "start_time": "2022-12-13T16:18:25.600Z"
   },
   {
    "duration": 205,
    "start_time": "2022-12-13T16:18:25.613Z"
   },
   {
    "duration": 185,
    "start_time": "2022-12-13T16:18:25.820Z"
   },
   {
    "duration": 15,
    "start_time": "2022-12-13T16:18:26.008Z"
   },
   {
    "duration": 207,
    "start_time": "2022-12-13T16:18:26.025Z"
   },
   {
    "duration": 141,
    "start_time": "2022-12-13T16:18:26.234Z"
   },
   {
    "duration": 17,
    "start_time": "2022-12-13T16:18:26.377Z"
   },
   {
    "duration": 314,
    "start_time": "2022-12-13T16:18:26.396Z"
   },
   {
    "duration": 144,
    "start_time": "2022-12-13T16:18:26.715Z"
   },
   {
    "duration": 22,
    "start_time": "2022-12-13T16:18:26.861Z"
   },
   {
    "duration": 198,
    "start_time": "2022-12-13T16:18:26.885Z"
   },
   {
    "duration": 41,
    "start_time": "2022-12-13T16:18:27.091Z"
   },
   {
    "duration": 1232,
    "start_time": "2022-12-13T16:18:27.134Z"
   },
   {
    "duration": 15,
    "start_time": "2022-12-13T16:18:28.369Z"
   },
   {
    "duration": 1601,
    "start_time": "2022-12-13T16:18:28.387Z"
   },
   {
    "duration": 5,
    "start_time": "2022-12-13T16:18:29.994Z"
   },
   {
    "duration": 706,
    "start_time": "2022-12-13T16:18:30.001Z"
   },
   {
    "duration": 1151,
    "start_time": "2022-12-13T16:18:30.709Z"
   },
   {
    "duration": 430,
    "start_time": "2022-12-13T16:18:31.863Z"
   },
   {
    "duration": 2,
    "start_time": "2022-12-13T16:18:32.296Z"
   },
   {
    "duration": 396,
    "start_time": "2022-12-13T16:18:32.301Z"
   },
   {
    "duration": 12,
    "start_time": "2022-12-13T16:18:32.699Z"
   },
   {
    "duration": 11,
    "start_time": "2022-12-13T16:18:32.713Z"
   },
   {
    "duration": 18,
    "start_time": "2022-12-13T16:18:32.726Z"
   },
   {
    "duration": 553,
    "start_time": "2022-12-13T16:18:32.746Z"
   },
   {
    "duration": 12,
    "start_time": "2022-12-13T16:18:33.301Z"
   },
   {
    "duration": 11,
    "start_time": "2022-12-13T16:18:33.315Z"
   },
   {
    "duration": 472,
    "start_time": "2022-12-13T16:18:33.329Z"
   },
   {
    "duration": 11,
    "start_time": "2022-12-13T16:18:33.804Z"
   },
   {
    "duration": 26,
    "start_time": "2022-12-13T16:18:33.817Z"
   },
   {
    "duration": 57,
    "start_time": "2022-12-13T16:18:33.845Z"
   },
   {
    "duration": 24,
    "start_time": "2022-12-13T16:18:33.903Z"
   },
   {
    "duration": 6003,
    "start_time": "2022-12-13T16:18:33.930Z"
   },
   {
    "duration": 1651,
    "start_time": "2022-12-13T16:18:39.934Z"
   },
   {
    "duration": 434,
    "start_time": "2022-12-13T16:18:41.589Z"
   },
   {
    "duration": 22,
    "start_time": "2022-12-13T16:20:46.511Z"
   },
   {
    "duration": 146,
    "start_time": "2022-12-13T16:23:00.059Z"
   },
   {
    "duration": 12,
    "start_time": "2022-12-13T16:23:07.693Z"
   },
   {
    "duration": 25,
    "start_time": "2022-12-13T16:34:56.794Z"
   },
   {
    "duration": 38,
    "start_time": "2022-12-13T16:35:58.552Z"
   },
   {
    "duration": 16,
    "start_time": "2022-12-13T16:36:35.730Z"
   },
   {
    "duration": 6374,
    "start_time": "2022-12-13T16:37:15.456Z"
   },
   {
    "duration": 1656,
    "start_time": "2022-12-13T16:37:21.832Z"
   },
   {
    "duration": 1674,
    "start_time": "2022-12-13T16:37:43.590Z"
   },
   {
    "duration": 50,
    "start_time": "2022-12-13T16:37:45.265Z"
   },
   {
    "duration": 15,
    "start_time": "2022-12-13T16:37:45.317Z"
   },
   {
    "duration": 37,
    "start_time": "2022-12-13T16:37:45.334Z"
   },
   {
    "duration": 74,
    "start_time": "2022-12-13T16:37:45.373Z"
   },
   {
    "duration": 20,
    "start_time": "2022-12-13T16:37:45.449Z"
   },
   {
    "duration": 30,
    "start_time": "2022-12-13T16:37:45.471Z"
   },
   {
    "duration": 17,
    "start_time": "2022-12-13T16:37:45.503Z"
   },
   {
    "duration": 7,
    "start_time": "2022-12-13T16:37:45.522Z"
   },
   {
    "duration": 20,
    "start_time": "2022-12-13T16:37:45.531Z"
   },
   {
    "duration": 15,
    "start_time": "2022-12-13T16:37:45.553Z"
   },
   {
    "duration": 31,
    "start_time": "2022-12-13T16:37:45.569Z"
   },
   {
    "duration": 5,
    "start_time": "2022-12-13T16:37:45.602Z"
   },
   {
    "duration": 27,
    "start_time": "2022-12-13T16:37:45.610Z"
   },
   {
    "duration": 10,
    "start_time": "2022-12-13T16:37:45.639Z"
   },
   {
    "duration": 100,
    "start_time": "2022-12-13T16:37:45.651Z"
   },
   {
    "duration": 10,
    "start_time": "2022-12-13T16:37:45.753Z"
   },
   {
    "duration": 227,
    "start_time": "2022-12-13T16:37:45.764Z"
   },
   {
    "duration": 76,
    "start_time": "2022-12-13T16:37:45.993Z"
   },
   {
    "duration": 19,
    "start_time": "2022-12-13T16:37:46.072Z"
   },
   {
    "duration": 181,
    "start_time": "2022-12-13T16:37:46.093Z"
   },
   {
    "duration": 132,
    "start_time": "2022-12-13T16:37:46.276Z"
   },
   {
    "duration": 11,
    "start_time": "2022-12-13T16:37:46.410Z"
   },
   {
    "duration": 186,
    "start_time": "2022-12-13T16:37:46.423Z"
   },
   {
    "duration": 135,
    "start_time": "2022-12-13T16:37:46.611Z"
   },
   {
    "duration": 12,
    "start_time": "2022-12-13T16:37:46.748Z"
   },
   {
    "duration": 296,
    "start_time": "2022-12-13T16:37:46.762Z"
   },
   {
    "duration": 103,
    "start_time": "2022-12-13T16:37:47.060Z"
   },
   {
    "duration": 32,
    "start_time": "2022-12-13T16:37:47.165Z"
   },
   {
    "duration": 163,
    "start_time": "2022-12-13T16:37:47.199Z"
   },
   {
    "duration": 44,
    "start_time": "2022-12-13T16:37:47.364Z"
   },
   {
    "duration": 1306,
    "start_time": "2022-12-13T16:37:47.409Z"
   },
   {
    "duration": 5,
    "start_time": "2022-12-13T16:37:48.717Z"
   },
   {
    "duration": 1573,
    "start_time": "2022-12-13T16:37:48.724Z"
   },
   {
    "duration": 4,
    "start_time": "2022-12-13T16:37:50.299Z"
   },
   {
    "duration": 646,
    "start_time": "2022-12-13T16:37:50.305Z"
   },
   {
    "duration": 1098,
    "start_time": "2022-12-13T16:37:50.954Z"
   },
   {
    "duration": 405,
    "start_time": "2022-12-13T16:37:52.054Z"
   },
   {
    "duration": 2,
    "start_time": "2022-12-13T16:37:52.461Z"
   },
   {
    "duration": 356,
    "start_time": "2022-12-13T16:37:52.465Z"
   },
   {
    "duration": 11,
    "start_time": "2022-12-13T16:37:52.825Z"
   },
   {
    "duration": 7,
    "start_time": "2022-12-13T16:37:52.838Z"
   },
   {
    "duration": 41,
    "start_time": "2022-12-13T16:37:52.847Z"
   },
   {
    "duration": 520,
    "start_time": "2022-12-13T16:37:52.890Z"
   },
   {
    "duration": 12,
    "start_time": "2022-12-13T16:37:53.412Z"
   },
   {
    "duration": 11,
    "start_time": "2022-12-13T16:37:53.425Z"
   },
   {
    "duration": 455,
    "start_time": "2022-12-13T16:37:53.438Z"
   },
   {
    "duration": 12,
    "start_time": "2022-12-13T16:37:53.896Z"
   },
   {
    "duration": 19,
    "start_time": "2022-12-13T16:37:53.910Z"
   },
   {
    "duration": 21,
    "start_time": "2022-12-13T16:37:53.931Z"
   },
   {
    "duration": 49,
    "start_time": "2022-12-13T16:37:53.954Z"
   },
   {
    "duration": 129,
    "start_time": "2022-12-13T16:37:54.004Z"
   },
   {
    "duration": 0,
    "start_time": "2022-12-13T16:37:54.135Z"
   },
   {
    "duration": 0,
    "start_time": "2022-12-13T16:37:54.136Z"
   },
   {
    "duration": 0,
    "start_time": "2022-12-13T16:37:54.137Z"
   },
   {
    "duration": 1,
    "start_time": "2022-12-13T16:37:54.138Z"
   },
   {
    "duration": 0,
    "start_time": "2022-12-13T16:37:54.139Z"
   },
   {
    "duration": 0,
    "start_time": "2022-12-13T16:37:54.140Z"
   },
   {
    "duration": 0,
    "start_time": "2022-12-13T16:37:54.142Z"
   },
   {
    "duration": 6193,
    "start_time": "2022-12-13T16:38:57.599Z"
   },
   {
    "duration": 1572,
    "start_time": "2022-12-13T16:39:06.715Z"
   },
   {
    "duration": 31,
    "start_time": "2022-12-13T16:39:24.158Z"
   },
   {
    "duration": 11,
    "start_time": "2022-12-13T16:40:39.114Z"
   },
   {
    "duration": 15,
    "start_time": "2022-12-13T16:40:43.927Z"
   },
   {
    "duration": 6705,
    "start_time": "2022-12-13T16:40:48.500Z"
   },
   {
    "duration": 1802,
    "start_time": "2022-12-13T16:41:34.290Z"
   },
   {
    "duration": 13,
    "start_time": "2022-12-13T16:41:47.815Z"
   },
   {
    "duration": 1707,
    "start_time": "2022-12-13T16:46:12.713Z"
   },
   {
    "duration": 41,
    "start_time": "2022-12-13T16:46:14.422Z"
   },
   {
    "duration": 24,
    "start_time": "2022-12-13T16:46:14.465Z"
   },
   {
    "duration": 17,
    "start_time": "2022-12-13T16:46:14.492Z"
   },
   {
    "duration": 6,
    "start_time": "2022-12-13T16:46:14.511Z"
   },
   {
    "duration": 18,
    "start_time": "2022-12-13T16:46:14.519Z"
   },
   {
    "duration": 5,
    "start_time": "2022-12-13T16:46:14.539Z"
   },
   {
    "duration": 22,
    "start_time": "2022-12-13T16:46:14.546Z"
   },
   {
    "duration": 15,
    "start_time": "2022-12-13T16:46:14.570Z"
   },
   {
    "duration": 14,
    "start_time": "2022-12-13T16:46:14.588Z"
   },
   {
    "duration": 9,
    "start_time": "2022-12-13T16:46:14.603Z"
   },
   {
    "duration": 14,
    "start_time": "2022-12-13T16:46:14.614Z"
   },
   {
    "duration": 7,
    "start_time": "2022-12-13T16:46:14.629Z"
   },
   {
    "duration": 13,
    "start_time": "2022-12-13T16:46:14.637Z"
   },
   {
    "duration": 3,
    "start_time": "2022-12-13T16:46:14.652Z"
   },
   {
    "duration": 102,
    "start_time": "2022-12-13T16:46:14.686Z"
   },
   {
    "duration": 11,
    "start_time": "2022-12-13T16:46:14.789Z"
   },
   {
    "duration": 191,
    "start_time": "2022-12-13T16:46:14.801Z"
   },
   {
    "duration": 89,
    "start_time": "2022-12-13T16:46:14.994Z"
   },
   {
    "duration": 13,
    "start_time": "2022-12-13T16:46:15.085Z"
   },
   {
    "duration": 193,
    "start_time": "2022-12-13T16:46:15.100Z"
   },
   {
    "duration": 121,
    "start_time": "2022-12-13T16:46:15.295Z"
   },
   {
    "duration": 10,
    "start_time": "2022-12-13T16:46:15.418Z"
   },
   {
    "duration": 187,
    "start_time": "2022-12-13T16:46:15.430Z"
   },
   {
    "duration": 135,
    "start_time": "2022-12-13T16:46:15.619Z"
   },
   {
    "duration": 21,
    "start_time": "2022-12-13T16:46:15.756Z"
   },
   {
    "duration": 293,
    "start_time": "2022-12-13T16:46:15.788Z"
   },
   {
    "duration": 112,
    "start_time": "2022-12-13T16:46:16.086Z"
   },
   {
    "duration": 10,
    "start_time": "2022-12-13T16:46:16.200Z"
   },
   {
    "duration": 171,
    "start_time": "2022-12-13T16:46:16.212Z"
   },
   {
    "duration": 36,
    "start_time": "2022-12-13T16:46:16.391Z"
   },
   {
    "duration": 1264,
    "start_time": "2022-12-13T16:46:16.429Z"
   },
   {
    "duration": 6,
    "start_time": "2022-12-13T16:46:17.694Z"
   },
   {
    "duration": 1649,
    "start_time": "2022-12-13T16:46:17.701Z"
   },
   {
    "duration": 4,
    "start_time": "2022-12-13T16:46:19.352Z"
   },
   {
    "duration": 686,
    "start_time": "2022-12-13T16:46:19.358Z"
   },
   {
    "duration": 1147,
    "start_time": "2022-12-13T16:46:20.046Z"
   },
   {
    "duration": 370,
    "start_time": "2022-12-13T16:46:21.195Z"
   },
   {
    "duration": 3,
    "start_time": "2022-12-13T16:46:21.567Z"
   },
   {
    "duration": 396,
    "start_time": "2022-12-13T16:46:21.577Z"
   },
   {
    "duration": 13,
    "start_time": "2022-12-13T16:46:21.980Z"
   },
   {
    "duration": 16,
    "start_time": "2022-12-13T16:46:21.995Z"
   },
   {
    "duration": 18,
    "start_time": "2022-12-13T16:46:22.013Z"
   },
   {
    "duration": 560,
    "start_time": "2022-12-13T16:46:22.033Z"
   },
   {
    "duration": 12,
    "start_time": "2022-12-13T16:46:22.595Z"
   },
   {
    "duration": 18,
    "start_time": "2022-12-13T16:46:22.609Z"
   },
   {
    "duration": 455,
    "start_time": "2022-12-13T16:46:22.628Z"
   },
   {
    "duration": 17,
    "start_time": "2022-12-13T16:46:23.085Z"
   },
   {
    "duration": 32,
    "start_time": "2022-12-13T16:46:23.104Z"
   },
   {
    "duration": 23,
    "start_time": "2022-12-13T16:46:23.138Z"
   },
   {
    "duration": 6,
    "start_time": "2022-12-13T16:46:23.163Z"
   },
   {
    "duration": 6,
    "start_time": "2022-12-13T16:46:23.184Z"
   },
   {
    "duration": 24,
    "start_time": "2022-12-13T16:46:23.192Z"
   },
   {
    "duration": 7,
    "start_time": "2022-12-13T16:46:23.218Z"
   },
   {
    "duration": 7,
    "start_time": "2022-12-13T16:46:23.227Z"
   },
   {
    "duration": 16,
    "start_time": "2022-12-13T16:46:23.236Z"
   },
   {
    "duration": 22,
    "start_time": "2022-12-13T16:46:23.254Z"
   },
   {
    "duration": 21,
    "start_time": "2022-12-13T16:46:23.280Z"
   },
   {
    "duration": 6546,
    "start_time": "2022-12-13T16:46:23.303Z"
   },
   {
    "duration": 1630,
    "start_time": "2022-12-13T16:46:29.851Z"
   },
   {
    "duration": 14,
    "start_time": "2022-12-13T16:46:31.483Z"
   },
   {
    "duration": 1322,
    "start_time": "2022-12-13T16:46:47.970Z"
   },
   {
    "duration": 96,
    "start_time": "2022-12-13T16:46:49.295Z"
   },
   {
    "duration": 1544,
    "start_time": "2022-12-13T16:46:58.339Z"
   },
   {
    "duration": 16,
    "start_time": "2022-12-13T16:46:59.892Z"
   },
   {
    "duration": 1272,
    "start_time": "2022-12-13T16:47:46.624Z"
   },
   {
    "duration": 91,
    "start_time": "2022-12-13T16:47:47.901Z"
   },
   {
    "duration": 1260,
    "start_time": "2022-12-13T16:48:36.131Z"
   },
   {
    "duration": 97,
    "start_time": "2022-12-13T16:48:37.393Z"
   },
   {
    "duration": 20,
    "start_time": "2022-12-13T16:49:11.778Z"
   },
   {
    "duration": 13,
    "start_time": "2022-12-13T16:49:31.143Z"
   },
   {
    "duration": 6556,
    "start_time": "2022-12-13T16:49:32.287Z"
   },
   {
    "duration": 1046,
    "start_time": "2022-12-13T16:49:43.836Z"
   },
   {
    "duration": 102,
    "start_time": "2022-12-13T16:49:44.885Z"
   },
   {
    "duration": 1329,
    "start_time": "2022-12-13T16:54:21.450Z"
   },
   {
    "duration": 12,
    "start_time": "2022-12-13T16:55:19.926Z"
   },
   {
    "duration": 144,
    "start_time": "2022-12-13T16:58:01.216Z"
   },
   {
    "duration": 205,
    "start_time": "2022-12-13T16:58:12.143Z"
   },
   {
    "duration": 6,
    "start_time": "2022-12-13T16:59:13.413Z"
   },
   {
    "duration": 7,
    "start_time": "2022-12-13T16:59:24.553Z"
   },
   {
    "duration": 12,
    "start_time": "2022-12-13T17:03:39.573Z"
   },
   {
    "duration": 70,
    "start_time": "2022-12-13T17:06:43.962Z"
   },
   {
    "duration": 47,
    "start_time": "2022-12-13T17:06:52.664Z"
   },
   {
    "duration": 74,
    "start_time": "2022-12-13T17:06:59.732Z"
   },
   {
    "duration": 42,
    "start_time": "2022-12-13T17:07:24.065Z"
   },
   {
    "duration": 11,
    "start_time": "2022-12-13T17:07:28.793Z"
   },
   {
    "duration": 11,
    "start_time": "2022-12-13T17:07:41.306Z"
   },
   {
    "duration": 1318,
    "start_time": "2022-12-13T17:08:00.965Z"
   },
   {
    "duration": 12,
    "start_time": "2022-12-13T17:08:06.337Z"
   },
   {
    "duration": 190,
    "start_time": "2022-12-13T17:08:11.022Z"
   },
   {
    "duration": 11,
    "start_time": "2022-12-13T17:22:57.298Z"
   },
   {
    "duration": 11,
    "start_time": "2022-12-13T17:23:14.086Z"
   },
   {
    "duration": 11,
    "start_time": "2022-12-13T17:23:21.960Z"
   },
   {
    "duration": 5999,
    "start_time": "2022-12-13T17:25:28.603Z"
   },
   {
    "duration": 1510,
    "start_time": "2022-12-13T17:26:13.297Z"
   },
   {
    "duration": 38,
    "start_time": "2022-12-13T17:26:14.809Z"
   },
   {
    "duration": 12,
    "start_time": "2022-12-13T17:26:14.848Z"
   },
   {
    "duration": 29,
    "start_time": "2022-12-13T17:26:14.862Z"
   },
   {
    "duration": 7,
    "start_time": "2022-12-13T17:26:14.893Z"
   },
   {
    "duration": 11,
    "start_time": "2022-12-13T17:26:14.901Z"
   },
   {
    "duration": 7,
    "start_time": "2022-12-13T17:26:14.913Z"
   },
   {
    "duration": 12,
    "start_time": "2022-12-13T17:26:14.922Z"
   },
   {
    "duration": 6,
    "start_time": "2022-12-13T17:26:14.936Z"
   },
   {
    "duration": 10,
    "start_time": "2022-12-13T17:26:14.944Z"
   },
   {
    "duration": 24,
    "start_time": "2022-12-13T17:26:14.955Z"
   },
   {
    "duration": 10,
    "start_time": "2022-12-13T17:26:14.980Z"
   },
   {
    "duration": 13,
    "start_time": "2022-12-13T17:26:14.992Z"
   },
   {
    "duration": 39,
    "start_time": "2022-12-13T17:26:15.007Z"
   },
   {
    "duration": 3,
    "start_time": "2022-12-13T17:26:15.047Z"
   },
   {
    "duration": 97,
    "start_time": "2022-12-13T17:26:15.051Z"
   },
   {
    "duration": 11,
    "start_time": "2022-12-13T17:26:15.149Z"
   },
   {
    "duration": 178,
    "start_time": "2022-12-13T17:26:15.161Z"
   },
   {
    "duration": 84,
    "start_time": "2022-12-13T17:26:15.341Z"
   },
   {
    "duration": 10,
    "start_time": "2022-12-13T17:26:15.426Z"
   },
   {
    "duration": 170,
    "start_time": "2022-12-13T17:26:15.438Z"
   },
   {
    "duration": 119,
    "start_time": "2022-12-13T17:26:15.609Z"
   },
   {
    "duration": 10,
    "start_time": "2022-12-13T17:26:15.730Z"
   },
   {
    "duration": 189,
    "start_time": "2022-12-13T17:26:15.742Z"
   },
   {
    "duration": 122,
    "start_time": "2022-12-13T17:26:15.933Z"
   },
   {
    "duration": 10,
    "start_time": "2022-12-13T17:26:16.057Z"
   },
   {
    "duration": 255,
    "start_time": "2022-12-13T17:26:16.078Z"
   },
   {
    "duration": 97,
    "start_time": "2022-12-13T17:26:16.338Z"
   },
   {
    "duration": 10,
    "start_time": "2022-12-13T17:26:16.437Z"
   },
   {
    "duration": 168,
    "start_time": "2022-12-13T17:26:16.448Z"
   },
   {
    "duration": 36,
    "start_time": "2022-12-13T17:26:16.617Z"
   },
   {
    "duration": 1178,
    "start_time": "2022-12-13T17:26:16.655Z"
   },
   {
    "duration": 5,
    "start_time": "2022-12-13T17:26:17.835Z"
   },
   {
    "duration": 1532,
    "start_time": "2022-12-13T17:26:17.841Z"
   },
   {
    "duration": 4,
    "start_time": "2022-12-13T17:26:19.377Z"
   },
   {
    "duration": 612,
    "start_time": "2022-12-13T17:26:19.383Z"
   },
   {
    "duration": 1019,
    "start_time": "2022-12-13T17:26:19.997Z"
   },
   {
    "duration": 411,
    "start_time": "2022-12-13T17:26:21.019Z"
   },
   {
    "duration": 3,
    "start_time": "2022-12-13T17:26:21.432Z"
   },
   {
    "duration": 348,
    "start_time": "2022-12-13T17:26:21.437Z"
   },
   {
    "duration": 10,
    "start_time": "2022-12-13T17:26:21.787Z"
   },
   {
    "duration": 9,
    "start_time": "2022-12-13T17:26:21.799Z"
   },
   {
    "duration": 10,
    "start_time": "2022-12-13T17:26:21.810Z"
   },
   {
    "duration": 548,
    "start_time": "2022-12-13T17:26:21.821Z"
   },
   {
    "duration": 11,
    "start_time": "2022-12-13T17:26:22.377Z"
   },
   {
    "duration": 12,
    "start_time": "2022-12-13T17:26:22.389Z"
   },
   {
    "duration": 418,
    "start_time": "2022-12-13T17:26:22.402Z"
   },
   {
    "duration": 10,
    "start_time": "2022-12-13T17:26:22.822Z"
   },
   {
    "duration": 17,
    "start_time": "2022-12-13T17:26:22.834Z"
   },
   {
    "duration": 41,
    "start_time": "2022-12-13T17:26:22.852Z"
   },
   {
    "duration": 17,
    "start_time": "2022-12-13T17:26:22.895Z"
   },
   {
    "duration": 10,
    "start_time": "2022-12-13T17:26:22.914Z"
   },
   {
    "duration": 6207,
    "start_time": "2022-12-13T17:26:22.926Z"
   },
   {
    "duration": 1453,
    "start_time": "2022-12-13T17:26:29.135Z"
   },
   {
    "duration": 11,
    "start_time": "2022-12-13T17:26:30.590Z"
   },
   {
    "duration": 1289,
    "start_time": "2022-12-13T17:33:02.875Z"
   },
   {
    "duration": 12,
    "start_time": "2022-12-13T17:35:14.272Z"
   },
   {
    "duration": 12,
    "start_time": "2022-12-13T17:35:19.599Z"
   },
   {
    "duration": 11,
    "start_time": "2022-12-13T17:35:30.200Z"
   },
   {
    "duration": 11,
    "start_time": "2022-12-13T18:08:05.425Z"
   },
   {
    "duration": 55,
    "start_time": "2022-12-13T18:08:33.332Z"
   },
   {
    "duration": 11,
    "start_time": "2022-12-13T18:08:48.358Z"
   },
   {
    "duration": 11,
    "start_time": "2022-12-13T18:08:52.313Z"
   },
   {
    "duration": 11,
    "start_time": "2022-12-13T18:08:55.031Z"
   },
   {
    "duration": 10,
    "start_time": "2022-12-13T18:08:57.074Z"
   },
   {
    "duration": 11,
    "start_time": "2022-12-13T18:09:01.561Z"
   },
   {
    "duration": 12,
    "start_time": "2022-12-13T18:09:06.954Z"
   },
   {
    "duration": 12,
    "start_time": "2022-12-13T18:09:11.921Z"
   },
   {
    "duration": 10,
    "start_time": "2022-12-13T18:09:17.060Z"
   },
   {
    "duration": 11,
    "start_time": "2022-12-13T18:09:20.328Z"
   },
   {
    "duration": 10,
    "start_time": "2022-12-13T18:09:25.664Z"
   },
   {
    "duration": 45,
    "start_time": "2022-12-13T18:17:33.638Z"
   },
   {
    "duration": 46,
    "start_time": "2022-12-14T03:47:14.055Z"
   },
   {
    "duration": 1574,
    "start_time": "2022-12-14T03:47:17.278Z"
   },
   {
    "duration": 141,
    "start_time": "2022-12-14T03:47:18.854Z"
   },
   {
    "duration": 12,
    "start_time": "2022-12-14T03:47:20.364Z"
   },
   {
    "duration": 81,
    "start_time": "2022-12-14T03:47:55.615Z"
   },
   {
    "duration": 11,
    "start_time": "2022-12-14T03:47:57.237Z"
   },
   {
    "duration": 36,
    "start_time": "2022-12-14T03:48:05.758Z"
   },
   {
    "duration": 10,
    "start_time": "2022-12-14T03:48:07.293Z"
   },
   {
    "duration": 12,
    "start_time": "2022-12-14T03:48:09.235Z"
   },
   {
    "duration": 315,
    "start_time": "2022-12-14T03:49:27.206Z"
   },
   {
    "duration": 12,
    "start_time": "2022-12-14T03:49:29.100Z"
   },
   {
    "duration": 10,
    "start_time": "2022-12-14T03:49:30.174Z"
   },
   {
    "duration": 46,
    "start_time": "2022-12-14T03:50:19.173Z"
   },
   {
    "duration": 11,
    "start_time": "2022-12-14T03:50:21.061Z"
   },
   {
    "duration": 1418,
    "start_time": "2022-12-14T03:50:26.767Z"
   },
   {
    "duration": 38,
    "start_time": "2022-12-14T03:50:28.186Z"
   },
   {
    "duration": 12,
    "start_time": "2022-12-14T03:50:28.225Z"
   },
   {
    "duration": 14,
    "start_time": "2022-12-14T03:50:28.239Z"
   },
   {
    "duration": 5,
    "start_time": "2022-12-14T03:50:28.254Z"
   },
   {
    "duration": 9,
    "start_time": "2022-12-14T03:50:28.260Z"
   },
   {
    "duration": 7,
    "start_time": "2022-12-14T03:50:28.270Z"
   },
   {
    "duration": 11,
    "start_time": "2022-12-14T03:50:28.278Z"
   },
   {
    "duration": 16,
    "start_time": "2022-12-14T03:50:28.291Z"
   },
   {
    "duration": 6,
    "start_time": "2022-12-14T03:50:28.320Z"
   },
   {
    "duration": 11,
    "start_time": "2022-12-14T03:50:28.327Z"
   },
   {
    "duration": 16,
    "start_time": "2022-12-14T03:50:28.339Z"
   },
   {
    "duration": 5,
    "start_time": "2022-12-14T03:50:28.357Z"
   },
   {
    "duration": 13,
    "start_time": "2022-12-14T03:50:28.363Z"
   },
   {
    "duration": 4,
    "start_time": "2022-12-14T03:50:28.378Z"
   },
   {
    "duration": 97,
    "start_time": "2022-12-14T03:50:28.384Z"
   },
   {
    "duration": 9,
    "start_time": "2022-12-14T03:50:28.483Z"
   },
   {
    "duration": 171,
    "start_time": "2022-12-14T03:50:28.493Z"
   },
   {
    "duration": 68,
    "start_time": "2022-12-14T03:50:28.665Z"
   },
   {
    "duration": 8,
    "start_time": "2022-12-14T03:50:28.735Z"
   },
   {
    "duration": 152,
    "start_time": "2022-12-14T03:50:28.745Z"
   },
   {
    "duration": 105,
    "start_time": "2022-12-14T03:50:28.899Z"
   },
   {
    "duration": 9,
    "start_time": "2022-12-14T03:50:29.005Z"
   },
   {
    "duration": 150,
    "start_time": "2022-12-14T03:50:29.020Z"
   },
   {
    "duration": 108,
    "start_time": "2022-12-14T03:50:29.171Z"
   },
   {
    "duration": 9,
    "start_time": "2022-12-14T03:50:29.281Z"
   },
   {
    "duration": 233,
    "start_time": "2022-12-14T03:50:29.291Z"
   },
   {
    "duration": 84,
    "start_time": "2022-12-14T03:50:29.528Z"
   },
   {
    "duration": 10,
    "start_time": "2022-12-14T03:50:29.621Z"
   },
   {
    "duration": 157,
    "start_time": "2022-12-14T03:50:29.633Z"
   },
   {
    "duration": 39,
    "start_time": "2022-12-14T03:50:29.792Z"
   },
   {
    "duration": 1066,
    "start_time": "2022-12-14T03:50:29.833Z"
   },
   {
    "duration": 4,
    "start_time": "2022-12-14T03:50:30.901Z"
   },
   {
    "duration": 1282,
    "start_time": "2022-12-14T03:50:30.907Z"
   },
   {
    "duration": 4,
    "start_time": "2022-12-14T03:50:32.191Z"
   },
   {
    "duration": 554,
    "start_time": "2022-12-14T03:50:32.196Z"
   },
   {
    "duration": 904,
    "start_time": "2022-12-14T03:50:32.752Z"
   },
   {
    "duration": 313,
    "start_time": "2022-12-14T03:50:33.657Z"
   },
   {
    "duration": 2,
    "start_time": "2022-12-14T03:50:33.972Z"
   },
   {
    "duration": 286,
    "start_time": "2022-12-14T03:50:33.976Z"
   },
   {
    "duration": 9,
    "start_time": "2022-12-14T03:50:34.264Z"
   },
   {
    "duration": 9,
    "start_time": "2022-12-14T03:50:34.274Z"
   },
   {
    "duration": 12,
    "start_time": "2022-12-14T03:50:34.284Z"
   },
   {
    "duration": 439,
    "start_time": "2022-12-14T03:50:34.297Z"
   },
   {
    "duration": 9,
    "start_time": "2022-12-14T03:50:34.738Z"
   },
   {
    "duration": 10,
    "start_time": "2022-12-14T03:50:34.748Z"
   },
   {
    "duration": 362,
    "start_time": "2022-12-14T03:50:34.759Z"
   },
   {
    "duration": 9,
    "start_time": "2022-12-14T03:50:35.123Z"
   },
   {
    "duration": 24,
    "start_time": "2022-12-14T03:50:35.133Z"
   },
   {
    "duration": 25,
    "start_time": "2022-12-14T03:50:35.160Z"
   },
   {
    "duration": 43,
    "start_time": "2022-12-14T03:50:35.187Z"
   },
   {
    "duration": 12,
    "start_time": "2022-12-14T03:50:35.232Z"
   },
   {
    "duration": 5318,
    "start_time": "2022-12-14T03:50:35.246Z"
   },
   {
    "duration": 1468,
    "start_time": "2022-12-14T03:50:40.566Z"
   },
   {
    "duration": 8,
    "start_time": "2022-12-14T03:50:42.035Z"
   }
  ],
  "kernelspec": {
   "display_name": "Python 3 (ipykernel)",
   "language": "python",
   "name": "python3"
  },
  "language_info": {
   "codemirror_mode": {
    "name": "ipython",
    "version": 3
   },
   "file_extension": ".py",
   "mimetype": "text/x-python",
   "name": "python",
   "nbconvert_exporter": "python",
   "pygments_lexer": "ipython3",
   "version": "3.9.7"
  },
  "toc": {
   "base_numbering": 1,
   "nav_menu": {},
   "number_sections": true,
   "sideBar": true,
   "skip_h1_title": true,
   "title_cell": "Содержание",
   "title_sidebar": "Содержание",
   "toc_cell": false,
   "toc_position": {
    "height": "calc(100% - 180px)",
    "left": "10px",
    "top": "150px",
    "width": "314px"
   },
   "toc_section_display": true,
   "toc_window_display": true
  }
 },
 "nbformat": 4,
 "nbformat_minor": 2
}
